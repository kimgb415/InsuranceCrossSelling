{
 "cells": [
  {
   "cell_type": "code",
   "execution_count": 1,
   "metadata": {},
   "outputs": [
    {
     "name": "stderr",
     "output_type": "stream",
     "text": [
      "2024-07-17 15:15:38.742957: I tensorflow/core/util/port.cc:113] oneDNN custom operations are on. You may see slightly different numerical results due to floating-point round-off errors from different computation orders. To turn them off, set the environment variable `TF_ENABLE_ONEDNN_OPTS=0`.\n",
      "2024-07-17 15:15:38.751370: E external/local_xla/xla/stream_executor/cuda/cuda_fft.cc:479] Unable to register cuFFT factory: Attempting to register factory for plugin cuFFT when one has already been registered\n",
      "2024-07-17 15:15:38.763136: E external/local_xla/xla/stream_executor/cuda/cuda_dnn.cc:10575] Unable to register cuDNN factory: Attempting to register factory for plugin cuDNN when one has already been registered\n",
      "2024-07-17 15:15:38.763168: E external/local_xla/xla/stream_executor/cuda/cuda_blas.cc:1442] Unable to register cuBLAS factory: Attempting to register factory for plugin cuBLAS when one has already been registered\n",
      "2024-07-17 15:15:38.770902: I tensorflow/core/platform/cpu_feature_guard.cc:210] This TensorFlow binary is optimized to use available CPU instructions in performance-critical operations.\n",
      "To enable the following instructions: AVX2 AVX_VNNI FMA, in other operations, rebuild TensorFlow with the appropriate compiler flags.\n",
      "2024-07-17 15:15:39.183630: W tensorflow/compiler/tf2tensorrt/utils/py_utils.cc:38] TF-TRT Warning: Could not find TensorRT\n"
     ]
    }
   ],
   "source": [
    "from data.process import *"
   ]
  },
  {
   "cell_type": "code",
   "execution_count": 2,
   "metadata": {},
   "outputs": [],
   "source": [
    "train_df, dev_df, test_df = retrieve_train_dev_test_dataframe()\n",
    "X_train, Y_train = split_input_output(train_df)\n",
    "X_dev, Y_dev = split_input_output(dev_df)"
   ]
  },
  {
   "cell_type": "code",
   "execution_count": 3,
   "metadata": {},
   "outputs": [],
   "source": [
    "import xgboost as xgb\n",
    "from model.xgb_opt import *"
   ]
  },
  {
   "cell_type": "code",
   "execution_count": 4,
   "metadata": {},
   "outputs": [],
   "source": [
    "xgboost_params = {\n",
    "    **xgb_fixed_params,\n",
    "    # fixed after secone optimization\n",
    "    'colsample_bytree': 0.21039136022674532,\n",
    "    'max_depth': 27,\n",
    "    'min_child_weight': 36,\n",
    "    # override fixed params\n",
    "    'n_estimators': 5000,\n",
    "    'early_stopping_rounds': 200,\n",
    "}"
   ]
  },
  {
   "cell_type": "code",
   "execution_count": 5,
   "metadata": {},
   "outputs": [
    {
     "name": "stdout",
     "output_type": "stream",
     "text": [
      "[0]\tvalidation_0-auc:0.76156\n",
      "[50]\tvalidation_0-auc:0.87807\n",
      "[100]\tvalidation_0-auc:0.88163\n",
      "[150]\tvalidation_0-auc:0.88553\n",
      "[200]\tvalidation_0-auc:0.88730\n",
      "[250]\tvalidation_0-auc:0.88835\n",
      "[300]\tvalidation_0-auc:0.88860\n",
      "[350]\tvalidation_0-auc:0.88876\n",
      "[400]\tvalidation_0-auc:0.88879\n",
      "[450]\tvalidation_0-auc:0.88914\n",
      "[500]\tvalidation_0-auc:0.88933\n",
      "[550]\tvalidation_0-auc:0.88943\n",
      "[600]\tvalidation_0-auc:0.88946\n",
      "[650]\tvalidation_0-auc:0.88945\n",
      "[700]\tvalidation_0-auc:0.88949\n",
      "[750]\tvalidation_0-auc:0.88963\n",
      "[800]\tvalidation_0-auc:0.88973\n",
      "[850]\tvalidation_0-auc:0.88971\n",
      "[900]\tvalidation_0-auc:0.88983\n",
      "[950]\tvalidation_0-auc:0.88991\n",
      "[1000]\tvalidation_0-auc:0.88986\n",
      "[1050]\tvalidation_0-auc:0.88976\n",
      "[1100]\tvalidation_0-auc:0.88969\n",
      "[1150]\tvalidation_0-auc:0.88955\n",
      "[1183]\tvalidation_0-auc:0.88948\n"
     ]
    }
   ],
   "source": [
    "model = xgb.XGBClassifier(\n",
    "    **xgboost_params,\n",
    ")\n",
    "\n",
    "boosting = model.fit(X_train, Y_train, eval_set=[(X_dev, Y_dev)], verbose=50)"
   ]
  },
  {
   "cell_type": "code",
   "execution_count": 6,
   "metadata": {},
   "outputs": [],
   "source": [
    "model.get_booster().save_model(\"xgboost_model_new.json\")"
   ]
  },
  {
   "cell_type": "code",
   "execution_count": null,
   "metadata": {},
   "outputs": [],
   "source": []
  }
 ],
 "metadata": {
  "kernelspec": {
   "display_name": ".venv",
   "language": "python",
   "name": "python3"
  },
  "language_info": {
   "codemirror_mode": {
    "name": "ipython",
    "version": 3
   },
   "file_extension": ".py",
   "mimetype": "text/x-python",
   "name": "python",
   "nbconvert_exporter": "python",
   "pygments_lexer": "ipython3",
   "version": "3.10.12"
  }
 },
 "nbformat": 4,
 "nbformat_minor": 2
}
