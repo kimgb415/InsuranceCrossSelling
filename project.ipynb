{
 "cells": [
  {
   "cell_type": "code",
   "execution_count": 3,
   "metadata": {},
   "outputs": [
    {
     "name": "stdout",
     "output_type": "stream",
     "text": [
      "Warning: Your Kaggle API key is readable by other users on this system! To fix this, you can run 'chmod 600 /home/gaby/.kaggle/kaggle.json'\n",
      "Warning: Your Kaggle API key is readable by other users on this system! To fix this, you can run 'chmod 600 /home/gaby/.kaggle/kaggle.json'\n",
      "Next Page Token = CfDJ8GYiNaMVVSVCnegdIdgHCPO59MNdmVE6PHVFcCU0J1Ovp8spEfN0Fn4_0ee4bxjk_1WL3t8MmbdSaHZKGa--mdA\n",
      "   id  ref                                                       title                                             subtitle                                                                                                                                                                            author              \n",
      "-----  --------------------------------------------------------  ------------------------------------------------  ----------------------------------------------------------------------------------------------------------------------------------------------------------------------------------  ------------------  \n",
      "76277  google/gemma-2                                            Gemma 2                                           Gemma is a family of lightweight, state-of-the-art open models from Google, built from the same research and technology used to create the Gemini models.                           Google              \n",
      "78150  keras/gemma2                                              Gemma 2                                           Keras implementation of the Gemma 2 model. This Keras 3 implementation will run on JAX, TensorFlow and PyTorch.                                                                     Keras               \n",
      " 3301  google/gemma                                              Gemma                                             Gemma is a family of lightweight, open models built from the research and technology that Google used to create the Gemini models.                                                  Google              \n",
      "77039  peimandaii/tsemodules                                     Tsemodule                                         Module to receive information from Tehran Stock Exchange                                                                                                                            Peyman Daei Rezaei  \n",
      "52393  keras/paligemma                                           PaliGemma                                         Keras implementation of the PaliGemma model. This Keras 3 implementation will run on JAX, TensorFlow and PyTorch.                                                                   Keras               \n",
      "71342  marquis03/qwen2                                           Qwen2                                             the new series of Qwen large language models                                                                                                                                        Marquis03           \n",
      "23393  google/paligemma                                          PaliGemma                                         PaliGemma is a versatile and lightweight vision-language model (VLM) inspired by PaLI-3 and based on open components such as the SigLIP vision model and the Gemma language model.  Google              \n",
      "39106  metaresearch/llama-3                                      Llama 3                                           Llama 3 is a collection of pretrained and fine-tuned generative text models ranging in scale from 8 billion to 70 billion parameters                                                Meta                \n",
      " 3533  keras/gemma                                               Gemma                                             Keras implementation of the Gemma model. This Keras 3 implementation will run on JAX, TensorFlow and PyTorch.                                                                       Keras               \n",
      "70290  yacharki/pre-trained-model-binary-cnn-nlp-amazon-reviews  🦾Pre-trained model Binary CNN NLP Amazon Reviews  This is a Binary Sentiment Analysis Model Trained on Amazon Reviews using CNN                                                                                                       Yassir Acharki      \n",
      " 2820  keras/deberta_v3                                          DeBERTaV3                                         DeBERTa encoder network.                                                                                                                                                            Keras               \n",
      " 1902  mistral-ai/mistral                                        Mistral                                           Mistral AI team is proud to release Mistral, the most powerful language model for its size to date.                                                                                 Mistral AI          \n",
      "75278  sadidul012/spine-degenerative-classification              spine-degenerative-classification                                                                                                                                                                                                     Sadidul Islam       \n",
      "74163  shubhamcodez/efficientnetv2                               EfficientNetV2                                                                                                                                                                                                                        Shubham Singh       \n",
      "70328  yacharki/pre-trained-model-binary-cnn-nlp-yelpreviews     🦾Pre-trained model Binary CNN NLP Yelp Reviews    This is a Binary Sentiment Analysis Model Trained on Yelp Reviews using CNN                                                                                                         Yassir Acharki      \n",
      "59782  keras/phi3                                                Phi-3                                             Keras implementation of the Phi-3 model. Runs on JAX, TensorFlow and PyTorch.                                                                                                       Keras               \n",
      "74400  rorodan/internlm2-math-plus                               InternLM2-Math-Plus                               State-of-the-art bilingual open-sourced Math reasoning LLMs.                                                                                                                        rorodan             \n",
      " 2797  keras/efficientnetv2                                      EfficientNetV2                                    Instantiates the EfficientNetV2 architecture.                                                                                                                                       Keras               \n",
      "  735  metaresearch/llama-2                                      Llama 2                                           Llama 2 is a collection of pretrained and fine-tuned generative text models ranging in scale from 7 billion to 70 billion parameters                                                Meta                \n",
      "  312  timm/tf-efficientnet                                      EfficientNet                                      EfficientNet is a convolutional neural network architecture and scaling method that uniformly scales all dimensions of depth/width/resolution using a compound coefficient.         TIMM                \n"
     ]
    }
   ],
   "source": [
    "import kaggle\n",
    "from kaggle.api.kaggle_api_extended import KaggleApi\n",
    "api = KaggleApi()\n",
    "api.authenticate()\n",
    "api.model_list_cli()\n",
    "\n"
   ]
  },
  {
   "cell_type": "code",
   "execution_count": null,
   "metadata": {},
   "outputs": [],
   "source": []
  }
 ],
 "metadata": {
  "kernelspec": {
   "display_name": ".venv",
   "language": "python",
   "name": "python3"
  },
  "language_info": {
   "codemirror_mode": {
    "name": "ipython",
    "version": 3
   },
   "file_extension": ".py",
   "mimetype": "text/x-python",
   "name": "python",
   "nbconvert_exporter": "python",
   "pygments_lexer": "ipython3",
   "version": "3.10.12"
  }
 },
 "nbformat": 4,
 "nbformat_minor": 2
}
