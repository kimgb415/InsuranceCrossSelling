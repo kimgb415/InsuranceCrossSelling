{
 "cells": [
  {
   "cell_type": "code",
   "execution_count": 1,
   "metadata": {},
   "outputs": [],
   "source": [
    "import numpy as np\n",
    "import pandas as pd\n",
    "import matplotlib.pyplot as plt\n"
   ]
  },
  {
   "cell_type": "code",
   "execution_count": 2,
   "metadata": {},
   "outputs": [],
   "source": [
    "TRAINING_DATA = 'train.csv'\n",
    "TEST_DATA = 'test.csv'\n",
    "SAMPLE_SUBMISSION_DATA = 'sample_submission.csv'"
   ]
  },
  {
   "cell_type": "code",
   "execution_count": 5,
   "metadata": {},
   "outputs": [
    {
     "data": {
      "text/plain": [
       "(11504798, 12)"
      ]
     },
     "execution_count": 5,
     "metadata": {},
     "output_type": "execute_result"
    }
   ],
   "source": [
    "training_df = pd.read_csv(TRAINING_DATA)\n",
    "test_df = pd.read_csv(TEST_DATA)\n",
    "\n"
   ]
  },
  {
   "cell_type": "code",
   "execution_count": 6,
   "metadata": {},
   "outputs": [
    {
     "name": "stdout",
     "output_type": "stream",
     "text": [
      "                 id           Age  Driving_License   Region_Code  \\\n",
      "count  1.150480e+07  1.150480e+07     1.150480e+07  1.150480e+07   \n",
      "mean   5.752398e+06  3.838356e+01     9.980220e-01  2.641869e+01   \n",
      "std    3.321149e+06  1.499346e+01     4.443120e-02  1.299159e+01   \n",
      "min    0.000000e+00  2.000000e+01     0.000000e+00  0.000000e+00   \n",
      "25%    2.876199e+06  2.400000e+01     1.000000e+00  1.500000e+01   \n",
      "50%    5.752398e+06  3.600000e+01     1.000000e+00  2.800000e+01   \n",
      "75%    8.628598e+06  4.900000e+01     1.000000e+00  3.500000e+01   \n",
      "max    1.150480e+07  8.500000e+01     1.000000e+00  5.200000e+01   \n",
      "\n",
      "       Previously_Insured  Annual_Premium  Policy_Sales_Channel       Vintage  \\\n",
      "count        1.150480e+07    1.150480e+07          1.150480e+07  1.150480e+07   \n",
      "mean         4.629966e-01    3.046137e+04          1.124254e+02  1.638977e+02   \n",
      "std          4.986289e-01    1.645475e+04          5.403571e+01  7.997953e+01   \n",
      "min          0.000000e+00    2.630000e+03          1.000000e+00  1.000000e+01   \n",
      "25%          0.000000e+00    2.527700e+04          2.900000e+01  9.900000e+01   \n",
      "50%          0.000000e+00    3.182400e+04          1.510000e+02  1.660000e+02   \n",
      "75%          1.000000e+00    3.945100e+04          1.520000e+02  2.320000e+02   \n",
      "max          1.000000e+00    5.401650e+05          1.630000e+02  2.990000e+02   \n",
      "\n",
      "           Response  \n",
      "count  1.150480e+07  \n",
      "mean   1.229973e-01  \n",
      "std    3.284341e-01  \n",
      "min    0.000000e+00  \n",
      "25%    0.000000e+00  \n",
      "50%    0.000000e+00  \n",
      "75%    0.000000e+00  \n",
      "max    1.000000e+00  \n",
      "(11504798, 12)\n"
     ]
    }
   ],
   "source": [
    "training_df.dtypes\n",
    "print(training_df.describe())\n",
    "print(training_df.shape)"
   ]
  },
  {
   "cell_type": "code",
   "execution_count": 7,
   "metadata": {},
   "outputs": [
    {
     "name": "stdout",
     "output_type": "stream",
     "text": [
      "                 id           Age  Driving_License   Region_Code  \\\n",
      "count  7.669866e+06  7.669866e+06     7.669866e+06  7.669866e+06   \n",
      "mean   1.533973e+07  3.839137e+01     9.980208e-01  2.642661e+01   \n",
      "std    2.214100e+06  1.499951e+01     4.444387e-02  1.299433e+01   \n",
      "min    1.150480e+07  2.000000e+01     0.000000e+00  0.000000e+00   \n",
      "25%    1.342226e+07  2.400000e+01     1.000000e+00  1.500000e+01   \n",
      "50%    1.533973e+07  3.600000e+01     1.000000e+00  2.800000e+01   \n",
      "75%    1.725720e+07  4.900000e+01     1.000000e+00  3.500000e+01   \n",
      "max    1.917466e+07  8.500000e+01     1.000000e+00  5.200000e+01   \n",
      "\n",
      "       Previously_Insured  Annual_Premium  Policy_Sales_Channel       Vintage  \n",
      "count        7.669866e+06    7.669866e+06          7.669866e+06  7.669866e+06  \n",
      "mean         4.630772e-01    3.046553e+04          1.123650e+02  1.638996e+02  \n",
      "std          4.986349e-01    1.644586e+04          5.407358e+01  7.998445e+01  \n",
      "min          0.000000e+00    2.630000e+03          1.000000e+00  1.000000e+01  \n",
      "25%          0.000000e+00    2.528000e+04          2.900000e+01  9.900000e+01  \n",
      "50%          0.000000e+00    3.182700e+04          1.510000e+02  1.660000e+02  \n",
      "75%          1.000000e+00    3.946000e+04          1.520000e+02  2.320000e+02  \n",
      "max          1.000000e+00    5.401650e+05          1.630000e+02  2.990000e+02  \n",
      "(7669866, 11)\n"
     ]
    }
   ],
   "source": [
    "test_df.dtypes\n",
    "print(test_df.describe())\n",
    "print(test_df.shape)\n"
   ]
  },
  {
   "cell_type": "code",
   "execution_count": null,
   "metadata": {},
   "outputs": [],
   "source": []
  }
 ],
 "metadata": {
  "kernelspec": {
   "display_name": ".venv",
   "language": "python",
   "name": "python3"
  },
  "language_info": {
   "codemirror_mode": {
    "name": "ipython",
    "version": 3
   },
   "file_extension": ".py",
   "mimetype": "text/x-python",
   "name": "python",
   "nbconvert_exporter": "python",
   "pygments_lexer": "ipython3",
   "version": "3.10.12"
  }
 },
 "nbformat": 4,
 "nbformat_minor": 2
}
