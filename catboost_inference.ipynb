{
 "cells": [
  {
   "cell_type": "code",
   "execution_count": 1,
   "metadata": {},
   "outputs": [
    {
     "name": "stderr",
     "output_type": "stream",
     "text": [
      "2024-07-28 08:40:10.394313: I tensorflow/core/util/port.cc:113] oneDNN custom operations are on. You may see slightly different numerical results due to floating-point round-off errors from different computation orders. To turn them off, set the environment variable `TF_ENABLE_ONEDNN_OPTS=0`.\n",
      "2024-07-28 08:40:10.419701: E external/local_xla/xla/stream_executor/cuda/cuda_fft.cc:479] Unable to register cuFFT factory: Attempting to register factory for plugin cuFFT when one has already been registered\n",
      "2024-07-28 08:40:10.437781: E external/local_xla/xla/stream_executor/cuda/cuda_dnn.cc:10575] Unable to register cuDNN factory: Attempting to register factory for plugin cuDNN when one has already been registered\n",
      "2024-07-28 08:40:10.437816: E external/local_xla/xla/stream_executor/cuda/cuda_blas.cc:1442] Unable to register cuBLAS factory: Attempting to register factory for plugin cuBLAS when one has already been registered\n",
      "2024-07-28 08:40:10.458705: I tensorflow/core/platform/cpu_feature_guard.cc:210] This TensorFlow binary is optimized to use available CPU instructions in performance-critical operations.\n",
      "To enable the following instructions: AVX2 AVX_VNNI FMA, in other operations, rebuild TensorFlow with the appropriate compiler flags.\n",
      "2024-07-28 08:40:11.149148: W tensorflow/compiler/tf2tensorrt/utils/py_utils.cc:38] TF-TRT Warning: Could not find TensorRT\n"
     ]
    }
   ],
   "source": [
    "from data.process import *"
   ]
  },
  {
   "cell_type": "code",
   "execution_count": 2,
   "metadata": {},
   "outputs": [],
   "source": [
    "train_df, dev_df, test_df = retrieve_train_dev_test_for_catboost()\n",
    "X_train, Y_train = split_input_output(train_df)\n",
    "X_dev, Y_dev = split_input_output(dev_df)"
   ]
  },
  {
   "cell_type": "code",
   "execution_count": 3,
   "metadata": {},
   "outputs": [
    {
     "name": "stdout",
     "output_type": "stream",
     "text": [
      "['Gender' 'Age' 'Driving_License' 'Region_Code' 'Previously_Insured'\n",
      " 'Vehicle_Age' 'Vehicle_Damage' 'Annual_Premium' 'Policy_Sales_Channel'\n",
      " 'Vintage']\n"
     ]
    }
   ],
   "source": [
    "feature_columns = X_train.columns.values\n",
    "print(feature_columns)"
   ]
  },
  {
   "cell_type": "code",
   "execution_count": 4,
   "metadata": {},
   "outputs": [
    {
     "data": {
      "text/plain": [
       "Gender                  object\n",
       "Age                      int64\n",
       "Driving_License          int64\n",
       "Region_Code              int64\n",
       "Previously_Insured       int64\n",
       "Vehicle_Age             object\n",
       "Vehicle_Damage          object\n",
       "Annual_Premium           int64\n",
       "Policy_Sales_Channel     int64\n",
       "Vintage                  int64\n",
       "dtype: object"
      ]
     },
     "execution_count": 4,
     "metadata": {},
     "output_type": "execute_result"
    }
   ],
   "source": [
    "X_train.dtypes"
   ]
  },
  {
   "cell_type": "code",
   "execution_count": 5,
   "metadata": {},
   "outputs": [],
   "source": [
    "import catboost as cb\n",
    "import catboost.datasets as cbd\n",
    "import catboost.utils as cbu\n",
    "import numpy as np\n",
    "from model.catboost_opt import *\n",
    "import optuna\n",
    "import pprint"
   ]
  },
  {
   "cell_type": "code",
   "execution_count": 6,
   "metadata": {},
   "outputs": [
    {
     "name": "stdout",
     "output_type": "stream",
     "text": [
      "[0, 1, 2, 3, 4, 5, 6, 7, 8, 9]\n",
      "['Gender' 'Age' 'Driving_License' 'Region_Code' 'Previously_Insured'\n",
      " 'Vehicle_Age' 'Vehicle_Damage' 'Annual_Premium' 'Policy_Sales_Channel'\n",
      " 'Vintage']\n"
     ]
    }
   ],
   "source": [
    "cat_features = [i for i in range(X_train.shape[1])]\n",
    "print(cat_features)\n",
    "print(X_train.columns.values)"
   ]
  },
  {
   "cell_type": "code",
   "execution_count": 7,
   "metadata": {},
   "outputs": [],
   "source": [
    "dataset = cb.Pool(X_train, label=Y_train, cat_features=cat_features)"
   ]
  },
  {
   "cell_type": "code",
   "execution_count": 8,
   "metadata": {},
   "outputs": [],
   "source": [
    "tuned_params = {\n",
    "    **const_params,\n",
    "    # tuned params\n",
    "    'learning_rate': 0.15,\n",
    "    'depth': 9,\n",
    "    'l2_leaf_reg': 0.005010366709600069,\n",
    "    'bagging_temperature': 0.5087874319771577,\n",
    "    'min_data_in_leaf': 186,\n",
    "    'leaf_estimation_iterations': 10,\n",
    "    'eval_metric': 'AUC', \n",
    "    'custom_metric': ['AUC'],\n",
    "\n",
    "    'n_estimators': 3000,\n",
    "    'early_stopping_rounds': 200,\n",
    "        \n",
    "    # --------------- Golden features -------------\n",
    "    # 'per_float_feature_quantization': ['4:border_count=1024', '6:border_count=1024']\n",
    "}"
   ]
  },
  {
   "cell_type": "code",
   "execution_count": 9,
   "metadata": {},
   "outputs": [],
   "source": [
    "# tuned_params = {\n",
    "#     **const_params,\n",
    "#     'learning_rate': 0.1,\n",
    "#     'depth': 8,\n",
    "#     'bagging_temperature': 0.8,\n",
    "#     'l2_leaf_reg': 0.00255,\n",
    "#     'random_strength': 0,\n",
    "#     'border_count': 32,\n",
    "#     'n_estimators': 5000,\n",
    "#     'early_stopping_rounds': 200,\n",
    "#     'leaf_estimation_iterations': 5,\n",
    "#     # overriding\n",
    "#     'eval_metric': 'AUC', \n",
    "#     'custom_metric': ['AUC'],\n",
    "\n",
    "#     # https://catboost.ai/en/docs/concepts/parameter-tuning\n",
    "#     # --------------- Accuracy -------------\n",
    "#     # 128 splits are enough for many datasets. However, try to set the value of this parameter to 254 when training on GPU if the best possible quality is required.\n",
    "#     'border_count': 254,\n",
    "\n",
    "#     # --------------- Golden features -------------\n",
    "#     'per_float_feature_quantization': ['4:border_count=1024', '6:border_count=1024']\n",
    "\n",
    "# }"
   ]
  },
  {
   "cell_type": "code",
   "execution_count": 10,
   "metadata": {},
   "outputs": [],
   "source": [
    "# can scale_pos_weight boost up the performance for imbalanced dataset?\n",
    "scale_pos_weight = np.sum(Y_train == 0) / np.sum(Y_train == 1)"
   ]
  },
  {
   "cell_type": "code",
   "execution_count": 11,
   "metadata": {},
   "outputs": [],
   "source": [
    "from sklearn.model_selection import StratifiedKFold\n",
    "skf = StratifiedKFold(n_splits=5, shuffle=True, random_state=RANDOM_SEED)\n"
   ]
  },
  {
   "cell_type": "code",
   "execution_count": 12,
   "metadata": {},
   "outputs": [],
   "source": [
    "# for fold, (train_idx, valid_idx) in enumerate(skf.split(train_df, train_df['Response'])):\n",
    "#     print(f'### Fold {fold+1} Training ###')\n",
    "\n",
    "#     X_train = train_df.iloc[train_idx][feature_columns]\n",
    "#     y_train = train_df.iloc[train_idx]['Response']\n",
    "#     X_valid = train_df.iloc[valid_idx][feature_columns]\n",
    "#     y_valid = train_df.iloc[valid_idx]['Response']\n",
    "#     X_test = test_df[feature_columns]\n",
    "\n",
    "#     X_train_pool = cb.Pool(X_train, y_train, cat_features=cat_features)\n",
    "#     X_valid_pool = cb.Pool(X_valid, y_valid, cat_features=cat_features)\n",
    "#     X_test_pool = cb.Pool(X_test, cat_features=cat_features)\n",
    "\n",
    "#     model = cb.CatBoostClassifier(**tuned_params, cat_features=cat_features, scale_pos_weight=scale_pos_weight)\n",
    "#     model.fit(X_train_pool, verbose=500, eval_set=X_train_pool)\n",
    "\n",
    "#     pprint.pprint(model.best_score_)"
   ]
  },
  {
   "cell_type": "code",
   "execution_count": 13,
   "metadata": {},
   "outputs": [
    {
     "name": "stderr",
     "output_type": "stream",
     "text": [
      "Default metric period is 5 because AUC is/are not implemented for GPU\n"
     ]
    },
    {
     "name": "stdout",
     "output_type": "stream",
     "text": [
      "0:\ttest: 0.8740111\tbest: 0.8740111 (0)\ttotal: 1.2s\tremaining: 1h 1s\n",
      "100:\ttest: 0.8929405\tbest: 0.8929405 (100)\ttotal: 1m 39s\tremaining: 47m 22s\n",
      "200:\ttest: 0.8940838\tbest: 0.8940840 (199)\ttotal: 3m 5s\tremaining: 43m\n",
      "300:\ttest: 0.8945602\tbest: 0.8945602 (300)\ttotal: 4m 27s\tremaining: 39m 56s\n",
      "400:\ttest: 0.8947477\tbest: 0.8947608 (376)\ttotal: 5m 51s\tremaining: 37m 56s\n",
      "500:\ttest: 0.8947946\tbest: 0.8948061 (487)\ttotal: 7m 14s\tremaining: 36m 5s\n",
      "600:\ttest: 0.8948357\tbest: 0.8948490 (583)\ttotal: 8m 35s\tremaining: 34m 16s\n",
      "700:\ttest: 0.8948260\tbest: 0.8948490 (583)\ttotal: 9m 57s\tremaining: 32m 38s\n",
      "800:\ttest: 0.8948473\tbest: 0.8948791 (742)\ttotal: 11m 21s\tremaining: 31m 9s\n",
      "900:\ttest: 0.8948410\tbest: 0.8948791 (742)\ttotal: 12m 43s\tremaining: 29m 37s\n",
      "bestTest = 0.8948791027\n",
      "bestIteration = 742\n",
      "Shrink model to first 743 iterations.\n",
      "CPU times: user 15min 44s, sys: 1min 2s, total: 16min 46s\n",
      "Wall time: 13min 32s\n"
     ]
    },
    {
     "data": {
      "text/plain": [
       "<catboost.core.CatBoostClassifier at 0x7f6854145960>"
      ]
     },
     "execution_count": 13,
     "metadata": {},
     "output_type": "execute_result"
    }
   ],
   "source": [
    "%%time\n",
    "model = cb.CatBoostClassifier(**tuned_params, cat_features=cat_features, scale_pos_weight=scale_pos_weight)\n",
    "model.fit(dataset, eval_set=(X_dev, Y_dev), verbose_eval=100)"
   ]
  },
  {
   "cell_type": "code",
   "execution_count": 14,
   "metadata": {},
   "outputs": [
    {
     "name": "stdout",
     "output_type": "stream",
     "text": [
      "742\n",
      "{'learn': {'Logloss': 0.3711196014855591},\n",
      " 'validation': {'AUC': 0.8948791027069092, 'Logloss': 0.3787688223179413}}\n"
     ]
    }
   ],
   "source": [
    "pprint.pprint(model.best_iteration_)\n",
    "pprint.pprint(model.best_score_)"
   ]
  },
  {
   "cell_type": "code",
   "execution_count": 15,
   "metadata": {},
   "outputs": [],
   "source": [
    "# model.save_model('catboost_model.json', format='json', pool=dataset)"
   ]
  },
  {
   "cell_type": "code",
   "execution_count": 16,
   "metadata": {},
   "outputs": [],
   "source": [
    "\n",
    "# model.save_model('catboost_model_categorical.cbm')"
   ]
  },
  {
   "cell_type": "code",
   "execution_count": 17,
   "metadata": {},
   "outputs": [],
   "source": [
    "# test_pool = cb.Pool(test_df, cat_features=X_train.columns.values)\n",
    "# cb_output = model.predict(test_df, prediction_type='Probability', ntree_end=model.get_best_iteration())"
   ]
  },
  {
   "cell_type": "code",
   "execution_count": 18,
   "metadata": {},
   "outputs": [],
   "source": [
    "# Two-dimensional numpy.ndarray of shape (number_of_objects, number_of_classes) with the probability for every class for each object.\n",
    "# print(cb_output)"
   ]
  },
  {
   "cell_type": "code",
   "execution_count": 19,
   "metadata": {},
   "outputs": [],
   "source": [
    "# since it is binary classification, we only need the second column\n",
    "# cb_output = cb_output[:, 1]"
   ]
  },
  {
   "cell_type": "code",
   "execution_count": null,
   "metadata": {},
   "outputs": [],
   "source": []
  }
 ],
 "metadata": {
  "kernelspec": {
   "display_name": ".venv",
   "language": "python",
   "name": "python3"
  },
  "language_info": {
   "codemirror_mode": {
    "name": "ipython",
    "version": 3
   },
   "file_extension": ".py",
   "mimetype": "text/x-python",
   "name": "python",
   "nbconvert_exporter": "python",
   "pygments_lexer": "ipython3",
   "version": "3.10.12"
  }
 },
 "nbformat": 4,
 "nbformat_minor": 2
}
