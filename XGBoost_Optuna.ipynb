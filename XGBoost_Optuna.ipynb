{
 "cells": [
  {
   "cell_type": "markdown",
   "metadata": {},
   "source": [
    "## Data Loading"
   ]
  },
  {
   "cell_type": "code",
   "execution_count": 1,
   "metadata": {},
   "outputs": [
    {
     "name": "stderr",
     "output_type": "stream",
     "text": [
      "2024-07-15 21:13:16.396363: I tensorflow/core/util/port.cc:113] oneDNN custom operations are on. You may see slightly different numerical results due to floating-point round-off errors from different computation orders. To turn them off, set the environment variable `TF_ENABLE_ONEDNN_OPTS=0`.\n",
      "2024-07-15 21:13:16.404465: E external/local_xla/xla/stream_executor/cuda/cuda_fft.cc:479] Unable to register cuFFT factory: Attempting to register factory for plugin cuFFT when one has already been registered\n",
      "2024-07-15 21:13:16.415636: E external/local_xla/xla/stream_executor/cuda/cuda_dnn.cc:10575] Unable to register cuDNN factory: Attempting to register factory for plugin cuDNN when one has already been registered\n",
      "2024-07-15 21:13:16.415664: E external/local_xla/xla/stream_executor/cuda/cuda_blas.cc:1442] Unable to register cuBLAS factory: Attempting to register factory for plugin cuBLAS when one has already been registered\n",
      "2024-07-15 21:13:16.423356: I tensorflow/core/platform/cpu_feature_guard.cc:210] This TensorFlow binary is optimized to use available CPU instructions in performance-critical operations.\n",
      "To enable the following instructions: AVX2 AVX_VNNI FMA, in other operations, rebuild TensorFlow with the appropriate compiler flags.\n",
      "2024-07-15 21:13:16.810475: W tensorflow/compiler/tf2tensorrt/utils/py_utils.cc:38] TF-TRT Warning: Could not find TensorRT\n"
     ]
    }
   ],
   "source": [
    "from data.process import *"
   ]
  },
  {
   "cell_type": "code",
   "execution_count": 3,
   "metadata": {},
   "outputs": [],
   "source": [
    "train_df, dev_df, test_df = retrieve_train_dev_test_dataframe()\n",
    "X_train, Y_train = split_input_output(train_df)\n",
    "X_dev, Y_dev = split_input_output(dev_df)"
   ]
  },
  {
   "cell_type": "markdown",
   "metadata": {},
   "source": [
    "## Train"
   ]
  },
  {
   "cell_type": "code",
   "execution_count": 17,
   "metadata": {},
   "outputs": [],
   "source": [
    "import xgboost as xgb\n",
    "from model.xgb_opt import *\n",
    "import pprint\n",
    "import optuna"
   ]
  },
  {
   "cell_type": "markdown",
   "metadata": {},
   "source": [
    "# XGBoost Model"
   ]
  },
  {
   "cell_type": "markdown",
   "metadata": {},
   "source": [
    "## HyperParams"
   ]
  },
  {
   "cell_type": "code",
   "execution_count": 5,
   "metadata": {},
   "outputs": [],
   "source": [
    "import functools\n",
    "\n",
    "xgb_objective = functools.partial(\n",
    "    optuna_objective, \n",
    "    fixed_params=xgb_fixed_params,\n",
    "    x_train=X_train,\n",
    "    y_train=Y_train,\n",
    "    x_test=X_dev,\n",
    "    y_test=Y_dev\n",
    ")"
   ]
  },
  {
   "cell_type": "markdown",
   "metadata": {},
   "source": [
    "### optimization"
   ]
  },
  {
   "cell_type": "code",
   "execution_count": 6,
   "metadata": {},
   "outputs": [
    {
     "name": "stderr",
     "output_type": "stream",
     "text": [
      "[I 2024-07-15 21:15:59,354] A new study created in memory with name: no-name-d89b74a4-5203-47e9-a902-8a0a046498a9\n",
      "/home/gaby/projects/google_mlb/InsuranceCrossSelling/model/xgb_opt.py:43: FutureWarning: suggest_loguniform has been deprecated in v3.0.0. This feature will be removed in v6.0.0. See https://github.com/optuna/optuna/releases/tag/v3.0.0. Use suggest_float(..., log=True) instead.\n",
      "  'learning_rate': trial.suggest_loguniform('learning_rate', 0.0001, 0.1),\n",
      "/home/gaby/projects/google_mlb/InsuranceCrossSelling/model/xgb_opt.py:44: FutureWarning: suggest_loguniform has been deprecated in v3.0.0. This feature will be removed in v6.0.0. See https://github.com/optuna/optuna/releases/tag/v3.0.0. Use suggest_float(..., log=True) instead.\n",
      "  'reg_lambda': trial.suggest_loguniform('reg_lambda', 0.01, 0.5),\n",
      "/home/gaby/projects/google_mlb/InsuranceCrossSelling/model/xgb_opt.py:46: FutureWarning: suggest_loguniform has been deprecated in v3.0.0. This feature will be removed in v6.0.0. See https://github.com/optuna/optuna/releases/tag/v3.0.0. Use suggest_float(..., log=True) instead.\n",
      "  'gamma': trial.suggest_loguniform('gamma', 0.000001, 0.01),\n",
      "/home/gaby/projects/google_mlb/InsuranceCrossSelling/model/xgb_opt.py:47: FutureWarning: suggest_uniform has been deprecated in v3.0.0. This feature will be removed in v6.0.0. See https://github.com/optuna/optuna/releases/tag/v3.0.0. Use suggest_float instead.\n",
      "  'subsample': trial.suggest_uniform('subsample', 0.6, 1),\n"
     ]
    },
    {
     "name": "stdout",
     "output_type": "stream",
     "text": [
      "[0]\tvalidation_0-auc:0.85973\n",
      "[100]\tvalidation_0-auc:0.86125\n",
      "[200]\tvalidation_0-auc:0.86144\n",
      "[277]\tvalidation_0-auc:0.86142\n"
     ]
    },
    {
     "name": "stderr",
     "output_type": "stream",
     "text": [
      "[I 2024-07-15 21:21:48,032] Trial 0 finished with value: 0.8614633540577148 and parameters: {'learning_rate': 0.00036984158272173473, 'reg_lambda': 0.04773836688685052, 'max_depth': 11, 'gamma': 4.042740713374099e-05, 'subsample': 0.7812588803354075, 'max_bin': 262143, 'min_child_weight': 41}. Best is trial 0 with value: 0.8614633540577148.\n",
      "/home/gaby/projects/google_mlb/InsuranceCrossSelling/model/xgb_opt.py:43: FutureWarning: suggest_loguniform has been deprecated in v3.0.0. This feature will be removed in v6.0.0. See https://github.com/optuna/optuna/releases/tag/v3.0.0. Use suggest_float(..., log=True) instead.\n",
      "  'learning_rate': trial.suggest_loguniform('learning_rate', 0.0001, 0.1),\n",
      "/home/gaby/projects/google_mlb/InsuranceCrossSelling/model/xgb_opt.py:44: FutureWarning: suggest_loguniform has been deprecated in v3.0.0. This feature will be removed in v6.0.0. See https://github.com/optuna/optuna/releases/tag/v3.0.0. Use suggest_float(..., log=True) instead.\n",
      "  'reg_lambda': trial.suggest_loguniform('reg_lambda', 0.01, 0.5),\n",
      "/home/gaby/projects/google_mlb/InsuranceCrossSelling/model/xgb_opt.py:46: FutureWarning: suggest_loguniform has been deprecated in v3.0.0. This feature will be removed in v6.0.0. See https://github.com/optuna/optuna/releases/tag/v3.0.0. Use suggest_float(..., log=True) instead.\n",
      "  'gamma': trial.suggest_loguniform('gamma', 0.000001, 0.01),\n",
      "/home/gaby/projects/google_mlb/InsuranceCrossSelling/model/xgb_opt.py:47: FutureWarning: suggest_uniform has been deprecated in v3.0.0. This feature will be removed in v6.0.0. See https://github.com/optuna/optuna/releases/tag/v3.0.0. Use suggest_float instead.\n",
      "  'subsample': trial.suggest_uniform('subsample', 0.6, 1),\n"
     ]
    },
    {
     "name": "stdout",
     "output_type": "stream",
     "text": [
      "[0]\tvalidation_0-auc:0.85240\n",
      "[100]\tvalidation_0-auc:0.86978\n",
      "[200]\tvalidation_0-auc:0.87511\n",
      "[300]\tvalidation_0-auc:0.87789\n",
      "[400]\tvalidation_0-auc:0.87975\n",
      "[499]\tvalidation_0-auc:0.88092\n"
     ]
    },
    {
     "name": "stderr",
     "output_type": "stream",
     "text": [
      "[I 2024-07-15 21:25:04,914] Trial 1 finished with value: 0.8809201514668381 and parameters: {'learning_rate': 0.053353391113436434, 'reg_lambda': 0.35302949586421567, 'max_depth': 7, 'gamma': 0.0060381793403266205, 'subsample': 0.7754784942848929, 'max_bin': 262143, 'min_child_weight': 46}. Best is trial 1 with value: 0.8809201514668381.\n",
      "/home/gaby/projects/google_mlb/InsuranceCrossSelling/model/xgb_opt.py:43: FutureWarning: suggest_loguniform has been deprecated in v3.0.0. This feature will be removed in v6.0.0. See https://github.com/optuna/optuna/releases/tag/v3.0.0. Use suggest_float(..., log=True) instead.\n",
      "  'learning_rate': trial.suggest_loguniform('learning_rate', 0.0001, 0.1),\n",
      "/home/gaby/projects/google_mlb/InsuranceCrossSelling/model/xgb_opt.py:44: FutureWarning: suggest_loguniform has been deprecated in v3.0.0. This feature will be removed in v6.0.0. See https://github.com/optuna/optuna/releases/tag/v3.0.0. Use suggest_float(..., log=True) instead.\n",
      "  'reg_lambda': trial.suggest_loguniform('reg_lambda', 0.01, 0.5),\n",
      "/home/gaby/projects/google_mlb/InsuranceCrossSelling/model/xgb_opt.py:46: FutureWarning: suggest_loguniform has been deprecated in v3.0.0. This feature will be removed in v6.0.0. See https://github.com/optuna/optuna/releases/tag/v3.0.0. Use suggest_float(..., log=True) instead.\n",
      "  'gamma': trial.suggest_loguniform('gamma', 0.000001, 0.01),\n",
      "/home/gaby/projects/google_mlb/InsuranceCrossSelling/model/xgb_opt.py:47: FutureWarning: suggest_uniform has been deprecated in v3.0.0. This feature will be removed in v6.0.0. See https://github.com/optuna/optuna/releases/tag/v3.0.0. Use suggest_float instead.\n",
      "  'subsample': trial.suggest_uniform('subsample', 0.6, 1),\n"
     ]
    },
    {
     "name": "stdout",
     "output_type": "stream",
     "text": [
      "[0]\tvalidation_0-auc:0.86337\n",
      "[100]\tvalidation_0-auc:0.87248\n",
      "[200]\tvalidation_0-auc:0.87721\n",
      "[300]\tvalidation_0-auc:0.87955\n",
      "[400]\tvalidation_0-auc:0.88120\n",
      "[499]\tvalidation_0-auc:0.88231\n"
     ]
    },
    {
     "name": "stderr",
     "output_type": "stream",
     "text": [
      "[I 2024-07-15 21:27:55,859] Trial 2 finished with value: 0.8823141729679188 and parameters: {'learning_rate': 0.020879739720251474, 'reg_lambda': 0.10976120791224568, 'max_depth': 14, 'gamma': 1.5437191920627991e-06, 'subsample': 0.8418194708249608, 'max_bin': 8191, 'min_child_weight': 13}. Best is trial 2 with value: 0.8823141729679188.\n",
      "/home/gaby/projects/google_mlb/InsuranceCrossSelling/model/xgb_opt.py:43: FutureWarning: suggest_loguniform has been deprecated in v3.0.0. This feature will be removed in v6.0.0. See https://github.com/optuna/optuna/releases/tag/v3.0.0. Use suggest_float(..., log=True) instead.\n",
      "  'learning_rate': trial.suggest_loguniform('learning_rate', 0.0001, 0.1),\n",
      "/home/gaby/projects/google_mlb/InsuranceCrossSelling/model/xgb_opt.py:44: FutureWarning: suggest_loguniform has been deprecated in v3.0.0. This feature will be removed in v6.0.0. See https://github.com/optuna/optuna/releases/tag/v3.0.0. Use suggest_float(..., log=True) instead.\n",
      "  'reg_lambda': trial.suggest_loguniform('reg_lambda', 0.01, 0.5),\n",
      "/home/gaby/projects/google_mlb/InsuranceCrossSelling/model/xgb_opt.py:46: FutureWarning: suggest_loguniform has been deprecated in v3.0.0. This feature will be removed in v6.0.0. See https://github.com/optuna/optuna/releases/tag/v3.0.0. Use suggest_float(..., log=True) instead.\n",
      "  'gamma': trial.suggest_loguniform('gamma', 0.000001, 0.01),\n",
      "/home/gaby/projects/google_mlb/InsuranceCrossSelling/model/xgb_opt.py:47: FutureWarning: suggest_uniform has been deprecated in v3.0.0. This feature will be removed in v6.0.0. See https://github.com/optuna/optuna/releases/tag/v3.0.0. Use suggest_float instead.\n",
      "  'subsample': trial.suggest_uniform('subsample', 0.6, 1),\n"
     ]
    },
    {
     "name": "stdout",
     "output_type": "stream",
     "text": [
      "[0]\tvalidation_0-auc:0.86445\n",
      "[100]\tvalidation_0-auc:0.87953\n",
      "[184]\tvalidation_0-auc:0.87965\n"
     ]
    },
    {
     "name": "stderr",
     "output_type": "stream",
     "text": [
      "[I 2024-07-15 21:29:11,419] Trial 3 finished with value: 0.8802117221297091 and parameters: {'learning_rate': 0.07510162539348711, 'reg_lambda': 0.058409601409907, 'max_depth': 20, 'gamma': 1.5937966219880713e-05, 'subsample': 0.9138234316558287, 'max_bin': 4095, 'min_child_weight': 14}. Best is trial 2 with value: 0.8823141729679188.\n",
      "/home/gaby/projects/google_mlb/InsuranceCrossSelling/model/xgb_opt.py:43: FutureWarning: suggest_loguniform has been deprecated in v3.0.0. This feature will be removed in v6.0.0. See https://github.com/optuna/optuna/releases/tag/v3.0.0. Use suggest_float(..., log=True) instead.\n",
      "  'learning_rate': trial.suggest_loguniform('learning_rate', 0.0001, 0.1),\n",
      "/home/gaby/projects/google_mlb/InsuranceCrossSelling/model/xgb_opt.py:44: FutureWarning: suggest_loguniform has been deprecated in v3.0.0. This feature will be removed in v6.0.0. See https://github.com/optuna/optuna/releases/tag/v3.0.0. Use suggest_float(..., log=True) instead.\n",
      "  'reg_lambda': trial.suggest_loguniform('reg_lambda', 0.01, 0.5),\n",
      "/home/gaby/projects/google_mlb/InsuranceCrossSelling/model/xgb_opt.py:46: FutureWarning: suggest_loguniform has been deprecated in v3.0.0. This feature will be removed in v6.0.0. See https://github.com/optuna/optuna/releases/tag/v3.0.0. Use suggest_float(..., log=True) instead.\n",
      "  'gamma': trial.suggest_loguniform('gamma', 0.000001, 0.01),\n",
      "/home/gaby/projects/google_mlb/InsuranceCrossSelling/model/xgb_opt.py:47: FutureWarning: suggest_uniform has been deprecated in v3.0.0. This feature will be removed in v6.0.0. See https://github.com/optuna/optuna/releases/tag/v3.0.0. Use suggest_float instead.\n",
      "  'subsample': trial.suggest_uniform('subsample', 0.6, 1),\n"
     ]
    },
    {
     "name": "stdout",
     "output_type": "stream",
     "text": [
      "[0]\tvalidation_0-auc:0.85485\n",
      "[100]\tvalidation_0-auc:0.85858\n",
      "[200]\tvalidation_0-auc:0.86027\n",
      "[300]\tvalidation_0-auc:0.86121\n",
      "[400]\tvalidation_0-auc:0.86195\n",
      "[499]\tvalidation_0-auc:0.86253\n"
     ]
    },
    {
     "name": "stderr",
     "output_type": "stream",
     "text": [
      "[I 2024-07-15 21:32:17,337] Trial 4 finished with value: 0.8625331065944289 and parameters: {'learning_rate': 0.002965372702292395, 'reg_lambda': 0.04141032232527331, 'max_depth': 8, 'gamma': 0.000467896287365556, 'subsample': 0.7473118962658031, 'max_bin': 131071, 'min_child_weight': 12}. Best is trial 2 with value: 0.8823141729679188.\n",
      "/home/gaby/projects/google_mlb/InsuranceCrossSelling/model/xgb_opt.py:43: FutureWarning: suggest_loguniform has been deprecated in v3.0.0. This feature will be removed in v6.0.0. See https://github.com/optuna/optuna/releases/tag/v3.0.0. Use suggest_float(..., log=True) instead.\n",
      "  'learning_rate': trial.suggest_loguniform('learning_rate', 0.0001, 0.1),\n",
      "/home/gaby/projects/google_mlb/InsuranceCrossSelling/model/xgb_opt.py:44: FutureWarning: suggest_loguniform has been deprecated in v3.0.0. This feature will be removed in v6.0.0. See https://github.com/optuna/optuna/releases/tag/v3.0.0. Use suggest_float(..., log=True) instead.\n",
      "  'reg_lambda': trial.suggest_loguniform('reg_lambda', 0.01, 0.5),\n",
      "/home/gaby/projects/google_mlb/InsuranceCrossSelling/model/xgb_opt.py:46: FutureWarning: suggest_loguniform has been deprecated in v3.0.0. This feature will be removed in v6.0.0. See https://github.com/optuna/optuna/releases/tag/v3.0.0. Use suggest_float(..., log=True) instead.\n",
      "  'gamma': trial.suggest_loguniform('gamma', 0.000001, 0.01),\n",
      "/home/gaby/projects/google_mlb/InsuranceCrossSelling/model/xgb_opt.py:47: FutureWarning: suggest_uniform has been deprecated in v3.0.0. This feature will be removed in v6.0.0. See https://github.com/optuna/optuna/releases/tag/v3.0.0. Use suggest_float instead.\n",
      "  'subsample': trial.suggest_uniform('subsample', 0.6, 1),\n"
     ]
    },
    {
     "name": "stdout",
     "output_type": "stream",
     "text": [
      "[0]\tvalidation_0-auc:0.85798\n",
      "[100]\tvalidation_0-auc:0.86704\n",
      "[200]\tvalidation_0-auc:0.87189\n",
      "[300]\tvalidation_0-auc:0.87512\n",
      "[400]\tvalidation_0-auc:0.87683\n",
      "[499]\tvalidation_0-auc:0.87803\n"
     ]
    },
    {
     "name": "stderr",
     "output_type": "stream",
     "text": [
      "[I 2024-07-15 21:34:09,108] Trial 5 finished with value: 0.8780281891009086 and parameters: {'learning_rate': 0.017193558189843142, 'reg_lambda': 0.011984457512413171, 'max_depth': 10, 'gamma': 3.457003494686171e-06, 'subsample': 0.852535163139901, 'max_bin': 8191, 'min_child_weight': 37}. Best is trial 2 with value: 0.8823141729679188.\n",
      "/home/gaby/projects/google_mlb/InsuranceCrossSelling/model/xgb_opt.py:43: FutureWarning: suggest_loguniform has been deprecated in v3.0.0. This feature will be removed in v6.0.0. See https://github.com/optuna/optuna/releases/tag/v3.0.0. Use suggest_float(..., log=True) instead.\n",
      "  'learning_rate': trial.suggest_loguniform('learning_rate', 0.0001, 0.1),\n",
      "/home/gaby/projects/google_mlb/InsuranceCrossSelling/model/xgb_opt.py:44: FutureWarning: suggest_loguniform has been deprecated in v3.0.0. This feature will be removed in v6.0.0. See https://github.com/optuna/optuna/releases/tag/v3.0.0. Use suggest_float(..., log=True) instead.\n",
      "  'reg_lambda': trial.suggest_loguniform('reg_lambda', 0.01, 0.5),\n",
      "/home/gaby/projects/google_mlb/InsuranceCrossSelling/model/xgb_opt.py:46: FutureWarning: suggest_loguniform has been deprecated in v3.0.0. This feature will be removed in v6.0.0. See https://github.com/optuna/optuna/releases/tag/v3.0.0. Use suggest_float(..., log=True) instead.\n",
      "  'gamma': trial.suggest_loguniform('gamma', 0.000001, 0.01),\n",
      "/home/gaby/projects/google_mlb/InsuranceCrossSelling/model/xgb_opt.py:47: FutureWarning: suggest_uniform has been deprecated in v3.0.0. This feature will be removed in v6.0.0. See https://github.com/optuna/optuna/releases/tag/v3.0.0. Use suggest_float instead.\n",
      "  'subsample': trial.suggest_uniform('subsample', 0.6, 1),\n"
     ]
    },
    {
     "name": "stdout",
     "output_type": "stream",
     "text": [
      "[0]\tvalidation_0-auc:0.86548\n",
      "[100]\tvalidation_0-auc:0.86783\n",
      "[200]\tvalidation_0-auc:0.86799\n",
      "[300]\tvalidation_0-auc:0.86812\n",
      "[400]\tvalidation_0-auc:0.86832\n",
      "[499]\tvalidation_0-auc:0.86849\n"
     ]
    },
    {
     "name": "stderr",
     "output_type": "stream",
     "text": [
      "[I 2024-07-15 21:47:23,760] Trial 6 finished with value: 0.8684863845588751 and parameters: {'learning_rate': 0.0005762799218708327, 'reg_lambda': 0.060369369210070065, 'max_depth': 17, 'gamma': 0.00604718661885032, 'subsample': 0.9940301151676378, 'max_bin': 32767, 'min_child_weight': 31}. Best is trial 2 with value: 0.8823141729679188.\n",
      "/home/gaby/projects/google_mlb/InsuranceCrossSelling/model/xgb_opt.py:43: FutureWarning: suggest_loguniform has been deprecated in v3.0.0. This feature will be removed in v6.0.0. See https://github.com/optuna/optuna/releases/tag/v3.0.0. Use suggest_float(..., log=True) instead.\n",
      "  'learning_rate': trial.suggest_loguniform('learning_rate', 0.0001, 0.1),\n",
      "/home/gaby/projects/google_mlb/InsuranceCrossSelling/model/xgb_opt.py:44: FutureWarning: suggest_loguniform has been deprecated in v3.0.0. This feature will be removed in v6.0.0. See https://github.com/optuna/optuna/releases/tag/v3.0.0. Use suggest_float(..., log=True) instead.\n",
      "  'reg_lambda': trial.suggest_loguniform('reg_lambda', 0.01, 0.5),\n",
      "/home/gaby/projects/google_mlb/InsuranceCrossSelling/model/xgb_opt.py:46: FutureWarning: suggest_loguniform has been deprecated in v3.0.0. This feature will be removed in v6.0.0. See https://github.com/optuna/optuna/releases/tag/v3.0.0. Use suggest_float(..., log=True) instead.\n",
      "  'gamma': trial.suggest_loguniform('gamma', 0.000001, 0.01),\n",
      "/home/gaby/projects/google_mlb/InsuranceCrossSelling/model/xgb_opt.py:47: FutureWarning: suggest_uniform has been deprecated in v3.0.0. This feature will be removed in v6.0.0. See https://github.com/optuna/optuna/releases/tag/v3.0.0. Use suggest_float instead.\n",
      "  'subsample': trial.suggest_uniform('subsample', 0.6, 1),\n"
     ]
    },
    {
     "name": "stdout",
     "output_type": "stream",
     "text": [
      "[0]\tvalidation_0-auc:0.84465\n",
      "[100]\tvalidation_0-auc:0.84956\n",
      "[200]\tvalidation_0-auc:0.85073\n",
      "[300]\tvalidation_0-auc:0.85132\n",
      "[400]\tvalidation_0-auc:0.85279\n",
      "[499]\tvalidation_0-auc:0.85443\n"
     ]
    },
    {
     "name": "stderr",
     "output_type": "stream",
     "text": [
      "[I 2024-07-15 21:51:31,451] Trial 7 finished with value: 0.8544302700626824 and parameters: {'learning_rate': 0.0035634849894580233, 'reg_lambda': 0.3884465738138025, 'max_depth': 5, 'gamma': 0.0008593179594942817, 'subsample': 0.623225537943041, 'max_bin': 524287, 'min_child_weight': 33}. Best is trial 2 with value: 0.8823141729679188.\n",
      "/home/gaby/projects/google_mlb/InsuranceCrossSelling/model/xgb_opt.py:43: FutureWarning: suggest_loguniform has been deprecated in v3.0.0. This feature will be removed in v6.0.0. See https://github.com/optuna/optuna/releases/tag/v3.0.0. Use suggest_float(..., log=True) instead.\n",
      "  'learning_rate': trial.suggest_loguniform('learning_rate', 0.0001, 0.1),\n",
      "/home/gaby/projects/google_mlb/InsuranceCrossSelling/model/xgb_opt.py:44: FutureWarning: suggest_loguniform has been deprecated in v3.0.0. This feature will be removed in v6.0.0. See https://github.com/optuna/optuna/releases/tag/v3.0.0. Use suggest_float(..., log=True) instead.\n",
      "  'reg_lambda': trial.suggest_loguniform('reg_lambda', 0.01, 0.5),\n",
      "/home/gaby/projects/google_mlb/InsuranceCrossSelling/model/xgb_opt.py:46: FutureWarning: suggest_loguniform has been deprecated in v3.0.0. This feature will be removed in v6.0.0. See https://github.com/optuna/optuna/releases/tag/v3.0.0. Use suggest_float(..., log=True) instead.\n",
      "  'gamma': trial.suggest_loguniform('gamma', 0.000001, 0.01),\n",
      "/home/gaby/projects/google_mlb/InsuranceCrossSelling/model/xgb_opt.py:47: FutureWarning: suggest_uniform has been deprecated in v3.0.0. This feature will be removed in v6.0.0. See https://github.com/optuna/optuna/releases/tag/v3.0.0. Use suggest_float instead.\n",
      "  'subsample': trial.suggest_uniform('subsample', 0.6, 1),\n"
     ]
    },
    {
     "name": "stdout",
     "output_type": "stream",
     "text": [
      "[0]\tvalidation_0-auc:0.86587\n",
      "[100]\tvalidation_0-auc:0.87947\n",
      "[200]\tvalidation_0-auc:0.88302\n",
      "[300]\tvalidation_0-auc:0.88404\n",
      "[366]\tvalidation_0-auc:0.88409\n"
     ]
    },
    {
     "name": "stderr",
     "output_type": "stream",
     "text": [
      "[I 2024-07-15 21:53:46,069] Trial 8 finished with value: 0.884156530121988 and parameters: {'learning_rate': 0.049677232553893745, 'reg_lambda': 0.01087474429107884, 'max_depth': 18, 'gamma': 1.9163933583445436e-06, 'subsample': 0.8093124817369646, 'max_bin': 8191, 'min_child_weight': 40}. Best is trial 8 with value: 0.884156530121988.\n",
      "/home/gaby/projects/google_mlb/InsuranceCrossSelling/model/xgb_opt.py:43: FutureWarning: suggest_loguniform has been deprecated in v3.0.0. This feature will be removed in v6.0.0. See https://github.com/optuna/optuna/releases/tag/v3.0.0. Use suggest_float(..., log=True) instead.\n",
      "  'learning_rate': trial.suggest_loguniform('learning_rate', 0.0001, 0.1),\n",
      "/home/gaby/projects/google_mlb/InsuranceCrossSelling/model/xgb_opt.py:44: FutureWarning: suggest_loguniform has been deprecated in v3.0.0. This feature will be removed in v6.0.0. See https://github.com/optuna/optuna/releases/tag/v3.0.0. Use suggest_float(..., log=True) instead.\n",
      "  'reg_lambda': trial.suggest_loguniform('reg_lambda', 0.01, 0.5),\n",
      "/home/gaby/projects/google_mlb/InsuranceCrossSelling/model/xgb_opt.py:46: FutureWarning: suggest_loguniform has been deprecated in v3.0.0. This feature will be removed in v6.0.0. See https://github.com/optuna/optuna/releases/tag/v3.0.0. Use suggest_float(..., log=True) instead.\n",
      "  'gamma': trial.suggest_loguniform('gamma', 0.000001, 0.01),\n",
      "/home/gaby/projects/google_mlb/InsuranceCrossSelling/model/xgb_opt.py:47: FutureWarning: suggest_uniform has been deprecated in v3.0.0. This feature will be removed in v6.0.0. See https://github.com/optuna/optuna/releases/tag/v3.0.0. Use suggest_float instead.\n",
      "  'subsample': trial.suggest_uniform('subsample', 0.6, 1),\n"
     ]
    },
    {
     "name": "stdout",
     "output_type": "stream",
     "text": [
      "[0]\tvalidation_0-auc:0.85801\n",
      "[100]\tvalidation_0-auc:0.85984\n",
      "[200]\tvalidation_0-auc:0.85999\n",
      "[300]\tvalidation_0-auc:0.86005\n",
      "[400]\tvalidation_0-auc:0.86015\n",
      "[499]\tvalidation_0-auc:0.86027\n"
     ]
    },
    {
     "name": "stderr",
     "output_type": "stream",
     "text": [
      "[I 2024-07-15 21:56:21,824] Trial 9 finished with value: 0.8602690016040936 and parameters: {'learning_rate': 0.0003578221455665981, 'reg_lambda': 0.0915414913910451, 'max_depth': 10, 'gamma': 0.006402507074863529, 'subsample': 0.7485820368122431, 'max_bin': 32767, 'min_child_weight': 9}. Best is trial 8 with value: 0.884156530121988.\n",
      "/home/gaby/projects/google_mlb/InsuranceCrossSelling/model/xgb_opt.py:43: FutureWarning: suggest_loguniform has been deprecated in v3.0.0. This feature will be removed in v6.0.0. See https://github.com/optuna/optuna/releases/tag/v3.0.0. Use suggest_float(..., log=True) instead.\n",
      "  'learning_rate': trial.suggest_loguniform('learning_rate', 0.0001, 0.1),\n",
      "/home/gaby/projects/google_mlb/InsuranceCrossSelling/model/xgb_opt.py:44: FutureWarning: suggest_loguniform has been deprecated in v3.0.0. This feature will be removed in v6.0.0. See https://github.com/optuna/optuna/releases/tag/v3.0.0. Use suggest_float(..., log=True) instead.\n",
      "  'reg_lambda': trial.suggest_loguniform('reg_lambda', 0.01, 0.5),\n",
      "/home/gaby/projects/google_mlb/InsuranceCrossSelling/model/xgb_opt.py:46: FutureWarning: suggest_loguniform has been deprecated in v3.0.0. This feature will be removed in v6.0.0. See https://github.com/optuna/optuna/releases/tag/v3.0.0. Use suggest_float(..., log=True) instead.\n",
      "  'gamma': trial.suggest_loguniform('gamma', 0.000001, 0.01),\n",
      "/home/gaby/projects/google_mlb/InsuranceCrossSelling/model/xgb_opt.py:47: FutureWarning: suggest_uniform has been deprecated in v3.0.0. This feature will be removed in v6.0.0. See https://github.com/optuna/optuna/releases/tag/v3.0.0. Use suggest_float instead.\n",
      "  'subsample': trial.suggest_uniform('subsample', 0.6, 1),\n"
     ]
    },
    {
     "name": "stdout",
     "output_type": "stream",
     "text": [
      "[0]\tvalidation_0-auc:0.86429\n",
      "[100]\tvalidation_0-auc:0.86861\n",
      "[200]\tvalidation_0-auc:0.86966\n",
      "[300]\tvalidation_0-auc:0.87095\n",
      "[400]\tvalidation_0-auc:0.87248\n",
      "[499]\tvalidation_0-auc:0.87370\n"
     ]
    },
    {
     "name": "stderr",
     "output_type": "stream",
     "text": [
      "[I 2024-07-15 22:13:13,329] Trial 10 finished with value: 0.8737034950541714 and parameters: {'learning_rate': 0.004164475057921624, 'reg_lambda': 0.010851230597243654, 'max_depth': 16, 'gamma': 1.117513998583628e-05, 'subsample': 0.64016391509651, 'max_bin': 65535, 'min_child_weight': 23}. Best is trial 8 with value: 0.884156530121988.\n",
      "/home/gaby/projects/google_mlb/InsuranceCrossSelling/model/xgb_opt.py:43: FutureWarning: suggest_loguniform has been deprecated in v3.0.0. This feature will be removed in v6.0.0. See https://github.com/optuna/optuna/releases/tag/v3.0.0. Use suggest_float(..., log=True) instead.\n",
      "  'learning_rate': trial.suggest_loguniform('learning_rate', 0.0001, 0.1),\n",
      "/home/gaby/projects/google_mlb/InsuranceCrossSelling/model/xgb_opt.py:44: FutureWarning: suggest_loguniform has been deprecated in v3.0.0. This feature will be removed in v6.0.0. See https://github.com/optuna/optuna/releases/tag/v3.0.0. Use suggest_float(..., log=True) instead.\n",
      "  'reg_lambda': trial.suggest_loguniform('reg_lambda', 0.01, 0.5),\n",
      "/home/gaby/projects/google_mlb/InsuranceCrossSelling/model/xgb_opt.py:46: FutureWarning: suggest_loguniform has been deprecated in v3.0.0. This feature will be removed in v6.0.0. See https://github.com/optuna/optuna/releases/tag/v3.0.0. Use suggest_float(..., log=True) instead.\n",
      "  'gamma': trial.suggest_loguniform('gamma', 0.000001, 0.01),\n",
      "/home/gaby/projects/google_mlb/InsuranceCrossSelling/model/xgb_opt.py:47: FutureWarning: suggest_uniform has been deprecated in v3.0.0. This feature will be removed in v6.0.0. See https://github.com/optuna/optuna/releases/tag/v3.0.0. Use suggest_float instead.\n",
      "  'subsample': trial.suggest_uniform('subsample', 0.6, 1),\n"
     ]
    },
    {
     "name": "stdout",
     "output_type": "stream",
     "text": [
      "[0]\tvalidation_0-auc:0.86432\n",
      "[100]\tvalidation_0-auc:0.87210\n",
      "[200]\tvalidation_0-auc:0.87632\n",
      "[300]\tvalidation_0-auc:0.87907\n",
      "[400]\tvalidation_0-auc:0.88063\n",
      "[499]\tvalidation_0-auc:0.88194\n"
     ]
    },
    {
     "name": "stderr",
     "output_type": "stream",
     "text": [
      "[I 2024-07-15 22:16:25,153] Trial 11 finished with value: 0.8819402387601651 and parameters: {'learning_rate': 0.01774103760813564, 'reg_lambda': 0.14113186527191474, 'max_depth': 15, 'gamma': 1.0857016479503707e-06, 'subsample': 0.8670285624570548, 'max_bin': 8191, 'min_child_weight': 23}. Best is trial 8 with value: 0.884156530121988.\n",
      "/home/gaby/projects/google_mlb/InsuranceCrossSelling/model/xgb_opt.py:43: FutureWarning: suggest_loguniform has been deprecated in v3.0.0. This feature will be removed in v6.0.0. See https://github.com/optuna/optuna/releases/tag/v3.0.0. Use suggest_float(..., log=True) instead.\n",
      "  'learning_rate': trial.suggest_loguniform('learning_rate', 0.0001, 0.1),\n",
      "/home/gaby/projects/google_mlb/InsuranceCrossSelling/model/xgb_opt.py:44: FutureWarning: suggest_loguniform has been deprecated in v3.0.0. This feature will be removed in v6.0.0. See https://github.com/optuna/optuna/releases/tag/v3.0.0. Use suggest_float(..., log=True) instead.\n",
      "  'reg_lambda': trial.suggest_loguniform('reg_lambda', 0.01, 0.5),\n",
      "/home/gaby/projects/google_mlb/InsuranceCrossSelling/model/xgb_opt.py:46: FutureWarning: suggest_loguniform has been deprecated in v3.0.0. This feature will be removed in v6.0.0. See https://github.com/optuna/optuna/releases/tag/v3.0.0. Use suggest_float(..., log=True) instead.\n",
      "  'gamma': trial.suggest_loguniform('gamma', 0.000001, 0.01),\n",
      "/home/gaby/projects/google_mlb/InsuranceCrossSelling/model/xgb_opt.py:47: FutureWarning: suggest_uniform has been deprecated in v3.0.0. This feature will be removed in v6.0.0. See https://github.com/optuna/optuna/releases/tag/v3.0.0. Use suggest_float instead.\n",
      "  'subsample': trial.suggest_uniform('subsample', 0.6, 1),\n"
     ]
    },
    {
     "name": "stdout",
     "output_type": "stream",
     "text": [
      "[0]\tvalidation_0-auc:0.84779\n",
      "[100]\tvalidation_0-auc:0.86907\n",
      "[200]\tvalidation_0-auc:0.87023\n",
      "[300]\tvalidation_0-auc:0.87114\n",
      "[400]\tvalidation_0-auc:0.87154\n",
      "[477]\tvalidation_0-auc:0.87140\n"
     ]
    },
    {
     "name": "stderr",
     "output_type": "stream",
     "text": [
      "[I 2024-07-15 22:30:11,843] Trial 12 finished with value: 0.8716255688248999 and parameters: {'learning_rate': 0.017988568620644855, 'reg_lambda': 0.02333087743741239, 'max_depth': 20, 'gamma': 1.101655767681572e-06, 'subsample': 0.8450095288691755, 'max_bin': 8191, 'min_child_weight': 1}. Best is trial 8 with value: 0.884156530121988.\n",
      "/home/gaby/projects/google_mlb/InsuranceCrossSelling/model/xgb_opt.py:43: FutureWarning: suggest_loguniform has been deprecated in v3.0.0. This feature will be removed in v6.0.0. See https://github.com/optuna/optuna/releases/tag/v3.0.0. Use suggest_float(..., log=True) instead.\n",
      "  'learning_rate': trial.suggest_loguniform('learning_rate', 0.0001, 0.1),\n",
      "/home/gaby/projects/google_mlb/InsuranceCrossSelling/model/xgb_opt.py:44: FutureWarning: suggest_loguniform has been deprecated in v3.0.0. This feature will be removed in v6.0.0. See https://github.com/optuna/optuna/releases/tag/v3.0.0. Use suggest_float(..., log=True) instead.\n",
      "  'reg_lambda': trial.suggest_loguniform('reg_lambda', 0.01, 0.5),\n",
      "/home/gaby/projects/google_mlb/InsuranceCrossSelling/model/xgb_opt.py:46: FutureWarning: suggest_loguniform has been deprecated in v3.0.0. This feature will be removed in v6.0.0. See https://github.com/optuna/optuna/releases/tag/v3.0.0. Use suggest_float(..., log=True) instead.\n",
      "  'gamma': trial.suggest_loguniform('gamma', 0.000001, 0.01),\n",
      "/home/gaby/projects/google_mlb/InsuranceCrossSelling/model/xgb_opt.py:47: FutureWarning: suggest_uniform has been deprecated in v3.0.0. This feature will be removed in v6.0.0. See https://github.com/optuna/optuna/releases/tag/v3.0.0. Use suggest_float instead.\n",
      "  'subsample': trial.suggest_uniform('subsample', 0.6, 1),\n"
     ]
    },
    {
     "name": "stdout",
     "output_type": "stream",
     "text": [
      "[0]\tvalidation_0-auc:0.86331\n",
      "[100]\tvalidation_0-auc:0.87626\n",
      "[200]\tvalidation_0-auc:0.88042\n",
      "[300]\tvalidation_0-auc:0.88249\n",
      "[400]\tvalidation_0-auc:0.88371\n",
      "[499]\tvalidation_0-auc:0.88418\n"
     ]
    },
    {
     "name": "stderr",
     "output_type": "stream",
     "text": [
      "[I 2024-07-15 22:32:36,675] Trial 13 finished with value: 0.8841841104439125 and parameters: {'learning_rate': 0.035287293048154915, 'reg_lambda': 0.17784871178783765, 'max_depth': 14, 'gamma': 5.336080762235047e-06, 'subsample': 0.6946358506971846, 'max_bin': 16383, 'min_child_weight': 50}. Best is trial 13 with value: 0.8841841104439125.\n",
      "/home/gaby/projects/google_mlb/InsuranceCrossSelling/model/xgb_opt.py:43: FutureWarning: suggest_loguniform has been deprecated in v3.0.0. This feature will be removed in v6.0.0. See https://github.com/optuna/optuna/releases/tag/v3.0.0. Use suggest_float(..., log=True) instead.\n",
      "  'learning_rate': trial.suggest_loguniform('learning_rate', 0.0001, 0.1),\n",
      "/home/gaby/projects/google_mlb/InsuranceCrossSelling/model/xgb_opt.py:44: FutureWarning: suggest_loguniform has been deprecated in v3.0.0. This feature will be removed in v6.0.0. See https://github.com/optuna/optuna/releases/tag/v3.0.0. Use suggest_float(..., log=True) instead.\n",
      "  'reg_lambda': trial.suggest_loguniform('reg_lambda', 0.01, 0.5),\n",
      "/home/gaby/projects/google_mlb/InsuranceCrossSelling/model/xgb_opt.py:46: FutureWarning: suggest_loguniform has been deprecated in v3.0.0. This feature will be removed in v6.0.0. See https://github.com/optuna/optuna/releases/tag/v3.0.0. Use suggest_float(..., log=True) instead.\n",
      "  'gamma': trial.suggest_loguniform('gamma', 0.000001, 0.01),\n",
      "/home/gaby/projects/google_mlb/InsuranceCrossSelling/model/xgb_opt.py:47: FutureWarning: suggest_uniform has been deprecated in v3.0.0. This feature will be removed in v6.0.0. See https://github.com/optuna/optuna/releases/tag/v3.0.0. Use suggest_float instead.\n",
      "  'subsample': trial.suggest_uniform('subsample', 0.6, 1),\n"
     ]
    },
    {
     "name": "stdout",
     "output_type": "stream",
     "text": [
      "[0]\tvalidation_0-auc:0.86633\n",
      "[100]\tvalidation_0-auc:0.87943\n",
      "[200]\tvalidation_0-auc:0.88297\n",
      "[300]\tvalidation_0-auc:0.88380\n",
      "[400]\tvalidation_0-auc:0.88423\n",
      "[428]\tvalidation_0-auc:0.88391\n"
     ]
    },
    {
     "name": "stderr",
     "output_type": "stream",
     "text": [
      "[I 2024-07-15 22:35:21,361] Trial 14 finished with value: 0.884372680063319 and parameters: {'learning_rate': 0.04960593337367244, 'reg_lambda': 0.18613013789442048, 'max_depth': 18, 'gamma': 7.927950793332225e-06, 'subsample': 0.6973006396857729, 'max_bin': 16383, 'min_child_weight': 48}. Best is trial 14 with value: 0.884372680063319.\n",
      "/home/gaby/projects/google_mlb/InsuranceCrossSelling/model/xgb_opt.py:43: FutureWarning: suggest_loguniform has been deprecated in v3.0.0. This feature will be removed in v6.0.0. See https://github.com/optuna/optuna/releases/tag/v3.0.0. Use suggest_float(..., log=True) instead.\n",
      "  'learning_rate': trial.suggest_loguniform('learning_rate', 0.0001, 0.1),\n",
      "/home/gaby/projects/google_mlb/InsuranceCrossSelling/model/xgb_opt.py:44: FutureWarning: suggest_loguniform has been deprecated in v3.0.0. This feature will be removed in v6.0.0. See https://github.com/optuna/optuna/releases/tag/v3.0.0. Use suggest_float(..., log=True) instead.\n",
      "  'reg_lambda': trial.suggest_loguniform('reg_lambda', 0.01, 0.5),\n",
      "/home/gaby/projects/google_mlb/InsuranceCrossSelling/model/xgb_opt.py:46: FutureWarning: suggest_loguniform has been deprecated in v3.0.0. This feature will be removed in v6.0.0. See https://github.com/optuna/optuna/releases/tag/v3.0.0. Use suggest_float(..., log=True) instead.\n",
      "  'gamma': trial.suggest_loguniform('gamma', 0.000001, 0.01),\n",
      "/home/gaby/projects/google_mlb/InsuranceCrossSelling/model/xgb_opt.py:47: FutureWarning: suggest_uniform has been deprecated in v3.0.0. This feature will be removed in v6.0.0. See https://github.com/optuna/optuna/releases/tag/v3.0.0. Use suggest_float instead.\n",
      "  'subsample': trial.suggest_uniform('subsample', 0.6, 1),\n"
     ]
    },
    {
     "name": "stdout",
     "output_type": "stream",
     "text": [
      "[0]\tvalidation_0-auc:0.86079\n",
      "[100]\tvalidation_0-auc:0.86543\n",
      "[200]\tvalidation_0-auc:0.86877\n",
      "[300]\tvalidation_0-auc:0.87098\n",
      "[400]\tvalidation_0-auc:0.87276\n",
      "[499]\tvalidation_0-auc:0.87435\n"
     ]
    },
    {
     "name": "stderr",
     "output_type": "stream",
     "text": [
      "[I 2024-07-15 22:37:52,970] Trial 15 finished with value: 0.8743456575965467 and parameters: {'learning_rate': 0.007033173273444497, 'reg_lambda': 0.20006730932874, 'max_depth': 12, 'gamma': 7.91623485166628e-06, 'subsample': 0.6906079098461295, 'max_bin': 16383, 'min_child_weight': 48}. Best is trial 14 with value: 0.884372680063319.\n",
      "/home/gaby/projects/google_mlb/InsuranceCrossSelling/model/xgb_opt.py:43: FutureWarning: suggest_loguniform has been deprecated in v3.0.0. This feature will be removed in v6.0.0. See https://github.com/optuna/optuna/releases/tag/v3.0.0. Use suggest_float(..., log=True) instead.\n",
      "  'learning_rate': trial.suggest_loguniform('learning_rate', 0.0001, 0.1),\n",
      "/home/gaby/projects/google_mlb/InsuranceCrossSelling/model/xgb_opt.py:44: FutureWarning: suggest_loguniform has been deprecated in v3.0.0. This feature will be removed in v6.0.0. See https://github.com/optuna/optuna/releases/tag/v3.0.0. Use suggest_float(..., log=True) instead.\n",
      "  'reg_lambda': trial.suggest_loguniform('reg_lambda', 0.01, 0.5),\n",
      "/home/gaby/projects/google_mlb/InsuranceCrossSelling/model/xgb_opt.py:46: FutureWarning: suggest_loguniform has been deprecated in v3.0.0. This feature will be removed in v6.0.0. See https://github.com/optuna/optuna/releases/tag/v3.0.0. Use suggest_float(..., log=True) instead.\n",
      "  'gamma': trial.suggest_loguniform('gamma', 0.000001, 0.01),\n",
      "/home/gaby/projects/google_mlb/InsuranceCrossSelling/model/xgb_opt.py:47: FutureWarning: suggest_uniform has been deprecated in v3.0.0. This feature will be removed in v6.0.0. See https://github.com/optuna/optuna/releases/tag/v3.0.0. Use suggest_float instead.\n",
      "  'subsample': trial.suggest_uniform('subsample', 0.6, 1),\n"
     ]
    },
    {
     "name": "stdout",
     "output_type": "stream",
     "text": [
      "[0]\tvalidation_0-auc:0.86316\n",
      "[100]\tvalidation_0-auc:0.86577\n",
      "[200]\tvalidation_0-auc:0.86589\n",
      "[300]\tvalidation_0-auc:0.86611\n",
      "[400]\tvalidation_0-auc:0.86641\n",
      "[499]\tvalidation_0-auc:0.86679\n"
     ]
    },
    {
     "name": "stderr",
     "output_type": "stream",
     "text": [
      "[I 2024-07-15 22:41:26,716] Trial 16 finished with value: 0.8667932803725009 and parameters: {'learning_rate': 0.0011673084083960656, 'reg_lambda': 0.2405006892403818, 'max_depth': 14, 'gamma': 0.00011193548736044458, 'subsample': 0.6873589020649151, 'max_bin': 16383, 'min_child_weight': 50}. Best is trial 14 with value: 0.884372680063319.\n",
      "/home/gaby/projects/google_mlb/InsuranceCrossSelling/model/xgb_opt.py:43: FutureWarning: suggest_loguniform has been deprecated in v3.0.0. This feature will be removed in v6.0.0. See https://github.com/optuna/optuna/releases/tag/v3.0.0. Use suggest_float(..., log=True) instead.\n",
      "  'learning_rate': trial.suggest_loguniform('learning_rate', 0.0001, 0.1),\n",
      "/home/gaby/projects/google_mlb/InsuranceCrossSelling/model/xgb_opt.py:44: FutureWarning: suggest_loguniform has been deprecated in v3.0.0. This feature will be removed in v6.0.0. See https://github.com/optuna/optuna/releases/tag/v3.0.0. Use suggest_float(..., log=True) instead.\n",
      "  'reg_lambda': trial.suggest_loguniform('reg_lambda', 0.01, 0.5),\n",
      "/home/gaby/projects/google_mlb/InsuranceCrossSelling/model/xgb_opt.py:46: FutureWarning: suggest_loguniform has been deprecated in v3.0.0. This feature will be removed in v6.0.0. See https://github.com/optuna/optuna/releases/tag/v3.0.0. Use suggest_float(..., log=True) instead.\n",
      "  'gamma': trial.suggest_loguniform('gamma', 0.000001, 0.01),\n",
      "/home/gaby/projects/google_mlb/InsuranceCrossSelling/model/xgb_opt.py:47: FutureWarning: suggest_uniform has been deprecated in v3.0.0. This feature will be removed in v6.0.0. See https://github.com/optuna/optuna/releases/tag/v3.0.0. Use suggest_float instead.\n",
      "  'subsample': trial.suggest_uniform('subsample', 0.6, 1),\n"
     ]
    },
    {
     "name": "stdout",
     "output_type": "stream",
     "text": [
      "[0]\tvalidation_0-auc:0.86596\n",
      "[100]\tvalidation_0-auc:0.88185\n",
      "[200]\tvalidation_0-auc:0.88331\n",
      "[223]\tvalidation_0-auc:0.88319\n"
     ]
    },
    {
     "name": "stderr",
     "output_type": "stream",
     "text": [
      "[I 2024-07-15 22:42:59,423] Trial 17 finished with value: 0.8837132818985175 and parameters: {'learning_rate': 0.08291692227301671, 'reg_lambda': 0.18762145855402151, 'max_depth': 18, 'gamma': 8.165676165925077e-05, 'subsample': 0.6861895430431204, 'max_bin': 16383, 'min_child_weight': 44}. Best is trial 14 with value: 0.884372680063319.\n",
      "/home/gaby/projects/google_mlb/InsuranceCrossSelling/model/xgb_opt.py:43: FutureWarning: suggest_loguniform has been deprecated in v3.0.0. This feature will be removed in v6.0.0. See https://github.com/optuna/optuna/releases/tag/v3.0.0. Use suggest_float(..., log=True) instead.\n",
      "  'learning_rate': trial.suggest_loguniform('learning_rate', 0.0001, 0.1),\n",
      "/home/gaby/projects/google_mlb/InsuranceCrossSelling/model/xgb_opt.py:44: FutureWarning: suggest_loguniform has been deprecated in v3.0.0. This feature will be removed in v6.0.0. See https://github.com/optuna/optuna/releases/tag/v3.0.0. Use suggest_float(..., log=True) instead.\n",
      "  'reg_lambda': trial.suggest_loguniform('reg_lambda', 0.01, 0.5),\n",
      "/home/gaby/projects/google_mlb/InsuranceCrossSelling/model/xgb_opt.py:46: FutureWarning: suggest_loguniform has been deprecated in v3.0.0. This feature will be removed in v6.0.0. See https://github.com/optuna/optuna/releases/tag/v3.0.0. Use suggest_float(..., log=True) instead.\n",
      "  'gamma': trial.suggest_loguniform('gamma', 0.000001, 0.01),\n",
      "/home/gaby/projects/google_mlb/InsuranceCrossSelling/model/xgb_opt.py:47: FutureWarning: suggest_uniform has been deprecated in v3.0.0. This feature will be removed in v6.0.0. See https://github.com/optuna/optuna/releases/tag/v3.0.0. Use suggest_float instead.\n",
      "  'subsample': trial.suggest_uniform('subsample', 0.6, 1),\n"
     ]
    },
    {
     "name": "stdout",
     "output_type": "stream",
     "text": [
      "[0]\tvalidation_0-auc:0.86268\n",
      "[100]\tvalidation_0-auc:0.86702\n",
      "[200]\tvalidation_0-auc:0.87045\n",
      "[300]\tvalidation_0-auc:0.87285\n",
      "[400]\tvalidation_0-auc:0.87481\n",
      "[499]\tvalidation_0-auc:0.87654\n"
     ]
    },
    {
     "name": "stderr",
     "output_type": "stream",
     "text": [
      "[I 2024-07-15 22:45:50,354] Trial 18 finished with value: 0.8765373426137087 and parameters: {'learning_rate': 0.008261405458564816, 'reg_lambda': 0.4863283012907915, 'max_depth': 13, 'gamma': 4.9342288322374704e-06, 'subsample': 0.7184118054516345, 'max_bin': 16383, 'min_child_weight': 32}. Best is trial 14 with value: 0.884372680063319.\n",
      "/home/gaby/projects/google_mlb/InsuranceCrossSelling/model/xgb_opt.py:43: FutureWarning: suggest_loguniform has been deprecated in v3.0.0. This feature will be removed in v6.0.0. See https://github.com/optuna/optuna/releases/tag/v3.0.0. Use suggest_float(..., log=True) instead.\n",
      "  'learning_rate': trial.suggest_loguniform('learning_rate', 0.0001, 0.1),\n",
      "/home/gaby/projects/google_mlb/InsuranceCrossSelling/model/xgb_opt.py:44: FutureWarning: suggest_loguniform has been deprecated in v3.0.0. This feature will be removed in v6.0.0. See https://github.com/optuna/optuna/releases/tag/v3.0.0. Use suggest_float(..., log=True) instead.\n",
      "  'reg_lambda': trial.suggest_loguniform('reg_lambda', 0.01, 0.5),\n",
      "/home/gaby/projects/google_mlb/InsuranceCrossSelling/model/xgb_opt.py:46: FutureWarning: suggest_loguniform has been deprecated in v3.0.0. This feature will be removed in v6.0.0. See https://github.com/optuna/optuna/releases/tag/v3.0.0. Use suggest_float(..., log=True) instead.\n",
      "  'gamma': trial.suggest_loguniform('gamma', 0.000001, 0.01),\n",
      "/home/gaby/projects/google_mlb/InsuranceCrossSelling/model/xgb_opt.py:47: FutureWarning: suggest_uniform has been deprecated in v3.0.0. This feature will be removed in v6.0.0. See https://github.com/optuna/optuna/releases/tag/v3.0.0. Use suggest_float instead.\n",
      "  'subsample': trial.suggest_uniform('subsample', 0.6, 1),\n"
     ]
    },
    {
     "name": "stdout",
     "output_type": "stream",
     "text": [
      "[0]\tvalidation_0-auc:0.86566\n",
      "[100]\tvalidation_0-auc:0.86928\n",
      "[200]\tvalidation_0-auc:0.86940\n",
      "[300]\tvalidation_0-auc:0.86950\n",
      "[400]\tvalidation_0-auc:0.86956\n",
      "[499]\tvalidation_0-auc:0.86960\n"
     ]
    },
    {
     "name": "stderr",
     "output_type": "stream",
     "text": [
      "[I 2024-07-15 22:52:30,238] Trial 19 finished with value: 0.8696055337787452 and parameters: {'learning_rate': 0.0001079709263488609, 'reg_lambda': 0.267632151022058, 'max_depth': 18, 'gamma': 1.812141323717016e-05, 'subsample': 0.6040058790367775, 'max_bin': 16383, 'min_child_weight': 50}. Best is trial 14 with value: 0.884372680063319.\n",
      "/home/gaby/projects/google_mlb/InsuranceCrossSelling/model/xgb_opt.py:43: FutureWarning: suggest_loguniform has been deprecated in v3.0.0. This feature will be removed in v6.0.0. See https://github.com/optuna/optuna/releases/tag/v3.0.0. Use suggest_float(..., log=True) instead.\n",
      "  'learning_rate': trial.suggest_loguniform('learning_rate', 0.0001, 0.1),\n",
      "/home/gaby/projects/google_mlb/InsuranceCrossSelling/model/xgb_opt.py:44: FutureWarning: suggest_loguniform has been deprecated in v3.0.0. This feature will be removed in v6.0.0. See https://github.com/optuna/optuna/releases/tag/v3.0.0. Use suggest_float(..., log=True) instead.\n",
      "  'reg_lambda': trial.suggest_loguniform('reg_lambda', 0.01, 0.5),\n",
      "/home/gaby/projects/google_mlb/InsuranceCrossSelling/model/xgb_opt.py:46: FutureWarning: suggest_loguniform has been deprecated in v3.0.0. This feature will be removed in v6.0.0. See https://github.com/optuna/optuna/releases/tag/v3.0.0. Use suggest_float(..., log=True) instead.\n",
      "  'gamma': trial.suggest_loguniform('gamma', 0.000001, 0.01),\n",
      "/home/gaby/projects/google_mlb/InsuranceCrossSelling/model/xgb_opt.py:47: FutureWarning: suggest_uniform has been deprecated in v3.0.0. This feature will be removed in v6.0.0. See https://github.com/optuna/optuna/releases/tag/v3.0.0. Use suggest_float instead.\n",
      "  'subsample': trial.suggest_uniform('subsample', 0.6, 1),\n"
     ]
    },
    {
     "name": "stdout",
     "output_type": "stream",
     "text": [
      "[0]\tvalidation_0-auc:0.86554\n",
      "[100]\tvalidation_0-auc:0.87656\n",
      "[200]\tvalidation_0-auc:0.88058\n",
      "[300]\tvalidation_0-auc:0.88280\n",
      "[400]\tvalidation_0-auc:0.88396\n",
      "[499]\tvalidation_0-auc:0.88433\n"
     ]
    },
    {
     "name": "stderr",
     "output_type": "stream",
     "text": [
      "[I 2024-07-15 23:03:20,435] Trial 20 finished with value: 0.8843342943496421 and parameters: {'learning_rate': 0.033168379999857035, 'reg_lambda': 0.12821407135034485, 'max_depth': 16, 'gamma': 3.1951364577841725e-05, 'subsample': 0.6369470952182814, 'max_bin': 131071, 'min_child_weight': 37}. Best is trial 14 with value: 0.884372680063319.\n",
      "/home/gaby/projects/google_mlb/InsuranceCrossSelling/model/xgb_opt.py:43: FutureWarning: suggest_loguniform has been deprecated in v3.0.0. This feature will be removed in v6.0.0. See https://github.com/optuna/optuna/releases/tag/v3.0.0. Use suggest_float(..., log=True) instead.\n",
      "  'learning_rate': trial.suggest_loguniform('learning_rate', 0.0001, 0.1),\n",
      "/home/gaby/projects/google_mlb/InsuranceCrossSelling/model/xgb_opt.py:44: FutureWarning: suggest_loguniform has been deprecated in v3.0.0. This feature will be removed in v6.0.0. See https://github.com/optuna/optuna/releases/tag/v3.0.0. Use suggest_float(..., log=True) instead.\n",
      "  'reg_lambda': trial.suggest_loguniform('reg_lambda', 0.01, 0.5),\n",
      "/home/gaby/projects/google_mlb/InsuranceCrossSelling/model/xgb_opt.py:46: FutureWarning: suggest_loguniform has been deprecated in v3.0.0. This feature will be removed in v6.0.0. See https://github.com/optuna/optuna/releases/tag/v3.0.0. Use suggest_float(..., log=True) instead.\n",
      "  'gamma': trial.suggest_loguniform('gamma', 0.000001, 0.01),\n",
      "/home/gaby/projects/google_mlb/InsuranceCrossSelling/model/xgb_opt.py:47: FutureWarning: suggest_uniform has been deprecated in v3.0.0. This feature will be removed in v6.0.0. See https://github.com/optuna/optuna/releases/tag/v3.0.0. Use suggest_float instead.\n",
      "  'subsample': trial.suggest_uniform('subsample', 0.6, 1),\n"
     ]
    },
    {
     "name": "stdout",
     "output_type": "stream",
     "text": [
      "[0]\tvalidation_0-auc:0.86563\n",
      "[100]\tvalidation_0-auc:0.87693\n",
      "[200]\tvalidation_0-auc:0.88072\n",
      "[300]\tvalidation_0-auc:0.88260\n",
      "[400]\tvalidation_0-auc:0.88345\n",
      "[460]\tvalidation_0-auc:0.88338\n"
     ]
    },
    {
     "name": "stderr",
     "output_type": "stream",
     "text": [
      "[I 2024-07-15 23:04:26,447] Trial 21 finished with value: 0.8835120379346032 and parameters: {'learning_rate': 0.035617806305321235, 'reg_lambda': 0.1382344332833188, 'max_depth': 16, 'gamma': 3.721100273735525e-05, 'subsample': 0.654546083806848, 'max_bin': 4095, 'min_child_weight': 43}. Best is trial 14 with value: 0.884372680063319.\n",
      "/home/gaby/projects/google_mlb/InsuranceCrossSelling/model/xgb_opt.py:43: FutureWarning: suggest_loguniform has been deprecated in v3.0.0. This feature will be removed in v6.0.0. See https://github.com/optuna/optuna/releases/tag/v3.0.0. Use suggest_float(..., log=True) instead.\n",
      "  'learning_rate': trial.suggest_loguniform('learning_rate', 0.0001, 0.1),\n",
      "/home/gaby/projects/google_mlb/InsuranceCrossSelling/model/xgb_opt.py:44: FutureWarning: suggest_loguniform has been deprecated in v3.0.0. This feature will be removed in v6.0.0. See https://github.com/optuna/optuna/releases/tag/v3.0.0. Use suggest_float(..., log=True) instead.\n",
      "  'reg_lambda': trial.suggest_loguniform('reg_lambda', 0.01, 0.5),\n",
      "/home/gaby/projects/google_mlb/InsuranceCrossSelling/model/xgb_opt.py:46: FutureWarning: suggest_loguniform has been deprecated in v3.0.0. This feature will be removed in v6.0.0. See https://github.com/optuna/optuna/releases/tag/v3.0.0. Use suggest_float(..., log=True) instead.\n",
      "  'gamma': trial.suggest_loguniform('gamma', 0.000001, 0.01),\n",
      "/home/gaby/projects/google_mlb/InsuranceCrossSelling/model/xgb_opt.py:47: FutureWarning: suggest_uniform has been deprecated in v3.0.0. This feature will be removed in v6.0.0. See https://github.com/optuna/optuna/releases/tag/v3.0.0. Use suggest_float instead.\n",
      "  'subsample': trial.suggest_uniform('subsample', 0.6, 1),\n"
     ]
    },
    {
     "name": "stdout",
     "output_type": "stream",
     "text": [
      "[0]\tvalidation_0-auc:0.86531\n",
      "[100]\tvalidation_0-auc:0.87615\n",
      "[200]\tvalidation_0-auc:0.88038\n",
      "[300]\tvalidation_0-auc:0.88262\n",
      "[400]\tvalidation_0-auc:0.88393\n",
      "[484]\tvalidation_0-auc:0.88392\n"
     ]
    },
    {
     "name": "stderr",
     "output_type": "stream",
     "text": [
      "[I 2024-07-15 23:15:43,697] Trial 22 finished with value: 0.8840142473361037 and parameters: {'learning_rate': 0.030922310093086425, 'reg_lambda': 0.09662494050466376, 'max_depth': 16, 'gamma': 4.038142388958713e-06, 'subsample': 0.659690406902982, 'max_bin': 131071, 'min_child_weight': 36}. Best is trial 14 with value: 0.884372680063319.\n",
      "/home/gaby/projects/google_mlb/InsuranceCrossSelling/model/xgb_opt.py:43: FutureWarning: suggest_loguniform has been deprecated in v3.0.0. This feature will be removed in v6.0.0. See https://github.com/optuna/optuna/releases/tag/v3.0.0. Use suggest_float(..., log=True) instead.\n",
      "  'learning_rate': trial.suggest_loguniform('learning_rate', 0.0001, 0.1),\n",
      "/home/gaby/projects/google_mlb/InsuranceCrossSelling/model/xgb_opt.py:44: FutureWarning: suggest_loguniform has been deprecated in v3.0.0. This feature will be removed in v6.0.0. See https://github.com/optuna/optuna/releases/tag/v3.0.0. Use suggest_float(..., log=True) instead.\n",
      "  'reg_lambda': trial.suggest_loguniform('reg_lambda', 0.01, 0.5),\n",
      "/home/gaby/projects/google_mlb/InsuranceCrossSelling/model/xgb_opt.py:46: FutureWarning: suggest_loguniform has been deprecated in v3.0.0. This feature will be removed in v6.0.0. See https://github.com/optuna/optuna/releases/tag/v3.0.0. Use suggest_float(..., log=True) instead.\n",
      "  'gamma': trial.suggest_loguniform('gamma', 0.000001, 0.01),\n",
      "/home/gaby/projects/google_mlb/InsuranceCrossSelling/model/xgb_opt.py:47: FutureWarning: suggest_uniform has been deprecated in v3.0.0. This feature will be removed in v6.0.0. See https://github.com/optuna/optuna/releases/tag/v3.0.0. Use suggest_float instead.\n",
      "  'subsample': trial.suggest_uniform('subsample', 0.6, 1),\n"
     ]
    },
    {
     "name": "stdout",
     "output_type": "stream",
     "text": [
      "[0]\tvalidation_0-auc:0.86600\n",
      "[100]\tvalidation_0-auc:0.88265\n",
      "[198]\tvalidation_0-auc:0.88350\n"
     ]
    },
    {
     "name": "stderr",
     "output_type": "stream",
     "text": [
      "[I 2024-07-15 23:21:35,386] Trial 23 finished with value: 0.8836550283890809 and parameters: {'learning_rate': 0.09285981466290406, 'reg_lambda': 0.14899425545859524, 'max_depth': 19, 'gamma': 0.00020291211731312853, 'subsample': 0.7208648623671685, 'max_bin': 131071, 'min_child_weight': 45}. Best is trial 14 with value: 0.884372680063319.\n",
      "/home/gaby/projects/google_mlb/InsuranceCrossSelling/model/xgb_opt.py:43: FutureWarning: suggest_loguniform has been deprecated in v3.0.0. This feature will be removed in v6.0.0. See https://github.com/optuna/optuna/releases/tag/v3.0.0. Use suggest_float(..., log=True) instead.\n",
      "  'learning_rate': trial.suggest_loguniform('learning_rate', 0.0001, 0.1),\n",
      "/home/gaby/projects/google_mlb/InsuranceCrossSelling/model/xgb_opt.py:44: FutureWarning: suggest_loguniform has been deprecated in v3.0.0. This feature will be removed in v6.0.0. See https://github.com/optuna/optuna/releases/tag/v3.0.0. Use suggest_float(..., log=True) instead.\n",
      "  'reg_lambda': trial.suggest_loguniform('reg_lambda', 0.01, 0.5),\n",
      "/home/gaby/projects/google_mlb/InsuranceCrossSelling/model/xgb_opt.py:46: FutureWarning: suggest_loguniform has been deprecated in v3.0.0. This feature will be removed in v6.0.0. See https://github.com/optuna/optuna/releases/tag/v3.0.0. Use suggest_float(..., log=True) instead.\n",
      "  'gamma': trial.suggest_loguniform('gamma', 0.000001, 0.01),\n",
      "/home/gaby/projects/google_mlb/InsuranceCrossSelling/model/xgb_opt.py:47: FutureWarning: suggest_uniform has been deprecated in v3.0.0. This feature will be removed in v6.0.0. See https://github.com/optuna/optuna/releases/tag/v3.0.0. Use suggest_float instead.\n",
      "  'subsample': trial.suggest_uniform('subsample', 0.6, 1),\n"
     ]
    },
    {
     "name": "stdout",
     "output_type": "stream",
     "text": [
      "[0]\tvalidation_0-auc:0.86383\n",
      "[100]\tvalidation_0-auc:0.86835\n",
      "[200]\tvalidation_0-auc:0.87215\n",
      "[300]\tvalidation_0-auc:0.87453\n",
      "[400]\tvalidation_0-auc:0.87655\n",
      "[499]\tvalidation_0-auc:0.87804\n"
     ]
    },
    {
     "name": "stderr",
     "output_type": "stream",
     "text": [
      "[I 2024-07-15 23:56:34,780] Trial 24 finished with value: 0.8780371623386729 and parameters: {'learning_rate': 0.009549380335726238, 'reg_lambda': 0.26270296068443166, 'max_depth': 14, 'gamma': 3.30106553772142e-05, 'subsample': 0.6039468872275454, 'max_bin': 524287, 'min_child_weight': 28}. Best is trial 14 with value: 0.884372680063319.\n",
      "/home/gaby/projects/google_mlb/InsuranceCrossSelling/model/xgb_opt.py:43: FutureWarning: suggest_loguniform has been deprecated in v3.0.0. This feature will be removed in v6.0.0. See https://github.com/optuna/optuna/releases/tag/v3.0.0. Use suggest_float(..., log=True) instead.\n",
      "  'learning_rate': trial.suggest_loguniform('learning_rate', 0.0001, 0.1),\n",
      "/home/gaby/projects/google_mlb/InsuranceCrossSelling/model/xgb_opt.py:44: FutureWarning: suggest_loguniform has been deprecated in v3.0.0. This feature will be removed in v6.0.0. See https://github.com/optuna/optuna/releases/tag/v3.0.0. Use suggest_float(..., log=True) instead.\n",
      "  'reg_lambda': trial.suggest_loguniform('reg_lambda', 0.01, 0.5),\n",
      "/home/gaby/projects/google_mlb/InsuranceCrossSelling/model/xgb_opt.py:46: FutureWarning: suggest_loguniform has been deprecated in v3.0.0. This feature will be removed in v6.0.0. See https://github.com/optuna/optuna/releases/tag/v3.0.0. Use suggest_float(..., log=True) instead.\n",
      "  'gamma': trial.suggest_loguniform('gamma', 0.000001, 0.01),\n",
      "/home/gaby/projects/google_mlb/InsuranceCrossSelling/model/xgb_opt.py:47: FutureWarning: suggest_uniform has been deprecated in v3.0.0. This feature will be removed in v6.0.0. See https://github.com/optuna/optuna/releases/tag/v3.0.0. Use suggest_float instead.\n",
      "  'subsample': trial.suggest_uniform('subsample', 0.6, 1),\n"
     ]
    },
    {
     "name": "stdout",
     "output_type": "stream",
     "text": [
      "[0]\tvalidation_0-auc:0.86529\n",
      "[100]\tvalidation_0-auc:0.87867\n",
      "[200]\tvalidation_0-auc:0.88291\n",
      "[300]\tvalidation_0-auc:0.88408\n",
      "[400]\tvalidation_0-auc:0.88453\n",
      "[442]\tvalidation_0-auc:0.88431\n"
     ]
    },
    {
     "name": "stderr",
     "output_type": "stream",
     "text": [
      "[I 2024-07-16 00:03:22,566] Trial 25 finished with value: 0.8845767996385625 and parameters: {'learning_rate': 0.04444287614234565, 'reg_lambda': 0.08237092308200597, 'max_depth': 17, 'gamma': 7.560628402615615e-06, 'subsample': 0.7174546927044192, 'max_bin': 65535, 'min_child_weight': 38}. Best is trial 25 with value: 0.8845767996385625.\n",
      "/home/gaby/projects/google_mlb/InsuranceCrossSelling/model/xgb_opt.py:43: FutureWarning: suggest_loguniform has been deprecated in v3.0.0. This feature will be removed in v6.0.0. See https://github.com/optuna/optuna/releases/tag/v3.0.0. Use suggest_float(..., log=True) instead.\n",
      "  'learning_rate': trial.suggest_loguniform('learning_rate', 0.0001, 0.1),\n",
      "/home/gaby/projects/google_mlb/InsuranceCrossSelling/model/xgb_opt.py:44: FutureWarning: suggest_loguniform has been deprecated in v3.0.0. This feature will be removed in v6.0.0. See https://github.com/optuna/optuna/releases/tag/v3.0.0. Use suggest_float(..., log=True) instead.\n",
      "  'reg_lambda': trial.suggest_loguniform('reg_lambda', 0.01, 0.5),\n",
      "/home/gaby/projects/google_mlb/InsuranceCrossSelling/model/xgb_opt.py:46: FutureWarning: suggest_loguniform has been deprecated in v3.0.0. This feature will be removed in v6.0.0. See https://github.com/optuna/optuna/releases/tag/v3.0.0. Use suggest_float(..., log=True) instead.\n",
      "  'gamma': trial.suggest_loguniform('gamma', 0.000001, 0.01),\n",
      "/home/gaby/projects/google_mlb/InsuranceCrossSelling/model/xgb_opt.py:47: FutureWarning: suggest_uniform has been deprecated in v3.0.0. This feature will be removed in v6.0.0. See https://github.com/optuna/optuna/releases/tag/v3.0.0. Use suggest_float instead.\n",
      "  'subsample': trial.suggest_uniform('subsample', 0.6, 1),\n"
     ]
    },
    {
     "name": "stdout",
     "output_type": "stream",
     "text": [
      "[0]\tvalidation_0-auc:0.86542\n",
      "[100]\tvalidation_0-auc:0.87116\n",
      "[200]\tvalidation_0-auc:0.87476\n",
      "[300]\tvalidation_0-auc:0.87721\n",
      "[400]\tvalidation_0-auc:0.87887\n",
      "[499]\tvalidation_0-auc:0.88003\n"
     ]
    },
    {
     "name": "stderr",
     "output_type": "stream",
     "text": [
      "[I 2024-07-16 00:16:27,477] Trial 26 finished with value: 0.8800332084810146 and parameters: {'learning_rate': 0.011452594704359323, 'reg_lambda': 0.031088639314598977, 'max_depth': 17, 'gamma': 2.2731094908779457e-05, 'subsample': 0.7321878662714476, 'max_bin': 65535, 'min_child_weight': 37}. Best is trial 25 with value: 0.8845767996385625.\n",
      "/home/gaby/projects/google_mlb/InsuranceCrossSelling/model/xgb_opt.py:43: FutureWarning: suggest_loguniform has been deprecated in v3.0.0. This feature will be removed in v6.0.0. See https://github.com/optuna/optuna/releases/tag/v3.0.0. Use suggest_float(..., log=True) instead.\n",
      "  'learning_rate': trial.suggest_loguniform('learning_rate', 0.0001, 0.1),\n",
      "/home/gaby/projects/google_mlb/InsuranceCrossSelling/model/xgb_opt.py:44: FutureWarning: suggest_loguniform has been deprecated in v3.0.0. This feature will be removed in v6.0.0. See https://github.com/optuna/optuna/releases/tag/v3.0.0. Use suggest_float(..., log=True) instead.\n",
      "  'reg_lambda': trial.suggest_loguniform('reg_lambda', 0.01, 0.5),\n",
      "/home/gaby/projects/google_mlb/InsuranceCrossSelling/model/xgb_opt.py:46: FutureWarning: suggest_loguniform has been deprecated in v3.0.0. This feature will be removed in v6.0.0. See https://github.com/optuna/optuna/releases/tag/v3.0.0. Use suggest_float(..., log=True) instead.\n",
      "  'gamma': trial.suggest_loguniform('gamma', 0.000001, 0.01),\n",
      "/home/gaby/projects/google_mlb/InsuranceCrossSelling/model/xgb_opt.py:47: FutureWarning: suggest_uniform has been deprecated in v3.0.0. This feature will be removed in v6.0.0. See https://github.com/optuna/optuna/releases/tag/v3.0.0. Use suggest_float instead.\n",
      "  'subsample': trial.suggest_uniform('subsample', 0.6, 1),\n"
     ]
    },
    {
     "name": "stdout",
     "output_type": "stream",
     "text": [
      "[0]\tvalidation_0-auc:0.86598\n",
      "[100]\tvalidation_0-auc:0.87971\n",
      "[200]\tvalidation_0-auc:0.88338\n",
      "[286]\tvalidation_0-auc:0.88347\n"
     ]
    },
    {
     "name": "stderr",
     "output_type": "stream",
     "text": [
      "[I 2024-07-16 00:22:27,114] Trial 27 finished with value: 0.883774512215892 and parameters: {'learning_rate': 0.05021872373887475, 'reg_lambda': 0.07118060061392137, 'max_depth': 19, 'gamma': 7.044632304488497e-05, 'subsample': 0.6632173679302534, 'max_bin': 65535, 'min_child_weight': 40}. Best is trial 25 with value: 0.8845767996385625.\n",
      "/home/gaby/projects/google_mlb/InsuranceCrossSelling/model/xgb_opt.py:43: FutureWarning: suggest_loguniform has been deprecated in v3.0.0. This feature will be removed in v6.0.0. See https://github.com/optuna/optuna/releases/tag/v3.0.0. Use suggest_float(..., log=True) instead.\n",
      "  'learning_rate': trial.suggest_loguniform('learning_rate', 0.0001, 0.1),\n",
      "/home/gaby/projects/google_mlb/InsuranceCrossSelling/model/xgb_opt.py:44: FutureWarning: suggest_loguniform has been deprecated in v3.0.0. This feature will be removed in v6.0.0. See https://github.com/optuna/optuna/releases/tag/v3.0.0. Use suggest_float(..., log=True) instead.\n",
      "  'reg_lambda': trial.suggest_loguniform('reg_lambda', 0.01, 0.5),\n",
      "/home/gaby/projects/google_mlb/InsuranceCrossSelling/model/xgb_opt.py:46: FutureWarning: suggest_loguniform has been deprecated in v3.0.0. This feature will be removed in v6.0.0. See https://github.com/optuna/optuna/releases/tag/v3.0.0. Use suggest_float(..., log=True) instead.\n",
      "  'gamma': trial.suggest_loguniform('gamma', 0.000001, 0.01),\n",
      "/home/gaby/projects/google_mlb/InsuranceCrossSelling/model/xgb_opt.py:47: FutureWarning: suggest_uniform has been deprecated in v3.0.0. This feature will be removed in v6.0.0. See https://github.com/optuna/optuna/releases/tag/v3.0.0. Use suggest_float instead.\n",
      "  'subsample': trial.suggest_uniform('subsample', 0.6, 1),\n"
     ]
    },
    {
     "name": "stdout",
     "output_type": "stream",
     "text": [
      "[0]\tvalidation_0-auc:0.86480\n",
      "[100]\tvalidation_0-auc:0.87595\n",
      "[200]\tvalidation_0-auc:0.87974\n",
      "[300]\tvalidation_0-auc:0.88203\n",
      "[400]\tvalidation_0-auc:0.88346\n",
      "[499]\tvalidation_0-auc:0.88366\n"
     ]
    },
    {
     "name": "stderr",
     "output_type": "stream",
     "text": [
      "[I 2024-07-16 00:37:24,390] Trial 28 finished with value: 0.883725136762794 and parameters: {'learning_rate': 0.028174321986943078, 'reg_lambda': 0.08218929462976364, 'max_depth': 17, 'gamma': 1.1642307540886254e-05, 'subsample': 0.6396254119526907, 'max_bin': 131071, 'min_child_weight': 28}. Best is trial 25 with value: 0.8845767996385625.\n",
      "/home/gaby/projects/google_mlb/InsuranceCrossSelling/model/xgb_opt.py:43: FutureWarning: suggest_loguniform has been deprecated in v3.0.0. This feature will be removed in v6.0.0. See https://github.com/optuna/optuna/releases/tag/v3.0.0. Use suggest_float(..., log=True) instead.\n",
      "  'learning_rate': trial.suggest_loguniform('learning_rate', 0.0001, 0.1),\n",
      "/home/gaby/projects/google_mlb/InsuranceCrossSelling/model/xgb_opt.py:44: FutureWarning: suggest_loguniform has been deprecated in v3.0.0. This feature will be removed in v6.0.0. See https://github.com/optuna/optuna/releases/tag/v3.0.0. Use suggest_float(..., log=True) instead.\n",
      "  'reg_lambda': trial.suggest_loguniform('reg_lambda', 0.01, 0.5),\n",
      "/home/gaby/projects/google_mlb/InsuranceCrossSelling/model/xgb_opt.py:46: FutureWarning: suggest_loguniform has been deprecated in v3.0.0. This feature will be removed in v6.0.0. See https://github.com/optuna/optuna/releases/tag/v3.0.0. Use suggest_float(..., log=True) instead.\n",
      "  'gamma': trial.suggest_loguniform('gamma', 0.000001, 0.01),\n",
      "/home/gaby/projects/google_mlb/InsuranceCrossSelling/model/xgb_opt.py:47: FutureWarning: suggest_uniform has been deprecated in v3.0.0. This feature will be removed in v6.0.0. See https://github.com/optuna/optuna/releases/tag/v3.0.0. Use suggest_float instead.\n",
      "  'subsample': trial.suggest_uniform('subsample', 0.6, 1),\n"
     ]
    },
    {
     "name": "stdout",
     "output_type": "stream",
     "text": [
      "[0]\tvalidation_0-auc:0.86401\n",
      "[83]\tvalidation_0-auc:0.86678\n"
     ]
    },
    {
     "name": "stderr",
     "output_type": "stream",
     "text": [
      "[I 2024-07-16 00:43:18,927] Trial 29 finished with value: 0.8668020742162766 and parameters: {'learning_rate': 0.0017693249493174654, 'reg_lambda': 0.04233651593694369, 'max_depth': 15, 'gamma': 2.92539805391653e-06, 'subsample': 0.7785775799526535, 'max_bin': 262143, 'min_child_weight': 41}. Best is trial 25 with value: 0.8845767996385625.\n",
      "/home/gaby/projects/google_mlb/InsuranceCrossSelling/model/xgb_opt.py:43: FutureWarning: suggest_loguniform has been deprecated in v3.0.0. This feature will be removed in v6.0.0. See https://github.com/optuna/optuna/releases/tag/v3.0.0. Use suggest_float(..., log=True) instead.\n",
      "  'learning_rate': trial.suggest_loguniform('learning_rate', 0.0001, 0.1),\n",
      "/home/gaby/projects/google_mlb/InsuranceCrossSelling/model/xgb_opt.py:44: FutureWarning: suggest_loguniform has been deprecated in v3.0.0. This feature will be removed in v6.0.0. See https://github.com/optuna/optuna/releases/tag/v3.0.0. Use suggest_float(..., log=True) instead.\n",
      "  'reg_lambda': trial.suggest_loguniform('reg_lambda', 0.01, 0.5),\n",
      "/home/gaby/projects/google_mlb/InsuranceCrossSelling/model/xgb_opt.py:46: FutureWarning: suggest_loguniform has been deprecated in v3.0.0. This feature will be removed in v6.0.0. See https://github.com/optuna/optuna/releases/tag/v3.0.0. Use suggest_float(..., log=True) instead.\n",
      "  'gamma': trial.suggest_loguniform('gamma', 0.000001, 0.01),\n",
      "/home/gaby/projects/google_mlb/InsuranceCrossSelling/model/xgb_opt.py:47: FutureWarning: suggest_uniform has been deprecated in v3.0.0. This feature will be removed in v6.0.0. See https://github.com/optuna/optuna/releases/tag/v3.0.0. Use suggest_float instead.\n",
      "  'subsample': trial.suggest_uniform('subsample', 0.6, 1),\n"
     ]
    },
    {
     "name": "stdout",
     "output_type": "stream",
     "text": [
      "[0]\tvalidation_0-auc:0.86157\n",
      "[100]\tvalidation_0-auc:0.86792\n",
      "[200]\tvalidation_0-auc:0.87194\n",
      "[300]\tvalidation_0-auc:0.87499\n",
      "[400]\tvalidation_0-auc:0.87711\n",
      "[499]\tvalidation_0-auc:0.87839\n"
     ]
    },
    {
     "name": "stderr",
     "output_type": "stream",
     "text": [
      "[I 2024-07-16 00:48:17,822] Trial 30 finished with value: 0.878390920914829 and parameters: {'learning_rate': 0.012199555786739627, 'reg_lambda': 0.11741618342273492, 'max_depth': 12, 'gamma': 0.00026655648531554593, 'subsample': 0.8053347284283571, 'max_bin': 65535, 'min_child_weight': 20}. Best is trial 25 with value: 0.8845767996385625.\n",
      "/home/gaby/projects/google_mlb/InsuranceCrossSelling/model/xgb_opt.py:43: FutureWarning: suggest_loguniform has been deprecated in v3.0.0. This feature will be removed in v6.0.0. See https://github.com/optuna/optuna/releases/tag/v3.0.0. Use suggest_float(..., log=True) instead.\n",
      "  'learning_rate': trial.suggest_loguniform('learning_rate', 0.0001, 0.1),\n",
      "/home/gaby/projects/google_mlb/InsuranceCrossSelling/model/xgb_opt.py:44: FutureWarning: suggest_loguniform has been deprecated in v3.0.0. This feature will be removed in v6.0.0. See https://github.com/optuna/optuna/releases/tag/v3.0.0. Use suggest_float(..., log=True) instead.\n",
      "  'reg_lambda': trial.suggest_loguniform('reg_lambda', 0.01, 0.5),\n",
      "/home/gaby/projects/google_mlb/InsuranceCrossSelling/model/xgb_opt.py:46: FutureWarning: suggest_loguniform has been deprecated in v3.0.0. This feature will be removed in v6.0.0. See https://github.com/optuna/optuna/releases/tag/v3.0.0. Use suggest_float(..., log=True) instead.\n",
      "  'gamma': trial.suggest_loguniform('gamma', 0.000001, 0.01),\n",
      "/home/gaby/projects/google_mlb/InsuranceCrossSelling/model/xgb_opt.py:47: FutureWarning: suggest_uniform has been deprecated in v3.0.0. This feature will be removed in v6.0.0. See https://github.com/optuna/optuna/releases/tag/v3.0.0. Use suggest_float instead.\n",
      "  'subsample': trial.suggest_uniform('subsample', 0.6, 1),\n"
     ]
    },
    {
     "name": "stdout",
     "output_type": "stream",
     "text": [
      "[0]\tvalidation_0-auc:0.86462\n",
      "[100]\tvalidation_0-auc:0.87653\n",
      "[200]\tvalidation_0-auc:0.88088\n",
      "[300]\tvalidation_0-auc:0.88284\n",
      "[400]\tvalidation_0-auc:0.88402\n",
      "[499]\tvalidation_0-auc:0.88416\n"
     ]
    },
    {
     "name": "stderr",
     "output_type": "stream",
     "text": [
      "[I 2024-07-16 00:50:58,937] Trial 31 finished with value: 0.8841937181065707 and parameters: {'learning_rate': 0.035250741279104415, 'reg_lambda': 0.1832787078278958, 'max_depth': 15, 'gamma': 5.30556339775911e-06, 'subsample': 0.7018604822213542, 'max_bin': 16383, 'min_child_weight': 47}. Best is trial 25 with value: 0.8845767996385625.\n",
      "/home/gaby/projects/google_mlb/InsuranceCrossSelling/model/xgb_opt.py:43: FutureWarning: suggest_loguniform has been deprecated in v3.0.0. This feature will be removed in v6.0.0. See https://github.com/optuna/optuna/releases/tag/v3.0.0. Use suggest_float(..., log=True) instead.\n",
      "  'learning_rate': trial.suggest_loguniform('learning_rate', 0.0001, 0.1),\n",
      "/home/gaby/projects/google_mlb/InsuranceCrossSelling/model/xgb_opt.py:44: FutureWarning: suggest_loguniform has been deprecated in v3.0.0. This feature will be removed in v6.0.0. See https://github.com/optuna/optuna/releases/tag/v3.0.0. Use suggest_float(..., log=True) instead.\n",
      "  'reg_lambda': trial.suggest_loguniform('reg_lambda', 0.01, 0.5),\n",
      "/home/gaby/projects/google_mlb/InsuranceCrossSelling/model/xgb_opt.py:46: FutureWarning: suggest_loguniform has been deprecated in v3.0.0. This feature will be removed in v6.0.0. See https://github.com/optuna/optuna/releases/tag/v3.0.0. Use suggest_float(..., log=True) instead.\n",
      "  'gamma': trial.suggest_loguniform('gamma', 0.000001, 0.01),\n",
      "/home/gaby/projects/google_mlb/InsuranceCrossSelling/model/xgb_opt.py:47: FutureWarning: suggest_uniform has been deprecated in v3.0.0. This feature will be removed in v6.0.0. See https://github.com/optuna/optuna/releases/tag/v3.0.0. Use suggest_float instead.\n",
      "  'subsample': trial.suggest_uniform('subsample', 0.6, 1),\n"
     ]
    },
    {
     "name": "stdout",
     "output_type": "stream",
     "text": [
      "[0]\tvalidation_0-auc:0.86426\n",
      "[100]\tvalidation_0-auc:0.87980\n",
      "[200]\tvalidation_0-auc:0.88370\n",
      "[300]\tvalidation_0-auc:0.88446\n",
      "[365]\tvalidation_0-auc:0.88455\n"
     ]
    },
    {
     "name": "stderr",
     "output_type": "stream",
     "text": [
      "[I 2024-07-16 00:52:45,417] Trial 32 finished with value: 0.8846166427957076 and parameters: {'learning_rate': 0.06470753084079922, 'reg_lambda': 0.33735228783232696, 'max_depth': 15, 'gamma': 6.641722661832378e-06, 'subsample': 0.7090664110732345, 'max_bin': 16383, 'min_child_weight': 46}. Best is trial 32 with value: 0.8846166427957076.\n",
      "/home/gaby/projects/google_mlb/InsuranceCrossSelling/model/xgb_opt.py:43: FutureWarning: suggest_loguniform has been deprecated in v3.0.0. This feature will be removed in v6.0.0. See https://github.com/optuna/optuna/releases/tag/v3.0.0. Use suggest_float(..., log=True) instead.\n",
      "  'learning_rate': trial.suggest_loguniform('learning_rate', 0.0001, 0.1),\n",
      "/home/gaby/projects/google_mlb/InsuranceCrossSelling/model/xgb_opt.py:44: FutureWarning: suggest_loguniform has been deprecated in v3.0.0. This feature will be removed in v6.0.0. See https://github.com/optuna/optuna/releases/tag/v3.0.0. Use suggest_float(..., log=True) instead.\n",
      "  'reg_lambda': trial.suggest_loguniform('reg_lambda', 0.01, 0.5),\n",
      "/home/gaby/projects/google_mlb/InsuranceCrossSelling/model/xgb_opt.py:46: FutureWarning: suggest_loguniform has been deprecated in v3.0.0. This feature will be removed in v6.0.0. See https://github.com/optuna/optuna/releases/tag/v3.0.0. Use suggest_float(..., log=True) instead.\n",
      "  'gamma': trial.suggest_loguniform('gamma', 0.000001, 0.01),\n",
      "/home/gaby/projects/google_mlb/InsuranceCrossSelling/model/xgb_opt.py:47: FutureWarning: suggest_uniform has been deprecated in v3.0.0. This feature will be removed in v6.0.0. See https://github.com/optuna/optuna/releases/tag/v3.0.0. Use suggest_float instead.\n",
      "  'subsample': trial.suggest_uniform('subsample', 0.6, 1),\n"
     ]
    },
    {
     "name": "stdout",
     "output_type": "stream",
     "text": [
      "[0]\tvalidation_0-auc:0.86662\n",
      "[100]\tvalidation_0-auc:0.88076\n",
      "[200]\tvalidation_0-auc:0.88355\n",
      "[241]\tvalidation_0-auc:0.88353\n"
     ]
    },
    {
     "name": "stderr",
     "output_type": "stream",
     "text": [
      "[I 2024-07-16 01:07:04,473] Trial 33 finished with value: 0.8836672689327408 and parameters: {'learning_rate': 0.060446582929127815, 'reg_lambda': 0.3576249436302977, 'max_depth': 19, 'gamma': 8.477497019288366e-06, 'subsample': 0.7673623198752294, 'max_bin': 262143, 'min_child_weight': 43}. Best is trial 32 with value: 0.8846166427957076.\n",
      "/home/gaby/projects/google_mlb/InsuranceCrossSelling/model/xgb_opt.py:43: FutureWarning: suggest_loguniform has been deprecated in v3.0.0. This feature will be removed in v6.0.0. See https://github.com/optuna/optuna/releases/tag/v3.0.0. Use suggest_float(..., log=True) instead.\n",
      "  'learning_rate': trial.suggest_loguniform('learning_rate', 0.0001, 0.1),\n",
      "/home/gaby/projects/google_mlb/InsuranceCrossSelling/model/xgb_opt.py:44: FutureWarning: suggest_loguniform has been deprecated in v3.0.0. This feature will be removed in v6.0.0. See https://github.com/optuna/optuna/releases/tag/v3.0.0. Use suggest_float(..., log=True) instead.\n",
      "  'reg_lambda': trial.suggest_loguniform('reg_lambda', 0.01, 0.5),\n",
      "/home/gaby/projects/google_mlb/InsuranceCrossSelling/model/xgb_opt.py:46: FutureWarning: suggest_loguniform has been deprecated in v3.0.0. This feature will be removed in v6.0.0. See https://github.com/optuna/optuna/releases/tag/v3.0.0. Use suggest_float(..., log=True) instead.\n",
      "  'gamma': trial.suggest_loguniform('gamma', 0.000001, 0.01),\n",
      "/home/gaby/projects/google_mlb/InsuranceCrossSelling/model/xgb_opt.py:47: FutureWarning: suggest_uniform has been deprecated in v3.0.0. This feature will be removed in v6.0.0. See https://github.com/optuna/optuna/releases/tag/v3.0.0. Use suggest_float instead.\n",
      "  'subsample': trial.suggest_uniform('subsample', 0.6, 1),\n"
     ]
    },
    {
     "name": "stdout",
     "output_type": "stream",
     "text": [
      "[0]\tvalidation_0-auc:0.86535\n",
      "[100]\tvalidation_0-auc:0.88170\n",
      "[200]\tvalidation_0-auc:0.88315\n",
      "[223]\tvalidation_0-auc:0.88267\n"
     ]
    },
    {
     "name": "stderr",
     "output_type": "stream",
     "text": [
      "[I 2024-07-16 01:10:13,551] Trial 34 finished with value: 0.883208168578944 and parameters: {'learning_rate': 0.09349793775428278, 'reg_lambda': 0.3060898222068486, 'max_depth': 17, 'gamma': 2.847459900084827e-05, 'subsample': 0.6751663268324989, 'max_bin': 65535, 'min_child_weight': 38}. Best is trial 32 with value: 0.8846166427957076.\n",
      "/home/gaby/projects/google_mlb/InsuranceCrossSelling/model/xgb_opt.py:43: FutureWarning: suggest_loguniform has been deprecated in v3.0.0. This feature will be removed in v6.0.0. See https://github.com/optuna/optuna/releases/tag/v3.0.0. Use suggest_float(..., log=True) instead.\n",
      "  'learning_rate': trial.suggest_loguniform('learning_rate', 0.0001, 0.1),\n",
      "/home/gaby/projects/google_mlb/InsuranceCrossSelling/model/xgb_opt.py:44: FutureWarning: suggest_loguniform has been deprecated in v3.0.0. This feature will be removed in v6.0.0. See https://github.com/optuna/optuna/releases/tag/v3.0.0. Use suggest_float(..., log=True) instead.\n",
      "  'reg_lambda': trial.suggest_loguniform('reg_lambda', 0.01, 0.5),\n",
      "/home/gaby/projects/google_mlb/InsuranceCrossSelling/model/xgb_opt.py:46: FutureWarning: suggest_loguniform has been deprecated in v3.0.0. This feature will be removed in v6.0.0. See https://github.com/optuna/optuna/releases/tag/v3.0.0. Use suggest_float(..., log=True) instead.\n",
      "  'gamma': trial.suggest_loguniform('gamma', 0.000001, 0.01),\n",
      "/home/gaby/projects/google_mlb/InsuranceCrossSelling/model/xgb_opt.py:47: FutureWarning: suggest_uniform has been deprecated in v3.0.0. This feature will be removed in v6.0.0. See https://github.com/optuna/optuna/releases/tag/v3.0.0. Use suggest_float instead.\n",
      "  'subsample': trial.suggest_uniform('subsample', 0.6, 1),\n"
     ]
    },
    {
     "name": "stdout",
     "output_type": "stream",
     "text": [
      "[0]\tvalidation_0-auc:0.86519\n",
      "[100]\tvalidation_0-auc:0.87939\n",
      "[200]\tvalidation_0-auc:0.88373\n",
      "[300]\tvalidation_0-auc:0.88461\n",
      "[362]\tvalidation_0-auc:0.88471\n"
     ]
    },
    {
     "name": "stderr",
     "output_type": "stream",
     "text": [
      "[I 2024-07-16 01:17:29,145] Trial 35 finished with value: 0.8848370635169999 and parameters: {'learning_rate': 0.054234753128110984, 'reg_lambda': 0.1215745200567457, 'max_depth': 16, 'gamma': 4.840824697323033e-05, 'subsample': 0.748222539188611, 'max_bin': 131071, 'min_child_weight': 46}. Best is trial 35 with value: 0.8848370635169999.\n",
      "/home/gaby/projects/google_mlb/InsuranceCrossSelling/model/xgb_opt.py:43: FutureWarning: suggest_loguniform has been deprecated in v3.0.0. This feature will be removed in v6.0.0. See https://github.com/optuna/optuna/releases/tag/v3.0.0. Use suggest_float(..., log=True) instead.\n",
      "  'learning_rate': trial.suggest_loguniform('learning_rate', 0.0001, 0.1),\n",
      "/home/gaby/projects/google_mlb/InsuranceCrossSelling/model/xgb_opt.py:44: FutureWarning: suggest_loguniform has been deprecated in v3.0.0. This feature will be removed in v6.0.0. See https://github.com/optuna/optuna/releases/tag/v3.0.0. Use suggest_float(..., log=True) instead.\n",
      "  'reg_lambda': trial.suggest_loguniform('reg_lambda', 0.01, 0.5),\n",
      "/home/gaby/projects/google_mlb/InsuranceCrossSelling/model/xgb_opt.py:46: FutureWarning: suggest_loguniform has been deprecated in v3.0.0. This feature will be removed in v6.0.0. See https://github.com/optuna/optuna/releases/tag/v3.0.0. Use suggest_float(..., log=True) instead.\n",
      "  'gamma': trial.suggest_loguniform('gamma', 0.000001, 0.01),\n",
      "/home/gaby/projects/google_mlb/InsuranceCrossSelling/model/xgb_opt.py:47: FutureWarning: suggest_uniform has been deprecated in v3.0.0. This feature will be removed in v6.0.0. See https://github.com/optuna/optuna/releases/tag/v3.0.0. Use suggest_float instead.\n",
      "  'subsample': trial.suggest_uniform('subsample', 0.6, 1),\n"
     ]
    },
    {
     "name": "stdout",
     "output_type": "stream",
     "text": [
      "[0]\tvalidation_0-auc:0.86274\n",
      "[100]\tvalidation_0-auc:0.87887\n",
      "[200]\tvalidation_0-auc:0.88251\n",
      "[300]\tvalidation_0-auc:0.88365\n",
      "[400]\tvalidation_0-auc:0.88388\n",
      "[434]\tvalidation_0-auc:0.88368\n"
     ]
    },
    {
     "name": "stderr",
     "output_type": "stream",
     "text": [
      "[I 2024-07-16 01:18:07,981] Trial 36 finished with value: 0.8839627280010018 and parameters: {'learning_rate': 0.06140326577615382, 'reg_lambda': 0.4635852889406122, 'max_depth': 13, 'gamma': 0.0026606109410947853, 'subsample': 0.7541719540670272, 'max_bin': 4095, 'min_child_weight': 46}. Best is trial 35 with value: 0.8848370635169999.\n",
      "/home/gaby/projects/google_mlb/InsuranceCrossSelling/model/xgb_opt.py:43: FutureWarning: suggest_loguniform has been deprecated in v3.0.0. This feature will be removed in v6.0.0. See https://github.com/optuna/optuna/releases/tag/v3.0.0. Use suggest_float(..., log=True) instead.\n",
      "  'learning_rate': trial.suggest_loguniform('learning_rate', 0.0001, 0.1),\n",
      "/home/gaby/projects/google_mlb/InsuranceCrossSelling/model/xgb_opt.py:44: FutureWarning: suggest_loguniform has been deprecated in v3.0.0. This feature will be removed in v6.0.0. See https://github.com/optuna/optuna/releases/tag/v3.0.0. Use suggest_float(..., log=True) instead.\n",
      "  'reg_lambda': trial.suggest_loguniform('reg_lambda', 0.01, 0.5),\n",
      "/home/gaby/projects/google_mlb/InsuranceCrossSelling/model/xgb_opt.py:46: FutureWarning: suggest_loguniform has been deprecated in v3.0.0. This feature will be removed in v6.0.0. See https://github.com/optuna/optuna/releases/tag/v3.0.0. Use suggest_float(..., log=True) instead.\n",
      "  'gamma': trial.suggest_loguniform('gamma', 0.000001, 0.01),\n",
      "/home/gaby/projects/google_mlb/InsuranceCrossSelling/model/xgb_opt.py:47: FutureWarning: suggest_uniform has been deprecated in v3.0.0. This feature will be removed in v6.0.0. See https://github.com/optuna/optuna/releases/tag/v3.0.0. Use suggest_float instead.\n",
      "  'subsample': trial.suggest_uniform('subsample', 0.6, 1),\n"
     ]
    },
    {
     "name": "stdout",
     "output_type": "stream",
     "text": [
      "[0]\tvalidation_0-auc:0.86558\n",
      "[100]\tvalidation_0-auc:0.87494\n",
      "[200]\tvalidation_0-auc:0.87874\n",
      "[300]\tvalidation_0-auc:0.88100\n",
      "[400]\tvalidation_0-auc:0.88262\n",
      "[499]\tvalidation_0-auc:0.88353\n"
     ]
    },
    {
     "name": "stderr",
     "output_type": "stream",
     "text": [
      "[I 2024-07-16 01:24:00,952] Trial 37 finished with value: 0.883526391576683 and parameters: {'learning_rate': 0.02229395225573342, 'reg_lambda': 0.05072637981125048, 'max_depth': 18, 'gamma': 2.7515872487190564e-06, 'subsample': 0.7165289820601065, 'max_bin': 32767, 'min_child_weight': 47}. Best is trial 35 with value: 0.8848370635169999.\n",
      "/home/gaby/projects/google_mlb/InsuranceCrossSelling/model/xgb_opt.py:43: FutureWarning: suggest_loguniform has been deprecated in v3.0.0. This feature will be removed in v6.0.0. See https://github.com/optuna/optuna/releases/tag/v3.0.0. Use suggest_float(..., log=True) instead.\n",
      "  'learning_rate': trial.suggest_loguniform('learning_rate', 0.0001, 0.1),\n",
      "/home/gaby/projects/google_mlb/InsuranceCrossSelling/model/xgb_opt.py:44: FutureWarning: suggest_loguniform has been deprecated in v3.0.0. This feature will be removed in v6.0.0. See https://github.com/optuna/optuna/releases/tag/v3.0.0. Use suggest_float(..., log=True) instead.\n",
      "  'reg_lambda': trial.suggest_loguniform('reg_lambda', 0.01, 0.5),\n",
      "/home/gaby/projects/google_mlb/InsuranceCrossSelling/model/xgb_opt.py:46: FutureWarning: suggest_loguniform has been deprecated in v3.0.0. This feature will be removed in v6.0.0. See https://github.com/optuna/optuna/releases/tag/v3.0.0. Use suggest_float(..., log=True) instead.\n",
      "  'gamma': trial.suggest_loguniform('gamma', 0.000001, 0.01),\n",
      "/home/gaby/projects/google_mlb/InsuranceCrossSelling/model/xgb_opt.py:47: FutureWarning: suggest_uniform has been deprecated in v3.0.0. This feature will be removed in v6.0.0. See https://github.com/optuna/optuna/releases/tag/v3.0.0. Use suggest_float instead.\n",
      "  'subsample': trial.suggest_uniform('subsample', 0.6, 1),\n"
     ]
    },
    {
     "name": "stdout",
     "output_type": "stream",
     "text": [
      "[0]\tvalidation_0-auc:0.86638\n",
      "[100]\tvalidation_0-auc:0.87932\n",
      "[200]\tvalidation_0-auc:0.88289\n",
      "[300]\tvalidation_0-auc:0.88392\n",
      "[396]\tvalidation_0-auc:0.88337\n"
     ]
    },
    {
     "name": "stderr",
     "output_type": "stream",
     "text": [
      "[I 2024-07-16 02:12:52,452] Trial 38 finished with value: 0.8842518339744657 and parameters: {'learning_rate': 0.0458792023916595, 'reg_lambda': 0.07118574208547152, 'max_depth': 20, 'gamma': 5.9398161174506266e-05, 'subsample': 0.7927475980264587, 'max_bin': 524287, 'min_child_weight': 34}. Best is trial 35 with value: 0.8848370635169999.\n",
      "/home/gaby/projects/google_mlb/InsuranceCrossSelling/model/xgb_opt.py:43: FutureWarning: suggest_loguniform has been deprecated in v3.0.0. This feature will be removed in v6.0.0. See https://github.com/optuna/optuna/releases/tag/v3.0.0. Use suggest_float(..., log=True) instead.\n",
      "  'learning_rate': trial.suggest_loguniform('learning_rate', 0.0001, 0.1),\n",
      "/home/gaby/projects/google_mlb/InsuranceCrossSelling/model/xgb_opt.py:44: FutureWarning: suggest_loguniform has been deprecated in v3.0.0. This feature will be removed in v6.0.0. See https://github.com/optuna/optuna/releases/tag/v3.0.0. Use suggest_float(..., log=True) instead.\n",
      "  'reg_lambda': trial.suggest_loguniform('reg_lambda', 0.01, 0.5),\n",
      "/home/gaby/projects/google_mlb/InsuranceCrossSelling/model/xgb_opt.py:46: FutureWarning: suggest_loguniform has been deprecated in v3.0.0. This feature will be removed in v6.0.0. See https://github.com/optuna/optuna/releases/tag/v3.0.0. Use suggest_float(..., log=True) instead.\n",
      "  'gamma': trial.suggest_loguniform('gamma', 0.000001, 0.01),\n",
      "/home/gaby/projects/google_mlb/InsuranceCrossSelling/model/xgb_opt.py:47: FutureWarning: suggest_uniform has been deprecated in v3.0.0. This feature will be removed in v6.0.0. See https://github.com/optuna/optuna/releases/tag/v3.0.0. Use suggest_float instead.\n",
      "  'subsample': trial.suggest_uniform('subsample', 0.6, 1),\n"
     ]
    },
    {
     "name": "stdout",
     "output_type": "stream",
     "text": [
      "[0]\tvalidation_0-auc:0.86460\n",
      "[100]\tvalidation_0-auc:0.88007\n",
      "[200]\tvalidation_0-auc:0.88364\n",
      "[300]\tvalidation_0-auc:0.88433\n",
      "[363]\tvalidation_0-auc:0.88441\n"
     ]
    },
    {
     "name": "stderr",
     "output_type": "stream",
     "text": [
      "[I 2024-07-16 02:14:45,057] Trial 39 finished with value: 0.8845162985736734 and parameters: {'learning_rate': 0.06272452094617498, 'reg_lambda': 0.23729851025699397, 'max_depth': 15, 'gamma': 1.553253072466478e-05, 'subsample': 0.8232268588656549, 'max_bin': 16383, 'min_child_weight': 42}. Best is trial 35 with value: 0.8848370635169999.\n",
      "/home/gaby/projects/google_mlb/InsuranceCrossSelling/model/xgb_opt.py:43: FutureWarning: suggest_loguniform has been deprecated in v3.0.0. This feature will be removed in v6.0.0. See https://github.com/optuna/optuna/releases/tag/v3.0.0. Use suggest_float(..., log=True) instead.\n",
      "  'learning_rate': trial.suggest_loguniform('learning_rate', 0.0001, 0.1),\n",
      "/home/gaby/projects/google_mlb/InsuranceCrossSelling/model/xgb_opt.py:44: FutureWarning: suggest_loguniform has been deprecated in v3.0.0. This feature will be removed in v6.0.0. See https://github.com/optuna/optuna/releases/tag/v3.0.0. Use suggest_float(..., log=True) instead.\n",
      "  'reg_lambda': trial.suggest_loguniform('reg_lambda', 0.01, 0.5),\n",
      "/home/gaby/projects/google_mlb/InsuranceCrossSelling/model/xgb_opt.py:46: FutureWarning: suggest_loguniform has been deprecated in v3.0.0. This feature will be removed in v6.0.0. See https://github.com/optuna/optuna/releases/tag/v3.0.0. Use suggest_float(..., log=True) instead.\n",
      "  'gamma': trial.suggest_loguniform('gamma', 0.000001, 0.01),\n",
      "/home/gaby/projects/google_mlb/InsuranceCrossSelling/model/xgb_opt.py:47: FutureWarning: suggest_uniform has been deprecated in v3.0.0. This feature will be removed in v6.0.0. See https://github.com/optuna/optuna/releases/tag/v3.0.0. Use suggest_float instead.\n",
      "  'subsample': trial.suggest_uniform('subsample', 0.6, 1),\n"
     ]
    },
    {
     "name": "stdout",
     "output_type": "stream",
     "text": [
      "[0]\tvalidation_0-auc:0.86471\n",
      "[100]\tvalidation_0-auc:0.86755\n",
      "[200]\tvalidation_0-auc:0.86929\n",
      "[300]\tvalidation_0-auc:0.87161\n",
      "[400]\tvalidation_0-auc:0.87323\n",
      "[499]\tvalidation_0-auc:0.87463\n"
     ]
    },
    {
     "name": "stderr",
     "output_type": "stream",
     "text": [
      "[I 2024-07-16 02:30:44,203] Trial 40 finished with value: 0.8746315801228433 and parameters: {'learning_rate': 0.005508244652862753, 'reg_lambda': 0.22896018929279224, 'max_depth': 15, 'gamma': 1.4767066280457003e-05, 'subsample': 0.8829037833794371, 'max_bin': 131071, 'min_child_weight': 42}. Best is trial 35 with value: 0.8848370635169999.\n",
      "/home/gaby/projects/google_mlb/InsuranceCrossSelling/model/xgb_opt.py:43: FutureWarning: suggest_loguniform has been deprecated in v3.0.0. This feature will be removed in v6.0.0. See https://github.com/optuna/optuna/releases/tag/v3.0.0. Use suggest_float(..., log=True) instead.\n",
      "  'learning_rate': trial.suggest_loguniform('learning_rate', 0.0001, 0.1),\n",
      "/home/gaby/projects/google_mlb/InsuranceCrossSelling/model/xgb_opt.py:44: FutureWarning: suggest_loguniform has been deprecated in v3.0.0. This feature will be removed in v6.0.0. See https://github.com/optuna/optuna/releases/tag/v3.0.0. Use suggest_float(..., log=True) instead.\n",
      "  'reg_lambda': trial.suggest_loguniform('reg_lambda', 0.01, 0.5),\n",
      "/home/gaby/projects/google_mlb/InsuranceCrossSelling/model/xgb_opt.py:46: FutureWarning: suggest_loguniform has been deprecated in v3.0.0. This feature will be removed in v6.0.0. See https://github.com/optuna/optuna/releases/tag/v3.0.0. Use suggest_float(..., log=True) instead.\n",
      "  'gamma': trial.suggest_loguniform('gamma', 0.000001, 0.01),\n",
      "/home/gaby/projects/google_mlb/InsuranceCrossSelling/model/xgb_opt.py:47: FutureWarning: suggest_uniform has been deprecated in v3.0.0. This feature will be removed in v6.0.0. See https://github.com/optuna/optuna/releases/tag/v3.0.0. Use suggest_float instead.\n",
      "  'subsample': trial.suggest_uniform('subsample', 0.6, 1),\n"
     ]
    },
    {
     "name": "stdout",
     "output_type": "stream",
     "text": [
      "[0]\tvalidation_0-auc:0.86501\n",
      "[100]\tvalidation_0-auc:0.88022\n",
      "[200]\tvalidation_0-auc:0.88438\n",
      "[300]\tvalidation_0-auc:0.88492\n",
      "[370]\tvalidation_0-auc:0.88492\n"
     ]
    },
    {
     "name": "stderr",
     "output_type": "stream",
     "text": [
      "[I 2024-07-16 02:32:48,011] Trial 41 finished with value: 0.8850163011106653 and parameters: {'learning_rate': 0.06155431650319614, 'reg_lambda': 0.10368872165746322, 'max_depth': 16, 'gamma': 7.2703150408536584e-06, 'subsample': 0.8228009333575143, 'max_bin': 16383, 'min_child_weight': 45}. Best is trial 41 with value: 0.8850163011106653.\n",
      "/home/gaby/projects/google_mlb/InsuranceCrossSelling/model/xgb_opt.py:43: FutureWarning: suggest_loguniform has been deprecated in v3.0.0. This feature will be removed in v6.0.0. See https://github.com/optuna/optuna/releases/tag/v3.0.0. Use suggest_float(..., log=True) instead.\n",
      "  'learning_rate': trial.suggest_loguniform('learning_rate', 0.0001, 0.1),\n",
      "/home/gaby/projects/google_mlb/InsuranceCrossSelling/model/xgb_opt.py:44: FutureWarning: suggest_loguniform has been deprecated in v3.0.0. This feature will be removed in v6.0.0. See https://github.com/optuna/optuna/releases/tag/v3.0.0. Use suggest_float(..., log=True) instead.\n",
      "  'reg_lambda': trial.suggest_loguniform('reg_lambda', 0.01, 0.5),\n",
      "/home/gaby/projects/google_mlb/InsuranceCrossSelling/model/xgb_opt.py:46: FutureWarning: suggest_loguniform has been deprecated in v3.0.0. This feature will be removed in v6.0.0. See https://github.com/optuna/optuna/releases/tag/v3.0.0. Use suggest_float(..., log=True) instead.\n",
      "  'gamma': trial.suggest_loguniform('gamma', 0.000001, 0.01),\n",
      "/home/gaby/projects/google_mlb/InsuranceCrossSelling/model/xgb_opt.py:47: FutureWarning: suggest_uniform has been deprecated in v3.0.0. This feature will be removed in v6.0.0. See https://github.com/optuna/optuna/releases/tag/v3.0.0. Use suggest_float instead.\n",
      "  'subsample': trial.suggest_uniform('subsample', 0.6, 1),\n"
     ]
    },
    {
     "name": "stdout",
     "output_type": "stream",
     "text": [
      "[0]\tvalidation_0-auc:0.86378\n",
      "[100]\tvalidation_0-auc:0.88003\n",
      "[200]\tvalidation_0-auc:0.88381\n",
      "[300]\tvalidation_0-auc:0.88455\n",
      "[400]\tvalidation_0-auc:0.88463\n",
      "[435]\tvalidation_0-auc:0.88449\n"
     ]
    },
    {
     "name": "stderr",
     "output_type": "stream",
     "text": [
      "[I 2024-07-16 02:34:43,111] Trial 42 finished with value: 0.8848975366289795 and parameters: {'learning_rate': 0.06637313395972334, 'reg_lambda': 0.09330317598611719, 'max_depth': 14, 'gamma': 1.7746083337604883e-05, 'subsample': 0.8236983546984752, 'max_bin': 16383, 'min_child_weight': 40}. Best is trial 41 with value: 0.8850163011106653.\n",
      "/home/gaby/projects/google_mlb/InsuranceCrossSelling/model/xgb_opt.py:43: FutureWarning: suggest_loguniform has been deprecated in v3.0.0. This feature will be removed in v6.0.0. See https://github.com/optuna/optuna/releases/tag/v3.0.0. Use suggest_float(..., log=True) instead.\n",
      "  'learning_rate': trial.suggest_loguniform('learning_rate', 0.0001, 0.1),\n",
      "/home/gaby/projects/google_mlb/InsuranceCrossSelling/model/xgb_opt.py:44: FutureWarning: suggest_loguniform has been deprecated in v3.0.0. This feature will be removed in v6.0.0. See https://github.com/optuna/optuna/releases/tag/v3.0.0. Use suggest_float(..., log=True) instead.\n",
      "  'reg_lambda': trial.suggest_loguniform('reg_lambda', 0.01, 0.5),\n",
      "/home/gaby/projects/google_mlb/InsuranceCrossSelling/model/xgb_opt.py:46: FutureWarning: suggest_loguniform has been deprecated in v3.0.0. This feature will be removed in v6.0.0. See https://github.com/optuna/optuna/releases/tag/v3.0.0. Use suggest_float(..., log=True) instead.\n",
      "  'gamma': trial.suggest_loguniform('gamma', 0.000001, 0.01),\n",
      "/home/gaby/projects/google_mlb/InsuranceCrossSelling/model/xgb_opt.py:47: FutureWarning: suggest_uniform has been deprecated in v3.0.0. This feature will be removed in v6.0.0. See https://github.com/optuna/optuna/releases/tag/v3.0.0. Use suggest_float instead.\n",
      "  'subsample': trial.suggest_uniform('subsample', 0.6, 1),\n"
     ]
    },
    {
     "name": "stdout",
     "output_type": "stream",
     "text": [
      "[0]\tvalidation_0-auc:0.86279\n",
      "[100]\tvalidation_0-auc:0.87280\n",
      "[200]\tvalidation_0-auc:0.87779\n",
      "[300]\tvalidation_0-auc:0.88002\n",
      "[400]\tvalidation_0-auc:0.88167\n",
      "[499]\tvalidation_0-auc:0.88299\n"
     ]
    },
    {
     "name": "stderr",
     "output_type": "stream",
     "text": [
      "[I 2024-07-16 02:37:20,742] Trial 43 finished with value: 0.8829946288732197 and parameters: {'learning_rate': 0.024155087551560536, 'reg_lambda': 0.10137054403180991, 'max_depth': 13, 'gamma': 7.458340295279681e-06, 'subsample': 0.9155116611966798, 'max_bin': 16383, 'min_child_weight': 39}. Best is trial 41 with value: 0.8850163011106653.\n",
      "/home/gaby/projects/google_mlb/InsuranceCrossSelling/model/xgb_opt.py:43: FutureWarning: suggest_loguniform has been deprecated in v3.0.0. This feature will be removed in v6.0.0. See https://github.com/optuna/optuna/releases/tag/v3.0.0. Use suggest_float(..., log=True) instead.\n",
      "  'learning_rate': trial.suggest_loguniform('learning_rate', 0.0001, 0.1),\n",
      "/home/gaby/projects/google_mlb/InsuranceCrossSelling/model/xgb_opt.py:44: FutureWarning: suggest_loguniform has been deprecated in v3.0.0. This feature will be removed in v6.0.0. See https://github.com/optuna/optuna/releases/tag/v3.0.0. Use suggest_float(..., log=True) instead.\n",
      "  'reg_lambda': trial.suggest_loguniform('reg_lambda', 0.01, 0.5),\n",
      "/home/gaby/projects/google_mlb/InsuranceCrossSelling/model/xgb_opt.py:46: FutureWarning: suggest_loguniform has been deprecated in v3.0.0. This feature will be removed in v6.0.0. See https://github.com/optuna/optuna/releases/tag/v3.0.0. Use suggest_float(..., log=True) instead.\n",
      "  'gamma': trial.suggest_loguniform('gamma', 0.000001, 0.01),\n",
      "/home/gaby/projects/google_mlb/InsuranceCrossSelling/model/xgb_opt.py:47: FutureWarning: suggest_uniform has been deprecated in v3.0.0. This feature will be removed in v6.0.0. See https://github.com/optuna/optuna/releases/tag/v3.0.0. Use suggest_float instead.\n",
      "  'subsample': trial.suggest_uniform('subsample', 0.6, 1),\n"
     ]
    },
    {
     "name": "stdout",
     "output_type": "stream",
     "text": [
      "[0]\tvalidation_0-auc:0.86499\n",
      "[100]\tvalidation_0-auc:0.88119\n",
      "[200]\tvalidation_0-auc:0.88366\n",
      "[254]\tvalidation_0-auc:0.88364\n"
     ]
    },
    {
     "name": "stderr",
     "output_type": "stream",
     "text": [
      "[I 2024-07-16 02:38:55,803] Trial 44 finished with value: 0.883790363992384 and parameters: {'learning_rate': 0.07697798140017566, 'reg_lambda': 0.062355118891291826, 'max_depth': 16, 'gamma': 2.0379938745148205e-06, 'subsample': 0.8306282589851757, 'max_bin': 16383, 'min_child_weight': 35}. Best is trial 41 with value: 0.8850163011106653.\n",
      "/home/gaby/projects/google_mlb/InsuranceCrossSelling/model/xgb_opt.py:43: FutureWarning: suggest_loguniform has been deprecated in v3.0.0. This feature will be removed in v6.0.0. See https://github.com/optuna/optuna/releases/tag/v3.0.0. Use suggest_float(..., log=True) instead.\n",
      "  'learning_rate': trial.suggest_loguniform('learning_rate', 0.0001, 0.1),\n",
      "/home/gaby/projects/google_mlb/InsuranceCrossSelling/model/xgb_opt.py:44: FutureWarning: suggest_loguniform has been deprecated in v3.0.0. This feature will be removed in v6.0.0. See https://github.com/optuna/optuna/releases/tag/v3.0.0. Use suggest_float(..., log=True) instead.\n",
      "  'reg_lambda': trial.suggest_loguniform('reg_lambda', 0.01, 0.5),\n",
      "/home/gaby/projects/google_mlb/InsuranceCrossSelling/model/xgb_opt.py:46: FutureWarning: suggest_loguniform has been deprecated in v3.0.0. This feature will be removed in v6.0.0. See https://github.com/optuna/optuna/releases/tag/v3.0.0. Use suggest_float(..., log=True) instead.\n",
      "  'gamma': trial.suggest_loguniform('gamma', 0.000001, 0.01),\n",
      "/home/gaby/projects/google_mlb/InsuranceCrossSelling/model/xgb_opt.py:47: FutureWarning: suggest_uniform has been deprecated in v3.0.0. This feature will be removed in v6.0.0. See https://github.com/optuna/optuna/releases/tag/v3.0.0. Use suggest_float instead.\n",
      "  'subsample': trial.suggest_uniform('subsample', 0.6, 1),\n"
     ]
    },
    {
     "name": "stdout",
     "output_type": "stream",
     "text": [
      "[0]\tvalidation_0-auc:0.86381\n",
      "[100]\tvalidation_0-auc:0.87024\n",
      "[200]\tvalidation_0-auc:0.87423\n",
      "[300]\tvalidation_0-auc:0.87728\n",
      "[400]\tvalidation_0-auc:0.87891\n",
      "[499]\tvalidation_0-auc:0.88012\n"
     ]
    },
    {
     "name": "stderr",
     "output_type": "stream",
     "text": [
      "[I 2024-07-16 02:45:53,345] Trial 45 finished with value: 0.8801231765122982 and parameters: {'learning_rate': 0.01388422055110653, 'reg_lambda': 0.08086705583919244, 'max_depth': 14, 'gamma': 4.560658045002424e-05, 'subsample': 0.8971933120029396, 'max_bin': 65535, 'min_child_weight': 45}. Best is trial 41 with value: 0.8850163011106653.\n",
      "/home/gaby/projects/google_mlb/InsuranceCrossSelling/model/xgb_opt.py:43: FutureWarning: suggest_loguniform has been deprecated in v3.0.0. This feature will be removed in v6.0.0. See https://github.com/optuna/optuna/releases/tag/v3.0.0. Use suggest_float(..., log=True) instead.\n",
      "  'learning_rate': trial.suggest_loguniform('learning_rate', 0.0001, 0.1),\n",
      "/home/gaby/projects/google_mlb/InsuranceCrossSelling/model/xgb_opt.py:44: FutureWarning: suggest_loguniform has been deprecated in v3.0.0. This feature will be removed in v6.0.0. See https://github.com/optuna/optuna/releases/tag/v3.0.0. Use suggest_float(..., log=True) instead.\n",
      "  'reg_lambda': trial.suggest_loguniform('reg_lambda', 0.01, 0.5),\n",
      "/home/gaby/projects/google_mlb/InsuranceCrossSelling/model/xgb_opt.py:46: FutureWarning: suggest_loguniform has been deprecated in v3.0.0. This feature will be removed in v6.0.0. See https://github.com/optuna/optuna/releases/tag/v3.0.0. Use suggest_float(..., log=True) instead.\n",
      "  'gamma': trial.suggest_loguniform('gamma', 0.000001, 0.01),\n",
      "/home/gaby/projects/google_mlb/InsuranceCrossSelling/model/xgb_opt.py:47: FutureWarning: suggest_uniform has been deprecated in v3.0.0. This feature will be removed in v6.0.0. See https://github.com/optuna/optuna/releases/tag/v3.0.0. Use suggest_float instead.\n",
      "  'subsample': trial.suggest_uniform('subsample', 0.6, 1),\n"
     ]
    },
    {
     "name": "stdout",
     "output_type": "stream",
     "text": [
      "[0]\tvalidation_0-auc:0.84891\n",
      "[100]\tvalidation_0-auc:0.87218\n",
      "[200]\tvalidation_0-auc:0.87732\n",
      "[300]\tvalidation_0-auc:0.87972\n",
      "[400]\tvalidation_0-auc:0.88126\n",
      "[499]\tvalidation_0-auc:0.88230\n"
     ]
    },
    {
     "name": "stderr",
     "output_type": "stream",
     "text": [
      "[I 2024-07-16 02:46:58,755] Trial 46 finished with value: 0.8822966256174771 and parameters: {'learning_rate': 0.09813257977259121, 'reg_lambda': 0.03393107258562217, 'max_depth': 6, 'gamma': 2.2244861315441237e-05, 'subsample': 0.7562444148208448, 'max_bin': 32767, 'min_child_weight': 29}. Best is trial 41 with value: 0.8850163011106653.\n",
      "/home/gaby/projects/google_mlb/InsuranceCrossSelling/model/xgb_opt.py:43: FutureWarning: suggest_loguniform has been deprecated in v3.0.0. This feature will be removed in v6.0.0. See https://github.com/optuna/optuna/releases/tag/v3.0.0. Use suggest_float(..., log=True) instead.\n",
      "  'learning_rate': trial.suggest_loguniform('learning_rate', 0.0001, 0.1),\n",
      "/home/gaby/projects/google_mlb/InsuranceCrossSelling/model/xgb_opt.py:44: FutureWarning: suggest_loguniform has been deprecated in v3.0.0. This feature will be removed in v6.0.0. See https://github.com/optuna/optuna/releases/tag/v3.0.0. Use suggest_float(..., log=True) instead.\n",
      "  'reg_lambda': trial.suggest_loguniform('reg_lambda', 0.01, 0.5),\n",
      "/home/gaby/projects/google_mlb/InsuranceCrossSelling/model/xgb_opt.py:46: FutureWarning: suggest_loguniform has been deprecated in v3.0.0. This feature will be removed in v6.0.0. See https://github.com/optuna/optuna/releases/tag/v3.0.0. Use suggest_float(..., log=True) instead.\n",
      "  'gamma': trial.suggest_loguniform('gamma', 0.000001, 0.01),\n",
      "/home/gaby/projects/google_mlb/InsuranceCrossSelling/model/xgb_opt.py:47: FutureWarning: suggest_uniform has been deprecated in v3.0.0. This feature will be removed in v6.0.0. See https://github.com/optuna/optuna/releases/tag/v3.0.0. Use suggest_float instead.\n",
      "  'subsample': trial.suggest_uniform('subsample', 0.6, 1),\n"
     ]
    },
    {
     "name": "stdout",
     "output_type": "stream",
     "text": [
      "[0]\tvalidation_0-auc:0.85844\n",
      "[100]\tvalidation_0-auc:0.87448\n",
      "[200]\tvalidation_0-auc:0.87863\n",
      "[300]\tvalidation_0-auc:0.88095\n",
      "[400]\tvalidation_0-auc:0.88261\n",
      "[499]\tvalidation_0-auc:0.88362\n"
     ]
    },
    {
     "name": "stderr",
     "output_type": "stream",
     "text": [
      "[I 2024-07-16 02:52:57,851] Trial 47 finished with value: 0.8836150557285832 and parameters: {'learning_rate': 0.045698351860388155, 'reg_lambda': 0.015287308667474287, 'max_depth': 10, 'gamma': 0.00010338539557426373, 'subsample': 0.9458292958658459, 'max_bin': 262143, 'min_child_weight': 39}. Best is trial 41 with value: 0.8850163011106653.\n",
      "/home/gaby/projects/google_mlb/InsuranceCrossSelling/model/xgb_opt.py:43: FutureWarning: suggest_loguniform has been deprecated in v3.0.0. This feature will be removed in v6.0.0. See https://github.com/optuna/optuna/releases/tag/v3.0.0. Use suggest_float(..., log=True) instead.\n",
      "  'learning_rate': trial.suggest_loguniform('learning_rate', 0.0001, 0.1),\n",
      "/home/gaby/projects/google_mlb/InsuranceCrossSelling/model/xgb_opt.py:44: FutureWarning: suggest_loguniform has been deprecated in v3.0.0. This feature will be removed in v6.0.0. See https://github.com/optuna/optuna/releases/tag/v3.0.0. Use suggest_float(..., log=True) instead.\n",
      "  'reg_lambda': trial.suggest_loguniform('reg_lambda', 0.01, 0.5),\n",
      "/home/gaby/projects/google_mlb/InsuranceCrossSelling/model/xgb_opt.py:46: FutureWarning: suggest_loguniform has been deprecated in v3.0.0. This feature will be removed in v6.0.0. See https://github.com/optuna/optuna/releases/tag/v3.0.0. Use suggest_float(..., log=True) instead.\n",
      "  'gamma': trial.suggest_loguniform('gamma', 0.000001, 0.01),\n",
      "/home/gaby/projects/google_mlb/InsuranceCrossSelling/model/xgb_opt.py:47: FutureWarning: suggest_uniform has been deprecated in v3.0.0. This feature will be removed in v6.0.0. See https://github.com/optuna/optuna/releases/tag/v3.0.0. Use suggest_float instead.\n",
      "  'subsample': trial.suggest_uniform('subsample', 0.6, 1),\n"
     ]
    },
    {
     "name": "stdout",
     "output_type": "stream",
     "text": [
      "[0]\tvalidation_0-auc:0.85984\n",
      "[100]\tvalidation_0-auc:0.87773\n",
      "[200]\tvalidation_0-auc:0.88186\n",
      "[300]\tvalidation_0-auc:0.88333\n",
      "[400]\tvalidation_0-auc:0.88362\n",
      "[431]\tvalidation_0-auc:0.88286\n"
     ]
    },
    {
     "name": "stderr",
     "output_type": "stream",
     "text": [
      "[I 2024-07-16 02:54:27,842] Trial 48 finished with value: 0.8838977902078665 and parameters: {'learning_rate': 0.06716617373802267, 'reg_lambda': 0.05190063455887863, 'max_depth': 11, 'gamma': 1.0384040909958346e-05, 'subsample': 0.7872735879719814, 'max_bin': 16383, 'min_child_weight': 16}. Best is trial 41 with value: 0.8850163011106653.\n",
      "/home/gaby/projects/google_mlb/InsuranceCrossSelling/model/xgb_opt.py:43: FutureWarning: suggest_loguniform has been deprecated in v3.0.0. This feature will be removed in v6.0.0. See https://github.com/optuna/optuna/releases/tag/v3.0.0. Use suggest_float(..., log=True) instead.\n",
      "  'learning_rate': trial.suggest_loguniform('learning_rate', 0.0001, 0.1),\n",
      "/home/gaby/projects/google_mlb/InsuranceCrossSelling/model/xgb_opt.py:44: FutureWarning: suggest_loguniform has been deprecated in v3.0.0. This feature will be removed in v6.0.0. See https://github.com/optuna/optuna/releases/tag/v3.0.0. Use suggest_float(..., log=True) instead.\n",
      "  'reg_lambda': trial.suggest_loguniform('reg_lambda', 0.01, 0.5),\n",
      "/home/gaby/projects/google_mlb/InsuranceCrossSelling/model/xgb_opt.py:46: FutureWarning: suggest_loguniform has been deprecated in v3.0.0. This feature will be removed in v6.0.0. See https://github.com/optuna/optuna/releases/tag/v3.0.0. Use suggest_float(..., log=True) instead.\n",
      "  'gamma': trial.suggest_loguniform('gamma', 0.000001, 0.01),\n",
      "/home/gaby/projects/google_mlb/InsuranceCrossSelling/model/xgb_opt.py:47: FutureWarning: suggest_uniform has been deprecated in v3.0.0. This feature will be removed in v6.0.0. See https://github.com/optuna/optuna/releases/tag/v3.0.0. Use suggest_float instead.\n",
      "  'subsample': trial.suggest_uniform('subsample', 0.6, 1),\n"
     ]
    },
    {
     "name": "stdout",
     "output_type": "stream",
     "text": [
      "[0]\tvalidation_0-auc:0.86547\n",
      "[100]\tvalidation_0-auc:0.87289\n",
      "[200]\tvalidation_0-auc:0.87673\n",
      "[300]\tvalidation_0-auc:0.87925\n",
      "[400]\tvalidation_0-auc:0.88075\n",
      "[499]\tvalidation_0-auc:0.88197\n"
     ]
    },
    {
     "name": "stderr",
     "output_type": "stream",
     "text": [
      "[I 2024-07-16 02:57:50,904] Trial 49 finished with value: 0.8819738374496422 and parameters: {'learning_rate': 0.016758505270656202, 'reg_lambda': 0.10883669809235087, 'max_depth': 17, 'gamma': 0.00016919288929057117, 'subsample': 0.8561142683629224, 'max_bin': 8191, 'min_child_weight': 48}. Best is trial 41 with value: 0.8850163011106653.\n"
     ]
    }
   ],
   "source": [
    "study = optuna.create_study(direction=\"maximize\", storage=\"sqlite:///xgb_study.db\", study_name=\"xgb_study\")\n",
    "study.optimize(xgb_objective, n_trials=50)"
   ]
  },
  {
   "cell_type": "code",
   "execution_count": 7,
   "metadata": {},
   "outputs": [
    {
     "name": "stdout",
     "output_type": "stream",
     "text": [
      "{'learning_rate': 0.06155431650319614, 'reg_lambda': 0.10368872165746322, 'max_depth': 16, 'gamma': 7.2703150408536584e-06, 'subsample': 0.8228009333575143, 'max_bin': 16383, 'min_child_weight': 45}\n",
      "0.8850163011106653\n"
     ]
    }
   ],
   "source": [
    "print(study.best_params)\n",
    "print(study.best_value)"
   ]
  },
  {
   "cell_type": "code",
   "execution_count": 8,
   "metadata": {},
   "outputs": [],
   "source": [
    "with open('optuna_best_params.txt', 'w') as f:\n",
    "    f.write('best params:\\n')\n",
    "    f.write(pprint.pformat(study.best_params))"
   ]
  },
  {
   "cell_type": "code",
   "execution_count": 18,
   "metadata": {},
   "outputs": [
    {
     "ename": "ImportError",
     "evalue": "Tried to import 'plotly' but failed. Please make sure that the package is installed correctly to use this feature. Actual error: No module named 'plotly'.",
     "output_type": "error",
     "traceback": [
      "\u001b[0;31m---------------------------------------------------------------------------\u001b[0m",
      "\u001b[0;31mModuleNotFoundError\u001b[0m                       Traceback (most recent call last)",
      "File \u001b[0;32m~/projects/google_mlb/InsuranceCrossSelling/.venv/lib/python3.10/site-packages/optuna/visualization/_plotly_imports.py:7\u001b[0m\n\u001b[1;32m      6\u001b[0m \u001b[38;5;28;01mwith\u001b[39;00m try_import() \u001b[38;5;28;01mas\u001b[39;00m _imports:\n\u001b[0;32m----> 7\u001b[0m     \u001b[38;5;28;01mimport\u001b[39;00m \u001b[38;5;21;01mplotly\u001b[39;00m\n\u001b[1;32m      8\u001b[0m     \u001b[38;5;28;01mfrom\u001b[39;00m \u001b[38;5;21;01mplotly\u001b[39;00m \u001b[38;5;28;01mimport\u001b[39;00m __version__ \u001b[38;5;28;01mas\u001b[39;00m plotly_version\n",
      "\u001b[0;31mModuleNotFoundError\u001b[0m: No module named 'plotly'",
      "\nThe above exception was the direct cause of the following exception:\n",
      "\u001b[0;31mImportError\u001b[0m                               Traceback (most recent call last)",
      "Cell \u001b[0;32mIn[18], line 1\u001b[0m\n\u001b[0;32m----> 1\u001b[0m \u001b[43moptuna\u001b[49m\u001b[38;5;241;43m.\u001b[39;49m\u001b[43mvisualization\u001b[49m\u001b[38;5;241;43m.\u001b[39;49m\u001b[43mplot_optimization_history\u001b[49m\u001b[43m(\u001b[49m\u001b[43mstudy\u001b[49m\u001b[43m)\u001b[49m\n",
      "File \u001b[0;32m~/projects/google_mlb/InsuranceCrossSelling/.venv/lib/python3.10/site-packages/optuna/visualization/_optimization_history.py:222\u001b[0m, in \u001b[0;36mplot_optimization_history\u001b[0;34m(study, target, target_name, error_bar)\u001b[0m\n\u001b[1;32m    172\u001b[0m \u001b[38;5;28;01mdef\u001b[39;00m \u001b[38;5;21mplot_optimization_history\u001b[39m(\n\u001b[1;32m    173\u001b[0m     study: Study \u001b[38;5;241m|\u001b[39m Sequence[Study],\n\u001b[1;32m    174\u001b[0m     \u001b[38;5;241m*\u001b[39m,\n\u001b[0;32m   (...)\u001b[0m\n\u001b[1;32m    177\u001b[0m     error_bar: \u001b[38;5;28mbool\u001b[39m \u001b[38;5;241m=\u001b[39m \u001b[38;5;28;01mFalse\u001b[39;00m,\n\u001b[1;32m    178\u001b[0m ) \u001b[38;5;241m-\u001b[39m\u001b[38;5;241m>\u001b[39m \u001b[38;5;124m\"\u001b[39m\u001b[38;5;124mgo.Figure\u001b[39m\u001b[38;5;124m\"\u001b[39m:\n\u001b[1;32m    179\u001b[0m \u001b[38;5;250m    \u001b[39m\u001b[38;5;124;03m\"\"\"Plot optimization history of all trials in a study.\u001b[39;00m\n\u001b[1;32m    180\u001b[0m \n\u001b[1;32m    181\u001b[0m \u001b[38;5;124;03m    Example:\u001b[39;00m\n\u001b[0;32m   (...)\u001b[0m\n\u001b[1;32m    219\u001b[0m \u001b[38;5;124;03m        A :class:`plotly.graph_objects.Figure` object.\u001b[39;00m\n\u001b[1;32m    220\u001b[0m \u001b[38;5;124;03m    \"\"\"\u001b[39;00m\n\u001b[0;32m--> 222\u001b[0m     \u001b[43m_imports\u001b[49m\u001b[38;5;241;43m.\u001b[39;49m\u001b[43mcheck\u001b[49m\u001b[43m(\u001b[49m\u001b[43m)\u001b[49m\n\u001b[1;32m    224\u001b[0m     info_list \u001b[38;5;241m=\u001b[39m _get_optimization_history_info_list(study, target, target_name, error_bar)\n\u001b[1;32m    225\u001b[0m     \u001b[38;5;28;01mreturn\u001b[39;00m _get_optimization_history_plot(info_list, target_name)\n",
      "File \u001b[0;32m~/projects/google_mlb/InsuranceCrossSelling/.venv/lib/python3.10/site-packages/optuna/_imports.py:89\u001b[0m, in \u001b[0;36m_DeferredImportExceptionContextManager.check\u001b[0;34m(self)\u001b[0m\n\u001b[1;32m     87\u001b[0m \u001b[38;5;28;01mif\u001b[39;00m \u001b[38;5;28mself\u001b[39m\u001b[38;5;241m.\u001b[39m_deferred \u001b[38;5;129;01mis\u001b[39;00m \u001b[38;5;129;01mnot\u001b[39;00m \u001b[38;5;28;01mNone\u001b[39;00m:\n\u001b[1;32m     88\u001b[0m     exc_value, message \u001b[38;5;241m=\u001b[39m \u001b[38;5;28mself\u001b[39m\u001b[38;5;241m.\u001b[39m_deferred\n\u001b[0;32m---> 89\u001b[0m     \u001b[38;5;28;01mraise\u001b[39;00m \u001b[38;5;167;01mImportError\u001b[39;00m(message) \u001b[38;5;28;01mfrom\u001b[39;00m \u001b[38;5;21;01mexc_value\u001b[39;00m\n",
      "\u001b[0;31mImportError\u001b[0m: Tried to import 'plotly' but failed. Please make sure that the package is installed correctly to use this feature. Actual error: No module named 'plotly'."
     ]
    }
   ],
   "source": [
    "optuna.visualization.plot_optimization_history(study)\n"
   ]
  },
  {
   "cell_type": "code",
   "execution_count": 16,
   "metadata": {},
   "outputs": [
    {
     "ename": "ImportError",
     "evalue": "Tried to import 'plotly' but failed. Please make sure that the package is installed correctly to use this feature. Actual error: No module named 'plotly'.",
     "output_type": "error",
     "traceback": [
      "\u001b[0;31m---------------------------------------------------------------------------\u001b[0m",
      "\u001b[0;31mModuleNotFoundError\u001b[0m                       Traceback (most recent call last)",
      "File \u001b[0;32m~/projects/google_mlb/InsuranceCrossSelling/.venv/lib/python3.10/site-packages/optuna/visualization/_plotly_imports.py:7\u001b[0m\n\u001b[1;32m      6\u001b[0m \u001b[38;5;28;01mwith\u001b[39;00m try_import() \u001b[38;5;28;01mas\u001b[39;00m _imports:\n\u001b[0;32m----> 7\u001b[0m     \u001b[38;5;28;01mimport\u001b[39;00m \u001b[38;5;21;01mplotly\u001b[39;00m\n\u001b[1;32m      8\u001b[0m     \u001b[38;5;28;01mfrom\u001b[39;00m \u001b[38;5;21;01mplotly\u001b[39;00m \u001b[38;5;28;01mimport\u001b[39;00m __version__ \u001b[38;5;28;01mas\u001b[39;00m plotly_version\n",
      "\u001b[0;31mModuleNotFoundError\u001b[0m: No module named 'plotly'",
      "\nThe above exception was the direct cause of the following exception:\n",
      "\u001b[0;31mImportError\u001b[0m                               Traceback (most recent call last)",
      "Cell \u001b[0;32mIn[16], line 1\u001b[0m\n\u001b[0;32m----> 1\u001b[0m \u001b[43moptuna\u001b[49m\u001b[38;5;241;43m.\u001b[39;49m\u001b[43mvisualization\u001b[49m\u001b[38;5;241;43m.\u001b[39;49m\u001b[43mplot_param_importances\u001b[49m\u001b[43m(\u001b[49m\u001b[43mstudy\u001b[49m\u001b[43m)\u001b[49m\n",
      "File \u001b[0;32m~/projects/google_mlb/InsuranceCrossSelling/.venv/lib/python3.10/site-packages/optuna/visualization/_param_importances.py:190\u001b[0m, in \u001b[0;36mplot_param_importances\u001b[0;34m(study, evaluator, params, target, target_name)\u001b[0m\n\u001b[1;32m    113\u001b[0m \u001b[38;5;28;01mdef\u001b[39;00m \u001b[38;5;21mplot_param_importances\u001b[39m(\n\u001b[1;32m    114\u001b[0m     study: Study,\n\u001b[1;32m    115\u001b[0m     evaluator: BaseImportanceEvaluator \u001b[38;5;241m|\u001b[39m \u001b[38;5;28;01mNone\u001b[39;00m \u001b[38;5;241m=\u001b[39m \u001b[38;5;28;01mNone\u001b[39;00m,\n\u001b[0;32m   (...)\u001b[0m\n\u001b[1;32m    119\u001b[0m     target_name: \u001b[38;5;28mstr\u001b[39m \u001b[38;5;241m=\u001b[39m \u001b[38;5;124m\"\u001b[39m\u001b[38;5;124mObjective Value\u001b[39m\u001b[38;5;124m\"\u001b[39m,\n\u001b[1;32m    120\u001b[0m ) \u001b[38;5;241m-\u001b[39m\u001b[38;5;241m>\u001b[39m \u001b[38;5;124m\"\u001b[39m\u001b[38;5;124mgo.Figure\u001b[39m\u001b[38;5;124m\"\u001b[39m:\n\u001b[1;32m    121\u001b[0m \u001b[38;5;250m    \u001b[39m\u001b[38;5;124;03m\"\"\"Plot hyperparameter importances.\u001b[39;00m\n\u001b[1;32m    122\u001b[0m \n\u001b[1;32m    123\u001b[0m \u001b[38;5;124;03m    Example:\u001b[39;00m\n\u001b[0;32m   (...)\u001b[0m\n\u001b[1;32m    187\u001b[0m \u001b[38;5;124;03m        A :class:`plotly.graph_objects.Figure` object.\u001b[39;00m\n\u001b[1;32m    188\u001b[0m \u001b[38;5;124;03m    \"\"\"\u001b[39;00m\n\u001b[0;32m--> 190\u001b[0m     \u001b[43m_imports\u001b[49m\u001b[38;5;241;43m.\u001b[39;49m\u001b[43mcheck\u001b[49m\u001b[43m(\u001b[49m\u001b[43m)\u001b[49m\n\u001b[1;32m    191\u001b[0m     importances_infos \u001b[38;5;241m=\u001b[39m _get_importances_infos(study, evaluator, params, target, target_name)\n\u001b[1;32m    192\u001b[0m     \u001b[38;5;28;01mreturn\u001b[39;00m _get_importances_plot(importances_infos, study)\n",
      "File \u001b[0;32m~/projects/google_mlb/InsuranceCrossSelling/.venv/lib/python3.10/site-packages/optuna/_imports.py:89\u001b[0m, in \u001b[0;36m_DeferredImportExceptionContextManager.check\u001b[0;34m(self)\u001b[0m\n\u001b[1;32m     87\u001b[0m \u001b[38;5;28;01mif\u001b[39;00m \u001b[38;5;28mself\u001b[39m\u001b[38;5;241m.\u001b[39m_deferred \u001b[38;5;129;01mis\u001b[39;00m \u001b[38;5;129;01mnot\u001b[39;00m \u001b[38;5;28;01mNone\u001b[39;00m:\n\u001b[1;32m     88\u001b[0m     exc_value, message \u001b[38;5;241m=\u001b[39m \u001b[38;5;28mself\u001b[39m\u001b[38;5;241m.\u001b[39m_deferred\n\u001b[0;32m---> 89\u001b[0m     \u001b[38;5;28;01mraise\u001b[39;00m \u001b[38;5;167;01mImportError\u001b[39;00m(message) \u001b[38;5;28;01mfrom\u001b[39;00m \u001b[38;5;21;01mexc_value\u001b[39;00m\n",
      "\u001b[0;31mImportError\u001b[0m: Tried to import 'plotly' but failed. Please make sure that the package is installed correctly to use this feature. Actual error: No module named 'plotly'."
     ]
    }
   ],
   "source": [
    "optuna.visualization.plot_param_importances(study)"
   ]
  },
  {
   "cell_type": "code",
   "execution_count": null,
   "metadata": {},
   "outputs": [],
   "source": []
  }
 ],
 "metadata": {
  "kernelspec": {
   "display_name": ".venv",
   "language": "python",
   "name": "python3"
  },
  "language_info": {
   "codemirror_mode": {
    "name": "ipython",
    "version": 3
   },
   "file_extension": ".py",
   "mimetype": "text/x-python",
   "name": "python",
   "nbconvert_exporter": "python",
   "pygments_lexer": "ipython3",
   "version": "3.10.12"
  }
 },
 "nbformat": 4,
 "nbformat_minor": 2
}
