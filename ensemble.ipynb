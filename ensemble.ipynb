{
 "cells": [
  {
   "cell_type": "code",
   "execution_count": 1,
   "metadata": {},
   "outputs": [
    {
     "name": "stderr",
     "output_type": "stream",
     "text": [
      "2024-07-30 21:12:39.139740: I tensorflow/core/util/port.cc:113] oneDNN custom operations are on. You may see slightly different numerical results due to floating-point round-off errors from different computation orders. To turn them off, set the environment variable `TF_ENABLE_ONEDNN_OPTS=0`.\n",
      "2024-07-30 21:12:39.147793: E external/local_xla/xla/stream_executor/cuda/cuda_fft.cc:479] Unable to register cuFFT factory: Attempting to register factory for plugin cuFFT when one has already been registered\n",
      "2024-07-30 21:12:39.158702: E external/local_xla/xla/stream_executor/cuda/cuda_dnn.cc:10575] Unable to register cuDNN factory: Attempting to register factory for plugin cuDNN when one has already been registered\n",
      "2024-07-30 21:12:39.158724: E external/local_xla/xla/stream_executor/cuda/cuda_blas.cc:1442] Unable to register cuBLAS factory: Attempting to register factory for plugin cuBLAS when one has already been registered\n",
      "2024-07-30 21:12:39.166091: I tensorflow/core/platform/cpu_feature_guard.cc:210] This TensorFlow binary is optimized to use available CPU instructions in performance-critical operations.\n",
      "To enable the following instructions: AVX2 AVX_VNNI FMA, in other operations, rebuild TensorFlow with the appropriate compiler flags.\n",
      "2024-07-30 21:12:39.647791: W tensorflow/compiler/tf2tensorrt/utils/py_utils.cc:38] TF-TRT Warning: Could not find TensorRT\n"
     ]
    }
   ],
   "source": [
    "import optuna\n",
    "import numpy as np\n",
    "from sklearn.model_selection import StratifiedKFold\n",
    "from sklearn.metrics import roc_auc_score\n",
    "import xgboost as xgb\n",
    "import catboost as cb\n",
    "import lightgbm as lgbm\n",
    "from data.process import *\n",
    "from functools import partial\n",
    "\n",
    "# use different seeds from tuning\n",
    "SEED = 42\n",
    "STUDY_NAME = 'ensemble_study_4_roc'\n",
    "STORAGE = 'sqlite:///ensemble.db'\n"
   ]
  },
  {
   "cell_type": "code",
   "execution_count": 2,
   "metadata": {},
   "outputs": [
    {
     "data": {
      "text/plain": [
       "<catboost.core.CatBoostClassifier at 0x7f9f903b3e80>"
      ]
     },
     "execution_count": 2,
     "metadata": {},
     "output_type": "execute_result"
    }
   ],
   "source": [
    "xgboost_model = xgb.Booster(model_file='xgboost_model_new.json')\n",
    "lgbm_model = lgbm.Booster(model_file='lgbm_model_save')\n",
    "catboost_model = cb.CatBoostClassifier()\n",
    "catboost_model.load_model('catboost_model_categorical.cbm')"
   ]
  },
  {
   "cell_type": "code",
   "execution_count": 3,
   "metadata": {},
   "outputs": [],
   "source": [
    "_, val_xgb, _ = retrieve_train_dev_test_as_category_for_xgboost()\n",
    "_, val_cb, _ = retrieve_train_dev_test_for_catboost()\n",
    "\n",
    "X_val_xgb, Y_val = split_input_output(val_xgb)\n",
    "X_val_cb, _  = split_input_output(val_cb)"
   ]
  },
  {
   "cell_type": "code",
   "execution_count": 4,
   "metadata": {},
   "outputs": [],
   "source": [
    "# X_val_xgb, Y_val = retrieve_validation_dataset_for_xgboost()\n",
    "# X_val_cb, _ = retrieve_validation_dataset_for_catboost()\n"
   ]
  },
  {
   "cell_type": "code",
   "execution_count": 5,
   "metadata": {},
   "outputs": [
    {
     "name": "stdout",
     "output_type": "stream",
     "text": [
      "CPU times: user 50.9 s, sys: 141 ms, total: 51 s\n",
      "Wall time: 2.55 s\n"
     ]
    }
   ],
   "source": [
    "%%time\n",
    "preds1 = xgboost_model.predict(xgb.DMatrix(X_val_xgb, enable_categorical=True), iteration_range=(0, xgboost_model.best_iteration + 1))\n",
    "preds2 = lgbm_model.predict(X_val_xgb, num_iteration=lgbm_model.best_iteration)\n",
    "preds3 = catboost_model.predict_proba(X_val_cb, ntree_end=catboost_model.best_iteration_)[:, 1]"
   ]
  },
  {
   "cell_type": "code",
   "execution_count": 13,
   "metadata": {},
   "outputs": [],
   "source": [
    "def objective(trial: optuna.Trial, y_val):\n",
    "    # Suggest weights using Dirichlet distribution to ensure they sum up to 1\n",
    "    # https://optuna.readthedocs.io/en/stable/faq.html#how-do-i-suggest-variables-which-represent-the-proportion-that-is-are-in-accordance-with-dirichlet-distribution\n",
    "    weight1 = -np.log(trial.suggest_float(\"xgboost\", 0, 1))\n",
    "    weight2 = -np.log(trial.suggest_float(\"lightgbm\", 0, 1))\n",
    "    weight3 = -np.log(trial.suggest_float(\"catboost\", 0, 1))\n",
    "\n",
    "    total_weight = weight1 + weight2 + weight3\n",
    "    trial.set_user_attr(f'p_xgboost', weight1 / total_weight)\n",
    "    trial.set_user_attr(f'p_lgbm', weight2 / total_weight)\n",
    "    trial.set_user_attr(f'p_catboost', weight3/ total_weight)\n",
    "\n",
    "\n",
    "    # Normalize weights\n",
    "    weight1 /= total_weight\n",
    "    weight2 /= total_weight\n",
    "    weight3 /= total_weight\n",
    "\n",
    "\n",
    "    weighted_preds = (weight1 * preds1 + weight2 * preds2 + weight3 * preds3)\n",
    "    \n",
    "    return roc_auc_score(y_val, weighted_preds)\n",
    "\n",
    "    # # Stratified K-Fold Cross Validation\n",
    "    # Suggest weights for each model\n",
    "    # weight1 = trial.suggest_float(\"weight1\", 0.0, 1.0)\n",
    "    # weight2 = trial.suggest_float(\"weight2\", 0.0, 1.0)\n",
    "    # weight3 = trial.suggest_float(\"weight3\", 0.0, 1.0)\n",
    "    # accuracies = []\n",
    "    # skf = StratifiedKFold(n_splits=3, shuffle=True, random_state=SEED)\n",
    "    # for train_index, test_index in skf.split(xgb_x_val, y_val):\n",
    "    #     xgb_x_test = xgb_x_val.iloc[test_index]\n",
    "    #     lgbm_x_test = lgbm_x_val.iloc[test_index]\n",
    "    #     catboost_x_test = catboost_x_val.iloc[test_index]\n",
    "    #     y_test = y_val[test_index]\n",
    "\n",
    "    #     # Predict probabilities with each model\n",
    "    #     xgb_dmatrix = xgb.DMatrix(xgb_x_test, enable_categorical=True)\n",
    "    #     preds1 = xgboost_model.predict(xgb_dmatrix, iteration_range=(0, xgboost_model.best_iteration + 1))\n",
    "    #     preds2 = lgbm_model.predict(lgbm_x_test, num_iteration=lgbm_model.best_iteration)\n",
    "    #     preds3 = catboost_model.predict_proba(catboost_x_test, ntree_end=catboost_model.best_iteration_)[:, 1]\n",
    "\n",
    "    #     # Weighted average of predictions\n",
    "    #     weighted_preds = (weight1 * preds1 + weight2 * preds2 + weight3 * preds3)\n",
    "    #     binary_preds = (weighted_preds >= 0.5).astype(int)\n",
    "\n",
    "\n",
    "    #     # Calculate accuracy\n",
    "    #     accuracy = accuracy_score(y_test, binary_preds)\n",
    "    #     accuracies.append(accuracy)\n",
    "\n",
    "\n",
    "    # return np.mean(accuracies)\n",
    "\n",
    "ensemble_objective = partial(\n",
    "    objective, \n",
    "    y_val=Y_val\n",
    ")"
   ]
  },
  {
   "cell_type": "code",
   "execution_count": 22,
   "metadata": {},
   "outputs": [
    {
     "name": "stderr",
     "output_type": "stream",
     "text": [
      "[I 2024-07-30 21:21:36,022] A new study created in RDB with name: ensemble_study_4_roc\n",
      "[I 2024-07-30 21:21:36,099] Trial 0 finished with value: 0.8939685441168703 and parameters: {'xgboost': 0.10677777142914457, 'lightgbm': 0.43630777740346327, 'catboost': 0.6211105268618939}. Best is trial 0 with value: 0.8939685441168703.\n",
      "[I 2024-07-30 21:21:36,162] Trial 1 finished with value: 0.8932681107271783 and parameters: {'xgboost': 0.4823974232951559, 'lightgbm': 0.028494269339640277, 'catboost': 0.9077238331605784}. Best is trial 0 with value: 0.8939685441168703.\n",
      "[I 2024-07-30 21:21:36,228] Trial 2 finished with value: 0.8937484598919943 and parameters: {'xgboost': 0.3297178496548091, 'lightgbm': 0.39977754817114286, 'catboost': 0.8458729381866804}. Best is trial 0 with value: 0.8939685441168703.\n",
      "[I 2024-07-30 21:21:36,287] Trial 3 finished with value: 0.8952865584726781 and parameters: {'xgboost': 0.6073551537655203, 'lightgbm': 0.22108459562477545, 'catboost': 0.27208547956068885}. Best is trial 3 with value: 0.8952865584726781.\n",
      "[I 2024-07-30 21:21:36,340] Trial 4 finished with value: 0.8946373383514208 and parameters: {'xgboost': 0.38249295495119173, 'lightgbm': 0.2453376578572798, 'catboost': 0.5185715250879869}. Best is trial 3 with value: 0.8952865584726781.\n",
      "[I 2024-07-30 21:21:36,394] Trial 5 finished with value: 0.893422686070364 and parameters: {'xgboost': 0.7134320884356096, 'lightgbm': 0.1499611897427826, 'catboost': 0.9043024494000587}. Best is trial 3 with value: 0.8952865584726781.\n",
      "[I 2024-07-30 21:21:36,450] Trial 6 finished with value: 0.8952791222910985 and parameters: {'xgboost': 0.9115160699965825, 'lightgbm': 0.6832212348390769, 'catboost': 0.037165084873568066}. Best is trial 3 with value: 0.8952865584726781.\n",
      "[I 2024-07-30 21:21:36,507] Trial 7 finished with value: 0.8939037889022321 and parameters: {'xgboost': 0.10692083303479283, 'lightgbm': 0.022685825575899377, 'catboost': 0.5459227526618146}. Best is trial 3 with value: 0.8952865584726781.\n",
      "[I 2024-07-30 21:21:36,570] Trial 8 finished with value: 0.8955250682647202 and parameters: {'xgboost': 0.6173378600168322, 'lightgbm': 0.9464705873634761, 'catboost': 0.28982871543089506}. Best is trial 8 with value: 0.8955250682647202.\n",
      "[I 2024-07-30 21:21:36,629] Trial 9 finished with value: 0.8939677982341729 and parameters: {'xgboost': 0.965141745996278, 'lightgbm': 0.30684256522192577, 'catboost': 0.8214551109217476}. Best is trial 8 with value: 0.8955250682647202.\n",
      "[I 2024-07-30 21:21:36,696] Trial 10 finished with value: 0.8954004718861561 and parameters: {'xgboost': 0.7846977524892423, 'lightgbm': 0.955751867992615, 'catboost': 0.28147248952197845}. Best is trial 8 with value: 0.8955250682647202.\n",
      "[I 2024-07-30 21:21:36,758] Trial 11 finished with value: 0.8953873488797603 and parameters: {'xgboost': 0.769057779797305, 'lightgbm': 0.9783879516552535, 'catboost': 0.28380720309398016}. Best is trial 8 with value: 0.8955250682647202.\n",
      "[I 2024-07-30 21:21:36,819] Trial 12 finished with value: 0.8953460033421915 and parameters: {'xgboost': 0.7671029083124471, 'lightgbm': 0.9975405571826277, 'catboost': 0.26698749931821286}. Best is trial 8 with value: 0.8955250682647202.\n",
      "[I 2024-07-30 21:21:36,879] Trial 13 finished with value: 0.8955526906929259 and parameters: {'xgboost': 0.6064642159216188, 'lightgbm': 0.7554006645216125, 'catboost': 0.1163234169671552}. Best is trial 13 with value: 0.8955526906929259.\n",
      "[I 2024-07-30 21:21:36,950] Trial 14 finished with value: 0.8952620278485566 and parameters: {'xgboost': 0.5872515608976472, 'lightgbm': 0.7473022876742145, 'catboost': 0.002509139786034814}. Best is trial 13 with value: 0.8955526906929259.\n",
      "[I 2024-07-30 21:21:37,012] Trial 15 finished with value: 0.8954805445874984 and parameters: {'xgboost': 0.2923026648211614, 'lightgbm': 0.7665057029578481, 'catboost': 0.16244243864339675}. Best is trial 13 with value: 0.8955526906929259.\n",
      "[I 2024-07-30 21:21:37,072] Trial 16 finished with value: 0.8954000253472739 and parameters: {'xgboost': 0.5035004409078508, 'lightgbm': 0.5944508969911526, 'catboost': 0.3820823048679882}. Best is trial 13 with value: 0.8955526906929259.\n",
      "[I 2024-07-30 21:21:37,139] Trial 17 finished with value: 0.8955339834736598 and parameters: {'xgboost': 0.6419980685526858, 'lightgbm': 0.8212509625054538, 'catboost': 0.1555752954418819}. Best is trial 13 with value: 0.8955526906929259.\n",
      "[I 2024-07-30 21:21:37,206] Trial 18 finished with value: 0.8955615804257961 and parameters: {'xgboost': 0.4866821631740498, 'lightgbm': 0.8048696704987957, 'catboost': 0.11519204871841572}. Best is trial 18 with value: 0.8955615804257961.\n",
      "[I 2024-07-30 21:21:37,269] Trial 19 finished with value: 0.8954251716430712 and parameters: {'xgboost': 0.2090507085322203, 'lightgbm': 0.6106286480979951, 'catboost': 0.1332900621519283}. Best is trial 18 with value: 0.8955615804257961.\n",
      "[I 2024-07-30 21:21:37,338] Trial 20 finished with value: 0.8954116403118969 and parameters: {'xgboost': 0.4938372756868434, 'lightgbm': 0.8441787575924459, 'catboost': 0.41452376615319103}. Best is trial 18 with value: 0.8955615804257961.\n",
      "[I 2024-07-30 21:21:37,424] Trial 21 finished with value: 0.8955467696298052 and parameters: {'xgboost': 0.4172793568578973, 'lightgbm': 0.85958759734371, 'catboost': 0.12520384858040956}. Best is trial 18 with value: 0.8955615804257961.\n",
      "[I 2024-07-30 21:21:37,495] Trial 22 finished with value: 0.8955239593480342 and parameters: {'xgboost': 0.4498166663585529, 'lightgbm': 0.8678502417877759, 'catboost': 0.08541207598453499}. Best is trial 18 with value: 0.8955615804257961.\n",
      "[I 2024-07-30 21:21:37,555] Trial 23 finished with value: 0.895534289186492 and parameters: {'xgboost': 0.4069532680670419, 'lightgbm': 0.5806838624130718, 'catboost': 0.20065668486810756}. Best is trial 18 with value: 0.8955615804257961.\n",
      "[I 2024-07-30 21:21:37,616] Trial 24 finished with value: 0.8955473003812501 and parameters: {'xgboost': 0.257854423812219, 'lightgbm': 0.7154965914720041, 'catboost': 0.07572640884107001}. Best is trial 18 with value: 0.8955615804257961.\n",
      "[I 2024-07-30 21:21:37,685] Trial 25 finished with value: 0.8949191956754825 and parameters: {'xgboost': 0.22487450144414178, 'lightgbm': 0.7174883592273602, 'catboost': 0.39341005495814385}. Best is trial 18 with value: 0.8955615804257961.\n",
      "[I 2024-07-30 21:21:37,744] Trial 26 finished with value: 0.895582625782095 and parameters: {'xgboost': 0.24753858994142874, 'lightgbm': 0.5221882044275816, 'catboost': 0.05118690483183105}. Best is trial 26 with value: 0.895582625782095.\n",
      "[I 2024-07-30 21:21:37,808] Trial 27 finished with value: 0.8955576139433303 and parameters: {'xgboost': 0.05257384391094477, 'lightgbm': 0.5044297676101441, 'catboost': 0.001726355954661779}. Best is trial 26 with value: 0.895582625782095.\n",
      "[I 2024-07-30 21:21:37,869] Trial 28 finished with value: 0.8951020176105735 and parameters: {'xgboost': 0.0032402380044896026, 'lightgbm': 0.4864617497059305, 'catboost': 0.011723636692223746}. Best is trial 26 with value: 0.895582625782095.\n",
      "[I 2024-07-30 21:21:37,933] Trial 29 finished with value: 0.8938963229985718 and parameters: {'xgboost': 0.13210284625350743, 'lightgbm': 0.4329043219701695, 'catboost': 0.6789990240462699}. Best is trial 26 with value: 0.895582625782095.\n",
      "[I 2024-07-30 21:21:37,998] Trial 30 finished with value: 0.8936748206058347 and parameters: {'xgboost': 0.05551400275514429, 'lightgbm': 0.377053670928013, 'catboost': 0.6710413614623503}. Best is trial 26 with value: 0.895582625782095.\n",
      "[I 2024-07-30 21:21:38,061] Trial 31 finished with value: 0.8950869492232144 and parameters: {'xgboost': 0.131053394378709, 'lightgbm': 0.5301134953839125, 'catboost': 0.2096651263812488}. Best is trial 26 with value: 0.895582625782095.\n",
      "[I 2024-07-30 21:21:38,123] Trial 32 finished with value: 0.8956131192217842 and parameters: {'xgboost': 0.5471281430533665, 'lightgbm': 0.528195958568439, 'catboost': 0.07603272537250583}. Best is trial 32 with value: 0.8956131192217842.\n",
      "[I 2024-07-30 21:21:38,194] Trial 33 finished with value: 0.895608465593114 and parameters: {'xgboost': 0.5355459076142562, 'lightgbm': 0.5147143888405419, 'catboost': 0.06290381458579852}. Best is trial 32 with value: 0.8956131192217842.\n",
      "[I 2024-07-30 21:21:38,257] Trial 34 finished with value: 0.8956220804291822 and parameters: {'xgboost': 0.5339291350182693, 'lightgbm': 0.35234758164723445, 'catboost': 0.06685024125564884}. Best is trial 34 with value: 0.8956220804291822.\n",
      "[I 2024-07-30 21:21:38,322] Trial 35 finished with value: 0.895504915986186 and parameters: {'xgboost': 0.5514263134699162, 'lightgbm': 0.33984124926363307, 'catboost': 0.20486023141418438}. Best is trial 34 with value: 0.8956220804291822.\n",
      "[I 2024-07-30 21:21:38,390] Trial 36 finished with value: 0.8956058033438657 and parameters: {'xgboost': 0.3434688020761492, 'lightgbm': 0.4495480979493389, 'catboost': 0.06832118022610419}. Best is trial 34 with value: 0.8956220804291822.\n",
      "[I 2024-07-30 21:21:38,452] Trial 37 finished with value: 0.8954548024347451 and parameters: {'xgboost': 0.336808213347589, 'lightgbm': 0.1228983710922621, 'catboost': 0.06735035407125073}. Best is trial 34 with value: 0.8956220804291822.\n",
      "[I 2024-07-30 21:21:38,515] Trial 38 finished with value: 0.8950538260870322 and parameters: {'xgboost': 0.36251667675558374, 'lightgbm': 0.2905440623805456, 'catboost': 0.35429504480220986}. Best is trial 34 with value: 0.8956220804291822.\n",
      "[I 2024-07-30 21:21:38,584] Trial 39 finished with value: 0.8955881540891466 and parameters: {'xgboost': 0.6886526928346661, 'lightgbm': 0.44849194547127236, 'catboost': 0.22693929480400699}. Best is trial 34 with value: 0.8956220804291822.\n",
      "[I 2024-07-30 21:21:38,646] Trial 40 finished with value: 0.8951135228865648 and parameters: {'xgboost': 0.5453079707161033, 'lightgbm': 0.20354648844372453, 'catboost': 0.3329705030696355}. Best is trial 34 with value: 0.8956220804291822.\n",
      "[I 2024-07-30 21:21:38,706] Trial 41 finished with value: 0.8955770578456022 and parameters: {'xgboost': 0.6810932659440612, 'lightgbm': 0.41402245279256544, 'catboost': 0.21626840278571863}. Best is trial 34 with value: 0.8956220804291822.\n",
      "[I 2024-07-30 21:21:38,766] Trial 42 finished with value: 0.8955229813500382 and parameters: {'xgboost': 0.8367011581750844, 'lightgbm': 0.4783222386849578, 'catboost': 0.06377371698237351}. Best is trial 34 with value: 0.8956220804291822.\n",
      "[I 2024-07-30 21:21:38,825] Trial 43 finished with value: 0.8956118836324203 and parameters: {'xgboost': 0.6889202102966383, 'lightgbm': 0.635243352718232, 'catboost': 0.17645697250428138}. Best is trial 34 with value: 0.8956220804291822.\n",
      "[I 2024-07-30 21:21:38,887] Trial 44 finished with value: 0.895600447707951 and parameters: {'xgboost': 0.4423535828436628, 'lightgbm': 0.6557174187624465, 'catboost': 0.0952354546085272}. Best is trial 34 with value: 0.8956220804291822.\n",
      "[I 2024-07-30 21:21:38,948] Trial 45 finished with value: 0.8955775977967388 and parameters: {'xgboost': 0.5446818617272484, 'lightgbm': 0.3686041563804344, 'catboost': 0.1515883989698457}. Best is trial 34 with value: 0.8956220804291822.\n",
      "[I 2024-07-30 21:21:39,008] Trial 46 finished with value: 0.8954251037068863 and parameters: {'xgboost': 0.7202744897122109, 'lightgbm': 0.5615674669503359, 'catboost': 0.48659546733587455}. Best is trial 34 with value: 0.8956220804291822.\n",
      "[I 2024-07-30 21:21:39,068] Trial 47 finished with value: 0.8956195604213213 and parameters: {'xgboost': 0.6420168511227222, 'lightgbm': 0.6375074381086303, 'catboost': 0.18148115174299592}. Best is trial 34 with value: 0.8956220804291822.\n",
      "[I 2024-07-30 21:21:39,134] Trial 48 finished with value: 0.8955783033423266 and parameters: {'xgboost': 0.861271380201994, 'lightgbm': 0.6494821711022974, 'catboost': 0.2503168197386281}. Best is trial 34 with value: 0.8956220804291822.\n",
      "[I 2024-07-30 21:21:39,198] Trial 49 finished with value: 0.8934434257138305 and parameters: {'xgboost': 0.6417229577617639, 'lightgbm': 0.6402043909663387, 'catboost': 0.9720338961720545}. Best is trial 34 with value: 0.8956220804291822.\n",
      "[I 2024-07-30 21:21:39,272] Trial 50 finished with value: 0.8956203643328433 and parameters: {'xgboost': 0.5800096280360226, 'lightgbm': 0.5541938262774918, 'catboost': 0.17978656502685778}. Best is trial 34 with value: 0.8956220804291822.\n",
      "[I 2024-07-30 21:21:39,333] Trial 51 finished with value: 0.8956252720145385 and parameters: {'xgboost': 0.6445001462442643, 'lightgbm': 0.5574661318751899, 'catboost': 0.16980027254283867}. Best is trial 51 with value: 0.8956252720145385.\n",
      "[I 2024-07-30 21:21:39,393] Trial 52 finished with value: 0.8956250526372747 and parameters: {'xgboost': 0.5979308351889945, 'lightgbm': 0.5507171193619218, 'catboost': 0.15580995546942206}. Best is trial 51 with value: 0.8956252720145385.\n",
      "[I 2024-07-30 21:21:39,458] Trial 53 finished with value: 0.8955541053224441 and parameters: {'xgboost': 0.5723915220268144, 'lightgbm': 0.5513049587173514, 'catboost': 0.28363985869571007}. Best is trial 51 with value: 0.8956252720145385.\n",
      "[I 2024-07-30 21:21:39,520] Trial 54 finished with value: 0.8955724105859493 and parameters: {'xgboost': 0.6280227762742918, 'lightgbm': 0.6033649781914812, 'catboost': 0.3230107845069212}. Best is trial 51 with value: 0.8956252720145385.\n",
      "[I 2024-07-30 21:21:39,585] Trial 55 finished with value: 0.8955776232728084 and parameters: {'xgboost': 0.7360056877660648, 'lightgbm': 0.673900199821654, 'catboost': 0.16311137890902208}. Best is trial 51 with value: 0.8956252720145385.\n",
      "[I 2024-07-30 21:21:39,647] Trial 56 finished with value: 0.8956226706247892 and parameters: {'xgboost': 0.5893893988025886, 'lightgbm': 0.5577315963164884, 'catboost': 0.12933077292321837}. Best is trial 51 with value: 0.8956252720145385.\n",
      "[I 2024-07-30 21:21:39,708] Trial 57 finished with value: 0.8956147489825546 and parameters: {'xgboost': 0.657333182196617, 'lightgbm': 0.5674210942781983, 'catboost': 0.24639964102447667}. Best is trial 51 with value: 0.8956252720145385.\n",
      "[I 2024-07-30 21:21:39,767] Trial 58 finished with value: 0.8955872390736552 and parameters: {'xgboost': 0.5978783898411598, 'lightgbm': 0.7007434380759654, 'catboost': 0.12675156139148439}. Best is trial 51 with value: 0.8956252720145385.\n",
      "[I 2024-07-30 21:21:39,826] Trial 59 finished with value: 0.8956057262079891 and parameters: {'xgboost': 0.5075318695698092, 'lightgbm': 0.613891474205008, 'catboost': 0.18332015719678774}. Best is trial 51 with value: 0.8956252720145385.\n",
      "[I 2024-07-30 21:21:39,888] Trial 60 finished with value: 0.8954335900686582 and parameters: {'xgboost': 0.804680224168743, 'lightgbm': 0.47210405576940667, 'catboost': 0.4380733198703297}. Best is trial 51 with value: 0.8956252720145385.\n",
      "[I 2024-07-30 21:21:39,950] Trial 61 finished with value: 0.8956155826161578 and parameters: {'xgboost': 0.6547771656060261, 'lightgbm': 0.5681229922706063, 'catboost': 0.2446197417538367}. Best is trial 51 with value: 0.8956252720145385.\n",
      "[I 2024-07-30 21:21:40,017] Trial 62 finished with value: 0.8955258912832942 and parameters: {'xgboost': 0.5934369701346105, 'lightgbm': 0.5850608868287275, 'catboost': 0.035350933698376885}. Best is trial 51 with value: 0.8956252720145385.\n",
      "[I 2024-07-30 21:21:40,080] Trial 63 finished with value: 0.8955726391629051 and parameters: {'xgboost': 0.6547654112064601, 'lightgbm': 0.5485672462310179, 'catboost': 0.30785610208430214}. Best is trial 51 with value: 0.8956252720145385.\n",
      "[I 2024-07-30 21:21:40,146] Trial 64 finished with value: 0.8955620474870676 and parameters: {'xgboost': 0.753153368272026, 'lightgbm': 0.6151364522105026, 'catboost': 0.12051621651939173}. Best is trial 51 with value: 0.8956252720145385.\n",
      "[I 2024-07-30 21:21:40,208] Trial 65 finished with value: 0.8955711424438302 and parameters: {'xgboost': 0.4723832367713903, 'lightgbm': 0.40057296512151297, 'catboost': 0.14817457941746848}. Best is trial 51 with value: 0.8956252720145385.\n",
      "[I 2024-07-30 21:21:40,268] Trial 66 finished with value: 0.8956175379044815 and parameters: {'xgboost': 0.6170938767930493, 'lightgbm': 0.6791112403469541, 'catboost': 0.2457058098936253}. Best is trial 51 with value: 0.8956252720145385.\n",
      "[I 2024-07-30 21:21:40,336] Trial 67 finished with value: 0.8955416694622524 and parameters: {'xgboost': 0.5995320208955869, 'lightgbm': 0.759123285651179, 'catboost': 0.10428732042782812}. Best is trial 51 with value: 0.8956252720145385.\n",
      "[I 2024-07-30 21:21:40,396] Trial 68 finished with value: 0.89429618476825 and parameters: {'xgboost': 0.5075613453834162, 'lightgbm': 0.6760197325447963, 'catboost': 0.7997693944474479}. Best is trial 51 with value: 0.8956252720145385.\n",
      "[I 2024-07-30 21:21:40,455] Trial 69 finished with value: 0.895533584348573 and parameters: {'xgboost': 0.5663094991963358, 'lightgbm': 0.5004629458512557, 'catboost': 0.020382127514080528}. Best is trial 51 with value: 0.8956252720145385.\n",
      "[I 2024-07-30 21:21:40,516] Trial 70 finished with value: 0.8955793167237522 and parameters: {'xgboost': 0.7108933259142388, 'lightgbm': 0.7301347714929002, 'catboost': 0.18886442575247692}. Best is trial 51 with value: 0.8956252720145385.\n",
      "[I 2024-07-30 21:21:40,577] Trial 71 finished with value: 0.8955989297588183 and parameters: {'xgboost': 0.6207133020042824, 'lightgbm': 0.7852425494223249, 'catboost': 0.2442830489765973}. Best is trial 51 with value: 0.8956252720145385.\n",
      "[I 2024-07-30 21:21:40,643] Trial 72 finished with value: 0.8956134992398188 and parameters: {'xgboost': 0.6686272846820909, 'lightgbm': 0.5902535446309907, 'catboost': 0.27239491774899915}. Best is trial 51 with value: 0.8956252720145385.\n",
      "[I 2024-07-30 21:21:40,705] Trial 73 finished with value: 0.8949815993073849 and parameters: {'xgboost': 0.5248852366767289, 'lightgbm': 0.539634113193223, 'catboost': 0.5811153156584452}. Best is trial 51 with value: 0.8956252720145385.\n",
      "[I 2024-07-30 21:21:40,765] Trial 74 finished with value: 0.8956039910045982 and parameters: {'xgboost': 0.574730455315609, 'lightgbm': 0.6908497038370787, 'catboost': 0.14777537702213026}. Best is trial 51 with value: 0.8956252720145385.\n",
      "[I 2024-07-30 21:21:40,827] Trial 75 finished with value: 0.8950337290066485 and parameters: {'xgboost': 0.6264098921291553, 'lightgbm': 0.06919863711732432, 'catboost': 0.21983238007005765}. Best is trial 51 with value: 0.8956252720145385.\n",
      "[I 2024-07-30 21:21:40,891] Trial 76 finished with value: 0.8955765362938489 and parameters: {'xgboost': 0.702382989874986, 'lightgbm': 0.26017378892873394, 'catboost': 0.10403126710077339}. Best is trial 51 with value: 0.8956252720145385.\n",
      "[I 2024-07-30 21:21:40,959] Trial 77 finished with value: 0.895592117740938 and parameters: {'xgboost': 0.4733684964085076, 'lightgbm': 0.6242208929085657, 'catboost': 0.18605663624031074}. Best is trial 51 with value: 0.8956252720145385.\n",
      "[I 2024-07-30 21:21:41,018] Trial 78 finished with value: 0.8954315774591786 and parameters: {'xgboost': 0.7967469351624838, 'lightgbm': 0.5786221903227036, 'catboost': 0.03562286198265957}. Best is trial 51 with value: 0.8956252720145385.\n",
      "[I 2024-07-30 21:21:41,076] Trial 79 finished with value: 0.8955974535621323 and parameters: {'xgboost': 0.7378379940911949, 'lightgbm': 0.46701776175500453, 'catboost': 0.23224870531035338}. Best is trial 51 with value: 0.8956252720145385.\n",
      "[I 2024-07-30 21:21:41,137] Trial 80 finished with value: 0.8954240882024547 and parameters: {'xgboost': 0.44468303420296196, 'lightgbm': 0.5084255968977132, 'catboost': 0.2937991248714866}. Best is trial 51 with value: 0.8956252720145385.\n",
      "[I 2024-07-30 21:21:41,199] Trial 81 finished with value: 0.8956005184748104 and parameters: {'xgboost': 0.6439378064388049, 'lightgbm': 0.5621958052335979, 'catboost': 0.2686760685704052}. Best is trial 51 with value: 0.8956252720145385.\n",
      "[I 2024-07-30 21:21:41,264] Trial 82 finished with value: 0.8956182038206277 and parameters: {'xgboost': 0.6689419147884591, 'lightgbm': 0.5716581856529235, 'catboost': 0.24357369273660223}. Best is trial 51 with value: 0.8956252720145385.\n",
      "[I 2024-07-30 21:21:41,327] Trial 83 finished with value: 0.8955275075983615 and parameters: {'xgboost': 0.999321257219338, 'lightgbm': 0.5311945763803835, 'catboost': 0.34169655565323503}. Best is trial 51 with value: 0.8956252720145385.\n",
      "[I 2024-07-30 21:21:41,390] Trial 84 finished with value: 0.8956072625565054 and parameters: {'xgboost': 0.6702837691403658, 'lightgbm': 0.6506929605867333, 'catboost': 0.16618407277100442}. Best is trial 51 with value: 0.8956252720145385.\n",
      "[I 2024-07-30 21:21:41,450] Trial 85 finished with value: 0.8956058146665633 and parameters: {'xgboost': 0.6151857973307477, 'lightgbm': 0.4925965135117392, 'catboost': 0.2023542171237813}. Best is trial 51 with value: 0.8956252720145385.\n",
      "[I 2024-07-30 21:21:41,512] Trial 86 finished with value: 0.8955146655363972 and parameters: {'xgboost': 0.5835538822080447, 'lightgbm': 0.605710919971948, 'catboost': 0.3577928428056071}. Best is trial 51 with value: 0.8956252720145385.\n",
      "[I 2024-07-30 21:21:41,577] Trial 87 finished with value: 0.8956073984288752 and parameters: {'xgboost': 0.5214198330807664, 'lightgbm': 0.43871744628758225, 'catboost': 0.13696067497817005}. Best is trial 51 with value: 0.8956252720145385.\n",
      "[I 2024-07-30 21:21:41,638] Trial 88 finished with value: 0.8955988604072962 and parameters: {'xgboost': 0.5610626308506955, 'lightgbm': 0.6613448405912872, 'catboost': 0.25234904532501823}. Best is trial 51 with value: 0.8956252720145385.\n",
      "[I 2024-07-30 21:21:41,705] Trial 89 finished with value: 0.8956073142163127 and parameters: {'xgboost': 0.690546525932761, 'lightgbm': 0.33286317982164343, 'catboost': 0.08200143863162014}. Best is trial 51 with value: 0.8956252720145385.\n",
      "[I 2024-07-30 21:21:41,767] Trial 90 finished with value: 0.8954997174526991 and parameters: {'xgboost': 0.6342722175834911, 'lightgbm': 0.8961611349771416, 'catboost': 0.1725954144752979}. Best is trial 51 with value: 0.8956252720145385.\n",
      "[I 2024-07-30 21:21:41,827] Trial 91 finished with value: 0.8956175966409745 and parameters: {'xgboost': 0.6581015699275881, 'lightgbm': 0.5601419132320807, 'catboost': 0.233809804568878}. Best is trial 51 with value: 0.8956252720145385.\n",
      "[I 2024-07-30 21:21:41,889] Trial 92 finished with value: 0.8956191789879494 and parameters: {'xgboost': 0.6109177678959736, 'lightgbm': 0.5752089513706166, 'catboost': 0.21219903487698416}. Best is trial 51 with value: 0.8956252720145385.\n",
      "[I 2024-07-30 21:21:41,953] Trial 93 finished with value: 0.8956097224125359 and parameters: {'xgboost': 0.6057087644965875, 'lightgbm': 0.5222582342868879, 'catboost': 0.20706594564708253}. Best is trial 51 with value: 0.8956252720145385.\n",
      "[I 2024-07-30 21:21:42,015] Trial 94 finished with value: 0.8955734841192057 and parameters: {'xgboost': 0.725092275739043, 'lightgbm': 0.6301375262515413, 'catboost': 0.12693825778974221}. Best is trial 51 with value: 0.8956252720145385.\n",
      "[I 2024-07-30 21:21:42,075] Trial 95 finished with value: 0.8956190593919571 and parameters: {'xgboost': 0.5773291772386787, 'lightgbm': 0.597403938415668, 'catboost': 0.19397819301731628}. Best is trial 51 with value: 0.8956252720145385.\n",
      "[I 2024-07-30 21:21:42,141] Trial 96 finished with value: 0.8955490964441402 and parameters: {'xgboost': 0.5766311154213596, 'lightgbm': 0.5880058235142741, 'catboost': 0.30924847172392633}. Best is trial 51 with value: 0.8956252720145385.\n",
      "[I 2024-07-30 21:21:42,208] Trial 97 finished with value: 0.8956153045024006 and parameters: {'xgboost': 0.5274037552297937, 'lightgbm': 0.5434846775827759, 'catboost': 0.16059961993137584}. Best is trial 51 with value: 0.8956252720145385.\n",
      "[I 2024-07-30 21:21:42,267] Trial 98 finished with value: 0.895607665219935 and parameters: {'xgboost': 0.4117003452710259, 'lightgbm': 0.4654043614779506, 'catboost': 0.09833018586047933}. Best is trial 51 with value: 0.8956252720145385.\n",
      "[I 2024-07-30 21:21:42,335] Trial 99 finished with value: 0.8956193467054061 and parameters: {'xgboost': 0.48850618656574274, 'lightgbm': 0.42613754762908623, 'catboost': 0.04796238040619702}. Best is trial 51 with value: 0.8956252720145385.\n"
     ]
    }
   ],
   "source": [
    "study = optuna.create_study(\n",
    "    direction=\"maximize\", \n",
    "    study_name=STUDY_NAME, \n",
    "    storage=STORAGE\n",
    ")\n",
    "study.optimize(ensemble_objective, n_trials=100)"
   ]
  },
  {
   "cell_type": "code",
   "execution_count": 23,
   "metadata": {},
   "outputs": [
    {
     "name": "stdout",
     "output_type": "stream",
     "text": [
      "Best weights: {'xgboost': 0.6445001462442643, 'lightgbm': 0.5574661318751899, 'catboost': 0.16980027254283867}\n"
     ]
    }
   ],
   "source": [
    "best_weights = study.best_params\n",
    "print(\"Best weights:\", best_weights)"
   ]
  },
  {
   "cell_type": "code",
   "execution_count": 24,
   "metadata": {},
   "outputs": [
    {
     "name": "stdout",
     "output_type": "stream",
     "text": [
      "0.15706720011588562 0.20893900120558095 0.6339937986785334\n"
     ]
    }
   ],
   "source": [
    "xgboost = -np.log(best_weights['xgboost'])\n",
    "lightgbm = -np.log(best_weights['lightgbm'])\n",
    "catboost = -np.log(best_weights['catboost'])\n",
    "\n",
    "total = xgboost + lightgbm + catboost\n",
    "xgboost /= total\n",
    "lightgbm /= total\n",
    "catboost /= total\n",
    "\n",
    "print(xgboost, lightgbm, catboost)"
   ]
  },
  {
   "cell_type": "code",
   "execution_count": 25,
   "metadata": {},
   "outputs": [
    {
     "name": "stdout",
     "output_type": "stream",
     "text": [
      "Best Score: 0.8956252720145385\n"
     ]
    }
   ],
   "source": [
    "print(\"Best Score:\", study.best_value)"
   ]
  },
  {
   "cell_type": "code",
   "execution_count": 26,
   "metadata": {},
   "outputs": [],
   "source": [
    "# study = optuna.load_study(study_name=STUDY_NAME, storage=STORAGE)"
   ]
  },
  {
   "cell_type": "code",
   "execution_count": 27,
   "metadata": {},
   "outputs": [
    {
     "data": {
      "application/vnd.plotly.v1+json": {
       "config": {
        "plotlyServerURL": "https://plot.ly"
       },
       "data": [
        {
         "cliponaxis": false,
         "hovertemplate": [
          "xgboost (FloatDistribution): 0.021958633055249314<extra></extra>",
          "lightgbm (FloatDistribution): 0.030339487160216762<extra></extra>",
          "catboost (FloatDistribution): 0.947701879784534<extra></extra>"
         ],
         "name": "Objective Value",
         "orientation": "h",
         "text": [
          "0.02",
          "0.03",
          "0.95"
         ],
         "textposition": "outside",
         "type": "bar",
         "x": [
          0.021958633055249314,
          0.030339487160216762,
          0.947701879784534
         ],
         "y": [
          "xgboost",
          "lightgbm",
          "catboost"
         ]
        }
       ],
       "layout": {
        "template": {
         "data": {
          "bar": [
           {
            "error_x": {
             "color": "#2a3f5f"
            },
            "error_y": {
             "color": "#2a3f5f"
            },
            "marker": {
             "line": {
              "color": "#E5ECF6",
              "width": 0.5
             },
             "pattern": {
              "fillmode": "overlay",
              "size": 10,
              "solidity": 0.2
             }
            },
            "type": "bar"
           }
          ],
          "barpolar": [
           {
            "marker": {
             "line": {
              "color": "#E5ECF6",
              "width": 0.5
             },
             "pattern": {
              "fillmode": "overlay",
              "size": 10,
              "solidity": 0.2
             }
            },
            "type": "barpolar"
           }
          ],
          "carpet": [
           {
            "aaxis": {
             "endlinecolor": "#2a3f5f",
             "gridcolor": "white",
             "linecolor": "white",
             "minorgridcolor": "white",
             "startlinecolor": "#2a3f5f"
            },
            "baxis": {
             "endlinecolor": "#2a3f5f",
             "gridcolor": "white",
             "linecolor": "white",
             "minorgridcolor": "white",
             "startlinecolor": "#2a3f5f"
            },
            "type": "carpet"
           }
          ],
          "choropleth": [
           {
            "colorbar": {
             "outlinewidth": 0,
             "ticks": ""
            },
            "type": "choropleth"
           }
          ],
          "contour": [
           {
            "colorbar": {
             "outlinewidth": 0,
             "ticks": ""
            },
            "colorscale": [
             [
              0,
              "#0d0887"
             ],
             [
              0.1111111111111111,
              "#46039f"
             ],
             [
              0.2222222222222222,
              "#7201a8"
             ],
             [
              0.3333333333333333,
              "#9c179e"
             ],
             [
              0.4444444444444444,
              "#bd3786"
             ],
             [
              0.5555555555555556,
              "#d8576b"
             ],
             [
              0.6666666666666666,
              "#ed7953"
             ],
             [
              0.7777777777777778,
              "#fb9f3a"
             ],
             [
              0.8888888888888888,
              "#fdca26"
             ],
             [
              1,
              "#f0f921"
             ]
            ],
            "type": "contour"
           }
          ],
          "contourcarpet": [
           {
            "colorbar": {
             "outlinewidth": 0,
             "ticks": ""
            },
            "type": "contourcarpet"
           }
          ],
          "heatmap": [
           {
            "colorbar": {
             "outlinewidth": 0,
             "ticks": ""
            },
            "colorscale": [
             [
              0,
              "#0d0887"
             ],
             [
              0.1111111111111111,
              "#46039f"
             ],
             [
              0.2222222222222222,
              "#7201a8"
             ],
             [
              0.3333333333333333,
              "#9c179e"
             ],
             [
              0.4444444444444444,
              "#bd3786"
             ],
             [
              0.5555555555555556,
              "#d8576b"
             ],
             [
              0.6666666666666666,
              "#ed7953"
             ],
             [
              0.7777777777777778,
              "#fb9f3a"
             ],
             [
              0.8888888888888888,
              "#fdca26"
             ],
             [
              1,
              "#f0f921"
             ]
            ],
            "type": "heatmap"
           }
          ],
          "heatmapgl": [
           {
            "colorbar": {
             "outlinewidth": 0,
             "ticks": ""
            },
            "colorscale": [
             [
              0,
              "#0d0887"
             ],
             [
              0.1111111111111111,
              "#46039f"
             ],
             [
              0.2222222222222222,
              "#7201a8"
             ],
             [
              0.3333333333333333,
              "#9c179e"
             ],
             [
              0.4444444444444444,
              "#bd3786"
             ],
             [
              0.5555555555555556,
              "#d8576b"
             ],
             [
              0.6666666666666666,
              "#ed7953"
             ],
             [
              0.7777777777777778,
              "#fb9f3a"
             ],
             [
              0.8888888888888888,
              "#fdca26"
             ],
             [
              1,
              "#f0f921"
             ]
            ],
            "type": "heatmapgl"
           }
          ],
          "histogram": [
           {
            "marker": {
             "pattern": {
              "fillmode": "overlay",
              "size": 10,
              "solidity": 0.2
             }
            },
            "type": "histogram"
           }
          ],
          "histogram2d": [
           {
            "colorbar": {
             "outlinewidth": 0,
             "ticks": ""
            },
            "colorscale": [
             [
              0,
              "#0d0887"
             ],
             [
              0.1111111111111111,
              "#46039f"
             ],
             [
              0.2222222222222222,
              "#7201a8"
             ],
             [
              0.3333333333333333,
              "#9c179e"
             ],
             [
              0.4444444444444444,
              "#bd3786"
             ],
             [
              0.5555555555555556,
              "#d8576b"
             ],
             [
              0.6666666666666666,
              "#ed7953"
             ],
             [
              0.7777777777777778,
              "#fb9f3a"
             ],
             [
              0.8888888888888888,
              "#fdca26"
             ],
             [
              1,
              "#f0f921"
             ]
            ],
            "type": "histogram2d"
           }
          ],
          "histogram2dcontour": [
           {
            "colorbar": {
             "outlinewidth": 0,
             "ticks": ""
            },
            "colorscale": [
             [
              0,
              "#0d0887"
             ],
             [
              0.1111111111111111,
              "#46039f"
             ],
             [
              0.2222222222222222,
              "#7201a8"
             ],
             [
              0.3333333333333333,
              "#9c179e"
             ],
             [
              0.4444444444444444,
              "#bd3786"
             ],
             [
              0.5555555555555556,
              "#d8576b"
             ],
             [
              0.6666666666666666,
              "#ed7953"
             ],
             [
              0.7777777777777778,
              "#fb9f3a"
             ],
             [
              0.8888888888888888,
              "#fdca26"
             ],
             [
              1,
              "#f0f921"
             ]
            ],
            "type": "histogram2dcontour"
           }
          ],
          "mesh3d": [
           {
            "colorbar": {
             "outlinewidth": 0,
             "ticks": ""
            },
            "type": "mesh3d"
           }
          ],
          "parcoords": [
           {
            "line": {
             "colorbar": {
              "outlinewidth": 0,
              "ticks": ""
             }
            },
            "type": "parcoords"
           }
          ],
          "pie": [
           {
            "automargin": true,
            "type": "pie"
           }
          ],
          "scatter": [
           {
            "fillpattern": {
             "fillmode": "overlay",
             "size": 10,
             "solidity": 0.2
            },
            "type": "scatter"
           }
          ],
          "scatter3d": [
           {
            "line": {
             "colorbar": {
              "outlinewidth": 0,
              "ticks": ""
             }
            },
            "marker": {
             "colorbar": {
              "outlinewidth": 0,
              "ticks": ""
             }
            },
            "type": "scatter3d"
           }
          ],
          "scattercarpet": [
           {
            "marker": {
             "colorbar": {
              "outlinewidth": 0,
              "ticks": ""
             }
            },
            "type": "scattercarpet"
           }
          ],
          "scattergeo": [
           {
            "marker": {
             "colorbar": {
              "outlinewidth": 0,
              "ticks": ""
             }
            },
            "type": "scattergeo"
           }
          ],
          "scattergl": [
           {
            "marker": {
             "colorbar": {
              "outlinewidth": 0,
              "ticks": ""
             }
            },
            "type": "scattergl"
           }
          ],
          "scattermapbox": [
           {
            "marker": {
             "colorbar": {
              "outlinewidth": 0,
              "ticks": ""
             }
            },
            "type": "scattermapbox"
           }
          ],
          "scatterpolar": [
           {
            "marker": {
             "colorbar": {
              "outlinewidth": 0,
              "ticks": ""
             }
            },
            "type": "scatterpolar"
           }
          ],
          "scatterpolargl": [
           {
            "marker": {
             "colorbar": {
              "outlinewidth": 0,
              "ticks": ""
             }
            },
            "type": "scatterpolargl"
           }
          ],
          "scatterternary": [
           {
            "marker": {
             "colorbar": {
              "outlinewidth": 0,
              "ticks": ""
             }
            },
            "type": "scatterternary"
           }
          ],
          "surface": [
           {
            "colorbar": {
             "outlinewidth": 0,
             "ticks": ""
            },
            "colorscale": [
             [
              0,
              "#0d0887"
             ],
             [
              0.1111111111111111,
              "#46039f"
             ],
             [
              0.2222222222222222,
              "#7201a8"
             ],
             [
              0.3333333333333333,
              "#9c179e"
             ],
             [
              0.4444444444444444,
              "#bd3786"
             ],
             [
              0.5555555555555556,
              "#d8576b"
             ],
             [
              0.6666666666666666,
              "#ed7953"
             ],
             [
              0.7777777777777778,
              "#fb9f3a"
             ],
             [
              0.8888888888888888,
              "#fdca26"
             ],
             [
              1,
              "#f0f921"
             ]
            ],
            "type": "surface"
           }
          ],
          "table": [
           {
            "cells": {
             "fill": {
              "color": "#EBF0F8"
             },
             "line": {
              "color": "white"
             }
            },
            "header": {
             "fill": {
              "color": "#C8D4E3"
             },
             "line": {
              "color": "white"
             }
            },
            "type": "table"
           }
          ]
         },
         "layout": {
          "annotationdefaults": {
           "arrowcolor": "#2a3f5f",
           "arrowhead": 0,
           "arrowwidth": 1
          },
          "autotypenumbers": "strict",
          "coloraxis": {
           "colorbar": {
            "outlinewidth": 0,
            "ticks": ""
           }
          },
          "colorscale": {
           "diverging": [
            [
             0,
             "#8e0152"
            ],
            [
             0.1,
             "#c51b7d"
            ],
            [
             0.2,
             "#de77ae"
            ],
            [
             0.3,
             "#f1b6da"
            ],
            [
             0.4,
             "#fde0ef"
            ],
            [
             0.5,
             "#f7f7f7"
            ],
            [
             0.6,
             "#e6f5d0"
            ],
            [
             0.7,
             "#b8e186"
            ],
            [
             0.8,
             "#7fbc41"
            ],
            [
             0.9,
             "#4d9221"
            ],
            [
             1,
             "#276419"
            ]
           ],
           "sequential": [
            [
             0,
             "#0d0887"
            ],
            [
             0.1111111111111111,
             "#46039f"
            ],
            [
             0.2222222222222222,
             "#7201a8"
            ],
            [
             0.3333333333333333,
             "#9c179e"
            ],
            [
             0.4444444444444444,
             "#bd3786"
            ],
            [
             0.5555555555555556,
             "#d8576b"
            ],
            [
             0.6666666666666666,
             "#ed7953"
            ],
            [
             0.7777777777777778,
             "#fb9f3a"
            ],
            [
             0.8888888888888888,
             "#fdca26"
            ],
            [
             1,
             "#f0f921"
            ]
           ],
           "sequentialminus": [
            [
             0,
             "#0d0887"
            ],
            [
             0.1111111111111111,
             "#46039f"
            ],
            [
             0.2222222222222222,
             "#7201a8"
            ],
            [
             0.3333333333333333,
             "#9c179e"
            ],
            [
             0.4444444444444444,
             "#bd3786"
            ],
            [
             0.5555555555555556,
             "#d8576b"
            ],
            [
             0.6666666666666666,
             "#ed7953"
            ],
            [
             0.7777777777777778,
             "#fb9f3a"
            ],
            [
             0.8888888888888888,
             "#fdca26"
            ],
            [
             1,
             "#f0f921"
            ]
           ]
          },
          "colorway": [
           "#636efa",
           "#EF553B",
           "#00cc96",
           "#ab63fa",
           "#FFA15A",
           "#19d3f3",
           "#FF6692",
           "#B6E880",
           "#FF97FF",
           "#FECB52"
          ],
          "font": {
           "color": "#2a3f5f"
          },
          "geo": {
           "bgcolor": "white",
           "lakecolor": "white",
           "landcolor": "#E5ECF6",
           "showlakes": true,
           "showland": true,
           "subunitcolor": "white"
          },
          "hoverlabel": {
           "align": "left"
          },
          "hovermode": "closest",
          "mapbox": {
           "style": "light"
          },
          "paper_bgcolor": "white",
          "plot_bgcolor": "#E5ECF6",
          "polar": {
           "angularaxis": {
            "gridcolor": "white",
            "linecolor": "white",
            "ticks": ""
           },
           "bgcolor": "#E5ECF6",
           "radialaxis": {
            "gridcolor": "white",
            "linecolor": "white",
            "ticks": ""
           }
          },
          "scene": {
           "xaxis": {
            "backgroundcolor": "#E5ECF6",
            "gridcolor": "white",
            "gridwidth": 2,
            "linecolor": "white",
            "showbackground": true,
            "ticks": "",
            "zerolinecolor": "white"
           },
           "yaxis": {
            "backgroundcolor": "#E5ECF6",
            "gridcolor": "white",
            "gridwidth": 2,
            "linecolor": "white",
            "showbackground": true,
            "ticks": "",
            "zerolinecolor": "white"
           },
           "zaxis": {
            "backgroundcolor": "#E5ECF6",
            "gridcolor": "white",
            "gridwidth": 2,
            "linecolor": "white",
            "showbackground": true,
            "ticks": "",
            "zerolinecolor": "white"
           }
          },
          "shapedefaults": {
           "line": {
            "color": "#2a3f5f"
           }
          },
          "ternary": {
           "aaxis": {
            "gridcolor": "white",
            "linecolor": "white",
            "ticks": ""
           },
           "baxis": {
            "gridcolor": "white",
            "linecolor": "white",
            "ticks": ""
           },
           "bgcolor": "#E5ECF6",
           "caxis": {
            "gridcolor": "white",
            "linecolor": "white",
            "ticks": ""
           }
          },
          "title": {
           "x": 0.05
          },
          "xaxis": {
           "automargin": true,
           "gridcolor": "white",
           "linecolor": "white",
           "ticks": "",
           "title": {
            "standoff": 15
           },
           "zerolinecolor": "white",
           "zerolinewidth": 2
          },
          "yaxis": {
           "automargin": true,
           "gridcolor": "white",
           "linecolor": "white",
           "ticks": "",
           "title": {
            "standoff": 15
           },
           "zerolinecolor": "white",
           "zerolinewidth": 2
          }
         }
        },
        "title": {
         "text": "Hyperparameter Importances"
        },
        "xaxis": {
         "title": {
          "text": "Hyperparameter Importance"
         }
        },
        "yaxis": {
         "title": {
          "text": "Hyperparameter"
         }
        }
       }
      },
      "text/html": [
       "<div>                            <div id=\"addc988b-5691-40f3-a599-0b39e84e0636\" class=\"plotly-graph-div\" style=\"height:525px; width:100%;\"></div>            <script type=\"text/javascript\">                require([\"plotly\"], function(Plotly) {                    window.PLOTLYENV=window.PLOTLYENV || {};                                    if (document.getElementById(\"addc988b-5691-40f3-a599-0b39e84e0636\")) {                    Plotly.newPlot(                        \"addc988b-5691-40f3-a599-0b39e84e0636\",                        [{\"cliponaxis\":false,\"hovertemplate\":[\"xgboost (FloatDistribution): 0.021958633055249314\\u003cextra\\u003e\\u003c\\u002fextra\\u003e\",\"lightgbm (FloatDistribution): 0.030339487160216762\\u003cextra\\u003e\\u003c\\u002fextra\\u003e\",\"catboost (FloatDistribution): 0.947701879784534\\u003cextra\\u003e\\u003c\\u002fextra\\u003e\"],\"name\":\"Objective Value\",\"orientation\":\"h\",\"text\":[\"0.02\",\"0.03\",\"0.95\"],\"textposition\":\"outside\",\"x\":[0.021958633055249314,0.030339487160216762,0.947701879784534],\"y\":[\"xgboost\",\"lightgbm\",\"catboost\"],\"type\":\"bar\"}],                        {\"title\":{\"text\":\"Hyperparameter Importances\"},\"xaxis\":{\"title\":{\"text\":\"Hyperparameter Importance\"}},\"yaxis\":{\"title\":{\"text\":\"Hyperparameter\"}},\"template\":{\"data\":{\"histogram2dcontour\":[{\"type\":\"histogram2dcontour\",\"colorbar\":{\"outlinewidth\":0,\"ticks\":\"\"},\"colorscale\":[[0.0,\"#0d0887\"],[0.1111111111111111,\"#46039f\"],[0.2222222222222222,\"#7201a8\"],[0.3333333333333333,\"#9c179e\"],[0.4444444444444444,\"#bd3786\"],[0.5555555555555556,\"#d8576b\"],[0.6666666666666666,\"#ed7953\"],[0.7777777777777778,\"#fb9f3a\"],[0.8888888888888888,\"#fdca26\"],[1.0,\"#f0f921\"]]}],\"choropleth\":[{\"type\":\"choropleth\",\"colorbar\":{\"outlinewidth\":0,\"ticks\":\"\"}}],\"histogram2d\":[{\"type\":\"histogram2d\",\"colorbar\":{\"outlinewidth\":0,\"ticks\":\"\"},\"colorscale\":[[0.0,\"#0d0887\"],[0.1111111111111111,\"#46039f\"],[0.2222222222222222,\"#7201a8\"],[0.3333333333333333,\"#9c179e\"],[0.4444444444444444,\"#bd3786\"],[0.5555555555555556,\"#d8576b\"],[0.6666666666666666,\"#ed7953\"],[0.7777777777777778,\"#fb9f3a\"],[0.8888888888888888,\"#fdca26\"],[1.0,\"#f0f921\"]]}],\"heatmap\":[{\"type\":\"heatmap\",\"colorbar\":{\"outlinewidth\":0,\"ticks\":\"\"},\"colorscale\":[[0.0,\"#0d0887\"],[0.1111111111111111,\"#46039f\"],[0.2222222222222222,\"#7201a8\"],[0.3333333333333333,\"#9c179e\"],[0.4444444444444444,\"#bd3786\"],[0.5555555555555556,\"#d8576b\"],[0.6666666666666666,\"#ed7953\"],[0.7777777777777778,\"#fb9f3a\"],[0.8888888888888888,\"#fdca26\"],[1.0,\"#f0f921\"]]}],\"heatmapgl\":[{\"type\":\"heatmapgl\",\"colorbar\":{\"outlinewidth\":0,\"ticks\":\"\"},\"colorscale\":[[0.0,\"#0d0887\"],[0.1111111111111111,\"#46039f\"],[0.2222222222222222,\"#7201a8\"],[0.3333333333333333,\"#9c179e\"],[0.4444444444444444,\"#bd3786\"],[0.5555555555555556,\"#d8576b\"],[0.6666666666666666,\"#ed7953\"],[0.7777777777777778,\"#fb9f3a\"],[0.8888888888888888,\"#fdca26\"],[1.0,\"#f0f921\"]]}],\"contourcarpet\":[{\"type\":\"contourcarpet\",\"colorbar\":{\"outlinewidth\":0,\"ticks\":\"\"}}],\"contour\":[{\"type\":\"contour\",\"colorbar\":{\"outlinewidth\":0,\"ticks\":\"\"},\"colorscale\":[[0.0,\"#0d0887\"],[0.1111111111111111,\"#46039f\"],[0.2222222222222222,\"#7201a8\"],[0.3333333333333333,\"#9c179e\"],[0.4444444444444444,\"#bd3786\"],[0.5555555555555556,\"#d8576b\"],[0.6666666666666666,\"#ed7953\"],[0.7777777777777778,\"#fb9f3a\"],[0.8888888888888888,\"#fdca26\"],[1.0,\"#f0f921\"]]}],\"surface\":[{\"type\":\"surface\",\"colorbar\":{\"outlinewidth\":0,\"ticks\":\"\"},\"colorscale\":[[0.0,\"#0d0887\"],[0.1111111111111111,\"#46039f\"],[0.2222222222222222,\"#7201a8\"],[0.3333333333333333,\"#9c179e\"],[0.4444444444444444,\"#bd3786\"],[0.5555555555555556,\"#d8576b\"],[0.6666666666666666,\"#ed7953\"],[0.7777777777777778,\"#fb9f3a\"],[0.8888888888888888,\"#fdca26\"],[1.0,\"#f0f921\"]]}],\"mesh3d\":[{\"type\":\"mesh3d\",\"colorbar\":{\"outlinewidth\":0,\"ticks\":\"\"}}],\"scatter\":[{\"fillpattern\":{\"fillmode\":\"overlay\",\"size\":10,\"solidity\":0.2},\"type\":\"scatter\"}],\"parcoords\":[{\"type\":\"parcoords\",\"line\":{\"colorbar\":{\"outlinewidth\":0,\"ticks\":\"\"}}}],\"scatterpolargl\":[{\"type\":\"scatterpolargl\",\"marker\":{\"colorbar\":{\"outlinewidth\":0,\"ticks\":\"\"}}}],\"bar\":[{\"error_x\":{\"color\":\"#2a3f5f\"},\"error_y\":{\"color\":\"#2a3f5f\"},\"marker\":{\"line\":{\"color\":\"#E5ECF6\",\"width\":0.5},\"pattern\":{\"fillmode\":\"overlay\",\"size\":10,\"solidity\":0.2}},\"type\":\"bar\"}],\"scattergeo\":[{\"type\":\"scattergeo\",\"marker\":{\"colorbar\":{\"outlinewidth\":0,\"ticks\":\"\"}}}],\"scatterpolar\":[{\"type\":\"scatterpolar\",\"marker\":{\"colorbar\":{\"outlinewidth\":0,\"ticks\":\"\"}}}],\"histogram\":[{\"marker\":{\"pattern\":{\"fillmode\":\"overlay\",\"size\":10,\"solidity\":0.2}},\"type\":\"histogram\"}],\"scattergl\":[{\"type\":\"scattergl\",\"marker\":{\"colorbar\":{\"outlinewidth\":0,\"ticks\":\"\"}}}],\"scatter3d\":[{\"type\":\"scatter3d\",\"line\":{\"colorbar\":{\"outlinewidth\":0,\"ticks\":\"\"}},\"marker\":{\"colorbar\":{\"outlinewidth\":0,\"ticks\":\"\"}}}],\"scattermapbox\":[{\"type\":\"scattermapbox\",\"marker\":{\"colorbar\":{\"outlinewidth\":0,\"ticks\":\"\"}}}],\"scatterternary\":[{\"type\":\"scatterternary\",\"marker\":{\"colorbar\":{\"outlinewidth\":0,\"ticks\":\"\"}}}],\"scattercarpet\":[{\"type\":\"scattercarpet\",\"marker\":{\"colorbar\":{\"outlinewidth\":0,\"ticks\":\"\"}}}],\"carpet\":[{\"aaxis\":{\"endlinecolor\":\"#2a3f5f\",\"gridcolor\":\"white\",\"linecolor\":\"white\",\"minorgridcolor\":\"white\",\"startlinecolor\":\"#2a3f5f\"},\"baxis\":{\"endlinecolor\":\"#2a3f5f\",\"gridcolor\":\"white\",\"linecolor\":\"white\",\"minorgridcolor\":\"white\",\"startlinecolor\":\"#2a3f5f\"},\"type\":\"carpet\"}],\"table\":[{\"cells\":{\"fill\":{\"color\":\"#EBF0F8\"},\"line\":{\"color\":\"white\"}},\"header\":{\"fill\":{\"color\":\"#C8D4E3\"},\"line\":{\"color\":\"white\"}},\"type\":\"table\"}],\"barpolar\":[{\"marker\":{\"line\":{\"color\":\"#E5ECF6\",\"width\":0.5},\"pattern\":{\"fillmode\":\"overlay\",\"size\":10,\"solidity\":0.2}},\"type\":\"barpolar\"}],\"pie\":[{\"automargin\":true,\"type\":\"pie\"}]},\"layout\":{\"autotypenumbers\":\"strict\",\"colorway\":[\"#636efa\",\"#EF553B\",\"#00cc96\",\"#ab63fa\",\"#FFA15A\",\"#19d3f3\",\"#FF6692\",\"#B6E880\",\"#FF97FF\",\"#FECB52\"],\"font\":{\"color\":\"#2a3f5f\"},\"hovermode\":\"closest\",\"hoverlabel\":{\"align\":\"left\"},\"paper_bgcolor\":\"white\",\"plot_bgcolor\":\"#E5ECF6\",\"polar\":{\"bgcolor\":\"#E5ECF6\",\"angularaxis\":{\"gridcolor\":\"white\",\"linecolor\":\"white\",\"ticks\":\"\"},\"radialaxis\":{\"gridcolor\":\"white\",\"linecolor\":\"white\",\"ticks\":\"\"}},\"ternary\":{\"bgcolor\":\"#E5ECF6\",\"aaxis\":{\"gridcolor\":\"white\",\"linecolor\":\"white\",\"ticks\":\"\"},\"baxis\":{\"gridcolor\":\"white\",\"linecolor\":\"white\",\"ticks\":\"\"},\"caxis\":{\"gridcolor\":\"white\",\"linecolor\":\"white\",\"ticks\":\"\"}},\"coloraxis\":{\"colorbar\":{\"outlinewidth\":0,\"ticks\":\"\"}},\"colorscale\":{\"sequential\":[[0.0,\"#0d0887\"],[0.1111111111111111,\"#46039f\"],[0.2222222222222222,\"#7201a8\"],[0.3333333333333333,\"#9c179e\"],[0.4444444444444444,\"#bd3786\"],[0.5555555555555556,\"#d8576b\"],[0.6666666666666666,\"#ed7953\"],[0.7777777777777778,\"#fb9f3a\"],[0.8888888888888888,\"#fdca26\"],[1.0,\"#f0f921\"]],\"sequentialminus\":[[0.0,\"#0d0887\"],[0.1111111111111111,\"#46039f\"],[0.2222222222222222,\"#7201a8\"],[0.3333333333333333,\"#9c179e\"],[0.4444444444444444,\"#bd3786\"],[0.5555555555555556,\"#d8576b\"],[0.6666666666666666,\"#ed7953\"],[0.7777777777777778,\"#fb9f3a\"],[0.8888888888888888,\"#fdca26\"],[1.0,\"#f0f921\"]],\"diverging\":[[0,\"#8e0152\"],[0.1,\"#c51b7d\"],[0.2,\"#de77ae\"],[0.3,\"#f1b6da\"],[0.4,\"#fde0ef\"],[0.5,\"#f7f7f7\"],[0.6,\"#e6f5d0\"],[0.7,\"#b8e186\"],[0.8,\"#7fbc41\"],[0.9,\"#4d9221\"],[1,\"#276419\"]]},\"xaxis\":{\"gridcolor\":\"white\",\"linecolor\":\"white\",\"ticks\":\"\",\"title\":{\"standoff\":15},\"zerolinecolor\":\"white\",\"automargin\":true,\"zerolinewidth\":2},\"yaxis\":{\"gridcolor\":\"white\",\"linecolor\":\"white\",\"ticks\":\"\",\"title\":{\"standoff\":15},\"zerolinecolor\":\"white\",\"automargin\":true,\"zerolinewidth\":2},\"scene\":{\"xaxis\":{\"backgroundcolor\":\"#E5ECF6\",\"gridcolor\":\"white\",\"linecolor\":\"white\",\"showbackground\":true,\"ticks\":\"\",\"zerolinecolor\":\"white\",\"gridwidth\":2},\"yaxis\":{\"backgroundcolor\":\"#E5ECF6\",\"gridcolor\":\"white\",\"linecolor\":\"white\",\"showbackground\":true,\"ticks\":\"\",\"zerolinecolor\":\"white\",\"gridwidth\":2},\"zaxis\":{\"backgroundcolor\":\"#E5ECF6\",\"gridcolor\":\"white\",\"linecolor\":\"white\",\"showbackground\":true,\"ticks\":\"\",\"zerolinecolor\":\"white\",\"gridwidth\":2}},\"shapedefaults\":{\"line\":{\"color\":\"#2a3f5f\"}},\"annotationdefaults\":{\"arrowcolor\":\"#2a3f5f\",\"arrowhead\":0,\"arrowwidth\":1},\"geo\":{\"bgcolor\":\"white\",\"landcolor\":\"#E5ECF6\",\"subunitcolor\":\"white\",\"showland\":true,\"showlakes\":true,\"lakecolor\":\"white\"},\"title\":{\"x\":0.05},\"mapbox\":{\"style\":\"light\"}}}},                        {\"responsive\": true}                    ).then(function(){\n",
       "                            \n",
       "var gd = document.getElementById('addc988b-5691-40f3-a599-0b39e84e0636');\n",
       "var x = new MutationObserver(function (mutations, observer) {{\n",
       "        var display = window.getComputedStyle(gd).display;\n",
       "        if (!display || display === 'none') {{\n",
       "            console.log([gd, 'removed!']);\n",
       "            Plotly.purge(gd);\n",
       "            observer.disconnect();\n",
       "        }}\n",
       "}});\n",
       "\n",
       "// Listen for the removal of the full notebook cells\n",
       "var notebookContainer = gd.closest('#notebook-container');\n",
       "if (notebookContainer) {{\n",
       "    x.observe(notebookContainer, {childList: true});\n",
       "}}\n",
       "\n",
       "// Listen for the clearing of the current output cell\n",
       "var outputEl = gd.closest('.output');\n",
       "if (outputEl) {{\n",
       "    x.observe(outputEl, {childList: true});\n",
       "}}\n",
       "\n",
       "                        })                };                });            </script>        </div>"
      ]
     },
     "metadata": {},
     "output_type": "display_data"
    }
   ],
   "source": [
    "\n",
    "optuna.visualization.plot_param_importances(study)"
   ]
  },
  {
   "cell_type": "code",
   "execution_count": 28,
   "metadata": {},
   "outputs": [
    {
     "data": {
      "application/vnd.plotly.v1+json": {
       "config": {
        "plotlyServerURL": "https://plot.ly"
       },
       "data": [
        {
         "marker": {
          "color": [
           0,
           1,
           2,
           3,
           4,
           5,
           6,
           7,
           8,
           9,
           10,
           11,
           12,
           13,
           14,
           15,
           16,
           17,
           18,
           19,
           20,
           21,
           22,
           23,
           24,
           25,
           26,
           27,
           28,
           29,
           30,
           31,
           32,
           33,
           34,
           35,
           36,
           37,
           38,
           39,
           40,
           41,
           42,
           43,
           44,
           45,
           46,
           47,
           48,
           49,
           50,
           51,
           52,
           53,
           54,
           55,
           56,
           57,
           58,
           59,
           60,
           61,
           62,
           63,
           64,
           65,
           66,
           67,
           68,
           69,
           70,
           71,
           72,
           73,
           74,
           75,
           76,
           77,
           78,
           79,
           80,
           81,
           82,
           83,
           84,
           85,
           86,
           87,
           88,
           89,
           90,
           91,
           92,
           93,
           94,
           95,
           96,
           97,
           98,
           99
          ],
          "colorbar": {
           "title": {
            "text": "Trial"
           },
           "x": 1,
           "xpad": 40
          },
          "colorscale": [
           [
            0,
            "rgb(247,251,255)"
           ],
           [
            0.125,
            "rgb(222,235,247)"
           ],
           [
            0.25,
            "rgb(198,219,239)"
           ],
           [
            0.375,
            "rgb(158,202,225)"
           ],
           [
            0.5,
            "rgb(107,174,214)"
           ],
           [
            0.625,
            "rgb(66,146,198)"
           ],
           [
            0.75,
            "rgb(33,113,181)"
           ],
           [
            0.875,
            "rgb(8,81,156)"
           ],
           [
            1,
            "rgb(8,48,107)"
           ]
          ],
          "line": {
           "color": "Grey",
           "width": 0.5
          },
          "showscale": true
         },
         "mode": "markers",
         "name": "Feasible Trial",
         "showlegend": false,
         "type": "scatter",
         "x": [
          0.6211105268618939,
          0.9077238331605784,
          0.8458729381866804,
          0.27208547956068885,
          0.5185715250879869,
          0.9043024494000587,
          0.037165084873568066,
          0.5459227526618146,
          0.28982871543089506,
          0.8214551109217476,
          0.28147248952197845,
          0.28380720309398016,
          0.26698749931821286,
          0.1163234169671552,
          0.002509139786034814,
          0.16244243864339675,
          0.3820823048679882,
          0.1555752954418819,
          0.11519204871841572,
          0.1332900621519283,
          0.41452376615319103,
          0.12520384858040956,
          0.08541207598453499,
          0.20065668486810756,
          0.07572640884107001,
          0.39341005495814385,
          0.05118690483183105,
          0.001726355954661779,
          0.011723636692223746,
          0.6789990240462699,
          0.6710413614623503,
          0.2096651263812488,
          0.07603272537250583,
          0.06290381458579852,
          0.06685024125564884,
          0.20486023141418438,
          0.06832118022610419,
          0.06735035407125073,
          0.35429504480220986,
          0.22693929480400699,
          0.3329705030696355,
          0.21626840278571863,
          0.06377371698237351,
          0.17645697250428138,
          0.0952354546085272,
          0.1515883989698457,
          0.48659546733587455,
          0.18148115174299592,
          0.2503168197386281,
          0.9720338961720545,
          0.17978656502685778,
          0.16980027254283867,
          0.15580995546942206,
          0.28363985869571007,
          0.3230107845069212,
          0.16311137890902208,
          0.12933077292321837,
          0.24639964102447667,
          0.12675156139148439,
          0.18332015719678774,
          0.4380733198703297,
          0.2446197417538367,
          0.035350933698376885,
          0.30785610208430214,
          0.12051621651939173,
          0.14817457941746848,
          0.2457058098936253,
          0.10428732042782812,
          0.7997693944474479,
          0.020382127514080528,
          0.18886442575247692,
          0.2442830489765973,
          0.27239491774899915,
          0.5811153156584452,
          0.14777537702213026,
          0.21983238007005765,
          0.10403126710077339,
          0.18605663624031074,
          0.03562286198265957,
          0.23224870531035338,
          0.2937991248714866,
          0.2686760685704052,
          0.24357369273660223,
          0.34169655565323503,
          0.16618407277100442,
          0.2023542171237813,
          0.3577928428056071,
          0.13696067497817005,
          0.25234904532501823,
          0.08200143863162014,
          0.1725954144752979,
          0.233809804568878,
          0.21219903487698416,
          0.20706594564708253,
          0.12693825778974221,
          0.19397819301731628,
          0.30924847172392633,
          0.16059961993137584,
          0.09833018586047933,
          0.04796238040619702
         ],
         "xaxis": "x",
         "y": [
          0.8939685441168703,
          0.8932681107271783,
          0.8937484598919943,
          0.8952865584726781,
          0.8946373383514208,
          0.893422686070364,
          0.8952791222910985,
          0.8939037889022321,
          0.8955250682647202,
          0.8939677982341729,
          0.8954004718861561,
          0.8953873488797603,
          0.8953460033421915,
          0.8955526906929259,
          0.8952620278485566,
          0.8954805445874984,
          0.8954000253472739,
          0.8955339834736598,
          0.8955615804257961,
          0.8954251716430712,
          0.8954116403118969,
          0.8955467696298052,
          0.8955239593480342,
          0.895534289186492,
          0.8955473003812501,
          0.8949191956754825,
          0.895582625782095,
          0.8955576139433303,
          0.8951020176105735,
          0.8938963229985718,
          0.8936748206058347,
          0.8950869492232144,
          0.8956131192217842,
          0.895608465593114,
          0.8956220804291822,
          0.895504915986186,
          0.8956058033438657,
          0.8954548024347451,
          0.8950538260870322,
          0.8955881540891466,
          0.8951135228865648,
          0.8955770578456022,
          0.8955229813500382,
          0.8956118836324203,
          0.895600447707951,
          0.8955775977967388,
          0.8954251037068863,
          0.8956195604213213,
          0.8955783033423266,
          0.8934434257138305,
          0.8956203643328433,
          0.8956252720145385,
          0.8956250526372747,
          0.8955541053224441,
          0.8955724105859493,
          0.8955776232728084,
          0.8956226706247892,
          0.8956147489825546,
          0.8955872390736552,
          0.8956057262079891,
          0.8954335900686582,
          0.8956155826161578,
          0.8955258912832942,
          0.8955726391629051,
          0.8955620474870676,
          0.8955711424438302,
          0.8956175379044815,
          0.8955416694622524,
          0.89429618476825,
          0.895533584348573,
          0.8955793167237522,
          0.8955989297588183,
          0.8956134992398188,
          0.8949815993073849,
          0.8956039910045982,
          0.8950337290066485,
          0.8955765362938489,
          0.895592117740938,
          0.8954315774591786,
          0.8955974535621323,
          0.8954240882024547,
          0.8956005184748104,
          0.8956182038206277,
          0.8955275075983615,
          0.8956072625565054,
          0.8956058146665633,
          0.8955146655363972,
          0.8956073984288752,
          0.8955988604072962,
          0.8956073142163127,
          0.8954997174526991,
          0.8956175966409745,
          0.8956191789879494,
          0.8956097224125359,
          0.8955734841192057,
          0.8956190593919571,
          0.8955490964441402,
          0.8956153045024006,
          0.895607665219935,
          0.8956193467054061
         ],
         "yaxis": "y"
        },
        {
         "marker": {
          "color": [
           0,
           1,
           2,
           3,
           4,
           5,
           6,
           7,
           8,
           9,
           10,
           11,
           12,
           13,
           14,
           15,
           16,
           17,
           18,
           19,
           20,
           21,
           22,
           23,
           24,
           25,
           26,
           27,
           28,
           29,
           30,
           31,
           32,
           33,
           34,
           35,
           36,
           37,
           38,
           39,
           40,
           41,
           42,
           43,
           44,
           45,
           46,
           47,
           48,
           49,
           50,
           51,
           52,
           53,
           54,
           55,
           56,
           57,
           58,
           59,
           60,
           61,
           62,
           63,
           64,
           65,
           66,
           67,
           68,
           69,
           70,
           71,
           72,
           73,
           74,
           75,
           76,
           77,
           78,
           79,
           80,
           81,
           82,
           83,
           84,
           85,
           86,
           87,
           88,
           89,
           90,
           91,
           92,
           93,
           94,
           95,
           96,
           97,
           98,
           99
          ],
          "colorbar": {
           "title": {
            "text": "Trial"
           },
           "x": 1,
           "xpad": 40
          },
          "colorscale": [
           [
            0,
            "rgb(247,251,255)"
           ],
           [
            0.125,
            "rgb(222,235,247)"
           ],
           [
            0.25,
            "rgb(198,219,239)"
           ],
           [
            0.375,
            "rgb(158,202,225)"
           ],
           [
            0.5,
            "rgb(107,174,214)"
           ],
           [
            0.625,
            "rgb(66,146,198)"
           ],
           [
            0.75,
            "rgb(33,113,181)"
           ],
           [
            0.875,
            "rgb(8,81,156)"
           ],
           [
            1,
            "rgb(8,48,107)"
           ]
          ],
          "line": {
           "color": "Grey",
           "width": 0.5
          },
          "showscale": false
         },
         "mode": "markers",
         "name": "Feasible Trial",
         "showlegend": false,
         "type": "scatter",
         "x": [
          0.43630777740346327,
          0.028494269339640277,
          0.39977754817114286,
          0.22108459562477545,
          0.2453376578572798,
          0.1499611897427826,
          0.6832212348390769,
          0.022685825575899377,
          0.9464705873634761,
          0.30684256522192577,
          0.955751867992615,
          0.9783879516552535,
          0.9975405571826277,
          0.7554006645216125,
          0.7473022876742145,
          0.7665057029578481,
          0.5944508969911526,
          0.8212509625054538,
          0.8048696704987957,
          0.6106286480979951,
          0.8441787575924459,
          0.85958759734371,
          0.8678502417877759,
          0.5806838624130718,
          0.7154965914720041,
          0.7174883592273602,
          0.5221882044275816,
          0.5044297676101441,
          0.4864617497059305,
          0.4329043219701695,
          0.377053670928013,
          0.5301134953839125,
          0.528195958568439,
          0.5147143888405419,
          0.35234758164723445,
          0.33984124926363307,
          0.4495480979493389,
          0.1228983710922621,
          0.2905440623805456,
          0.44849194547127236,
          0.20354648844372453,
          0.41402245279256544,
          0.4783222386849578,
          0.635243352718232,
          0.6557174187624465,
          0.3686041563804344,
          0.5615674669503359,
          0.6375074381086303,
          0.6494821711022974,
          0.6402043909663387,
          0.5541938262774918,
          0.5574661318751899,
          0.5507171193619218,
          0.5513049587173514,
          0.6033649781914812,
          0.673900199821654,
          0.5577315963164884,
          0.5674210942781983,
          0.7007434380759654,
          0.613891474205008,
          0.47210405576940667,
          0.5681229922706063,
          0.5850608868287275,
          0.5485672462310179,
          0.6151364522105026,
          0.40057296512151297,
          0.6791112403469541,
          0.759123285651179,
          0.6760197325447963,
          0.5004629458512557,
          0.7301347714929002,
          0.7852425494223249,
          0.5902535446309907,
          0.539634113193223,
          0.6908497038370787,
          0.06919863711732432,
          0.26017378892873394,
          0.6242208929085657,
          0.5786221903227036,
          0.46701776175500453,
          0.5084255968977132,
          0.5621958052335979,
          0.5716581856529235,
          0.5311945763803835,
          0.6506929605867333,
          0.4925965135117392,
          0.605710919971948,
          0.43871744628758225,
          0.6613448405912872,
          0.33286317982164343,
          0.8961611349771416,
          0.5601419132320807,
          0.5752089513706166,
          0.5222582342868879,
          0.6301375262515413,
          0.597403938415668,
          0.5880058235142741,
          0.5434846775827759,
          0.4654043614779506,
          0.42613754762908623
         ],
         "xaxis": "x2",
         "y": [
          0.8939685441168703,
          0.8932681107271783,
          0.8937484598919943,
          0.8952865584726781,
          0.8946373383514208,
          0.893422686070364,
          0.8952791222910985,
          0.8939037889022321,
          0.8955250682647202,
          0.8939677982341729,
          0.8954004718861561,
          0.8953873488797603,
          0.8953460033421915,
          0.8955526906929259,
          0.8952620278485566,
          0.8954805445874984,
          0.8954000253472739,
          0.8955339834736598,
          0.8955615804257961,
          0.8954251716430712,
          0.8954116403118969,
          0.8955467696298052,
          0.8955239593480342,
          0.895534289186492,
          0.8955473003812501,
          0.8949191956754825,
          0.895582625782095,
          0.8955576139433303,
          0.8951020176105735,
          0.8938963229985718,
          0.8936748206058347,
          0.8950869492232144,
          0.8956131192217842,
          0.895608465593114,
          0.8956220804291822,
          0.895504915986186,
          0.8956058033438657,
          0.8954548024347451,
          0.8950538260870322,
          0.8955881540891466,
          0.8951135228865648,
          0.8955770578456022,
          0.8955229813500382,
          0.8956118836324203,
          0.895600447707951,
          0.8955775977967388,
          0.8954251037068863,
          0.8956195604213213,
          0.8955783033423266,
          0.8934434257138305,
          0.8956203643328433,
          0.8956252720145385,
          0.8956250526372747,
          0.8955541053224441,
          0.8955724105859493,
          0.8955776232728084,
          0.8956226706247892,
          0.8956147489825546,
          0.8955872390736552,
          0.8956057262079891,
          0.8954335900686582,
          0.8956155826161578,
          0.8955258912832942,
          0.8955726391629051,
          0.8955620474870676,
          0.8955711424438302,
          0.8956175379044815,
          0.8955416694622524,
          0.89429618476825,
          0.895533584348573,
          0.8955793167237522,
          0.8955989297588183,
          0.8956134992398188,
          0.8949815993073849,
          0.8956039910045982,
          0.8950337290066485,
          0.8955765362938489,
          0.895592117740938,
          0.8954315774591786,
          0.8955974535621323,
          0.8954240882024547,
          0.8956005184748104,
          0.8956182038206277,
          0.8955275075983615,
          0.8956072625565054,
          0.8956058146665633,
          0.8955146655363972,
          0.8956073984288752,
          0.8955988604072962,
          0.8956073142163127,
          0.8954997174526991,
          0.8956175966409745,
          0.8956191789879494,
          0.8956097224125359,
          0.8955734841192057,
          0.8956190593919571,
          0.8955490964441402,
          0.8956153045024006,
          0.895607665219935,
          0.8956193467054061
         ],
         "yaxis": "y2"
        },
        {
         "marker": {
          "color": [
           0,
           1,
           2,
           3,
           4,
           5,
           6,
           7,
           8,
           9,
           10,
           11,
           12,
           13,
           14,
           15,
           16,
           17,
           18,
           19,
           20,
           21,
           22,
           23,
           24,
           25,
           26,
           27,
           28,
           29,
           30,
           31,
           32,
           33,
           34,
           35,
           36,
           37,
           38,
           39,
           40,
           41,
           42,
           43,
           44,
           45,
           46,
           47,
           48,
           49,
           50,
           51,
           52,
           53,
           54,
           55,
           56,
           57,
           58,
           59,
           60,
           61,
           62,
           63,
           64,
           65,
           66,
           67,
           68,
           69,
           70,
           71,
           72,
           73,
           74,
           75,
           76,
           77,
           78,
           79,
           80,
           81,
           82,
           83,
           84,
           85,
           86,
           87,
           88,
           89,
           90,
           91,
           92,
           93,
           94,
           95,
           96,
           97,
           98,
           99
          ],
          "colorbar": {
           "title": {
            "text": "Trial"
           },
           "x": 1,
           "xpad": 40
          },
          "colorscale": [
           [
            0,
            "rgb(247,251,255)"
           ],
           [
            0.125,
            "rgb(222,235,247)"
           ],
           [
            0.25,
            "rgb(198,219,239)"
           ],
           [
            0.375,
            "rgb(158,202,225)"
           ],
           [
            0.5,
            "rgb(107,174,214)"
           ],
           [
            0.625,
            "rgb(66,146,198)"
           ],
           [
            0.75,
            "rgb(33,113,181)"
           ],
           [
            0.875,
            "rgb(8,81,156)"
           ],
           [
            1,
            "rgb(8,48,107)"
           ]
          ],
          "line": {
           "color": "Grey",
           "width": 0.5
          },
          "showscale": false
         },
         "mode": "markers",
         "name": "Feasible Trial",
         "showlegend": false,
         "type": "scatter",
         "x": [
          0.10677777142914457,
          0.4823974232951559,
          0.3297178496548091,
          0.6073551537655203,
          0.38249295495119173,
          0.7134320884356096,
          0.9115160699965825,
          0.10692083303479283,
          0.6173378600168322,
          0.965141745996278,
          0.7846977524892423,
          0.769057779797305,
          0.7671029083124471,
          0.6064642159216188,
          0.5872515608976472,
          0.2923026648211614,
          0.5035004409078508,
          0.6419980685526858,
          0.4866821631740498,
          0.2090507085322203,
          0.4938372756868434,
          0.4172793568578973,
          0.4498166663585529,
          0.4069532680670419,
          0.257854423812219,
          0.22487450144414178,
          0.24753858994142874,
          0.05257384391094477,
          0.0032402380044896026,
          0.13210284625350743,
          0.05551400275514429,
          0.131053394378709,
          0.5471281430533665,
          0.5355459076142562,
          0.5339291350182693,
          0.5514263134699162,
          0.3434688020761492,
          0.336808213347589,
          0.36251667675558374,
          0.6886526928346661,
          0.5453079707161033,
          0.6810932659440612,
          0.8367011581750844,
          0.6889202102966383,
          0.4423535828436628,
          0.5446818617272484,
          0.7202744897122109,
          0.6420168511227222,
          0.861271380201994,
          0.6417229577617639,
          0.5800096280360226,
          0.6445001462442643,
          0.5979308351889945,
          0.5723915220268144,
          0.6280227762742918,
          0.7360056877660648,
          0.5893893988025886,
          0.657333182196617,
          0.5978783898411598,
          0.5075318695698092,
          0.804680224168743,
          0.6547771656060261,
          0.5934369701346105,
          0.6547654112064601,
          0.753153368272026,
          0.4723832367713903,
          0.6170938767930493,
          0.5995320208955869,
          0.5075613453834162,
          0.5663094991963358,
          0.7108933259142388,
          0.6207133020042824,
          0.6686272846820909,
          0.5248852366767289,
          0.574730455315609,
          0.6264098921291553,
          0.702382989874986,
          0.4733684964085076,
          0.7967469351624838,
          0.7378379940911949,
          0.44468303420296196,
          0.6439378064388049,
          0.6689419147884591,
          0.999321257219338,
          0.6702837691403658,
          0.6151857973307477,
          0.5835538822080447,
          0.5214198330807664,
          0.5610626308506955,
          0.690546525932761,
          0.6342722175834911,
          0.6581015699275881,
          0.6109177678959736,
          0.6057087644965875,
          0.725092275739043,
          0.5773291772386787,
          0.5766311154213596,
          0.5274037552297937,
          0.4117003452710259,
          0.48850618656574274
         ],
         "xaxis": "x3",
         "y": [
          0.8939685441168703,
          0.8932681107271783,
          0.8937484598919943,
          0.8952865584726781,
          0.8946373383514208,
          0.893422686070364,
          0.8952791222910985,
          0.8939037889022321,
          0.8955250682647202,
          0.8939677982341729,
          0.8954004718861561,
          0.8953873488797603,
          0.8953460033421915,
          0.8955526906929259,
          0.8952620278485566,
          0.8954805445874984,
          0.8954000253472739,
          0.8955339834736598,
          0.8955615804257961,
          0.8954251716430712,
          0.8954116403118969,
          0.8955467696298052,
          0.8955239593480342,
          0.895534289186492,
          0.8955473003812501,
          0.8949191956754825,
          0.895582625782095,
          0.8955576139433303,
          0.8951020176105735,
          0.8938963229985718,
          0.8936748206058347,
          0.8950869492232144,
          0.8956131192217842,
          0.895608465593114,
          0.8956220804291822,
          0.895504915986186,
          0.8956058033438657,
          0.8954548024347451,
          0.8950538260870322,
          0.8955881540891466,
          0.8951135228865648,
          0.8955770578456022,
          0.8955229813500382,
          0.8956118836324203,
          0.895600447707951,
          0.8955775977967388,
          0.8954251037068863,
          0.8956195604213213,
          0.8955783033423266,
          0.8934434257138305,
          0.8956203643328433,
          0.8956252720145385,
          0.8956250526372747,
          0.8955541053224441,
          0.8955724105859493,
          0.8955776232728084,
          0.8956226706247892,
          0.8956147489825546,
          0.8955872390736552,
          0.8956057262079891,
          0.8954335900686582,
          0.8956155826161578,
          0.8955258912832942,
          0.8955726391629051,
          0.8955620474870676,
          0.8955711424438302,
          0.8956175379044815,
          0.8955416694622524,
          0.89429618476825,
          0.895533584348573,
          0.8955793167237522,
          0.8955989297588183,
          0.8956134992398188,
          0.8949815993073849,
          0.8956039910045982,
          0.8950337290066485,
          0.8955765362938489,
          0.895592117740938,
          0.8954315774591786,
          0.8955974535621323,
          0.8954240882024547,
          0.8956005184748104,
          0.8956182038206277,
          0.8955275075983615,
          0.8956072625565054,
          0.8956058146665633,
          0.8955146655363972,
          0.8956073984288752,
          0.8955988604072962,
          0.8956073142163127,
          0.8954997174526991,
          0.8956175966409745,
          0.8956191789879494,
          0.8956097224125359,
          0.8955734841192057,
          0.8956190593919571,
          0.8955490964441402,
          0.8956153045024006,
          0.895607665219935,
          0.8956193467054061
         ],
         "yaxis": "y3"
        }
       ],
       "layout": {
        "template": {
         "data": {
          "bar": [
           {
            "error_x": {
             "color": "#2a3f5f"
            },
            "error_y": {
             "color": "#2a3f5f"
            },
            "marker": {
             "line": {
              "color": "#E5ECF6",
              "width": 0.5
             },
             "pattern": {
              "fillmode": "overlay",
              "size": 10,
              "solidity": 0.2
             }
            },
            "type": "bar"
           }
          ],
          "barpolar": [
           {
            "marker": {
             "line": {
              "color": "#E5ECF6",
              "width": 0.5
             },
             "pattern": {
              "fillmode": "overlay",
              "size": 10,
              "solidity": 0.2
             }
            },
            "type": "barpolar"
           }
          ],
          "carpet": [
           {
            "aaxis": {
             "endlinecolor": "#2a3f5f",
             "gridcolor": "white",
             "linecolor": "white",
             "minorgridcolor": "white",
             "startlinecolor": "#2a3f5f"
            },
            "baxis": {
             "endlinecolor": "#2a3f5f",
             "gridcolor": "white",
             "linecolor": "white",
             "minorgridcolor": "white",
             "startlinecolor": "#2a3f5f"
            },
            "type": "carpet"
           }
          ],
          "choropleth": [
           {
            "colorbar": {
             "outlinewidth": 0,
             "ticks": ""
            },
            "type": "choropleth"
           }
          ],
          "contour": [
           {
            "colorbar": {
             "outlinewidth": 0,
             "ticks": ""
            },
            "colorscale": [
             [
              0,
              "#0d0887"
             ],
             [
              0.1111111111111111,
              "#46039f"
             ],
             [
              0.2222222222222222,
              "#7201a8"
             ],
             [
              0.3333333333333333,
              "#9c179e"
             ],
             [
              0.4444444444444444,
              "#bd3786"
             ],
             [
              0.5555555555555556,
              "#d8576b"
             ],
             [
              0.6666666666666666,
              "#ed7953"
             ],
             [
              0.7777777777777778,
              "#fb9f3a"
             ],
             [
              0.8888888888888888,
              "#fdca26"
             ],
             [
              1,
              "#f0f921"
             ]
            ],
            "type": "contour"
           }
          ],
          "contourcarpet": [
           {
            "colorbar": {
             "outlinewidth": 0,
             "ticks": ""
            },
            "type": "contourcarpet"
           }
          ],
          "heatmap": [
           {
            "colorbar": {
             "outlinewidth": 0,
             "ticks": ""
            },
            "colorscale": [
             [
              0,
              "#0d0887"
             ],
             [
              0.1111111111111111,
              "#46039f"
             ],
             [
              0.2222222222222222,
              "#7201a8"
             ],
             [
              0.3333333333333333,
              "#9c179e"
             ],
             [
              0.4444444444444444,
              "#bd3786"
             ],
             [
              0.5555555555555556,
              "#d8576b"
             ],
             [
              0.6666666666666666,
              "#ed7953"
             ],
             [
              0.7777777777777778,
              "#fb9f3a"
             ],
             [
              0.8888888888888888,
              "#fdca26"
             ],
             [
              1,
              "#f0f921"
             ]
            ],
            "type": "heatmap"
           }
          ],
          "heatmapgl": [
           {
            "colorbar": {
             "outlinewidth": 0,
             "ticks": ""
            },
            "colorscale": [
             [
              0,
              "#0d0887"
             ],
             [
              0.1111111111111111,
              "#46039f"
             ],
             [
              0.2222222222222222,
              "#7201a8"
             ],
             [
              0.3333333333333333,
              "#9c179e"
             ],
             [
              0.4444444444444444,
              "#bd3786"
             ],
             [
              0.5555555555555556,
              "#d8576b"
             ],
             [
              0.6666666666666666,
              "#ed7953"
             ],
             [
              0.7777777777777778,
              "#fb9f3a"
             ],
             [
              0.8888888888888888,
              "#fdca26"
             ],
             [
              1,
              "#f0f921"
             ]
            ],
            "type": "heatmapgl"
           }
          ],
          "histogram": [
           {
            "marker": {
             "pattern": {
              "fillmode": "overlay",
              "size": 10,
              "solidity": 0.2
             }
            },
            "type": "histogram"
           }
          ],
          "histogram2d": [
           {
            "colorbar": {
             "outlinewidth": 0,
             "ticks": ""
            },
            "colorscale": [
             [
              0,
              "#0d0887"
             ],
             [
              0.1111111111111111,
              "#46039f"
             ],
             [
              0.2222222222222222,
              "#7201a8"
             ],
             [
              0.3333333333333333,
              "#9c179e"
             ],
             [
              0.4444444444444444,
              "#bd3786"
             ],
             [
              0.5555555555555556,
              "#d8576b"
             ],
             [
              0.6666666666666666,
              "#ed7953"
             ],
             [
              0.7777777777777778,
              "#fb9f3a"
             ],
             [
              0.8888888888888888,
              "#fdca26"
             ],
             [
              1,
              "#f0f921"
             ]
            ],
            "type": "histogram2d"
           }
          ],
          "histogram2dcontour": [
           {
            "colorbar": {
             "outlinewidth": 0,
             "ticks": ""
            },
            "colorscale": [
             [
              0,
              "#0d0887"
             ],
             [
              0.1111111111111111,
              "#46039f"
             ],
             [
              0.2222222222222222,
              "#7201a8"
             ],
             [
              0.3333333333333333,
              "#9c179e"
             ],
             [
              0.4444444444444444,
              "#bd3786"
             ],
             [
              0.5555555555555556,
              "#d8576b"
             ],
             [
              0.6666666666666666,
              "#ed7953"
             ],
             [
              0.7777777777777778,
              "#fb9f3a"
             ],
             [
              0.8888888888888888,
              "#fdca26"
             ],
             [
              1,
              "#f0f921"
             ]
            ],
            "type": "histogram2dcontour"
           }
          ],
          "mesh3d": [
           {
            "colorbar": {
             "outlinewidth": 0,
             "ticks": ""
            },
            "type": "mesh3d"
           }
          ],
          "parcoords": [
           {
            "line": {
             "colorbar": {
              "outlinewidth": 0,
              "ticks": ""
             }
            },
            "type": "parcoords"
           }
          ],
          "pie": [
           {
            "automargin": true,
            "type": "pie"
           }
          ],
          "scatter": [
           {
            "fillpattern": {
             "fillmode": "overlay",
             "size": 10,
             "solidity": 0.2
            },
            "type": "scatter"
           }
          ],
          "scatter3d": [
           {
            "line": {
             "colorbar": {
              "outlinewidth": 0,
              "ticks": ""
             }
            },
            "marker": {
             "colorbar": {
              "outlinewidth": 0,
              "ticks": ""
             }
            },
            "type": "scatter3d"
           }
          ],
          "scattercarpet": [
           {
            "marker": {
             "colorbar": {
              "outlinewidth": 0,
              "ticks": ""
             }
            },
            "type": "scattercarpet"
           }
          ],
          "scattergeo": [
           {
            "marker": {
             "colorbar": {
              "outlinewidth": 0,
              "ticks": ""
             }
            },
            "type": "scattergeo"
           }
          ],
          "scattergl": [
           {
            "marker": {
             "colorbar": {
              "outlinewidth": 0,
              "ticks": ""
             }
            },
            "type": "scattergl"
           }
          ],
          "scattermapbox": [
           {
            "marker": {
             "colorbar": {
              "outlinewidth": 0,
              "ticks": ""
             }
            },
            "type": "scattermapbox"
           }
          ],
          "scatterpolar": [
           {
            "marker": {
             "colorbar": {
              "outlinewidth": 0,
              "ticks": ""
             }
            },
            "type": "scatterpolar"
           }
          ],
          "scatterpolargl": [
           {
            "marker": {
             "colorbar": {
              "outlinewidth": 0,
              "ticks": ""
             }
            },
            "type": "scatterpolargl"
           }
          ],
          "scatterternary": [
           {
            "marker": {
             "colorbar": {
              "outlinewidth": 0,
              "ticks": ""
             }
            },
            "type": "scatterternary"
           }
          ],
          "surface": [
           {
            "colorbar": {
             "outlinewidth": 0,
             "ticks": ""
            },
            "colorscale": [
             [
              0,
              "#0d0887"
             ],
             [
              0.1111111111111111,
              "#46039f"
             ],
             [
              0.2222222222222222,
              "#7201a8"
             ],
             [
              0.3333333333333333,
              "#9c179e"
             ],
             [
              0.4444444444444444,
              "#bd3786"
             ],
             [
              0.5555555555555556,
              "#d8576b"
             ],
             [
              0.6666666666666666,
              "#ed7953"
             ],
             [
              0.7777777777777778,
              "#fb9f3a"
             ],
             [
              0.8888888888888888,
              "#fdca26"
             ],
             [
              1,
              "#f0f921"
             ]
            ],
            "type": "surface"
           }
          ],
          "table": [
           {
            "cells": {
             "fill": {
              "color": "#EBF0F8"
             },
             "line": {
              "color": "white"
             }
            },
            "header": {
             "fill": {
              "color": "#C8D4E3"
             },
             "line": {
              "color": "white"
             }
            },
            "type": "table"
           }
          ]
         },
         "layout": {
          "annotationdefaults": {
           "arrowcolor": "#2a3f5f",
           "arrowhead": 0,
           "arrowwidth": 1
          },
          "autotypenumbers": "strict",
          "coloraxis": {
           "colorbar": {
            "outlinewidth": 0,
            "ticks": ""
           }
          },
          "colorscale": {
           "diverging": [
            [
             0,
             "#8e0152"
            ],
            [
             0.1,
             "#c51b7d"
            ],
            [
             0.2,
             "#de77ae"
            ],
            [
             0.3,
             "#f1b6da"
            ],
            [
             0.4,
             "#fde0ef"
            ],
            [
             0.5,
             "#f7f7f7"
            ],
            [
             0.6,
             "#e6f5d0"
            ],
            [
             0.7,
             "#b8e186"
            ],
            [
             0.8,
             "#7fbc41"
            ],
            [
             0.9,
             "#4d9221"
            ],
            [
             1,
             "#276419"
            ]
           ],
           "sequential": [
            [
             0,
             "#0d0887"
            ],
            [
             0.1111111111111111,
             "#46039f"
            ],
            [
             0.2222222222222222,
             "#7201a8"
            ],
            [
             0.3333333333333333,
             "#9c179e"
            ],
            [
             0.4444444444444444,
             "#bd3786"
            ],
            [
             0.5555555555555556,
             "#d8576b"
            ],
            [
             0.6666666666666666,
             "#ed7953"
            ],
            [
             0.7777777777777778,
             "#fb9f3a"
            ],
            [
             0.8888888888888888,
             "#fdca26"
            ],
            [
             1,
             "#f0f921"
            ]
           ],
           "sequentialminus": [
            [
             0,
             "#0d0887"
            ],
            [
             0.1111111111111111,
             "#46039f"
            ],
            [
             0.2222222222222222,
             "#7201a8"
            ],
            [
             0.3333333333333333,
             "#9c179e"
            ],
            [
             0.4444444444444444,
             "#bd3786"
            ],
            [
             0.5555555555555556,
             "#d8576b"
            ],
            [
             0.6666666666666666,
             "#ed7953"
            ],
            [
             0.7777777777777778,
             "#fb9f3a"
            ],
            [
             0.8888888888888888,
             "#fdca26"
            ],
            [
             1,
             "#f0f921"
            ]
           ]
          },
          "colorway": [
           "#636efa",
           "#EF553B",
           "#00cc96",
           "#ab63fa",
           "#FFA15A",
           "#19d3f3",
           "#FF6692",
           "#B6E880",
           "#FF97FF",
           "#FECB52"
          ],
          "font": {
           "color": "#2a3f5f"
          },
          "geo": {
           "bgcolor": "white",
           "lakecolor": "white",
           "landcolor": "#E5ECF6",
           "showlakes": true,
           "showland": true,
           "subunitcolor": "white"
          },
          "hoverlabel": {
           "align": "left"
          },
          "hovermode": "closest",
          "mapbox": {
           "style": "light"
          },
          "paper_bgcolor": "white",
          "plot_bgcolor": "#E5ECF6",
          "polar": {
           "angularaxis": {
            "gridcolor": "white",
            "linecolor": "white",
            "ticks": ""
           },
           "bgcolor": "#E5ECF6",
           "radialaxis": {
            "gridcolor": "white",
            "linecolor": "white",
            "ticks": ""
           }
          },
          "scene": {
           "xaxis": {
            "backgroundcolor": "#E5ECF6",
            "gridcolor": "white",
            "gridwidth": 2,
            "linecolor": "white",
            "showbackground": true,
            "ticks": "",
            "zerolinecolor": "white"
           },
           "yaxis": {
            "backgroundcolor": "#E5ECF6",
            "gridcolor": "white",
            "gridwidth": 2,
            "linecolor": "white",
            "showbackground": true,
            "ticks": "",
            "zerolinecolor": "white"
           },
           "zaxis": {
            "backgroundcolor": "#E5ECF6",
            "gridcolor": "white",
            "gridwidth": 2,
            "linecolor": "white",
            "showbackground": true,
            "ticks": "",
            "zerolinecolor": "white"
           }
          },
          "shapedefaults": {
           "line": {
            "color": "#2a3f5f"
           }
          },
          "ternary": {
           "aaxis": {
            "gridcolor": "white",
            "linecolor": "white",
            "ticks": ""
           },
           "baxis": {
            "gridcolor": "white",
            "linecolor": "white",
            "ticks": ""
           },
           "bgcolor": "#E5ECF6",
           "caxis": {
            "gridcolor": "white",
            "linecolor": "white",
            "ticks": ""
           }
          },
          "title": {
           "x": 0.05
          },
          "xaxis": {
           "automargin": true,
           "gridcolor": "white",
           "linecolor": "white",
           "ticks": "",
           "title": {
            "standoff": 15
           },
           "zerolinecolor": "white",
           "zerolinewidth": 2
          },
          "yaxis": {
           "automargin": true,
           "gridcolor": "white",
           "linecolor": "white",
           "ticks": "",
           "title": {
            "standoff": 15
           },
           "zerolinecolor": "white",
           "zerolinewidth": 2
          }
         }
        },
        "title": {
         "text": "Slice Plot"
        },
        "xaxis": {
         "anchor": "y",
         "domain": [
          0,
          0.2888888888888889
         ],
         "title": {
          "text": "catboost"
         }
        },
        "xaxis2": {
         "anchor": "y2",
         "domain": [
          0.35555555555555557,
          0.6444444444444445
         ],
         "title": {
          "text": "lightgbm"
         }
        },
        "xaxis3": {
         "anchor": "y3",
         "domain": [
          0.7111111111111111,
          1
         ],
         "title": {
          "text": "xgboost"
         }
        },
        "yaxis": {
         "anchor": "x",
         "domain": [
          0,
          1
         ],
         "title": {
          "text": "Objective Value"
         }
        },
        "yaxis2": {
         "anchor": "x2",
         "domain": [
          0,
          1
         ],
         "matches": "y",
         "showticklabels": false
        },
        "yaxis3": {
         "anchor": "x3",
         "domain": [
          0,
          1
         ],
         "matches": "y",
         "showticklabels": false
        }
       }
      },
      "text/html": [
       "<div>                            <div id=\"8b415bb0-d6c3-49da-863c-9e5c148528e4\" class=\"plotly-graph-div\" style=\"height:525px; width:100%;\"></div>            <script type=\"text/javascript\">                require([\"plotly\"], function(Plotly) {                    window.PLOTLYENV=window.PLOTLYENV || {};                                    if (document.getElementById(\"8b415bb0-d6c3-49da-863c-9e5c148528e4\")) {                    Plotly.newPlot(                        \"8b415bb0-d6c3-49da-863c-9e5c148528e4\",                        [{\"marker\":{\"color\":[0,1,2,3,4,5,6,7,8,9,10,11,12,13,14,15,16,17,18,19,20,21,22,23,24,25,26,27,28,29,30,31,32,33,34,35,36,37,38,39,40,41,42,43,44,45,46,47,48,49,50,51,52,53,54,55,56,57,58,59,60,61,62,63,64,65,66,67,68,69,70,71,72,73,74,75,76,77,78,79,80,81,82,83,84,85,86,87,88,89,90,91,92,93,94,95,96,97,98,99],\"colorbar\":{\"title\":{\"text\":\"Trial\"},\"x\":1.0,\"xpad\":40},\"colorscale\":[[0.0,\"rgb(247,251,255)\"],[0.125,\"rgb(222,235,247)\"],[0.25,\"rgb(198,219,239)\"],[0.375,\"rgb(158,202,225)\"],[0.5,\"rgb(107,174,214)\"],[0.625,\"rgb(66,146,198)\"],[0.75,\"rgb(33,113,181)\"],[0.875,\"rgb(8,81,156)\"],[1.0,\"rgb(8,48,107)\"]],\"line\":{\"color\":\"Grey\",\"width\":0.5},\"showscale\":true},\"mode\":\"markers\",\"name\":\"Feasible Trial\",\"showlegend\":false,\"x\":[0.6211105268618939,0.9077238331605784,0.8458729381866804,0.27208547956068885,0.5185715250879869,0.9043024494000587,0.037165084873568066,0.5459227526618146,0.28982871543089506,0.8214551109217476,0.28147248952197845,0.28380720309398016,0.26698749931821286,0.1163234169671552,0.002509139786034814,0.16244243864339675,0.3820823048679882,0.1555752954418819,0.11519204871841572,0.1332900621519283,0.41452376615319103,0.12520384858040956,0.08541207598453499,0.20065668486810756,0.07572640884107001,0.39341005495814385,0.05118690483183105,0.001726355954661779,0.011723636692223746,0.6789990240462699,0.6710413614623503,0.2096651263812488,0.07603272537250583,0.06290381458579852,0.06685024125564884,0.20486023141418438,0.06832118022610419,0.06735035407125073,0.35429504480220986,0.22693929480400699,0.3329705030696355,0.21626840278571863,0.06377371698237351,0.17645697250428138,0.0952354546085272,0.1515883989698457,0.48659546733587455,0.18148115174299592,0.2503168197386281,0.9720338961720545,0.17978656502685778,0.16980027254283867,0.15580995546942206,0.28363985869571007,0.3230107845069212,0.16311137890902208,0.12933077292321837,0.24639964102447667,0.12675156139148439,0.18332015719678774,0.4380733198703297,0.2446197417538367,0.035350933698376885,0.30785610208430214,0.12051621651939173,0.14817457941746848,0.2457058098936253,0.10428732042782812,0.7997693944474479,0.020382127514080528,0.18886442575247692,0.2442830489765973,0.27239491774899915,0.5811153156584452,0.14777537702213026,0.21983238007005765,0.10403126710077339,0.18605663624031074,0.03562286198265957,0.23224870531035338,0.2937991248714866,0.2686760685704052,0.24357369273660223,0.34169655565323503,0.16618407277100442,0.2023542171237813,0.3577928428056071,0.13696067497817005,0.25234904532501823,0.08200143863162014,0.1725954144752979,0.233809804568878,0.21219903487698416,0.20706594564708253,0.12693825778974221,0.19397819301731628,0.30924847172392633,0.16059961993137584,0.09833018586047933,0.04796238040619702],\"y\":[0.8939685441168703,0.8932681107271783,0.8937484598919943,0.8952865584726781,0.8946373383514208,0.893422686070364,0.8952791222910985,0.8939037889022321,0.8955250682647202,0.8939677982341729,0.8954004718861561,0.8953873488797603,0.8953460033421915,0.8955526906929259,0.8952620278485566,0.8954805445874984,0.8954000253472739,0.8955339834736598,0.8955615804257961,0.8954251716430712,0.8954116403118969,0.8955467696298052,0.8955239593480342,0.895534289186492,0.8955473003812501,0.8949191956754825,0.895582625782095,0.8955576139433303,0.8951020176105735,0.8938963229985718,0.8936748206058347,0.8950869492232144,0.8956131192217842,0.895608465593114,0.8956220804291822,0.895504915986186,0.8956058033438657,0.8954548024347451,0.8950538260870322,0.8955881540891466,0.8951135228865648,0.8955770578456022,0.8955229813500382,0.8956118836324203,0.895600447707951,0.8955775977967388,0.8954251037068863,0.8956195604213213,0.8955783033423266,0.8934434257138305,0.8956203643328433,0.8956252720145385,0.8956250526372747,0.8955541053224441,0.8955724105859493,0.8955776232728084,0.8956226706247892,0.8956147489825546,0.8955872390736552,0.8956057262079891,0.8954335900686582,0.8956155826161578,0.8955258912832942,0.8955726391629051,0.8955620474870676,0.8955711424438302,0.8956175379044815,0.8955416694622524,0.89429618476825,0.895533584348573,0.8955793167237522,0.8955989297588183,0.8956134992398188,0.8949815993073849,0.8956039910045982,0.8950337290066485,0.8955765362938489,0.895592117740938,0.8954315774591786,0.8955974535621323,0.8954240882024547,0.8956005184748104,0.8956182038206277,0.8955275075983615,0.8956072625565054,0.8956058146665633,0.8955146655363972,0.8956073984288752,0.8955988604072962,0.8956073142163127,0.8954997174526991,0.8956175966409745,0.8956191789879494,0.8956097224125359,0.8955734841192057,0.8956190593919571,0.8955490964441402,0.8956153045024006,0.895607665219935,0.8956193467054061],\"type\":\"scatter\",\"xaxis\":\"x\",\"yaxis\":\"y\"},{\"marker\":{\"color\":[0,1,2,3,4,5,6,7,8,9,10,11,12,13,14,15,16,17,18,19,20,21,22,23,24,25,26,27,28,29,30,31,32,33,34,35,36,37,38,39,40,41,42,43,44,45,46,47,48,49,50,51,52,53,54,55,56,57,58,59,60,61,62,63,64,65,66,67,68,69,70,71,72,73,74,75,76,77,78,79,80,81,82,83,84,85,86,87,88,89,90,91,92,93,94,95,96,97,98,99],\"colorbar\":{\"title\":{\"text\":\"Trial\"},\"x\":1.0,\"xpad\":40},\"colorscale\":[[0.0,\"rgb(247,251,255)\"],[0.125,\"rgb(222,235,247)\"],[0.25,\"rgb(198,219,239)\"],[0.375,\"rgb(158,202,225)\"],[0.5,\"rgb(107,174,214)\"],[0.625,\"rgb(66,146,198)\"],[0.75,\"rgb(33,113,181)\"],[0.875,\"rgb(8,81,156)\"],[1.0,\"rgb(8,48,107)\"]],\"line\":{\"color\":\"Grey\",\"width\":0.5},\"showscale\":false},\"mode\":\"markers\",\"name\":\"Feasible Trial\",\"showlegend\":false,\"x\":[0.43630777740346327,0.028494269339640277,0.39977754817114286,0.22108459562477545,0.2453376578572798,0.1499611897427826,0.6832212348390769,0.022685825575899377,0.9464705873634761,0.30684256522192577,0.955751867992615,0.9783879516552535,0.9975405571826277,0.7554006645216125,0.7473022876742145,0.7665057029578481,0.5944508969911526,0.8212509625054538,0.8048696704987957,0.6106286480979951,0.8441787575924459,0.85958759734371,0.8678502417877759,0.5806838624130718,0.7154965914720041,0.7174883592273602,0.5221882044275816,0.5044297676101441,0.4864617497059305,0.4329043219701695,0.377053670928013,0.5301134953839125,0.528195958568439,0.5147143888405419,0.35234758164723445,0.33984124926363307,0.4495480979493389,0.1228983710922621,0.2905440623805456,0.44849194547127236,0.20354648844372453,0.41402245279256544,0.4783222386849578,0.635243352718232,0.6557174187624465,0.3686041563804344,0.5615674669503359,0.6375074381086303,0.6494821711022974,0.6402043909663387,0.5541938262774918,0.5574661318751899,0.5507171193619218,0.5513049587173514,0.6033649781914812,0.673900199821654,0.5577315963164884,0.5674210942781983,0.7007434380759654,0.613891474205008,0.47210405576940667,0.5681229922706063,0.5850608868287275,0.5485672462310179,0.6151364522105026,0.40057296512151297,0.6791112403469541,0.759123285651179,0.6760197325447963,0.5004629458512557,0.7301347714929002,0.7852425494223249,0.5902535446309907,0.539634113193223,0.6908497038370787,0.06919863711732432,0.26017378892873394,0.6242208929085657,0.5786221903227036,0.46701776175500453,0.5084255968977132,0.5621958052335979,0.5716581856529235,0.5311945763803835,0.6506929605867333,0.4925965135117392,0.605710919971948,0.43871744628758225,0.6613448405912872,0.33286317982164343,0.8961611349771416,0.5601419132320807,0.5752089513706166,0.5222582342868879,0.6301375262515413,0.597403938415668,0.5880058235142741,0.5434846775827759,0.4654043614779506,0.42613754762908623],\"y\":[0.8939685441168703,0.8932681107271783,0.8937484598919943,0.8952865584726781,0.8946373383514208,0.893422686070364,0.8952791222910985,0.8939037889022321,0.8955250682647202,0.8939677982341729,0.8954004718861561,0.8953873488797603,0.8953460033421915,0.8955526906929259,0.8952620278485566,0.8954805445874984,0.8954000253472739,0.8955339834736598,0.8955615804257961,0.8954251716430712,0.8954116403118969,0.8955467696298052,0.8955239593480342,0.895534289186492,0.8955473003812501,0.8949191956754825,0.895582625782095,0.8955576139433303,0.8951020176105735,0.8938963229985718,0.8936748206058347,0.8950869492232144,0.8956131192217842,0.895608465593114,0.8956220804291822,0.895504915986186,0.8956058033438657,0.8954548024347451,0.8950538260870322,0.8955881540891466,0.8951135228865648,0.8955770578456022,0.8955229813500382,0.8956118836324203,0.895600447707951,0.8955775977967388,0.8954251037068863,0.8956195604213213,0.8955783033423266,0.8934434257138305,0.8956203643328433,0.8956252720145385,0.8956250526372747,0.8955541053224441,0.8955724105859493,0.8955776232728084,0.8956226706247892,0.8956147489825546,0.8955872390736552,0.8956057262079891,0.8954335900686582,0.8956155826161578,0.8955258912832942,0.8955726391629051,0.8955620474870676,0.8955711424438302,0.8956175379044815,0.8955416694622524,0.89429618476825,0.895533584348573,0.8955793167237522,0.8955989297588183,0.8956134992398188,0.8949815993073849,0.8956039910045982,0.8950337290066485,0.8955765362938489,0.895592117740938,0.8954315774591786,0.8955974535621323,0.8954240882024547,0.8956005184748104,0.8956182038206277,0.8955275075983615,0.8956072625565054,0.8956058146665633,0.8955146655363972,0.8956073984288752,0.8955988604072962,0.8956073142163127,0.8954997174526991,0.8956175966409745,0.8956191789879494,0.8956097224125359,0.8955734841192057,0.8956190593919571,0.8955490964441402,0.8956153045024006,0.895607665219935,0.8956193467054061],\"type\":\"scatter\",\"xaxis\":\"x2\",\"yaxis\":\"y2\"},{\"marker\":{\"color\":[0,1,2,3,4,5,6,7,8,9,10,11,12,13,14,15,16,17,18,19,20,21,22,23,24,25,26,27,28,29,30,31,32,33,34,35,36,37,38,39,40,41,42,43,44,45,46,47,48,49,50,51,52,53,54,55,56,57,58,59,60,61,62,63,64,65,66,67,68,69,70,71,72,73,74,75,76,77,78,79,80,81,82,83,84,85,86,87,88,89,90,91,92,93,94,95,96,97,98,99],\"colorbar\":{\"title\":{\"text\":\"Trial\"},\"x\":1.0,\"xpad\":40},\"colorscale\":[[0.0,\"rgb(247,251,255)\"],[0.125,\"rgb(222,235,247)\"],[0.25,\"rgb(198,219,239)\"],[0.375,\"rgb(158,202,225)\"],[0.5,\"rgb(107,174,214)\"],[0.625,\"rgb(66,146,198)\"],[0.75,\"rgb(33,113,181)\"],[0.875,\"rgb(8,81,156)\"],[1.0,\"rgb(8,48,107)\"]],\"line\":{\"color\":\"Grey\",\"width\":0.5},\"showscale\":false},\"mode\":\"markers\",\"name\":\"Feasible Trial\",\"showlegend\":false,\"x\":[0.10677777142914457,0.4823974232951559,0.3297178496548091,0.6073551537655203,0.38249295495119173,0.7134320884356096,0.9115160699965825,0.10692083303479283,0.6173378600168322,0.965141745996278,0.7846977524892423,0.769057779797305,0.7671029083124471,0.6064642159216188,0.5872515608976472,0.2923026648211614,0.5035004409078508,0.6419980685526858,0.4866821631740498,0.2090507085322203,0.4938372756868434,0.4172793568578973,0.4498166663585529,0.4069532680670419,0.257854423812219,0.22487450144414178,0.24753858994142874,0.05257384391094477,0.0032402380044896026,0.13210284625350743,0.05551400275514429,0.131053394378709,0.5471281430533665,0.5355459076142562,0.5339291350182693,0.5514263134699162,0.3434688020761492,0.336808213347589,0.36251667675558374,0.6886526928346661,0.5453079707161033,0.6810932659440612,0.8367011581750844,0.6889202102966383,0.4423535828436628,0.5446818617272484,0.7202744897122109,0.6420168511227222,0.861271380201994,0.6417229577617639,0.5800096280360226,0.6445001462442643,0.5979308351889945,0.5723915220268144,0.6280227762742918,0.7360056877660648,0.5893893988025886,0.657333182196617,0.5978783898411598,0.5075318695698092,0.804680224168743,0.6547771656060261,0.5934369701346105,0.6547654112064601,0.753153368272026,0.4723832367713903,0.6170938767930493,0.5995320208955869,0.5075613453834162,0.5663094991963358,0.7108933259142388,0.6207133020042824,0.6686272846820909,0.5248852366767289,0.574730455315609,0.6264098921291553,0.702382989874986,0.4733684964085076,0.7967469351624838,0.7378379940911949,0.44468303420296196,0.6439378064388049,0.6689419147884591,0.999321257219338,0.6702837691403658,0.6151857973307477,0.5835538822080447,0.5214198330807664,0.5610626308506955,0.690546525932761,0.6342722175834911,0.6581015699275881,0.6109177678959736,0.6057087644965875,0.725092275739043,0.5773291772386787,0.5766311154213596,0.5274037552297937,0.4117003452710259,0.48850618656574274],\"y\":[0.8939685441168703,0.8932681107271783,0.8937484598919943,0.8952865584726781,0.8946373383514208,0.893422686070364,0.8952791222910985,0.8939037889022321,0.8955250682647202,0.8939677982341729,0.8954004718861561,0.8953873488797603,0.8953460033421915,0.8955526906929259,0.8952620278485566,0.8954805445874984,0.8954000253472739,0.8955339834736598,0.8955615804257961,0.8954251716430712,0.8954116403118969,0.8955467696298052,0.8955239593480342,0.895534289186492,0.8955473003812501,0.8949191956754825,0.895582625782095,0.8955576139433303,0.8951020176105735,0.8938963229985718,0.8936748206058347,0.8950869492232144,0.8956131192217842,0.895608465593114,0.8956220804291822,0.895504915986186,0.8956058033438657,0.8954548024347451,0.8950538260870322,0.8955881540891466,0.8951135228865648,0.8955770578456022,0.8955229813500382,0.8956118836324203,0.895600447707951,0.8955775977967388,0.8954251037068863,0.8956195604213213,0.8955783033423266,0.8934434257138305,0.8956203643328433,0.8956252720145385,0.8956250526372747,0.8955541053224441,0.8955724105859493,0.8955776232728084,0.8956226706247892,0.8956147489825546,0.8955872390736552,0.8956057262079891,0.8954335900686582,0.8956155826161578,0.8955258912832942,0.8955726391629051,0.8955620474870676,0.8955711424438302,0.8956175379044815,0.8955416694622524,0.89429618476825,0.895533584348573,0.8955793167237522,0.8955989297588183,0.8956134992398188,0.8949815993073849,0.8956039910045982,0.8950337290066485,0.8955765362938489,0.895592117740938,0.8954315774591786,0.8955974535621323,0.8954240882024547,0.8956005184748104,0.8956182038206277,0.8955275075983615,0.8956072625565054,0.8956058146665633,0.8955146655363972,0.8956073984288752,0.8955988604072962,0.8956073142163127,0.8954997174526991,0.8956175966409745,0.8956191789879494,0.8956097224125359,0.8955734841192057,0.8956190593919571,0.8955490964441402,0.8956153045024006,0.895607665219935,0.8956193467054061],\"type\":\"scatter\",\"xaxis\":\"x3\",\"yaxis\":\"y3\"}],                        {\"template\":{\"data\":{\"histogram2dcontour\":[{\"type\":\"histogram2dcontour\",\"colorbar\":{\"outlinewidth\":0,\"ticks\":\"\"},\"colorscale\":[[0.0,\"#0d0887\"],[0.1111111111111111,\"#46039f\"],[0.2222222222222222,\"#7201a8\"],[0.3333333333333333,\"#9c179e\"],[0.4444444444444444,\"#bd3786\"],[0.5555555555555556,\"#d8576b\"],[0.6666666666666666,\"#ed7953\"],[0.7777777777777778,\"#fb9f3a\"],[0.8888888888888888,\"#fdca26\"],[1.0,\"#f0f921\"]]}],\"choropleth\":[{\"type\":\"choropleth\",\"colorbar\":{\"outlinewidth\":0,\"ticks\":\"\"}}],\"histogram2d\":[{\"type\":\"histogram2d\",\"colorbar\":{\"outlinewidth\":0,\"ticks\":\"\"},\"colorscale\":[[0.0,\"#0d0887\"],[0.1111111111111111,\"#46039f\"],[0.2222222222222222,\"#7201a8\"],[0.3333333333333333,\"#9c179e\"],[0.4444444444444444,\"#bd3786\"],[0.5555555555555556,\"#d8576b\"],[0.6666666666666666,\"#ed7953\"],[0.7777777777777778,\"#fb9f3a\"],[0.8888888888888888,\"#fdca26\"],[1.0,\"#f0f921\"]]}],\"heatmap\":[{\"type\":\"heatmap\",\"colorbar\":{\"outlinewidth\":0,\"ticks\":\"\"},\"colorscale\":[[0.0,\"#0d0887\"],[0.1111111111111111,\"#46039f\"],[0.2222222222222222,\"#7201a8\"],[0.3333333333333333,\"#9c179e\"],[0.4444444444444444,\"#bd3786\"],[0.5555555555555556,\"#d8576b\"],[0.6666666666666666,\"#ed7953\"],[0.7777777777777778,\"#fb9f3a\"],[0.8888888888888888,\"#fdca26\"],[1.0,\"#f0f921\"]]}],\"heatmapgl\":[{\"type\":\"heatmapgl\",\"colorbar\":{\"outlinewidth\":0,\"ticks\":\"\"},\"colorscale\":[[0.0,\"#0d0887\"],[0.1111111111111111,\"#46039f\"],[0.2222222222222222,\"#7201a8\"],[0.3333333333333333,\"#9c179e\"],[0.4444444444444444,\"#bd3786\"],[0.5555555555555556,\"#d8576b\"],[0.6666666666666666,\"#ed7953\"],[0.7777777777777778,\"#fb9f3a\"],[0.8888888888888888,\"#fdca26\"],[1.0,\"#f0f921\"]]}],\"contourcarpet\":[{\"type\":\"contourcarpet\",\"colorbar\":{\"outlinewidth\":0,\"ticks\":\"\"}}],\"contour\":[{\"type\":\"contour\",\"colorbar\":{\"outlinewidth\":0,\"ticks\":\"\"},\"colorscale\":[[0.0,\"#0d0887\"],[0.1111111111111111,\"#46039f\"],[0.2222222222222222,\"#7201a8\"],[0.3333333333333333,\"#9c179e\"],[0.4444444444444444,\"#bd3786\"],[0.5555555555555556,\"#d8576b\"],[0.6666666666666666,\"#ed7953\"],[0.7777777777777778,\"#fb9f3a\"],[0.8888888888888888,\"#fdca26\"],[1.0,\"#f0f921\"]]}],\"surface\":[{\"type\":\"surface\",\"colorbar\":{\"outlinewidth\":0,\"ticks\":\"\"},\"colorscale\":[[0.0,\"#0d0887\"],[0.1111111111111111,\"#46039f\"],[0.2222222222222222,\"#7201a8\"],[0.3333333333333333,\"#9c179e\"],[0.4444444444444444,\"#bd3786\"],[0.5555555555555556,\"#d8576b\"],[0.6666666666666666,\"#ed7953\"],[0.7777777777777778,\"#fb9f3a\"],[0.8888888888888888,\"#fdca26\"],[1.0,\"#f0f921\"]]}],\"mesh3d\":[{\"type\":\"mesh3d\",\"colorbar\":{\"outlinewidth\":0,\"ticks\":\"\"}}],\"scatter\":[{\"fillpattern\":{\"fillmode\":\"overlay\",\"size\":10,\"solidity\":0.2},\"type\":\"scatter\"}],\"parcoords\":[{\"type\":\"parcoords\",\"line\":{\"colorbar\":{\"outlinewidth\":0,\"ticks\":\"\"}}}],\"scatterpolargl\":[{\"type\":\"scatterpolargl\",\"marker\":{\"colorbar\":{\"outlinewidth\":0,\"ticks\":\"\"}}}],\"bar\":[{\"error_x\":{\"color\":\"#2a3f5f\"},\"error_y\":{\"color\":\"#2a3f5f\"},\"marker\":{\"line\":{\"color\":\"#E5ECF6\",\"width\":0.5},\"pattern\":{\"fillmode\":\"overlay\",\"size\":10,\"solidity\":0.2}},\"type\":\"bar\"}],\"scattergeo\":[{\"type\":\"scattergeo\",\"marker\":{\"colorbar\":{\"outlinewidth\":0,\"ticks\":\"\"}}}],\"scatterpolar\":[{\"type\":\"scatterpolar\",\"marker\":{\"colorbar\":{\"outlinewidth\":0,\"ticks\":\"\"}}}],\"histogram\":[{\"marker\":{\"pattern\":{\"fillmode\":\"overlay\",\"size\":10,\"solidity\":0.2}},\"type\":\"histogram\"}],\"scattergl\":[{\"type\":\"scattergl\",\"marker\":{\"colorbar\":{\"outlinewidth\":0,\"ticks\":\"\"}}}],\"scatter3d\":[{\"type\":\"scatter3d\",\"line\":{\"colorbar\":{\"outlinewidth\":0,\"ticks\":\"\"}},\"marker\":{\"colorbar\":{\"outlinewidth\":0,\"ticks\":\"\"}}}],\"scattermapbox\":[{\"type\":\"scattermapbox\",\"marker\":{\"colorbar\":{\"outlinewidth\":0,\"ticks\":\"\"}}}],\"scatterternary\":[{\"type\":\"scatterternary\",\"marker\":{\"colorbar\":{\"outlinewidth\":0,\"ticks\":\"\"}}}],\"scattercarpet\":[{\"type\":\"scattercarpet\",\"marker\":{\"colorbar\":{\"outlinewidth\":0,\"ticks\":\"\"}}}],\"carpet\":[{\"aaxis\":{\"endlinecolor\":\"#2a3f5f\",\"gridcolor\":\"white\",\"linecolor\":\"white\",\"minorgridcolor\":\"white\",\"startlinecolor\":\"#2a3f5f\"},\"baxis\":{\"endlinecolor\":\"#2a3f5f\",\"gridcolor\":\"white\",\"linecolor\":\"white\",\"minorgridcolor\":\"white\",\"startlinecolor\":\"#2a3f5f\"},\"type\":\"carpet\"}],\"table\":[{\"cells\":{\"fill\":{\"color\":\"#EBF0F8\"},\"line\":{\"color\":\"white\"}},\"header\":{\"fill\":{\"color\":\"#C8D4E3\"},\"line\":{\"color\":\"white\"}},\"type\":\"table\"}],\"barpolar\":[{\"marker\":{\"line\":{\"color\":\"#E5ECF6\",\"width\":0.5},\"pattern\":{\"fillmode\":\"overlay\",\"size\":10,\"solidity\":0.2}},\"type\":\"barpolar\"}],\"pie\":[{\"automargin\":true,\"type\":\"pie\"}]},\"layout\":{\"autotypenumbers\":\"strict\",\"colorway\":[\"#636efa\",\"#EF553B\",\"#00cc96\",\"#ab63fa\",\"#FFA15A\",\"#19d3f3\",\"#FF6692\",\"#B6E880\",\"#FF97FF\",\"#FECB52\"],\"font\":{\"color\":\"#2a3f5f\"},\"hovermode\":\"closest\",\"hoverlabel\":{\"align\":\"left\"},\"paper_bgcolor\":\"white\",\"plot_bgcolor\":\"#E5ECF6\",\"polar\":{\"bgcolor\":\"#E5ECF6\",\"angularaxis\":{\"gridcolor\":\"white\",\"linecolor\":\"white\",\"ticks\":\"\"},\"radialaxis\":{\"gridcolor\":\"white\",\"linecolor\":\"white\",\"ticks\":\"\"}},\"ternary\":{\"bgcolor\":\"#E5ECF6\",\"aaxis\":{\"gridcolor\":\"white\",\"linecolor\":\"white\",\"ticks\":\"\"},\"baxis\":{\"gridcolor\":\"white\",\"linecolor\":\"white\",\"ticks\":\"\"},\"caxis\":{\"gridcolor\":\"white\",\"linecolor\":\"white\",\"ticks\":\"\"}},\"coloraxis\":{\"colorbar\":{\"outlinewidth\":0,\"ticks\":\"\"}},\"colorscale\":{\"sequential\":[[0.0,\"#0d0887\"],[0.1111111111111111,\"#46039f\"],[0.2222222222222222,\"#7201a8\"],[0.3333333333333333,\"#9c179e\"],[0.4444444444444444,\"#bd3786\"],[0.5555555555555556,\"#d8576b\"],[0.6666666666666666,\"#ed7953\"],[0.7777777777777778,\"#fb9f3a\"],[0.8888888888888888,\"#fdca26\"],[1.0,\"#f0f921\"]],\"sequentialminus\":[[0.0,\"#0d0887\"],[0.1111111111111111,\"#46039f\"],[0.2222222222222222,\"#7201a8\"],[0.3333333333333333,\"#9c179e\"],[0.4444444444444444,\"#bd3786\"],[0.5555555555555556,\"#d8576b\"],[0.6666666666666666,\"#ed7953\"],[0.7777777777777778,\"#fb9f3a\"],[0.8888888888888888,\"#fdca26\"],[1.0,\"#f0f921\"]],\"diverging\":[[0,\"#8e0152\"],[0.1,\"#c51b7d\"],[0.2,\"#de77ae\"],[0.3,\"#f1b6da\"],[0.4,\"#fde0ef\"],[0.5,\"#f7f7f7\"],[0.6,\"#e6f5d0\"],[0.7,\"#b8e186\"],[0.8,\"#7fbc41\"],[0.9,\"#4d9221\"],[1,\"#276419\"]]},\"xaxis\":{\"gridcolor\":\"white\",\"linecolor\":\"white\",\"ticks\":\"\",\"title\":{\"standoff\":15},\"zerolinecolor\":\"white\",\"automargin\":true,\"zerolinewidth\":2},\"yaxis\":{\"gridcolor\":\"white\",\"linecolor\":\"white\",\"ticks\":\"\",\"title\":{\"standoff\":15},\"zerolinecolor\":\"white\",\"automargin\":true,\"zerolinewidth\":2},\"scene\":{\"xaxis\":{\"backgroundcolor\":\"#E5ECF6\",\"gridcolor\":\"white\",\"linecolor\":\"white\",\"showbackground\":true,\"ticks\":\"\",\"zerolinecolor\":\"white\",\"gridwidth\":2},\"yaxis\":{\"backgroundcolor\":\"#E5ECF6\",\"gridcolor\":\"white\",\"linecolor\":\"white\",\"showbackground\":true,\"ticks\":\"\",\"zerolinecolor\":\"white\",\"gridwidth\":2},\"zaxis\":{\"backgroundcolor\":\"#E5ECF6\",\"gridcolor\":\"white\",\"linecolor\":\"white\",\"showbackground\":true,\"ticks\":\"\",\"zerolinecolor\":\"white\",\"gridwidth\":2}},\"shapedefaults\":{\"line\":{\"color\":\"#2a3f5f\"}},\"annotationdefaults\":{\"arrowcolor\":\"#2a3f5f\",\"arrowhead\":0,\"arrowwidth\":1},\"geo\":{\"bgcolor\":\"white\",\"landcolor\":\"#E5ECF6\",\"subunitcolor\":\"white\",\"showland\":true,\"showlakes\":true,\"lakecolor\":\"white\"},\"title\":{\"x\":0.05},\"mapbox\":{\"style\":\"light\"}}},\"xaxis\":{\"anchor\":\"y\",\"domain\":[0.0,0.2888888888888889],\"title\":{\"text\":\"catboost\"}},\"yaxis\":{\"anchor\":\"x\",\"domain\":[0.0,1.0],\"title\":{\"text\":\"Objective Value\"}},\"xaxis2\":{\"anchor\":\"y2\",\"domain\":[0.35555555555555557,0.6444444444444445],\"title\":{\"text\":\"lightgbm\"}},\"yaxis2\":{\"anchor\":\"x2\",\"domain\":[0.0,1.0],\"matches\":\"y\",\"showticklabels\":false},\"xaxis3\":{\"anchor\":\"y3\",\"domain\":[0.7111111111111111,1.0],\"title\":{\"text\":\"xgboost\"}},\"yaxis3\":{\"anchor\":\"x3\",\"domain\":[0.0,1.0],\"matches\":\"y\",\"showticklabels\":false},\"title\":{\"text\":\"Slice Plot\"}},                        {\"responsive\": true}                    ).then(function(){\n",
       "                            \n",
       "var gd = document.getElementById('8b415bb0-d6c3-49da-863c-9e5c148528e4');\n",
       "var x = new MutationObserver(function (mutations, observer) {{\n",
       "        var display = window.getComputedStyle(gd).display;\n",
       "        if (!display || display === 'none') {{\n",
       "            console.log([gd, 'removed!']);\n",
       "            Plotly.purge(gd);\n",
       "            observer.disconnect();\n",
       "        }}\n",
       "}});\n",
       "\n",
       "// Listen for the removal of the full notebook cells\n",
       "var notebookContainer = gd.closest('#notebook-container');\n",
       "if (notebookContainer) {{\n",
       "    x.observe(notebookContainer, {childList: true});\n",
       "}}\n",
       "\n",
       "// Listen for the clearing of the current output cell\n",
       "var outputEl = gd.closest('.output');\n",
       "if (outputEl) {{\n",
       "    x.observe(outputEl, {childList: true});\n",
       "}}\n",
       "\n",
       "                        })                };                });            </script>        </div>"
      ]
     },
     "metadata": {},
     "output_type": "display_data"
    }
   ],
   "source": [
    "\n",
    "optuna.visualization.plot_slice(study)"
   ]
  },
  {
   "cell_type": "code",
   "execution_count": null,
   "metadata": {},
   "outputs": [],
   "source": []
  }
 ],
 "metadata": {
  "kernelspec": {
   "display_name": ".venv",
   "language": "python",
   "name": "python3"
  },
  "language_info": {
   "codemirror_mode": {
    "name": "ipython",
    "version": 3
   },
   "file_extension": ".py",
   "mimetype": "text/x-python",
   "name": "python",
   "nbconvert_exporter": "python",
   "pygments_lexer": "ipython3",
   "version": "3.10.12"
  }
 },
 "nbformat": 4,
 "nbformat_minor": 2
}
