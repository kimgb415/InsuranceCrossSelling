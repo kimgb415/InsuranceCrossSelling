{
 "cells": [
  {
   "cell_type": "markdown",
   "metadata": {},
   "source": [
    "## Data Loading"
   ]
  },
  {
   "cell_type": "code",
   "execution_count": 1,
   "metadata": {},
   "outputs": [
    {
     "name": "stderr",
     "output_type": "stream",
     "text": [
      "2024-07-15 08:15:42.306689: I tensorflow/core/util/port.cc:113] oneDNN custom operations are on. You may see slightly different numerical results due to floating-point round-off errors from different computation orders. To turn them off, set the environment variable `TF_ENABLE_ONEDNN_OPTS=0`.\n",
      "2024-07-15 08:15:42.421117: E external/local_xla/xla/stream_executor/cuda/cuda_fft.cc:479] Unable to register cuFFT factory: Attempting to register factory for plugin cuFFT when one has already been registered\n",
      "2024-07-15 08:15:42.482666: E external/local_xla/xla/stream_executor/cuda/cuda_dnn.cc:10575] Unable to register cuDNN factory: Attempting to register factory for plugin cuDNN when one has already been registered\n",
      "2024-07-15 08:15:42.483038: E external/local_xla/xla/stream_executor/cuda/cuda_blas.cc:1442] Unable to register cuBLAS factory: Attempting to register factory for plugin cuBLAS when one has already been registered\n",
      "2024-07-15 08:15:42.566358: I tensorflow/core/platform/cpu_feature_guard.cc:210] This TensorFlow binary is optimized to use available CPU instructions in performance-critical operations.\n",
      "To enable the following instructions: AVX2 AVX_VNNI FMA, in other operations, rebuild TensorFlow with the appropriate compiler flags.\n",
      "2024-07-15 08:15:43.238805: W tensorflow/compiler/tf2tensorrt/utils/py_utils.cc:38] TF-TRT Warning: Could not find TensorRT\n"
     ]
    }
   ],
   "source": [
    "from data.process import *"
   ]
  },
  {
   "cell_type": "code",
   "execution_count": 2,
   "metadata": {},
   "outputs": [],
   "source": [
    "train_df, dev_df, test_df = retrieve_train_dev_test_dataframe()\n",
    "X_train, Y_train = split_input_output(train_df)\n",
    "X_dev, Y_dev = split_input_output(dev_df)"
   ]
  },
  {
   "cell_type": "markdown",
   "metadata": {},
   "source": [
    "## Train"
   ]
  },
  {
   "cell_type": "code",
   "execution_count": 3,
   "metadata": {},
   "outputs": [],
   "source": [
    "import xgboost as xgb\n",
    "from model.xgb_opt import *\n",
    "from hyperopt import fmin, tpe, hp, STATUS_OK, Trials, rand\n",
    "import pprint"
   ]
  },
  {
   "cell_type": "code",
   "execution_count": 4,
   "metadata": {},
   "outputs": [],
   "source": [
    "# train_dataset = xgb.DMatrix(data=X_train, label=Y_train, enable_categorical=True)\n",
    "# dev_dataset = xgb.DMatrix(X_dev, Y_dev, enable_categorical=True)"
   ]
  },
  {
   "cell_type": "markdown",
   "metadata": {},
   "source": [
    "# XGBoost Model"
   ]
  },
  {
   "cell_type": "code",
   "execution_count": 5,
   "metadata": {},
   "outputs": [],
   "source": [
    "OPTIMIZED = False"
   ]
  },
  {
   "cell_type": "markdown",
   "metadata": {},
   "source": [
    "## HyperParams"
   ]
  },
  {
   "cell_type": "code",
   "execution_count": 6,
   "metadata": {},
   "outputs": [],
   "source": [
    "space = XGBoostSearchSpace(**xgb_tunable_hyperparams)"
   ]
  },
  {
   "cell_type": "markdown",
   "metadata": {},
   "source": [
    "### optimization"
   ]
  },
  {
   "cell_type": "code",
   "execution_count": 7,
   "metadata": {},
   "outputs": [
    {
     "name": "stdout",
     "output_type": "stream",
     "text": [
      "[0]\tvalidation_0-auc:0.85906                          \n",
      "[100]\tvalidation_0-auc:0.87377                        \n",
      "[200]\tvalidation_0-auc:0.87678                        \n",
      "[300]\tvalidation_0-auc:0.87684                        \n",
      "[317]\tvalidation_0-auc:0.87680                        \n",
      "[0]\tvalidation_0-auc:0.85410                                                     \n",
      "[100]\tvalidation_0-auc:0.87158                                                   \n",
      "[169]\tvalidation_0-auc:0.87103                                                   \n",
      "[0]\tvalidation_0-auc:0.85801                                                        \n",
      "[100]\tvalidation_0-auc:0.87315                                                      \n",
      "[200]\tvalidation_0-auc:0.87601                                                      \n",
      "[293]\tvalidation_0-auc:0.87604                                                      \n",
      "[0]\tvalidation_0-auc:0.85734                                                        \n",
      "[100]\tvalidation_0-auc:0.87399                                                    \n",
      "[200]\tvalidation_0-auc:0.87809                                                    \n",
      "[300]\tvalidation_0-auc:0.87960                                                    \n",
      "[400]\tvalidation_0-auc:0.88019                                                    \n",
      "[499]\tvalidation_0-auc:0.88030                                                    \n",
      "[0]\tvalidation_0-auc:0.85589                                                      \n",
      "[100]\tvalidation_0-auc:0.85959                                                    \n",
      "[200]\tvalidation_0-auc:0.86132                                                    \n",
      "[300]\tvalidation_0-auc:0.86254                                                    \n",
      "[400]\tvalidation_0-auc:0.86364                                                    \n",
      "[499]\tvalidation_0-auc:0.86445                                                    \n",
      "[0]\tvalidation_0-auc:0.85825                                                      \n",
      "[100]\tvalidation_0-auc:0.87783                                                    \n",
      "[200]\tvalidation_0-auc:0.88041                                                    \n",
      "[256]\tvalidation_0-auc:0.87982                                                    \n",
      "[0]\tvalidation_0-auc:0.85587                                                      \n",
      "[100]\tvalidation_0-auc:0.86950                                                   \n",
      "[200]\tvalidation_0-auc:0.87463                                                   \n",
      "[300]\tvalidation_0-auc:0.87707                                                   \n",
      "[400]\tvalidation_0-auc:0.87863                                                   \n",
      "[499]\tvalidation_0-auc:0.87989                                                   \n",
      "[0]\tvalidation_0-auc:0.85423                                                      \n",
      "[100]\tvalidation_0-auc:0.87061                                                    \n",
      "[103]\tvalidation_0-auc:0.87058                                                    \n",
      "[0]\tvalidation_0-auc:0.85289                                                      \n",
      "[100]\tvalidation_0-auc:0.87260                                                   \n",
      "[199]\tvalidation_0-auc:0.87322                                                   \n",
      "[0]\tvalidation_0-auc:0.84713                                                      \n",
      "[100]\tvalidation_0-auc:0.85697                                                    \n",
      "[200]\tvalidation_0-auc:0.85997                                                    \n",
      "[300]\tvalidation_0-auc:0.86302                                                    \n",
      "[400]\tvalidation_0-auc:0.86557                                                    \n",
      "[499]\tvalidation_0-auc:0.86709                                                    \n",
      "[0]\tvalidation_0-auc:0.85548                                                       \n",
      "[100]\tvalidation_0-auc:0.86267                                                     \n",
      "[200]\tvalidation_0-auc:0.86521                                                     \n",
      "[300]\tvalidation_0-auc:0.86741                                                     \n",
      "[400]\tvalidation_0-auc:0.87035                                                     \n",
      "[499]\tvalidation_0-auc:0.87227                                                     \n",
      "[0]\tvalidation_0-auc:0.85926                                                       \n",
      "[100]\tvalidation_0-auc:0.87385                                                     \n",
      "[200]\tvalidation_0-auc:0.87682                                                     \n",
      "[300]\tvalidation_0-auc:0.87793                                                     \n",
      "[370]\tvalidation_0-auc:0.87754                                                     \n",
      "[0]\tvalidation_0-auc:0.84900                                                       \n",
      "[100]\tvalidation_0-auc:0.85925                                                     \n",
      "[200]\tvalidation_0-auc:0.86440                                                     \n",
      "[300]\tvalidation_0-auc:0.86757                                                     \n",
      "[400]\tvalidation_0-auc:0.86962                                                     \n",
      "[499]\tvalidation_0-auc:0.87155                                                     \n",
      "[0]\tvalidation_0-auc:0.85681                                                       \n",
      "[100]\tvalidation_0-auc:0.87286                                                     \n",
      "[200]\tvalidation_0-auc:0.87725                                                     \n",
      "[300]\tvalidation_0-auc:0.87900                                                     \n",
      "[379]\tvalidation_0-auc:0.87893                                                     \n",
      "[0]\tvalidation_0-auc:0.85927                                                       \n",
      "[100]\tvalidation_0-auc:0.87178                                                     \n",
      "[200]\tvalidation_0-auc:0.87689                                                     \n",
      "[300]\tvalidation_0-auc:0.87873                                                     \n",
      "[400]\tvalidation_0-auc:0.87961                                                     \n",
      "[499]\tvalidation_0-auc:0.88009                                                     \n",
      "[0]\tvalidation_0-auc:0.85439                                                       \n",
      "[100]\tvalidation_0-auc:0.85689                                                     \n",
      "[200]\tvalidation_0-auc:0.85793                                                     \n",
      "[300]\tvalidation_0-auc:0.85846                                                     \n",
      "[400]\tvalidation_0-auc:0.85912                                                     \n",
      "[499]\tvalidation_0-auc:0.85976                                                     \n",
      "[0]\tvalidation_0-auc:0.85910                                                       \n",
      "[100]\tvalidation_0-auc:0.86560                                                     \n",
      "[200]\tvalidation_0-auc:0.86702                                                     \n",
      "[300]\tvalidation_0-auc:0.86885                                                       \n",
      "[400]\tvalidation_0-auc:0.87058                                                       \n",
      "[499]\tvalidation_0-auc:0.87182                                                       \n",
      "[0]\tvalidation_0-auc:0.85751                                                          \n",
      "[100]\tvalidation_0-auc:0.86311                                                        \n",
      "[200]\tvalidation_0-auc:0.86608                                                        \n",
      "[300]\tvalidation_0-auc:0.86805                                                        \n",
      "[400]\tvalidation_0-auc:0.86944                                                        \n",
      "[499]\tvalidation_0-auc:0.87080                                                        \n",
      "[0]\tvalidation_0-auc:0.85977                                                          \n",
      "[100]\tvalidation_0-auc:0.87327                                                       \n",
      "[200]\tvalidation_0-auc:0.87595                                                       \n",
      "[269]\tvalidation_0-auc:0.87593                                                       \n",
      "[0]\tvalidation_0-auc:0.85226                                                         \n",
      "[100]\tvalidation_0-auc:0.85511                                                       \n",
      "[200]\tvalidation_0-auc:0.85553                                                       \n",
      "[300]\tvalidation_0-auc:0.85615                                                       \n",
      "[400]\tvalidation_0-auc:0.85684                                                       \n",
      "[499]\tvalidation_0-auc:0.85741                                                       \n",
      "100%|██████████| 20/20 [1:43:06<00:00, 309.34s/trial, best loss: -0.8804989198748109]\n",
      "{'gamma': 0.025068042675769814, 'learning_rate': 0.06926657138388485, 'max_bin': 4, 'max_depth': 11.0, 'reg_lambda': 0.31371648373994243, 'subsample': 0.8637049820225611}\n"
     ]
    }
   ],
   "source": [
    "trials = Trials()\n",
    "best = fmin(\n",
    "        fn=lambda params: objective(\n",
    "            params, \n",
    "            xgb_fixed_params, \n",
    "            X_train, \n",
    "            Y_train, \n",
    "            X_dev, \n",
    "            Y_dev\n",
    "        ), \n",
    "        space=space.Space, \n",
    "        algo=rand.suggest, \n",
    "        max_evals=20,\n",
    "        trials=trials\n",
    "    )\n",
    "print(best) "
   ]
  },
  {
   "cell_type": "code",
   "execution_count": 8,
   "metadata": {},
   "outputs": [
    {
     "name": "stdout",
     "output_type": "stream",
     "text": [
      "{'book_time': datetime.datetime(2024, 7, 14, 23, 15, 54, 973000),\n",
      " 'exp_key': None,\n",
      " 'misc': {'cmd': ('domain_attachment', 'FMinIter_Domain'),\n",
      "          'idxs': {'gamma': [0],\n",
      "                   'learning_rate': [0],\n",
      "                   'max_bin': [0],\n",
      "                   'max_depth': [0],\n",
      "                   'reg_lambda': [0],\n",
      "                   'subsample': [0]},\n",
      "          'tid': 0,\n",
      "          'vals': {'gamma': [0.00029970746759093393],\n",
      "                   'learning_rate': [0.02978127757766048],\n",
      "                   'max_bin': [0],\n",
      "                   'max_depth': [15.0],\n",
      "                   'reg_lambda': [0.01242645359997944],\n",
      "                   'subsample': [0.7871403718638288]},\n",
      "          'workdir': None},\n",
      " 'owner': None,\n",
      " 'refresh_time': datetime.datetime(2024, 7, 14, 23, 17, 0, 971000),\n",
      " 'result': {'loss': -0.8771351580421762, 'status': 'ok'},\n",
      " 'spec': None,\n",
      " 'state': 2,\n",
      " 'tid': 0,\n",
      " 'version': 0}\n"
     ]
    }
   ],
   "source": [
    "try:\n",
    "    pprint.pprint(trials.trials[0])\n",
    "except:\n",
    "    pass"
   ]
  },
  {
   "cell_type": "code",
   "execution_count": 18,
   "metadata": {},
   "outputs": [],
   "source": [
    "\n",
    "# Temporary Hack\n",
    "MAX_BIN_CHOICE = [2 ** i - 1 for i in range(10, 20)]\n",
    "# best['max_depth'] = int(best['max_depth'])\n",
    "# best['max_bin'] = MAX_BIN_CHOICE[best['max_bin']]\n",
    "best['max_bin'] = MAX_BIN_CHOICE[4]"
   ]
  },
  {
   "cell_type": "code",
   "execution_count": 20,
   "metadata": {},
   "outputs": [],
   "source": [
    "with open('xgb_best_params.txt', 'w') as f:\n",
    "    f.write('best params:\\n')\n",
    "    for key, value in best.items():\n",
    "        f.write(f\"{key}: {value}\\n\")\n",
    "\n",
    "    f.write('\\n--------------------------------\\n')\n",
    "    f.write('trials:\\n')\n",
    "    for trial in trials.trials:\n",
    "        try:\n",
    "            f.write(pprint.pformat(trial.get('misc')))\n",
    "            f.write('\\n\\n')\n",
    "        except Exception as e:\n",
    "            print(e)\n",
    "            print('Failed to write best params to file')"
   ]
  },
  {
   "cell_type": "code",
   "execution_count": null,
   "metadata": {},
   "outputs": [],
   "source": []
  },
  {
   "cell_type": "code",
   "execution_count": 36,
   "metadata": {},
   "outputs": [],
   "source": [
    "# fixed_params_for_training = {\n",
    "#     **xgb_fixed_params,\n",
    "#     'n_estimators': 10000,\n",
    "# }\n",
    "keys_to_exclude_in_training = ['n_estimators', 'early_stopping_rounds']\n",
    "filtered_xgb_params = {k: v for k, v in xgb_fixed_params.items() if k not in keys_to_exclude_in_training}\n",
    "params_for_training = {\n",
    "    **filtered_xgb_params,\n",
    "    'gamma': 0.025068042675769814,\n",
    "    'learning_rate': 0.06926657138388485,\n",
    "    'max_bin': 16383,\n",
    "    'max_depth': 11,\n",
    "    'reg_lambda': 0.31371648373994243,\n",
    "    'subsample': 0.8637049820225611,\n",
    "    # override key-value pair in xgb_fixed_params\n",
    "    'n_estimators': 10000,\n",
    "    'early_stopping_rounds': 200,\n",
    "}"
   ]
  },
  {
   "cell_type": "code",
   "execution_count": 37,
   "metadata": {},
   "outputs": [
    {
     "name": "stdout",
     "output_type": "stream",
     "text": [
      "[0]\tvalidation_0-auc:0.85825\n",
      "[100]\tvalidation_0-auc:0.87783\n",
      "[200]\tvalidation_0-auc:0.88041\n",
      "[300]\tvalidation_0-auc:0.87970\n",
      "[400]\tvalidation_0-auc:0.87916\n",
      "[407]\tvalidation_0-auc:0.87923\n"
     ]
    }
   ],
   "source": [
    "evals = [(X_dev, Y_dev)]\n",
    "model = xgb.XGBClassifier(\n",
    "    **params_for_training\n",
    ")\n",
    "\n",
    "boosting = model.fit(X_train, Y_train, eval_set=evals, verbose=100)\n",
    "model.save_model(\"xgboost_model.json\")"
   ]
  },
  {
   "cell_type": "code",
   "execution_count": null,
   "metadata": {},
   "outputs": [],
   "source": []
  },
  {
   "cell_type": "code",
   "execution_count": null,
   "metadata": {},
   "outputs": [],
   "source": []
  }
 ],
 "metadata": {
  "kernelspec": {
   "display_name": ".venv",
   "language": "python",
   "name": "python3"
  },
  "language_info": {
   "codemirror_mode": {
    "name": "ipython",
    "version": 3
   },
   "file_extension": ".py",
   "mimetype": "text/x-python",
   "name": "python",
   "nbconvert_exporter": "python",
   "pygments_lexer": "ipython3",
   "version": "3.10.12"
  }
 },
 "nbformat": 4,
 "nbformat_minor": 2
}
