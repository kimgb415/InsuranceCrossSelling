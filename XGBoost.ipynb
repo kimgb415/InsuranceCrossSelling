{
 "cells": [
  {
   "cell_type": "markdown",
   "metadata": {},
   "source": [
    "## Data Loading"
   ]
  },
  {
   "cell_type": "code",
   "execution_count": 1,
   "metadata": {},
   "outputs": [
    {
     "name": "stderr",
     "output_type": "stream",
     "text": [
      "2024-07-13 13:36:20.473077: I tensorflow/core/util/port.cc:113] oneDNN custom operations are on. You may see slightly different numerical results due to floating-point round-off errors from different computation orders. To turn them off, set the environment variable `TF_ENABLE_ONEDNN_OPTS=0`.\n",
      "2024-07-13 13:36:20.481983: E external/local_xla/xla/stream_executor/cuda/cuda_fft.cc:479] Unable to register cuFFT factory: Attempting to register factory for plugin cuFFT when one has already been registered\n",
      "2024-07-13 13:36:20.494818: E external/local_xla/xla/stream_executor/cuda/cuda_dnn.cc:10575] Unable to register cuDNN factory: Attempting to register factory for plugin cuDNN when one has already been registered\n",
      "2024-07-13 13:36:20.494851: E external/local_xla/xla/stream_executor/cuda/cuda_blas.cc:1442] Unable to register cuBLAS factory: Attempting to register factory for plugin cuBLAS when one has already been registered\n",
      "2024-07-13 13:36:20.506256: I tensorflow/core/platform/cpu_feature_guard.cc:210] This TensorFlow binary is optimized to use available CPU instructions in performance-critical operations.\n",
      "To enable the following instructions: AVX2 AVX_VNNI FMA, in other operations, rebuild TensorFlow with the appropriate compiler flags.\n",
      "2024-07-13 13:36:20.943904: W tensorflow/compiler/tf2tensorrt/utils/py_utils.cc:38] TF-TRT Warning: Could not find TensorRT\n"
     ]
    }
   ],
   "source": [
    "from data.process import *"
   ]
  },
  {
   "cell_type": "code",
   "execution_count": 2,
   "metadata": {},
   "outputs": [],
   "source": [
    "\n",
    "train_df, dev_df, test_df = retrieve_train_dev_test_dataframe()\n",
    "X_train, Y_train = split_input_output(train_df)\n",
    "X_dev, Y_dev = split_input_output(dev_df)"
   ]
  },
  {
   "cell_type": "markdown",
   "metadata": {},
   "source": [
    "## Train"
   ]
  },
  {
   "cell_type": "code",
   "execution_count": 3,
   "metadata": {},
   "outputs": [],
   "source": [
    "import xgboost as xgb\n",
    "from model.xgb_opt import *\n",
    "from hyperopt import fmin, tpe, hp, STATUS_OK, Trials"
   ]
  },
  {
   "cell_type": "code",
   "execution_count": 4,
   "metadata": {},
   "outputs": [],
   "source": [
    "# train_dataset = xgb.DMatrix(data=X_train, label=Y_train, enable_categorical=True)\n",
    "# dev_dataset = xgb.DMatrix(X_dev, Y_dev, enable_categorical=True)"
   ]
  },
  {
   "cell_type": "markdown",
   "metadata": {},
   "source": [
    "# XGBoost Model"
   ]
  },
  {
   "cell_type": "markdown",
   "metadata": {},
   "source": [
    "## HyperParams"
   ]
  },
  {
   "cell_type": "code",
   "execution_count": 5,
   "metadata": {},
   "outputs": [],
   "source": [
    "space = XGBoostSearchSpace(**xgb_tunable_hyperparams)"
   ]
  },
  {
   "cell_type": "markdown",
   "metadata": {},
   "source": [
    "### optimization"
   ]
  },
  {
   "cell_type": "code",
   "execution_count": 6,
   "metadata": {},
   "outputs": [
    {
     "name": "stdout",
     "output_type": "stream",
     "text": [
      "[0]\tvalidation_0-auc:0.85698                          \n",
      "[100]\tvalidation_0-auc:0.86021                        \n",
      "[200]\tvalidation_0-auc:0.85293                        \n",
      "[300]\tvalidation_0-auc:0.84481                        \n",
      "[400]\tvalidation_0-auc:0.84032                        \n",
      "[500]\tvalidation_0-auc:0.83950                        \n",
      "[600]\tvalidation_0-auc:0.83800                        \n",
      "[700]\tvalidation_0-auc:0.83711                        \n",
      "[800]\tvalidation_0-auc:0.83593                        \n",
      "[900]\tvalidation_0-auc:0.83564                        \n",
      "[999]\tvalidation_0-auc:0.83530                        \n",
      "[0]\tvalidation_0-auc:0.84892                                                     \n",
      "[100]\tvalidation_0-auc:0.87450                                                   \n",
      "[200]\tvalidation_0-auc:0.87442                                                   \n",
      "[300]\tvalidation_0-auc:0.87442                                                   \n",
      "[400]\tvalidation_0-auc:0.87442                                                   \n",
      "[500]\tvalidation_0-auc:0.87442                                                   \n",
      "[600]\tvalidation_0-auc:0.87442                                                   \n",
      "[700]\tvalidation_0-auc:0.87442                                                   \n",
      "[800]\tvalidation_0-auc:0.87442                                                   \n",
      "[900]\tvalidation_0-auc:0.87442                                                   \n",
      "[999]\tvalidation_0-auc:0.87442                                                   \n",
      "[0]\tvalidation_0-auc:0.84902                                                     \n",
      "[100]\tvalidation_0-auc:0.87561                                                   \n",
      "[200]\tvalidation_0-auc:0.87068                                                   \n",
      "[300]\tvalidation_0-auc:0.86895                                                   \n",
      "[400]\tvalidation_0-auc:0.86876                                                   \n",
      "[500]\tvalidation_0-auc:0.86876                                                   \n",
      "[600]\tvalidation_0-auc:0.86876                                                   \n",
      "[700]\tvalidation_0-auc:0.86876                                                   \n",
      "[800]\tvalidation_0-auc:0.86876                                                   \n",
      "[900]\tvalidation_0-auc:0.86876                                                   \n",
      "[999]\tvalidation_0-auc:0.86876                                                   \n",
      "[0]\tvalidation_0-auc:0.85243                                                     \n",
      "[100]\tvalidation_0-auc:0.87213                                                   \n",
      "[200]\tvalidation_0-auc:0.87213                                                   \n",
      "[300]\tvalidation_0-auc:0.87213                                                   \n",
      "[400]\tvalidation_0-auc:0.87213                                                   \n",
      "[500]\tvalidation_0-auc:0.87213                                                   \n",
      "[600]\tvalidation_0-auc:0.87213                                                   \n",
      "[700]\tvalidation_0-auc:0.87213                                                   \n",
      "[800]\tvalidation_0-auc:0.87213                                                   \n",
      "[900]\tvalidation_0-auc:0.87213                                                   \n",
      "[999]\tvalidation_0-auc:0.87213                                                   \n",
      "[0]\tvalidation_0-auc:0.85501                                                     \n",
      "[100]\tvalidation_0-auc:0.86762                                                   \n",
      "[200]\tvalidation_0-auc:0.86314                                                   \n",
      "[300]\tvalidation_0-auc:0.86314                                                   \n",
      "[400]\tvalidation_0-auc:0.86314                                                   \n",
      "[500]\tvalidation_0-auc:0.86314                                                   \n",
      "[600]\tvalidation_0-auc:0.86314                                                   \n",
      "[700]\tvalidation_0-auc:0.86314                                                   \n",
      "[800]\tvalidation_0-auc:0.86314                                                   \n",
      "[900]\tvalidation_0-auc:0.86314                                                   \n",
      "[999]\tvalidation_0-auc:0.86314                                                   \n",
      "[0]\tvalidation_0-auc:0.84465                                                     \n",
      "[100]\tvalidation_0-auc:0.87669                                                   \n",
      "[200]\tvalidation_0-auc:0.87562                                                   \n",
      "[300]\tvalidation_0-auc:0.87310                                                   \n",
      "[400]\tvalidation_0-auc:0.87132                                                   \n",
      "[500]\tvalidation_0-auc:0.86981                                                   \n",
      "[600]\tvalidation_0-auc:0.86797                                                   \n",
      "[700]\tvalidation_0-auc:0.86630                                                   \n",
      "[800]\tvalidation_0-auc:0.86508                                                   \n",
      "[900]\tvalidation_0-auc:0.86345                                                   \n",
      "[999]\tvalidation_0-auc:0.86263                                                   \n",
      "[0]\tvalidation_0-auc:0.83156                                                     \n",
      "[100]\tvalidation_0-auc:0.87609                                                   \n",
      "[200]\tvalidation_0-auc:0.87699                                                   \n",
      "[300]\tvalidation_0-auc:0.87761                                                   \n",
      "[400]\tvalidation_0-auc:0.87775                                                   \n",
      "[500]\tvalidation_0-auc:0.87788                                                   \n",
      "[600]\tvalidation_0-auc:0.87769                                                   \n",
      "[700]\tvalidation_0-auc:0.87764                                                   \n",
      "[800]\tvalidation_0-auc:0.87752                                                   \n",
      "[900]\tvalidation_0-auc:0.87738                                                   \n",
      "[999]\tvalidation_0-auc:0.87733                                                   \n",
      "[0]\tvalidation_0-auc:0.83156                                                     \n",
      "[100]\tvalidation_0-auc:0.87556                                                  \n",
      "[200]\tvalidation_0-auc:0.87740                                                  \n",
      "[300]\tvalidation_0-auc:0.87785                                                  \n",
      "[400]\tvalidation_0-auc:0.87812                                                  \n",
      "[500]\tvalidation_0-auc:0.87809                                                  \n",
      "[600]\tvalidation_0-auc:0.87817                                                  \n",
      "[700]\tvalidation_0-auc:0.87783                                                  \n",
      "[800]\tvalidation_0-auc:0.87789                                                  \n",
      "[900]\tvalidation_0-auc:0.87781                                                  \n",
      "[999]\tvalidation_0-auc:0.87771                                                  \n",
      "[0]\tvalidation_0-auc:0.85246                                                     \n",
      "[100]\tvalidation_0-auc:0.87018                                                   \n",
      "[200]\tvalidation_0-auc:0.86401                                                   \n",
      "[300]\tvalidation_0-auc:0.85850                                                   \n",
      "[400]\tvalidation_0-auc:0.85657                                                   \n",
      "[500]\tvalidation_0-auc:0.85385                                                   \n",
      "[600]\tvalidation_0-auc:0.85034                                                   \n",
      "[700]\tvalidation_0-auc:0.84931                                                   \n",
      "[800]\tvalidation_0-auc:0.84749                                                   \n",
      "[900]\tvalidation_0-auc:0.84625                                                   \n",
      "[999]\tvalidation_0-auc:0.84546                                                   \n",
      "[0]\tvalidation_0-auc:0.84895                                                     \n",
      "[100]\tvalidation_0-auc:0.87415                                                   \n",
      "[200]\tvalidation_0-auc:0.86806                                                   \n",
      "[300]\tvalidation_0-auc:0.86393                                                   \n",
      "[400]\tvalidation_0-auc:0.86213                                                   \n",
      "[500]\tvalidation_0-auc:0.86213                                                   \n",
      "[600]\tvalidation_0-auc:0.86213                                                   \n",
      "[700]\tvalidation_0-auc:0.86213                                                   \n",
      "[800]\tvalidation_0-auc:0.86213                                                   \n",
      "[900]\tvalidation_0-auc:0.86213                                                   \n",
      "[999]\tvalidation_0-auc:0.86213                                                   \n",
      "[0]\tvalidation_0-auc:0.83907                                                      \n",
      "[100]\tvalidation_0-auc:0.87721                                                    \n",
      "[200]\tvalidation_0-auc:0.87789                                                    \n",
      "[300]\tvalidation_0-auc:0.87710                                                    \n",
      "[400]\tvalidation_0-auc:0.87696                                                    \n",
      "[500]\tvalidation_0-auc:0.87696                                                    \n",
      "[600]\tvalidation_0-auc:0.87696                                                    \n",
      "[700]\tvalidation_0-auc:0.87696                                                    \n",
      "[800]\tvalidation_0-auc:0.87696                                                    \n",
      "[900]\tvalidation_0-auc:0.87696                                                    \n",
      "[999]\tvalidation_0-auc:0.87696                                                    \n",
      "[0]\tvalidation_0-auc:0.85698                                                      \n",
      "[100]\tvalidation_0-auc:0.86425                                                    \n",
      "[200]\tvalidation_0-auc:0.85203                                                    \n",
      "[300]\tvalidation_0-auc:0.84866                                                    \n",
      "[400]\tvalidation_0-auc:0.84508                                                    \n",
      "[500]\tvalidation_0-auc:0.84508                                                    \n",
      "[600]\tvalidation_0-auc:0.84508                                                    \n",
      "[700]\tvalidation_0-auc:0.84508                                                    \n",
      "[800]\tvalidation_0-auc:0.84508                                                    \n",
      "[900]\tvalidation_0-auc:0.84508                                                    \n",
      "[999]\tvalidation_0-auc:0.84508                                                    \n",
      "[0]\tvalidation_0-auc:0.85240                                                      \n",
      "[100]\tvalidation_0-auc:0.87106                                                    \n",
      "[200]\tvalidation_0-auc:0.86885                                                    \n",
      "[300]\tvalidation_0-auc:0.86885                                                    \n",
      "[400]\tvalidation_0-auc:0.86885                                                    \n",
      "[500]\tvalidation_0-auc:0.86885                                                    \n",
      "[600]\tvalidation_0-auc:0.86885                                                    \n",
      "[700]\tvalidation_0-auc:0.86885                                                    \n",
      "[800]\tvalidation_0-auc:0.86885                                                    \n",
      "[900]\tvalidation_0-auc:0.86885                                                    \n",
      "[999]\tvalidation_0-auc:0.86885                                                    \n",
      "[0]\tvalidation_0-auc:0.85239                                                      \n",
      "[100]\tvalidation_0-auc:0.87155                                                    \n",
      "[200]\tvalidation_0-auc:0.87041                                                    \n",
      "[300]\tvalidation_0-auc:0.87041                                                    \n",
      "[400]\tvalidation_0-auc:0.87041                                                    \n",
      "[500]\tvalidation_0-auc:0.87041                                                    \n",
      "[600]\tvalidation_0-auc:0.87041                                                    \n",
      "[700]\tvalidation_0-auc:0.87041                                                    \n",
      "[800]\tvalidation_0-auc:0.87041                                                    \n",
      "[900]\tvalidation_0-auc:0.87041                                                    \n",
      "[999]\tvalidation_0-auc:0.87041                                                    \n",
      "[0]\tvalidation_0-auc:0.83156                                                      \n",
      "[100]\tvalidation_0-auc:0.87596                                                    \n",
      "[200]\tvalidation_0-auc:0.87757                                                    \n",
      "[300]\tvalidation_0-auc:0.87802                                                    \n",
      "[400]\tvalidation_0-auc:0.87789                                                    \n",
      "[500]\tvalidation_0-auc:0.87784                                                    \n",
      "[600]\tvalidation_0-auc:0.87762                                                    \n",
      "[700]\tvalidation_0-auc:0.87748                                                    \n",
      "[800]\tvalidation_0-auc:0.87735                                                    \n",
      "[900]\tvalidation_0-auc:0.87735                                                    \n",
      "[999]\tvalidation_0-auc:0.87735                                                    \n",
      "100%|██████████| 15/15 [05:15<00:00, 21.05s/trial, best loss: -0.8782679918034709]\n",
      "{'gamma': 0.09300026166313838, 'learning_rate': 1.140018215045521, 'max_depth': 3.0, 'reg_lambda': 0.290057223198381}\n"
     ]
    }
   ],
   "source": [
    "trials = Trials()\n",
    "best = fmin(\n",
    "        fn=lambda params: objective(\n",
    "            params, \n",
    "            xgb_fixed_params, \n",
    "            X_train, \n",
    "            Y_train, \n",
    "            X_dev, \n",
    "            Y_dev\n",
    "        ), \n",
    "        space=space.Space, \n",
    "        algo=tpe.suggest, \n",
    "        max_evals=15,\n",
    "        trials=trials\n",
    "    )\n",
    "print(best) "
   ]
  }
 ],
 "metadata": {
  "kernelspec": {
   "display_name": ".venv",
   "language": "python",
   "name": "python3"
  },
  "language_info": {
   "codemirror_mode": {
    "name": "ipython",
    "version": 3
   },
   "file_extension": ".py",
   "mimetype": "text/x-python",
   "name": "python",
   "nbconvert_exporter": "python",
   "pygments_lexer": "ipython3",
   "version": "3.10.12"
  }
 },
 "nbformat": 4,
 "nbformat_minor": 2
}
