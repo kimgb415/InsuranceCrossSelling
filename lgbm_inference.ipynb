{
 "cells": [
  {
   "cell_type": "code",
   "execution_count": 1,
   "metadata": {},
   "outputs": [
    {
     "name": "stderr",
     "output_type": "stream",
     "text": [
      "2024-07-27 17:13:15.841426: I tensorflow/core/util/port.cc:113] oneDNN custom operations are on. You may see slightly different numerical results due to floating-point round-off errors from different computation orders. To turn them off, set the environment variable `TF_ENABLE_ONEDNN_OPTS=0`.\n",
      "2024-07-27 17:13:15.851010: E external/local_xla/xla/stream_executor/cuda/cuda_fft.cc:479] Unable to register cuFFT factory: Attempting to register factory for plugin cuFFT when one has already been registered\n",
      "2024-07-27 17:13:15.868019: E external/local_xla/xla/stream_executor/cuda/cuda_dnn.cc:10575] Unable to register cuDNN factory: Attempting to register factory for plugin cuDNN when one has already been registered\n",
      "2024-07-27 17:13:15.868045: E external/local_xla/xla/stream_executor/cuda/cuda_blas.cc:1442] Unable to register cuBLAS factory: Attempting to register factory for plugin cuBLAS when one has already been registered\n",
      "2024-07-27 17:13:15.882775: I tensorflow/core/platform/cpu_feature_guard.cc:210] This TensorFlow binary is optimized to use available CPU instructions in performance-critical operations.\n",
      "To enable the following instructions: AVX2 AVX_VNNI FMA, in other operations, rebuild TensorFlow with the appropriate compiler flags.\n",
      "2024-07-27 17:13:16.299028: W tensorflow/compiler/tf2tensorrt/utils/py_utils.cc:38] TF-TRT Warning: Could not find TensorRT\n"
     ]
    }
   ],
   "source": [
    "from data.process import *"
   ]
  },
  {
   "cell_type": "code",
   "execution_count": 2,
   "metadata": {},
   "outputs": [],
   "source": [
    "train_df, dev_df, test_df = retrieve_train_dev_test_as_category_for_xgboost()\n",
    "X_train, Y_train = split_input_output(train_df)\n",
    "X_dev, Y_dev = split_input_output(dev_df)"
   ]
  },
  {
   "cell_type": "code",
   "execution_count": 3,
   "metadata": {},
   "outputs": [],
   "source": [
    "from lightgbm import LGBMClassifier, log_evaluation\n",
    "from model.lgbm_opt import *"
   ]
  },
  {
   "cell_type": "code",
   "execution_count": 4,
   "metadata": {},
   "outputs": [],
   "source": [
    "lgbm_params = {\n",
    "    **lgbm_fixed_params,\n",
    "    # categorical features\n",
    "    'enable_categorical': True,\n",
    "    # fixed after first optimization\n",
    "    'colsample_bytree': 0.25,\n",
    "    'learning_rate': 0.05,\n",
    "\n",
    "    # fixed after third optimization\n",
    "    'max_depth': 128,\n",
    "    'num_leaves': 4096,\n",
    "    'min_data_in_leaf': 25,\n",
    "\n",
    "    # override fixed params\n",
    "    'n_estimators': 1000,\n",
    "    'early_stopping_rounds': 200,\n",
    "}"
   ]
  },
  {
   "cell_type": "code",
   "execution_count": 5,
   "metadata": {},
   "outputs": [],
   "source": [
    "cat_features = list(X_train.select_dtypes(include=['category']).columns)"
   ]
  },
  {
   "cell_type": "code",
   "execution_count": 6,
   "metadata": {},
   "outputs": [
    {
     "name": "stdout",
     "output_type": "stream",
     "text": [
      "[100]\tvalid_0's auc: 0.887088\tvalid_0's binary_logloss: 0.250385\n",
      "[200]\tvalid_0's auc: 0.890436\tvalid_0's binary_logloss: 0.243352\n",
      "[300]\tvalid_0's auc: 0.891593\tvalid_0's binary_logloss: 0.241792\n",
      "[400]\tvalid_0's auc: 0.892032\tvalid_0's binary_logloss: 0.241305\n",
      "[500]\tvalid_0's auc: 0.892241\tvalid_0's binary_logloss: 0.241075\n",
      "[600]\tvalid_0's auc: 0.892353\tvalid_0's binary_logloss: 0.240949\n",
      "[700]\tvalid_0's auc: 0.892403\tvalid_0's binary_logloss: 0.24092\n",
      "[800]\tvalid_0's auc: 0.892462\tvalid_0's binary_logloss: 0.240884\n",
      "[900]\tvalid_0's auc: 0.892513\tvalid_0's binary_logloss: 0.24084\n",
      "[1000]\tvalid_0's auc: 0.892471\tvalid_0's binary_logloss: 0.240902\n",
      "CPU times: user 4h 23min 18s, sys: 9.59 s, total: 4h 23min 28s\n",
      "Wall time: 11min 5s\n"
     ]
    }
   ],
   "source": [
    "%%time\n",
    "model = LGBMClassifier(\n",
    "    **lgbm_params,\n",
    ")\n",
    "log_callback = log_evaluation(period=100)\n",
    "boosting = model.fit(X_train, Y_train, eval_set=[(X_dev, Y_dev)], categorical_feature=cat_features, eval_metric='auc', callbacks=[log_callback])"
   ]
  },
  {
   "cell_type": "code",
   "execution_count": 7,
   "metadata": {},
   "outputs": [
    {
     "name": "stdout",
     "output_type": "stream",
     "text": [
      "defaultdict(<class 'collections.OrderedDict'>,\n",
      "            {'valid_0': OrderedDict([('auc', 0.8925317511260051),\n",
      "                                     ('binary_logloss', 0.24082650440346098)])})\n"
     ]
    }
   ],
   "source": [
    "import pprint\n",
    "pprint.pprint(model.best_score_)"
   ]
  },
  {
   "cell_type": "code",
   "execution_count": 8,
   "metadata": {},
   "outputs": [
    {
     "name": "stdout",
     "output_type": "stream",
     "text": [
      "CPU times: user 44min 40s, sys: 908 ms, total: 44min 41s\n",
      "Wall time: 2min 4s\n"
     ]
    }
   ],
   "source": [
    "%%time\n",
    "lgbm_output = model.predict_proba(test_df, iteration_range=(0, model._best_iteration + 1))[:, 1]"
   ]
  },
  {
   "cell_type": "code",
   "execution_count": null,
   "metadata": {},
   "outputs": [],
   "source": []
  }
 ],
 "metadata": {
  "kernelspec": {
   "display_name": ".venv",
   "language": "python",
   "name": "python3"
  },
  "language_info": {
   "codemirror_mode": {
    "name": "ipython",
    "version": 3
   },
   "file_extension": ".py",
   "mimetype": "text/x-python",
   "name": "python",
   "nbconvert_exporter": "python",
   "pygments_lexer": "ipython3",
   "version": "3.10.12"
  }
 },
 "nbformat": 4,
 "nbformat_minor": 2
}
