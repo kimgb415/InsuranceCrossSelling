{
 "cells": [
  {
   "cell_type": "code",
   "execution_count": 1,
   "metadata": {},
   "outputs": [
    {
     "name": "stderr",
     "output_type": "stream",
     "text": [
      "2024-07-25 18:00:23.162946: I tensorflow/core/util/port.cc:113] oneDNN custom operations are on. You may see slightly different numerical results due to floating-point round-off errors from different computation orders. To turn them off, set the environment variable `TF_ENABLE_ONEDNN_OPTS=0`.\n",
      "2024-07-25 18:00:23.170362: E external/local_xla/xla/stream_executor/cuda/cuda_fft.cc:479] Unable to register cuFFT factory: Attempting to register factory for plugin cuFFT when one has already been registered\n",
      "2024-07-25 18:00:23.180987: E external/local_xla/xla/stream_executor/cuda/cuda_dnn.cc:10575] Unable to register cuDNN factory: Attempting to register factory for plugin cuDNN when one has already been registered\n",
      "2024-07-25 18:00:23.181022: E external/local_xla/xla/stream_executor/cuda/cuda_blas.cc:1442] Unable to register cuBLAS factory: Attempting to register factory for plugin cuBLAS when one has already been registered\n",
      "2024-07-25 18:00:23.190072: I tensorflow/core/platform/cpu_feature_guard.cc:210] This TensorFlow binary is optimized to use available CPU instructions in performance-critical operations.\n",
      "To enable the following instructions: AVX2 AVX_VNNI FMA, in other operations, rebuild TensorFlow with the appropriate compiler flags.\n",
      "2024-07-25 18:00:23.631021: W tensorflow/compiler/tf2tensorrt/utils/py_utils.cc:38] TF-TRT Warning: Could not find TensorRT\n"
     ]
    }
   ],
   "source": [
    "from data.process import *"
   ]
  },
  {
   "cell_type": "code",
   "execution_count": 2,
   "metadata": {},
   "outputs": [],
   "source": [
    "train_df, dev_df, test_df = retrieve_train_dev_test_as_category_for_xgboost()\n",
    "X_train, Y_train = split_input_output(train_df)\n",
    "X_dev, Y_dev = split_input_output(dev_df)"
   ]
  },
  {
   "cell_type": "code",
   "execution_count": 3,
   "metadata": {},
   "outputs": [
    {
     "name": "stderr",
     "output_type": "stream",
     "text": [
      "/home/gakim/gabyproj/InsuranceCrossSelling/.venv/lib/python3.10/site-packages/tqdm/auto.py:21: TqdmWarning: IProgress not found. Please update jupyter and ipywidgets. See https://ipywidgets.readthedocs.io/en/stable/user_install.html\n",
      "  from .autonotebook import tqdm as notebook_tqdm\n"
     ]
    }
   ],
   "source": [
    "from lightgbm import LGBMClassifier, log_evaluation\n",
    "from model.lgbm_opt import *"
   ]
  },
  {
   "cell_type": "code",
   "execution_count": 4,
   "metadata": {},
   "outputs": [],
   "source": [
    "lgbm_params = {\n",
    "    **lgbm_fixed_params,\n",
    "    # categorical features\n",
    "    'enable_categorical': True,\n",
    "    # fixed after first optimization\n",
    "    'colsample_bytree': 0.25,\n",
    "    'learning_rate': 0.01,\n",
    "\n",
    "    # fixed after third optimization\n",
    "    'max_depth': 128,\n",
    "    'num_leaves': 4096,\n",
    "    'min_data_in_leaf': 25,\n",
    "\n",
    "    # override fixed params\n",
    "    'n_estimators': 10000,\n",
    "    'early_stopping_rounds': 200,\n",
    "}"
   ]
  },
  {
   "cell_type": "code",
   "execution_count": 5,
   "metadata": {},
   "outputs": [],
   "source": [
    "cat_features = list(X_train.select_dtypes(include=['category']).columns)"
   ]
  },
  {
   "cell_type": "code",
   "execution_count": 6,
   "metadata": {},
   "outputs": [
    {
     "name": "stdout",
     "output_type": "stream",
     "text": [
      "[100]\tvalid_0's auc: 0.876504\tvalid_0's binary_logloss: 0.30036\n",
      "[200]\tvalid_0's auc: 0.88045\tvalid_0's binary_logloss: 0.274283\n",
      "[300]\tvalid_0's auc: 0.884047\tvalid_0's binary_logloss: 0.2608\n",
      "[400]\tvalid_0's auc: 0.886025\tvalid_0's binary_logloss: 0.253787\n",
      "[500]\tvalid_0's auc: 0.887225\tvalid_0's binary_logloss: 0.250053\n",
      "[600]\tvalid_0's auc: 0.888296\tvalid_0's binary_logloss: 0.247504\n",
      "[700]\tvalid_0's auc: 0.8892\tvalid_0's binary_logloss: 0.245768\n",
      "[800]\tvalid_0's auc: 0.889882\tvalid_0's binary_logloss: 0.244558\n",
      "[900]\tvalid_0's auc: 0.89035\tvalid_0's binary_logloss: 0.243716\n",
      "[1000]\tvalid_0's auc: 0.890697\tvalid_0's binary_logloss: 0.243127\n",
      "[1100]\tvalid_0's auc: 0.890963\tvalid_0's binary_logloss: 0.242719\n",
      "[1200]\tvalid_0's auc: 0.891228\tvalid_0's binary_logloss: 0.242372\n",
      "[1300]\tvalid_0's auc: 0.891404\tvalid_0's binary_logloss: 0.242127\n",
      "[1400]\tvalid_0's auc: 0.891533\tvalid_0's binary_logloss: 0.241941\n",
      "[1500]\tvalid_0's auc: 0.891689\tvalid_0's binary_logloss: 0.241757\n",
      "[1600]\tvalid_0's auc: 0.891795\tvalid_0's binary_logloss: 0.241626\n",
      "[1700]\tvalid_0's auc: 0.891916\tvalid_0's binary_logloss: 0.241491\n",
      "[1800]\tvalid_0's auc: 0.891966\tvalid_0's binary_logloss: 0.241417\n",
      "[1900]\tvalid_0's auc: 0.892057\tvalid_0's binary_logloss: 0.241321\n",
      "[2000]\tvalid_0's auc: 0.892128\tvalid_0's binary_logloss: 0.241245\n",
      "[2100]\tvalid_0's auc: 0.892161\tvalid_0's binary_logloss: 0.2412\n",
      "[2200]\tvalid_0's auc: 0.892197\tvalid_0's binary_logloss: 0.241157\n",
      "[2300]\tvalid_0's auc: 0.892242\tvalid_0's binary_logloss: 0.241108\n",
      "[2400]\tvalid_0's auc: 0.892278\tvalid_0's binary_logloss: 0.241066\n",
      "[2500]\tvalid_0's auc: 0.892284\tvalid_0's binary_logloss: 0.241049\n",
      "[2600]\tvalid_0's auc: 0.892309\tvalid_0's binary_logloss: 0.241021\n",
      "[2700]\tvalid_0's auc: 0.892318\tvalid_0's binary_logloss: 0.241006\n",
      "[2800]\tvalid_0's auc: 0.892351\tvalid_0's binary_logloss: 0.240974\n",
      "[2900]\tvalid_0's auc: 0.892353\tvalid_0's binary_logloss: 0.240963\n",
      "[3000]\tvalid_0's auc: 0.892378\tvalid_0's binary_logloss: 0.240945\n",
      "[3100]\tvalid_0's auc: 0.892377\tvalid_0's binary_logloss: 0.240942\n",
      "[3200]\tvalid_0's auc: 0.89243\tvalid_0's binary_logloss: 0.240895\n",
      "[3300]\tvalid_0's auc: 0.892445\tvalid_0's binary_logloss: 0.240879\n",
      "[3400]\tvalid_0's auc: 0.892456\tvalid_0's binary_logloss: 0.240866\n",
      "[3500]\tvalid_0's auc: 0.892469\tvalid_0's binary_logloss: 0.240856\n",
      "[3600]\tvalid_0's auc: 0.892491\tvalid_0's binary_logloss: 0.240839\n",
      "[3700]\tvalid_0's auc: 0.892497\tvalid_0's binary_logloss: 0.240832\n",
      "[3800]\tvalid_0's auc: 0.892517\tvalid_0's binary_logloss: 0.240816\n",
      "[3900]\tvalid_0's auc: 0.89254\tvalid_0's binary_logloss: 0.2408\n",
      "[4000]\tvalid_0's auc: 0.892521\tvalid_0's binary_logloss: 0.24081\n",
      "[4100]\tvalid_0's auc: 0.892525\tvalid_0's binary_logloss: 0.240809\n"
     ]
    }
   ],
   "source": [
    "model = LGBMClassifier(\n",
    "    **lgbm_params,\n",
    ")\n",
    "log_callback = log_evaluation(period=100)\n",
    "boosting = model.fit(X_train, Y_train, eval_set=[(X_dev, Y_dev)], categorical_feature=cat_features, eval_metric='auc', callbacks=[log_callback])"
   ]
  },
  {
   "cell_type": "code",
   "execution_count": 7,
   "metadata": {},
   "outputs": [
    {
     "name": "stdout",
     "output_type": "stream",
     "text": [
      "defaultdict(<class 'collections.OrderedDict'>,\n",
      "            {'valid_0': OrderedDict([('auc', 0.892542157392671),\n",
      "                                     ('binary_logloss', 0.24079890991068958)])})\n"
     ]
    }
   ],
   "source": [
    "import pprint\n",
    "pprint.pprint(model.best_score_)"
   ]
  },
  {
   "cell_type": "code",
   "execution_count": 8,
   "metadata": {},
   "outputs": [],
   "source": [
    "lgbm_output = model.predict_proba(test_df, iteration_range=(0, model._best_iteration + 1))[:, 1]"
   ]
  },
  {
   "cell_type": "code",
   "execution_count": null,
   "metadata": {},
   "outputs": [],
   "source": []
  }
 ],
 "metadata": {
  "kernelspec": {
   "display_name": ".venv",
   "language": "python",
   "name": "python3"
  },
  "language_info": {
   "codemirror_mode": {
    "name": "ipython",
    "version": 3
   },
   "file_extension": ".py",
   "mimetype": "text/x-python",
   "name": "python",
   "nbconvert_exporter": "python",
   "pygments_lexer": "ipython3",
   "version": "3.10.12"
  }
 },
 "nbformat": 4,
 "nbformat_minor": 2
}
