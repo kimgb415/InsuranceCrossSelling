{
 "cells": [
  {
   "cell_type": "code",
   "execution_count": 1,
   "metadata": {},
   "outputs": [
    {
     "name": "stderr",
     "output_type": "stream",
     "text": [
      "2024-07-23 14:38:57.146489: I tensorflow/core/util/port.cc:113] oneDNN custom operations are on. You may see slightly different numerical results due to floating-point round-off errors from different computation orders. To turn them off, set the environment variable `TF_ENABLE_ONEDNN_OPTS=0`.\n",
      "2024-07-23 14:38:57.155485: E external/local_xla/xla/stream_executor/cuda/cuda_fft.cc:479] Unable to register cuFFT factory: Attempting to register factory for plugin cuFFT when one has already been registered\n",
      "2024-07-23 14:38:57.167220: E external/local_xla/xla/stream_executor/cuda/cuda_dnn.cc:10575] Unable to register cuDNN factory: Attempting to register factory for plugin cuDNN when one has already been registered\n",
      "2024-07-23 14:38:57.167259: E external/local_xla/xla/stream_executor/cuda/cuda_blas.cc:1442] Unable to register cuBLAS factory: Attempting to register factory for plugin cuBLAS when one has already been registered\n",
      "2024-07-23 14:38:57.174628: I tensorflow/core/platform/cpu_feature_guard.cc:210] This TensorFlow binary is optimized to use available CPU instructions in performance-critical operations.\n",
      "To enable the following instructions: AVX2 AVX_VNNI FMA, in other operations, rebuild TensorFlow with the appropriate compiler flags.\n",
      "2024-07-23 14:38:57.583517: W tensorflow/compiler/tf2tensorrt/utils/py_utils.cc:38] TF-TRT Warning: Could not find TensorRT\n"
     ]
    }
   ],
   "source": [
    "from data.process import *"
   ]
  },
  {
   "cell_type": "code",
   "execution_count": 2,
   "metadata": {},
   "outputs": [],
   "source": [
    "train_df, dev_df, test_df = retrieve_train_dev_test_as_category_for_xgboost()\n",
    "X_train, Y_train = split_input_output(train_df)\n",
    "X_dev, Y_dev = split_input_output(dev_df)"
   ]
  },
  {
   "cell_type": "code",
   "execution_count": 3,
   "metadata": {},
   "outputs": [
    {
     "name": "stderr",
     "output_type": "stream",
     "text": [
      "/home/gakim/gabyproj/InsuranceCrossSelling/.venv/lib/python3.10/site-packages/tqdm/auto.py:21: TqdmWarning: IProgress not found. Please update jupyter and ipywidgets. See https://ipywidgets.readthedocs.io/en/stable/user_install.html\n",
      "  from .autonotebook import tqdm as notebook_tqdm\n"
     ]
    }
   ],
   "source": [
    "from lightgbm import LGBMClassifier, log_evaluation\n",
    "from model.lgbm_opt import *"
   ]
  },
  {
   "cell_type": "code",
   "execution_count": 4,
   "metadata": {},
   "outputs": [],
   "source": [
    "lgbm_params = {\n",
    "    **lgbm_fixed_params,\n",
    "    # categorical features\n",
    "    'enable_categorical': True,\n",
    "    # fixed after secone optimization\n",
    "    'colsample_bytree': 0.21039136022674532,\n",
    "    'learning_rate': 0.01,\n",
    "    'max_depth': 14,\n",
    "    'num_leaves': 221,\n",
    "    # override fixed params\n",
    "    'n_estimators': 5000,\n",
    "    'early_stopping_rounds': 200,\n",
    "}"
   ]
  },
  {
   "cell_type": "code",
   "execution_count": 5,
   "metadata": {},
   "outputs": [],
   "source": [
    "cat_features = list(X_train.select_dtypes(include=['object']).columns)"
   ]
  },
  {
   "cell_type": "code",
   "execution_count": 6,
   "metadata": {},
   "outputs": [
    {
     "name": "stdout",
     "output_type": "stream",
     "text": [
      "[50]\tvalid_0's auc: 0.862409\tvalid_0's binary_logloss: 0.336559\n",
      "[100]\tvalid_0's auc: 0.868027\tvalid_0's binary_logloss: 0.310795\n",
      "[150]\tvalid_0's auc: 0.869325\tvalid_0's binary_logloss: 0.295936\n",
      "[200]\tvalid_0's auc: 0.870496\tvalid_0's binary_logloss: 0.284841\n",
      "[250]\tvalid_0's auc: 0.87161\tvalid_0's binary_logloss: 0.277671\n",
      "[300]\tvalid_0's auc: 0.872534\tvalid_0's binary_logloss: 0.272579\n",
      "[350]\tvalid_0's auc: 0.873647\tvalid_0's binary_logloss: 0.268312\n",
      "[400]\tvalid_0's auc: 0.87425\tvalid_0's binary_logloss: 0.265549\n",
      "[450]\tvalid_0's auc: 0.875049\tvalid_0's binary_logloss: 0.262947\n",
      "[500]\tvalid_0's auc: 0.875711\tvalid_0's binary_logloss: 0.260816\n",
      "[550]\tvalid_0's auc: 0.876297\tvalid_0's binary_logloss: 0.259149\n",
      "[600]\tvalid_0's auc: 0.876755\tvalid_0's binary_logloss: 0.257899\n",
      "[650]\tvalid_0's auc: 0.877077\tvalid_0's binary_logloss: 0.257005\n",
      "[700]\tvalid_0's auc: 0.877365\tvalid_0's binary_logloss: 0.256107\n",
      "[750]\tvalid_0's auc: 0.877745\tvalid_0's binary_logloss: 0.255287\n",
      "[800]\tvalid_0's auc: 0.878124\tvalid_0's binary_logloss: 0.254644\n",
      "[850]\tvalid_0's auc: 0.878513\tvalid_0's binary_logloss: 0.254041\n",
      "[900]\tvalid_0's auc: 0.878859\tvalid_0's binary_logloss: 0.253585\n",
      "[950]\tvalid_0's auc: 0.879145\tvalid_0's binary_logloss: 0.253228\n",
      "[1000]\tvalid_0's auc: 0.879422\tvalid_0's binary_logloss: 0.25279\n",
      "[1050]\tvalid_0's auc: 0.879575\tvalid_0's binary_logloss: 0.25251\n",
      "[1100]\tvalid_0's auc: 0.879778\tvalid_0's binary_logloss: 0.252223\n",
      "[1150]\tvalid_0's auc: 0.880019\tvalid_0's binary_logloss: 0.251965\n",
      "[1200]\tvalid_0's auc: 0.880326\tvalid_0's binary_logloss: 0.251638\n",
      "[1250]\tvalid_0's auc: 0.880416\tvalid_0's binary_logloss: 0.251456\n",
      "[1300]\tvalid_0's auc: 0.880534\tvalid_0's binary_logloss: 0.251265\n",
      "[1350]\tvalid_0's auc: 0.880703\tvalid_0's binary_logloss: 0.251066\n",
      "[1400]\tvalid_0's auc: 0.88083\tvalid_0's binary_logloss: 0.250877\n",
      "[1450]\tvalid_0's auc: 0.88095\tvalid_0's binary_logloss: 0.250679\n",
      "[1500]\tvalid_0's auc: 0.88107\tvalid_0's binary_logloss: 0.250528\n",
      "[1550]\tvalid_0's auc: 0.881123\tvalid_0's binary_logloss: 0.250435\n",
      "[1600]\tvalid_0's auc: 0.881224\tvalid_0's binary_logloss: 0.250311\n",
      "[1650]\tvalid_0's auc: 0.88133\tvalid_0's binary_logloss: 0.250186\n",
      "[1700]\tvalid_0's auc: 0.881426\tvalid_0's binary_logloss: 0.250064\n",
      "[1750]\tvalid_0's auc: 0.881476\tvalid_0's binary_logloss: 0.249957\n",
      "[1800]\tvalid_0's auc: 0.88157\tvalid_0's binary_logloss: 0.249843\n",
      "[1850]\tvalid_0's auc: 0.881672\tvalid_0's binary_logloss: 0.249735\n",
      "[1900]\tvalid_0's auc: 0.88174\tvalid_0's binary_logloss: 0.249637\n",
      "[1950]\tvalid_0's auc: 0.881774\tvalid_0's binary_logloss: 0.249572\n",
      "[2000]\tvalid_0's auc: 0.881827\tvalid_0's binary_logloss: 0.249496\n",
      "[2050]\tvalid_0's auc: 0.881858\tvalid_0's binary_logloss: 0.249422\n",
      "[2100]\tvalid_0's auc: 0.881907\tvalid_0's binary_logloss: 0.249365\n",
      "[2150]\tvalid_0's auc: 0.881956\tvalid_0's binary_logloss: 0.249302\n",
      "[2200]\tvalid_0's auc: 0.881965\tvalid_0's binary_logloss: 0.249271\n",
      "[2250]\tvalid_0's auc: 0.882014\tvalid_0's binary_logloss: 0.249209\n",
      "[2300]\tvalid_0's auc: 0.882084\tvalid_0's binary_logloss: 0.249142\n",
      "[2350]\tvalid_0's auc: 0.882103\tvalid_0's binary_logloss: 0.249106\n",
      "[2400]\tvalid_0's auc: 0.882159\tvalid_0's binary_logloss: 0.249058\n",
      "[2450]\tvalid_0's auc: 0.882208\tvalid_0's binary_logloss: 0.249007\n",
      "[2500]\tvalid_0's auc: 0.882267\tvalid_0's binary_logloss: 0.248957\n",
      "[2550]\tvalid_0's auc: 0.882298\tvalid_0's binary_logloss: 0.248916\n",
      "[2600]\tvalid_0's auc: 0.882329\tvalid_0's binary_logloss: 0.24888\n",
      "[2650]\tvalid_0's auc: 0.882405\tvalid_0's binary_logloss: 0.248816\n",
      "[2700]\tvalid_0's auc: 0.882451\tvalid_0's binary_logloss: 0.248773\n",
      "[2750]\tvalid_0's auc: 0.882521\tvalid_0's binary_logloss: 0.248714\n",
      "[2800]\tvalid_0's auc: 0.882582\tvalid_0's binary_logloss: 0.248662\n",
      "[2850]\tvalid_0's auc: 0.882661\tvalid_0's binary_logloss: 0.248598\n",
      "[2900]\tvalid_0's auc: 0.882703\tvalid_0's binary_logloss: 0.248555\n",
      "[2950]\tvalid_0's auc: 0.882733\tvalid_0's binary_logloss: 0.24853\n",
      "[3000]\tvalid_0's auc: 0.882773\tvalid_0's binary_logloss: 0.248493\n",
      "[3050]\tvalid_0's auc: 0.882814\tvalid_0's binary_logloss: 0.248459\n",
      "[3100]\tvalid_0's auc: 0.882915\tvalid_0's binary_logloss: 0.248385\n",
      "[3150]\tvalid_0's auc: 0.882947\tvalid_0's binary_logloss: 0.248357\n",
      "[3200]\tvalid_0's auc: 0.883039\tvalid_0's binary_logloss: 0.248288\n",
      "[3250]\tvalid_0's auc: 0.883045\tvalid_0's binary_logloss: 0.248278\n",
      "[3300]\tvalid_0's auc: 0.883068\tvalid_0's binary_logloss: 0.248256\n",
      "[3350]\tvalid_0's auc: 0.883117\tvalid_0's binary_logloss: 0.24822\n",
      "[3400]\tvalid_0's auc: 0.883144\tvalid_0's binary_logloss: 0.248195\n",
      "[3450]\tvalid_0's auc: 0.88321\tvalid_0's binary_logloss: 0.248147\n",
      "[3500]\tvalid_0's auc: 0.883246\tvalid_0's binary_logloss: 0.248117\n",
      "[3550]\tvalid_0's auc: 0.883278\tvalid_0's binary_logloss: 0.248092\n",
      "[3600]\tvalid_0's auc: 0.883344\tvalid_0's binary_logloss: 0.248042\n",
      "[3650]\tvalid_0's auc: 0.883374\tvalid_0's binary_logloss: 0.24802\n",
      "[3700]\tvalid_0's auc: 0.883437\tvalid_0's binary_logloss: 0.247973\n",
      "[3750]\tvalid_0's auc: 0.8835\tvalid_0's binary_logloss: 0.247927\n",
      "[3800]\tvalid_0's auc: 0.883528\tvalid_0's binary_logloss: 0.247906\n",
      "[3850]\tvalid_0's auc: 0.883563\tvalid_0's binary_logloss: 0.247878\n",
      "[3900]\tvalid_0's auc: 0.883587\tvalid_0's binary_logloss: 0.247858\n",
      "[3950]\tvalid_0's auc: 0.883628\tvalid_0's binary_logloss: 0.247827\n",
      "[4000]\tvalid_0's auc: 0.883677\tvalid_0's binary_logloss: 0.247791\n",
      "[4050]\tvalid_0's auc: 0.883718\tvalid_0's binary_logloss: 0.247761\n",
      "[4100]\tvalid_0's auc: 0.883758\tvalid_0's binary_logloss: 0.247729\n",
      "[4150]\tvalid_0's auc: 0.883812\tvalid_0's binary_logloss: 0.247689\n",
      "[4200]\tvalid_0's auc: 0.883869\tvalid_0's binary_logloss: 0.247649\n",
      "[4250]\tvalid_0's auc: 0.883896\tvalid_0's binary_logloss: 0.247628\n",
      "[4300]\tvalid_0's auc: 0.883957\tvalid_0's binary_logloss: 0.247582\n",
      "[4350]\tvalid_0's auc: 0.883992\tvalid_0's binary_logloss: 0.247557\n",
      "[4400]\tvalid_0's auc: 0.883999\tvalid_0's binary_logloss: 0.24755\n",
      "[4450]\tvalid_0's auc: 0.884039\tvalid_0's binary_logloss: 0.24752\n",
      "[4500]\tvalid_0's auc: 0.884109\tvalid_0's binary_logloss: 0.247472\n",
      "[4550]\tvalid_0's auc: 0.884137\tvalid_0's binary_logloss: 0.247452\n",
      "[4600]\tvalid_0's auc: 0.88416\tvalid_0's binary_logloss: 0.247433\n",
      "[4650]\tvalid_0's auc: 0.884186\tvalid_0's binary_logloss: 0.247411\n",
      "[4700]\tvalid_0's auc: 0.884227\tvalid_0's binary_logloss: 0.247382\n",
      "[4750]\tvalid_0's auc: 0.884262\tvalid_0's binary_logloss: 0.247356\n",
      "[4800]\tvalid_0's auc: 0.884276\tvalid_0's binary_logloss: 0.247345\n",
      "[4850]\tvalid_0's auc: 0.884307\tvalid_0's binary_logloss: 0.247322\n",
      "[4900]\tvalid_0's auc: 0.884357\tvalid_0's binary_logloss: 0.247287\n",
      "[4950]\tvalid_0's auc: 0.884393\tvalid_0's binary_logloss: 0.247263\n",
      "[5000]\tvalid_0's auc: 0.884413\tvalid_0's binary_logloss: 0.24725\n"
     ]
    }
   ],
   "source": [
    "model = LGBMClassifier(\n",
    "    **lgbm_params,\n",
    ")\n",
    "log_callback = log_evaluation(period=50)\n",
    "boosting = model.fit(X_train, Y_train, eval_set=[(X_dev, Y_dev)], categorical_feature=cat_features, eval_metric='auc', callbacks=[log_callback])"
   ]
  },
  {
   "cell_type": "code",
   "execution_count": 7,
   "metadata": {},
   "outputs": [
    {
     "name": "stdout",
     "output_type": "stream",
     "text": [
      "defaultdict(<class 'collections.OrderedDict'>,\n",
      "            {'valid_0': OrderedDict([('auc', 0.8844125872644719),\n",
      "                                     ('binary_logloss', 0.2472496997001291)])})\n"
     ]
    }
   ],
   "source": [
    "import pprint\n",
    "pprint.pprint(model.best_score_)"
   ]
  },
  {
   "cell_type": "code",
   "execution_count": 8,
   "metadata": {},
   "outputs": [],
   "source": [
    "# model.get_booster().save_model(\"xgboost_model_new.json\")"
   ]
  },
  {
   "cell_type": "code",
   "execution_count": null,
   "metadata": {},
   "outputs": [],
   "source": []
  }
 ],
 "metadata": {
  "kernelspec": {
   "display_name": ".venv",
   "language": "python",
   "name": "python3"
  },
  "language_info": {
   "codemirror_mode": {
    "name": "ipython",
    "version": 3
   },
   "file_extension": ".py",
   "mimetype": "text/x-python",
   "name": "python",
   "nbconvert_exporter": "python",
   "pygments_lexer": "ipython3",
   "version": "3.10.12"
  }
 },
 "nbformat": 4,
 "nbformat_minor": 2
}
