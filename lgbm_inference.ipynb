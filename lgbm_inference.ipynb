{
 "cells": [
  {
   "cell_type": "code",
   "execution_count": 1,
   "metadata": {},
   "outputs": [
    {
     "name": "stderr",
     "output_type": "stream",
     "text": [
      "2024-07-23 19:25:41.688339: I tensorflow/core/util/port.cc:113] oneDNN custom operations are on. You may see slightly different numerical results due to floating-point round-off errors from different computation orders. To turn them off, set the environment variable `TF_ENABLE_ONEDNN_OPTS=0`.\n",
      "2024-07-23 19:25:41.695810: E external/local_xla/xla/stream_executor/cuda/cuda_fft.cc:479] Unable to register cuFFT factory: Attempting to register factory for plugin cuFFT when one has already been registered\n",
      "2024-07-23 19:25:41.706884: E external/local_xla/xla/stream_executor/cuda/cuda_dnn.cc:10575] Unable to register cuDNN factory: Attempting to register factory for plugin cuDNN when one has already been registered\n",
      "2024-07-23 19:25:41.706913: E external/local_xla/xla/stream_executor/cuda/cuda_blas.cc:1442] Unable to register cuBLAS factory: Attempting to register factory for plugin cuBLAS when one has already been registered\n",
      "2024-07-23 19:25:41.714058: I tensorflow/core/platform/cpu_feature_guard.cc:210] This TensorFlow binary is optimized to use available CPU instructions in performance-critical operations.\n",
      "To enable the following instructions: AVX2 AVX_VNNI FMA, in other operations, rebuild TensorFlow with the appropriate compiler flags.\n",
      "2024-07-23 19:25:42.103982: W tensorflow/compiler/tf2tensorrt/utils/py_utils.cc:38] TF-TRT Warning: Could not find TensorRT\n"
     ]
    }
   ],
   "source": [
    "from data.process import *"
   ]
  },
  {
   "cell_type": "code",
   "execution_count": 2,
   "metadata": {},
   "outputs": [],
   "source": [
    "train_df, dev_df, test_df = retrieve_train_dev_test_as_category_for_xgboost()\n",
    "X_train, Y_train = split_input_output(train_df)\n",
    "X_dev, Y_dev = split_input_output(dev_df)"
   ]
  },
  {
   "cell_type": "code",
   "execution_count": 3,
   "metadata": {},
   "outputs": [],
   "source": [
    "from lightgbm import LGBMClassifier, log_evaluation\n",
    "from model.lgbm_opt import *"
   ]
  },
  {
   "cell_type": "code",
   "execution_count": 4,
   "metadata": {},
   "outputs": [],
   "source": [
    "lgbm_params = {\n",
    "    **lgbm_fixed_params,\n",
    "    # categorical features\n",
    "    'enable_categorical': True,\n",
    "    # fixed after secone optimization\n",
    "    'colsample_bytree': 0.21039136022674532,\n",
    "    'learning_rate': 0.1,\n",
    "    'max_depth': 25,\n",
    "    'num_leaves': 221,\n",
    "    # override fixed params\n",
    "    'n_estimators': 10000,\n",
    "    'early_stopping_rounds': 200,\n",
    "}"
   ]
  },
  {
   "cell_type": "code",
   "execution_count": 5,
   "metadata": {},
   "outputs": [],
   "source": [
    "cat_features = list(X_train.select_dtypes(include=['object']).columns)"
   ]
  },
  {
   "cell_type": "code",
   "execution_count": 6,
   "metadata": {},
   "outputs": [
    {
     "name": "stdout",
     "output_type": "stream",
     "text": [
      "[100]\tvalid_0's auc: 0.880251\tvalid_0's binary_logloss: 0.251905\n",
      "[200]\tvalid_0's auc: 0.882322\tvalid_0's binary_logloss: 0.249134\n",
      "[300]\tvalid_0's auc: 0.883508\tvalid_0's binary_logloss: 0.248035\n",
      "[400]\tvalid_0's auc: 0.884198\tvalid_0's binary_logloss: 0.247428\n",
      "[500]\tvalid_0's auc: 0.885005\tvalid_0's binary_logloss: 0.246828\n",
      "[600]\tvalid_0's auc: 0.885657\tvalid_0's binary_logloss: 0.246361\n",
      "[700]\tvalid_0's auc: 0.886172\tvalid_0's binary_logloss: 0.246004\n",
      "[800]\tvalid_0's auc: 0.886459\tvalid_0's binary_logloss: 0.245757\n",
      "[900]\tvalid_0's auc: 0.886906\tvalid_0's binary_logloss: 0.245428\n",
      "[1000]\tvalid_0's auc: 0.887234\tvalid_0's binary_logloss: 0.245187\n",
      "[1100]\tvalid_0's auc: 0.887398\tvalid_0's binary_logloss: 0.245064\n",
      "[1200]\tvalid_0's auc: 0.88785\tvalid_0's binary_logloss: 0.244716\n",
      "[1300]\tvalid_0's auc: 0.887911\tvalid_0's binary_logloss: 0.244682\n",
      "[1400]\tvalid_0's auc: 0.888064\tvalid_0's binary_logloss: 0.244559\n",
      "[1500]\tvalid_0's auc: 0.888274\tvalid_0's binary_logloss: 0.244388\n",
      "[1600]\tvalid_0's auc: 0.888389\tvalid_0's binary_logloss: 0.244298\n",
      "[1700]\tvalid_0's auc: 0.888555\tvalid_0's binary_logloss: 0.244173\n",
      "[1800]\tvalid_0's auc: 0.888712\tvalid_0's binary_logloss: 0.244041\n",
      "[1900]\tvalid_0's auc: 0.888852\tvalid_0's binary_logloss: 0.243935\n",
      "[2000]\tvalid_0's auc: 0.888916\tvalid_0's binary_logloss: 0.243907\n",
      "[2100]\tvalid_0's auc: 0.889026\tvalid_0's binary_logloss: 0.243823\n",
      "[2200]\tvalid_0's auc: 0.889088\tvalid_0's binary_logloss: 0.243768\n",
      "[2300]\tvalid_0's auc: 0.889144\tvalid_0's binary_logloss: 0.243713\n",
      "[2400]\tvalid_0's auc: 0.889209\tvalid_0's binary_logloss: 0.243656\n",
      "[2500]\tvalid_0's auc: 0.889314\tvalid_0's binary_logloss: 0.243588\n",
      "[2600]\tvalid_0's auc: 0.889392\tvalid_0's binary_logloss: 0.243518\n",
      "[2700]\tvalid_0's auc: 0.889533\tvalid_0's binary_logloss: 0.243413\n",
      "[2800]\tvalid_0's auc: 0.889602\tvalid_0's binary_logloss: 0.243354\n",
      "[2900]\tvalid_0's auc: 0.889638\tvalid_0's binary_logloss: 0.243337\n",
      "[3000]\tvalid_0's auc: 0.889666\tvalid_0's binary_logloss: 0.24331\n",
      "[3100]\tvalid_0's auc: 0.889768\tvalid_0's binary_logloss: 0.24323\n",
      "[3200]\tvalid_0's auc: 0.889798\tvalid_0's binary_logloss: 0.243236\n",
      "[3300]\tvalid_0's auc: 0.889832\tvalid_0's binary_logloss: 0.243184\n",
      "[3400]\tvalid_0's auc: 0.88984\tvalid_0's binary_logloss: 0.243187\n",
      "[3500]\tvalid_0's auc: 0.889884\tvalid_0's binary_logloss: 0.243156\n",
      "[3600]\tvalid_0's auc: 0.889906\tvalid_0's binary_logloss: 0.243187\n",
      "[3700]\tvalid_0's auc: 0.889949\tvalid_0's binary_logloss: 0.24321\n",
      "[3800]\tvalid_0's auc: 0.889956\tvalid_0's binary_logloss: 0.243114\n",
      "[3900]\tvalid_0's auc: 0.889608\tvalid_0's binary_logloss: 0.244162\n",
      "[4000]\tvalid_0's auc: 0.889713\tvalid_0's binary_logloss: 0.243882\n"
     ]
    }
   ],
   "source": [
    "model = LGBMClassifier(\n",
    "    **lgbm_params,\n",
    ")\n",
    "log_callback = log_evaluation(period=100)\n",
    "boosting = model.fit(X_train, Y_train, eval_set=[(X_dev, Y_dev)], categorical_feature=cat_features, eval_metric='auc', callbacks=[log_callback])"
   ]
  },
  {
   "cell_type": "code",
   "execution_count": 7,
   "metadata": {},
   "outputs": [
    {
     "name": "stdout",
     "output_type": "stream",
     "text": [
      "defaultdict(<class 'collections.OrderedDict'>,\n",
      "            {'valid_0': OrderedDict([('auc', 0.8899780621320712),\n",
      "                                     ('binary_logloss', 0.24309779532520515)])})\n"
     ]
    }
   ],
   "source": [
    "import pprint\n",
    "pprint.pprint(model.best_score_)"
   ]
  },
  {
   "cell_type": "code",
   "execution_count": 8,
   "metadata": {},
   "outputs": [],
   "source": [
    "lgbm_output = model.predict_proba(test_df, iteration_range=(0, model._best_iteration + 1))[:, 1]"
   ]
  },
  {
   "cell_type": "code",
   "execution_count": null,
   "metadata": {},
   "outputs": [],
   "source": []
  }
 ],
 "metadata": {
  "kernelspec": {
   "display_name": ".venv",
   "language": "python",
   "name": "python3"
  },
  "language_info": {
   "codemirror_mode": {
    "name": "ipython",
    "version": 3
   },
   "file_extension": ".py",
   "mimetype": "text/x-python",
   "name": "python",
   "nbconvert_exporter": "python",
   "pygments_lexer": "ipython3",
   "version": "3.10.12"
  }
 },
 "nbformat": 4,
 "nbformat_minor": 2
}
