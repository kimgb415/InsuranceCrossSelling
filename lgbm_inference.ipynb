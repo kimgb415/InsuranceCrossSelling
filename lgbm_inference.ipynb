{
 "cells": [
  {
   "cell_type": "code",
   "execution_count": 1,
   "metadata": {},
   "outputs": [
    {
     "name": "stderr",
     "output_type": "stream",
     "text": [
      "2024-07-25 21:01:22.746594: I tensorflow/core/util/port.cc:113] oneDNN custom operations are on. You may see slightly different numerical results due to floating-point round-off errors from different computation orders. To turn them off, set the environment variable `TF_ENABLE_ONEDNN_OPTS=0`.\n",
      "2024-07-25 21:01:22.755894: E external/local_xla/xla/stream_executor/cuda/cuda_fft.cc:479] Unable to register cuFFT factory: Attempting to register factory for plugin cuFFT when one has already been registered\n",
      "2024-07-25 21:01:22.767217: E external/local_xla/xla/stream_executor/cuda/cuda_dnn.cc:10575] Unable to register cuDNN factory: Attempting to register factory for plugin cuDNN when one has already been registered\n",
      "2024-07-25 21:01:22.767259: E external/local_xla/xla/stream_executor/cuda/cuda_blas.cc:1442] Unable to register cuBLAS factory: Attempting to register factory for plugin cuBLAS when one has already been registered\n",
      "2024-07-25 21:01:22.774946: I tensorflow/core/platform/cpu_feature_guard.cc:210] This TensorFlow binary is optimized to use available CPU instructions in performance-critical operations.\n",
      "To enable the following instructions: AVX2 AVX_VNNI FMA, in other operations, rebuild TensorFlow with the appropriate compiler flags.\n",
      "2024-07-25 21:01:23.476212: W tensorflow/compiler/tf2tensorrt/utils/py_utils.cc:38] TF-TRT Warning: Could not find TensorRT\n"
     ]
    }
   ],
   "source": [
    "from data.process import *"
   ]
  },
  {
   "cell_type": "code",
   "execution_count": 2,
   "metadata": {},
   "outputs": [],
   "source": [
    "train_df, dev_df, test_df = retrieve_train_dev_test_as_category_for_xgboost()\n",
    "X_train, Y_train = split_input_output(train_df)\n",
    "X_dev, Y_dev = split_input_output(dev_df)"
   ]
  },
  {
   "cell_type": "code",
   "execution_count": 3,
   "metadata": {},
   "outputs": [
    {
     "name": "stderr",
     "output_type": "stream",
     "text": [
      "/home/gakim/gabyproj/InsuranceCrossSelling/.venv/lib/python3.10/site-packages/tqdm/auto.py:21: TqdmWarning: IProgress not found. Please update jupyter and ipywidgets. See https://ipywidgets.readthedocs.io/en/stable/user_install.html\n",
      "  from .autonotebook import tqdm as notebook_tqdm\n"
     ]
    }
   ],
   "source": [
    "from lightgbm import LGBMClassifier, log_evaluation\n",
    "from model.lgbm_opt import *"
   ]
  },
  {
   "cell_type": "code",
   "execution_count": 4,
   "metadata": {},
   "outputs": [],
   "source": [
    "lgbm_params = {\n",
    "    **lgbm_fixed_params,\n",
    "    # categorical features\n",
    "    'enable_categorical': True,\n",
    "    # fixed after first optimization\n",
    "    'colsample_bytree': 0.25,\n",
    "    'learning_rate': 0.005,\n",
    "\n",
    "    # fixed after third optimization\n",
    "    'max_depth': 128,\n",
    "    'num_leaves': 4096,\n",
    "    'min_data_in_leaf': 25,\n",
    "\n",
    "    # override fixed params\n",
    "    'n_estimators': 10000,\n",
    "    'early_stopping_rounds': 200,\n",
    "}"
   ]
  },
  {
   "cell_type": "code",
   "execution_count": 5,
   "metadata": {},
   "outputs": [],
   "source": [
    "cat_features = list(X_train.select_dtypes(include=['category']).columns)"
   ]
  },
  {
   "cell_type": "code",
   "execution_count": 6,
   "metadata": {},
   "outputs": [
    {
     "name": "stdout",
     "output_type": "stream",
     "text": [
      "[100]\tvalid_0's auc: 0.873888\tvalid_0's binary_logloss: 0.325666\n",
      "[200]\tvalid_0's auc: 0.876386\tvalid_0's binary_logloss: 0.30075\n",
      "[300]\tvalid_0's auc: 0.879557\tvalid_0's binary_logloss: 0.284102\n",
      "[400]\tvalid_0's auc: 0.88141\tvalid_0's binary_logloss: 0.273324\n",
      "[500]\tvalid_0's auc: 0.882354\tvalid_0's binary_logloss: 0.2665\n",
      "[600]\tvalid_0's auc: 0.883549\tvalid_0's binary_logloss: 0.261252\n",
      "[700]\tvalid_0's auc: 0.88474\tvalid_0's binary_logloss: 0.257353\n",
      "[800]\tvalid_0's auc: 0.885796\tvalid_0's binary_logloss: 0.254402\n",
      "[900]\tvalid_0's auc: 0.886709\tvalid_0's binary_logloss: 0.251874\n",
      "[1000]\tvalid_0's auc: 0.887456\tvalid_0's binary_logloss: 0.249892\n",
      "[1100]\tvalid_0's auc: 0.88798\tvalid_0's binary_logloss: 0.248515\n",
      "[1200]\tvalid_0's auc: 0.888483\tvalid_0's binary_logloss: 0.247426\n",
      "[1300]\tvalid_0's auc: 0.888879\tvalid_0's binary_logloss: 0.246501\n",
      "[1400]\tvalid_0's auc: 0.889192\tvalid_0's binary_logloss: 0.245787\n",
      "[1500]\tvalid_0's auc: 0.889538\tvalid_0's binary_logloss: 0.245127\n",
      "[1600]\tvalid_0's auc: 0.889815\tvalid_0's binary_logloss: 0.244598\n",
      "[1700]\tvalid_0's auc: 0.89007\tvalid_0's binary_logloss: 0.24416\n",
      "[1800]\tvalid_0's auc: 0.89024\tvalid_0's binary_logloss: 0.243829\n",
      "[1900]\tvalid_0's auc: 0.890438\tvalid_0's binary_logloss: 0.243494\n",
      "[2000]\tvalid_0's auc: 0.890586\tvalid_0's binary_logloss: 0.243235\n",
      "[2100]\tvalid_0's auc: 0.890702\tvalid_0's binary_logloss: 0.243029\n",
      "[2200]\tvalid_0's auc: 0.890806\tvalid_0's binary_logloss: 0.242858\n",
      "[2300]\tvalid_0's auc: 0.890942\tvalid_0's binary_logloss: 0.242675\n",
      "[2400]\tvalid_0's auc: 0.891078\tvalid_0's binary_logloss: 0.2425\n",
      "[2500]\tvalid_0's auc: 0.891194\tvalid_0's binary_logloss: 0.24235\n",
      "[2600]\tvalid_0's auc: 0.891283\tvalid_0's binary_logloss: 0.24223\n",
      "[2700]\tvalid_0's auc: 0.891367\tvalid_0's binary_logloss: 0.242118\n",
      "[2800]\tvalid_0's auc: 0.891464\tvalid_0's binary_logloss: 0.242002\n",
      "[2900]\tvalid_0's auc: 0.891545\tvalid_0's binary_logloss: 0.241899\n",
      "[3000]\tvalid_0's auc: 0.891624\tvalid_0's binary_logloss: 0.24181\n",
      "[3100]\tvalid_0's auc: 0.891668\tvalid_0's binary_logloss: 0.241749\n",
      "[3200]\tvalid_0's auc: 0.891748\tvalid_0's binary_logloss: 0.241661\n",
      "[3300]\tvalid_0's auc: 0.891795\tvalid_0's binary_logloss: 0.241605\n",
      "[3400]\tvalid_0's auc: 0.891837\tvalid_0's binary_logloss: 0.241552\n",
      "[3500]\tvalid_0's auc: 0.891869\tvalid_0's binary_logloss: 0.241509\n",
      "[3600]\tvalid_0's auc: 0.891914\tvalid_0's binary_logloss: 0.241459\n",
      "[3700]\tvalid_0's auc: 0.891951\tvalid_0's binary_logloss: 0.241417\n",
      "[3800]\tvalid_0's auc: 0.892\tvalid_0's binary_logloss: 0.241366\n",
      "[3900]\tvalid_0's auc: 0.892037\tvalid_0's binary_logloss: 0.241324\n",
      "[4000]\tvalid_0's auc: 0.892048\tvalid_0's binary_logloss: 0.241305\n",
      "[4100]\tvalid_0's auc: 0.892068\tvalid_0's binary_logloss: 0.241281\n",
      "[4200]\tvalid_0's auc: 0.892089\tvalid_0's binary_logloss: 0.241253\n",
      "[4300]\tvalid_0's auc: 0.892121\tvalid_0's binary_logloss: 0.24122\n",
      "[4400]\tvalid_0's auc: 0.89215\tvalid_0's binary_logloss: 0.24119\n",
      "[4500]\tvalid_0's auc: 0.892169\tvalid_0's binary_logloss: 0.241167\n",
      "[4600]\tvalid_0's auc: 0.892185\tvalid_0's binary_logloss: 0.241147\n",
      "[4700]\tvalid_0's auc: 0.892211\tvalid_0's binary_logloss: 0.241118\n",
      "[4800]\tvalid_0's auc: 0.892237\tvalid_0's binary_logloss: 0.241091\n",
      "[4900]\tvalid_0's auc: 0.89225\tvalid_0's binary_logloss: 0.241073\n",
      "[5000]\tvalid_0's auc: 0.892264\tvalid_0's binary_logloss: 0.241058\n",
      "[5100]\tvalid_0's auc: 0.892285\tvalid_0's binary_logloss: 0.241036\n",
      "[5200]\tvalid_0's auc: 0.892301\tvalid_0's binary_logloss: 0.241018\n",
      "[5300]\tvalid_0's auc: 0.892318\tvalid_0's binary_logloss: 0.241\n",
      "[5400]\tvalid_0's auc: 0.892331\tvalid_0's binary_logloss: 0.240984\n",
      "[5500]\tvalid_0's auc: 0.892351\tvalid_0's binary_logloss: 0.240964\n",
      "[5600]\tvalid_0's auc: 0.892359\tvalid_0's binary_logloss: 0.240956\n",
      "[5700]\tvalid_0's auc: 0.892371\tvalid_0's binary_logloss: 0.240943\n",
      "[5800]\tvalid_0's auc: 0.892376\tvalid_0's binary_logloss: 0.240935\n",
      "[5900]\tvalid_0's auc: 0.89238\tvalid_0's binary_logloss: 0.240931\n",
      "[6000]\tvalid_0's auc: 0.892392\tvalid_0's binary_logloss: 0.24092\n",
      "[6100]\tvalid_0's auc: 0.892399\tvalid_0's binary_logloss: 0.240914\n",
      "[6200]\tvalid_0's auc: 0.892399\tvalid_0's binary_logloss: 0.240912\n",
      "[6300]\tvalid_0's auc: 0.892425\tvalid_0's binary_logloss: 0.240892\n",
      "[6400]\tvalid_0's auc: 0.892433\tvalid_0's binary_logloss: 0.240887\n",
      "[6500]\tvalid_0's auc: 0.89244\tvalid_0's binary_logloss: 0.240879\n",
      "[6600]\tvalid_0's auc: 0.892457\tvalid_0's binary_logloss: 0.240864\n",
      "[6700]\tvalid_0's auc: 0.892463\tvalid_0's binary_logloss: 0.240857\n",
      "[6800]\tvalid_0's auc: 0.892477\tvalid_0's binary_logloss: 0.240846\n",
      "[6900]\tvalid_0's auc: 0.892476\tvalid_0's binary_logloss: 0.240845\n",
      "[7000]\tvalid_0's auc: 0.892493\tvalid_0's binary_logloss: 0.240832\n",
      "[7100]\tvalid_0's auc: 0.892493\tvalid_0's binary_logloss: 0.240833\n",
      "[7200]\tvalid_0's auc: 0.892501\tvalid_0's binary_logloss: 0.240826\n",
      "[7300]\tvalid_0's auc: 0.89251\tvalid_0's binary_logloss: 0.240817\n",
      "[7400]\tvalid_0's auc: 0.892512\tvalid_0's binary_logloss: 0.240815\n",
      "[7500]\tvalid_0's auc: 0.892519\tvalid_0's binary_logloss: 0.240808\n",
      "[7600]\tvalid_0's auc: 0.892526\tvalid_0's binary_logloss: 0.240804\n",
      "[7700]\tvalid_0's auc: 0.892529\tvalid_0's binary_logloss: 0.240802\n",
      "[7800]\tvalid_0's auc: 0.892527\tvalid_0's binary_logloss: 0.240805\n",
      "[7900]\tvalid_0's auc: 0.892534\tvalid_0's binary_logloss: 0.2408\n",
      "[8000]\tvalid_0's auc: 0.892542\tvalid_0's binary_logloss: 0.240796\n",
      "[8100]\tvalid_0's auc: 0.892547\tvalid_0's binary_logloss: 0.240793\n",
      "[8200]\tvalid_0's auc: 0.892541\tvalid_0's binary_logloss: 0.240797\n"
     ]
    }
   ],
   "source": [
    "model = LGBMClassifier(\n",
    "    **lgbm_params,\n",
    ")\n",
    "log_callback = log_evaluation(period=100)\n",
    "boosting = model.fit(X_train, Y_train, eval_set=[(X_dev, Y_dev)], categorical_feature=cat_features, eval_metric='auc', callbacks=[log_callback])"
   ]
  },
  {
   "cell_type": "code",
   "execution_count": 7,
   "metadata": {},
   "outputs": [
    {
     "name": "stdout",
     "output_type": "stream",
     "text": [
      "defaultdict(<class 'collections.OrderedDict'>,\n",
      "            {'valid_0': OrderedDict([('auc', 0.8925482546652715),\n",
      "                                     ('binary_logloss', 0.24079223720237206)])})\n"
     ]
    }
   ],
   "source": [
    "import pprint\n",
    "pprint.pprint(model.best_score_)"
   ]
  },
  {
   "cell_type": "code",
   "execution_count": 8,
   "metadata": {},
   "outputs": [],
   "source": [
    "lgbm_output = model.predict_proba(test_df, iteration_range=(0, model._best_iteration + 1))[:, 1]"
   ]
  },
  {
   "cell_type": "code",
   "execution_count": null,
   "metadata": {},
   "outputs": [],
   "source": []
  }
 ],
 "metadata": {
  "kernelspec": {
   "display_name": ".venv",
   "language": "python",
   "name": "python3"
  },
  "language_info": {
   "codemirror_mode": {
    "name": "ipython",
    "version": 3
   },
   "file_extension": ".py",
   "mimetype": "text/x-python",
   "name": "python",
   "nbconvert_exporter": "python",
   "pygments_lexer": "ipython3",
   "version": "3.10.12"
  }
 },
 "nbformat": 4,
 "nbformat_minor": 2
}
